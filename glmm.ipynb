{
 "cells": [
  {
   "cell_type": "code",
   "execution_count": 1,
   "id": "87ac4592",
   "metadata": {},
   "outputs": [
    {
     "name": "stdout",
     "output_type": "stream",
     "text": [
      "{'measures': './data/quantitative_quality_measures.csv', 'metadata': './data/experiment_metadata.csv'}\n"
     ]
    }
   ],
   "source": [
    "import os\n",
    "import numpy as np\n",
    "import pandas as pd\n",
    "import polars as pl\n",
    "import plotly.io as pio\n",
    "import plotly.express as px\n",
    "import plotly.graph_objects as go\n",
    "from scipy import stats\n",
    "from pymer4.models import glmer\n",
    "from statsmodels.graphics.gofplots import qqplot\n",
    "from plotly.subplots import make_subplots\n",
    "import matplotlib\n",
    "import pymer4.tidystats as ts\n",
    "%matplotlib agg\n",
    "\n",
    "pio.templates.default = \"plotly_white\"\n",
    "\n",
    "STAIN_NAMES = dict(I2KI='Iodine-stained', PTA='PTA-stained')\n",
    "TISSUE_NAMES = dict(Muscle='Muscle-serosal', Mucosa='Mucosal-submucosal')\n",
    "COLOR_SCALE = ['#6C8EBF', '#82B366', '#C6C013', '#E58110', '#B85450', '#9673A6', '#666666', '#A65628', '#E47E77', '#8F2D56', '#73937E', '#59548C']\n",
    "\n",
    "def stat_diagnostics(fitted_values, residuals, group):\n",
    "    # group_enc = group.to_arrow().indices\n",
    "    \n",
    "    # stat, p = stats.shapiro(residuals)\n",
    "    # print(f\"Residuals: W={stat:.3f}, p={p:.3f} {'✅ Normal' if p > 0.05 else '❌ Not normal'}\")\n",
    "    fig = make_subplots(rows=2, cols=2)\n",
    "\n",
    "    # fig.add_trace(\n",
    "    #     go.Scatter(x=fitted_values, y=residuals, mode='markers', marker_color=group_enc, marker_colorscale=px.colors.qualitative.Dark24, text=group),\n",
    "    #     row=1, col=1, \n",
    "    # )\n",
    "    fig.add_trace(\n",
    "        go.Scatter(x=fitted_values, y=residuals, mode='markers', marker_color=COLOR_SCALE[0], text=group),\n",
    "        row=1, col=1, \n",
    "    )\n",
    "\n",
    "    qqplot_data = qqplot(residuals, line='s').gca().lines\n",
    "\n",
    "    fig.add_scatter(x=qqplot_data[0].get_xdata(), y=qqplot_data[0].get_ydata(), mode='markers', marker_size=10, marker_color=COLOR_SCALE[0], row=1, col=2,)\n",
    "    fig.add_scatter(x=qqplot_data[1].get_xdata(), y=qqplot_data[1].get_ydata(), mode='lines', marker_line_width=2, marker_color=COLOR_SCALE[4], row=1, col=2)\n",
    "    del qqplot_data\n",
    "    sqrt_abs_res = np.sqrt(np.abs(residuals))\n",
    "    # fig.add_trace(\n",
    "    #     go.Scatter(x=fitted_values, y=sqrt_abs_res, mode='markers', marker_color=group_enc, text=group, marker_colorscale=px.colors.qualitative.Dark24),\n",
    "    #     row=2, col=1,\n",
    "    # )\n",
    "\n",
    "    fig.add_trace(\n",
    "        go.Scatter(x=fitted_values, y=sqrt_abs_res, mode='markers', marker_color=COLOR_SCALE[0], text=group),\n",
    "        row=2, col=1,\n",
    "    )\n",
    "\n",
    "    fig.add_histogram(x=residuals, histnorm='probability', marker_color=COLOR_SCALE[0], row=2, col=2)\n",
    "\n",
    "    # fig = px.scatter(vis, x=\"Fitted values\", y=\"Residuals\", color=\"Experiment\", color_discrete_sequence=px.colors.qualitative.Dark24)\n",
    "    fig.update_traces(marker_size=10, row=1, col=1)\n",
    "    fig.update_traces(marker_size=10, row=2, col=1)\n",
    "    fig.update_layout(width=800, height=500, showlegend=False, margin=dict(t=5, b=5, l=10, r=10))\n",
    "\n",
    "    # Update xaxis properties\n",
    "    fig.update_xaxes(title_text=\"Fitted\", row=1, col=1)\n",
    "    fig.update_xaxes(title_text=\"Theoretical Quantiles\", row=1, col=2)\n",
    "    fig.update_xaxes(title_text=\"Fitted\", row=2, col=1)\n",
    "    fig.update_xaxes(title_text=\"Residuals\", row=2, col=2)\n",
    "\n",
    "    # Update yaxis properties\n",
    "    fig.update_yaxes(title_text=\"Residuals\", row=1, col=1)\n",
    "    fig.update_yaxes(title_text=\"Sample Quantiles\", row=1, col=2)\n",
    "    fig.update_yaxes(title_text=\"Sqrt( Abs( Residuals ) )\", row=2, col=1)\n",
    "    fig.update_yaxes(title_text=\"Count\", row=2, col=2)\n",
    "\n",
    "    fig.show()\n",
    "\n",
    "    \n",
    "filepaths = {}\n",
    "for dirname, _, filenames in os.walk('./data'):\n",
    "    for filename in filenames:\n",
    "        key = filename.split('_')[-1].split('.')[0]\n",
    "        filepaths[key] = os.path.join(dirname, filename)\n",
    "\n",
    "print(filepaths)\n",
    "output_path = \".\""
   ]
  },
  {
   "cell_type": "code",
   "execution_count": 2,
   "id": "5f7d2bf0",
   "metadata": {},
   "outputs": [
    {
     "data": {
      "text/html": [
       "<div>\n",
       "<style scoped>\n",
       "    .dataframe tbody tr th:only-of-type {\n",
       "        vertical-align: middle;\n",
       "    }\n",
       "\n",
       "    .dataframe tbody tr th {\n",
       "        vertical-align: top;\n",
       "    }\n",
       "\n",
       "    .dataframe thead th {\n",
       "        text-align: right;\n",
       "    }\n",
       "</style>\n",
       "<table border=\"1\" class=\"dataframe\">\n",
       "  <thead>\n",
       "    <tr style=\"text-align: right;\">\n",
       "      <th></th>\n",
       "      <th>Title</th>\n",
       "      <th>Male</th>\n",
       "      <th>Age (weeks)</th>\n",
       "      <th>Stain</th>\n",
       "      <th>Resolution (um)</th>\n",
       "      <th>Collection Date</th>\n",
       "      <th>Stain start</th>\n",
       "      <th>Imaging - Stained</th>\n",
       "      <th>Imaging - Fixed</th>\n",
       "    </tr>\n",
       "  </thead>\n",
       "  <tbody>\n",
       "    <tr>\n",
       "      <th>0</th>\n",
       "      <td>Rat 01</td>\n",
       "      <td>Yes</td>\n",
       "      <td>10</td>\n",
       "      <td>I2KI</td>\n",
       "      <td>10.03</td>\n",
       "      <td>May 25, 2022</td>\n",
       "      <td>June 15, 2022</td>\n",
       "      <td>July 6, 2022</td>\n",
       "      <td>June 2, 2022</td>\n",
       "    </tr>\n",
       "    <tr>\n",
       "      <th>1</th>\n",
       "      <td>Rat 02</td>\n",
       "      <td>No</td>\n",
       "      <td>10</td>\n",
       "      <td>I2KI</td>\n",
       "      <td>10.03</td>\n",
       "      <td>June 29, 2022</td>\n",
       "      <td>September 12, 2022</td>\n",
       "      <td>October 7, 2022</td>\n",
       "      <td>NaN</td>\n",
       "    </tr>\n",
       "    <tr>\n",
       "      <th>2</th>\n",
       "      <td>Rat 03</td>\n",
       "      <td>Yes</td>\n",
       "      <td>10</td>\n",
       "      <td>PTA</td>\n",
       "      <td>7.72</td>\n",
       "      <td>March 29, 2023</td>\n",
       "      <td>April 19, 2023</td>\n",
       "      <td>May 23, 2023</td>\n",
       "      <td>NaN</td>\n",
       "    </tr>\n",
       "    <tr>\n",
       "      <th>3</th>\n",
       "      <td>Rat 04</td>\n",
       "      <td>Yes</td>\n",
       "      <td>10</td>\n",
       "      <td>PTA</td>\n",
       "      <td>7.72</td>\n",
       "      <td>March 30, 2023</td>\n",
       "      <td>April 19, 2023</td>\n",
       "      <td>June 8, 2023</td>\n",
       "      <td>NaN</td>\n",
       "    </tr>\n",
       "    <tr>\n",
       "      <th>4</th>\n",
       "      <td>Rat 05</td>\n",
       "      <td>Yes</td>\n",
       "      <td>8</td>\n",
       "      <td>PTA</td>\n",
       "      <td>7.99</td>\n",
       "      <td>April 19, 2023</td>\n",
       "      <td>June 12, 2023</td>\n",
       "      <td>September 13, 2023</td>\n",
       "      <td>NaN</td>\n",
       "    </tr>\n",
       "  </tbody>\n",
       "</table>\n",
       "</div>"
      ],
      "text/plain": [
       "    Title Male  Age (weeks) Stain  Resolution (um) Collection Date  \\\n",
       "0  Rat 01  Yes           10  I2KI            10.03    May 25, 2022   \n",
       "1  Rat 02   No           10  I2KI            10.03   June 29, 2022   \n",
       "2  Rat 03  Yes           10   PTA             7.72  March 29, 2023   \n",
       "3  Rat 04  Yes           10   PTA             7.72  March 30, 2023   \n",
       "4  Rat 05  Yes            8   PTA             7.99  April 19, 2023   \n",
       "\n",
       "          Stain start   Imaging - Stained Imaging - Fixed  \n",
       "0       June 15, 2022        July 6, 2022    June 2, 2022  \n",
       "1  September 12, 2022     October 7, 2022             NaN  \n",
       "2      April 19, 2023        May 23, 2023             NaN  \n",
       "3      April 19, 2023        June 8, 2023             NaN  \n",
       "4       June 12, 2023  September 13, 2023             NaN  "
      ]
     },
     "metadata": {},
     "output_type": "display_data"
    },
    {
     "data": {
      "text/html": [
       "<div>\n",
       "<style scoped>\n",
       "    .dataframe tbody tr th:only-of-type {\n",
       "        vertical-align: middle;\n",
       "    }\n",
       "\n",
       "    .dataframe tbody tr th {\n",
       "        vertical-align: top;\n",
       "    }\n",
       "\n",
       "    .dataframe thead th {\n",
       "        text-align: right;\n",
       "    }\n",
       "</style>\n",
       "<table border=\"1\" class=\"dataframe\">\n",
       "  <thead>\n",
       "    <tr style=\"text-align: right;\">\n",
       "      <th></th>\n",
       "      <th>Experiment</th>\n",
       "      <th>Tissue</th>\n",
       "      <th>ROI</th>\n",
       "      <th>Area</th>\n",
       "      <th>Mean</th>\n",
       "      <th>StdDev</th>\n",
       "      <th>Min</th>\n",
       "      <th>Max</th>\n",
       "      <th>Median</th>\n",
       "      <th>SNR</th>\n",
       "    </tr>\n",
       "  </thead>\n",
       "  <tbody>\n",
       "    <tr>\n",
       "      <th>0</th>\n",
       "      <td>RT01</td>\n",
       "      <td>Muscle</td>\n",
       "      <td>GC_Antrum</td>\n",
       "      <td>0.1</td>\n",
       "      <td>79.056</td>\n",
       "      <td>9.768</td>\n",
       "      <td>42</td>\n",
       "      <td>105</td>\n",
       "      <td>79</td>\n",
       "      <td>8.093366</td>\n",
       "    </tr>\n",
       "    <tr>\n",
       "      <th>1</th>\n",
       "      <td>RT01</td>\n",
       "      <td>Muscle</td>\n",
       "      <td>GC_Pylorus</td>\n",
       "      <td>0.1</td>\n",
       "      <td>73.901</td>\n",
       "      <td>10.629</td>\n",
       "      <td>32</td>\n",
       "      <td>98</td>\n",
       "      <td>76</td>\n",
       "      <td>6.952771</td>\n",
       "    </tr>\n",
       "    <tr>\n",
       "      <th>2</th>\n",
       "      <td>RT01</td>\n",
       "      <td>Muscle</td>\n",
       "      <td>LC_Pylorus</td>\n",
       "      <td>0.1</td>\n",
       "      <td>93.076</td>\n",
       "      <td>9.392</td>\n",
       "      <td>62</td>\n",
       "      <td>119</td>\n",
       "      <td>93</td>\n",
       "      <td>9.910136</td>\n",
       "    </tr>\n",
       "    <tr>\n",
       "      <th>3</th>\n",
       "      <td>RT01</td>\n",
       "      <td>Muscle</td>\n",
       "      <td>LC_LES</td>\n",
       "      <td>0.1</td>\n",
       "      <td>101.922</td>\n",
       "      <td>10.790</td>\n",
       "      <td>65</td>\n",
       "      <td>138</td>\n",
       "      <td>102</td>\n",
       "      <td>9.445968</td>\n",
       "    </tr>\n",
       "    <tr>\n",
       "      <th>4</th>\n",
       "      <td>RT01</td>\n",
       "      <td>Muscle</td>\n",
       "      <td>GC_LES</td>\n",
       "      <td>0.1</td>\n",
       "      <td>113.596</td>\n",
       "      <td>12.897</td>\n",
       "      <td>77</td>\n",
       "      <td>154</td>\n",
       "      <td>113</td>\n",
       "      <td>8.807940</td>\n",
       "    </tr>\n",
       "  </tbody>\n",
       "</table>\n",
       "</div>"
      ],
      "text/plain": [
       "  Experiment  Tissue         ROI  Area     Mean  StdDev  Min  Max  Median  \\\n",
       "0       RT01  Muscle   GC_Antrum   0.1   79.056   9.768   42  105      79   \n",
       "1       RT01  Muscle  GC_Pylorus   0.1   73.901  10.629   32   98      76   \n",
       "2       RT01  Muscle  LC_Pylorus   0.1   93.076   9.392   62  119      93   \n",
       "3       RT01  Muscle      LC_LES   0.1  101.922  10.790   65  138     102   \n",
       "4       RT01  Muscle      GC_LES   0.1  113.596  12.897   77  154     113   \n",
       "\n",
       "        SNR  \n",
       "0  8.093366  \n",
       "1  6.952771  \n",
       "2  9.910136  \n",
       "3  9.445968  \n",
       "4  8.807940  "
      ]
     },
     "metadata": {},
     "output_type": "display_data"
    }
   ],
   "source": [
    "df_metadata = pd.read_csv(filepaths[\"metadata\"])\n",
    "df_measures = pd.read_csv(filepaths[\"measures\"])\n",
    "\n",
    "display(df_metadata.head())\n",
    "display(df_measures.head())"
   ]
  },
  {
   "cell_type": "code",
   "execution_count": 3,
   "id": "6f750237",
   "metadata": {},
   "outputs": [
    {
     "data": {
      "text/html": [
       "<div>\n",
       "<style scoped>\n",
       "    .dataframe tbody tr th:only-of-type {\n",
       "        vertical-align: middle;\n",
       "    }\n",
       "\n",
       "    .dataframe tbody tr th {\n",
       "        vertical-align: top;\n",
       "    }\n",
       "\n",
       "    .dataframe thead th {\n",
       "        text-align: right;\n",
       "    }\n",
       "</style>\n",
       "<table border=\"1\" class=\"dataframe\">\n",
       "  <thead>\n",
       "    <tr style=\"text-align: right;\">\n",
       "      <th></th>\n",
       "      <th>Experiment</th>\n",
       "      <th>Stain</th>\n",
       "    </tr>\n",
       "  </thead>\n",
       "  <tbody>\n",
       "    <tr>\n",
       "      <th>0</th>\n",
       "      <td>RT01</td>\n",
       "      <td>Iodine-stained</td>\n",
       "    </tr>\n",
       "    <tr>\n",
       "      <th>1</th>\n",
       "      <td>RT02</td>\n",
       "      <td>Iodine-stained</td>\n",
       "    </tr>\n",
       "    <tr>\n",
       "      <th>2</th>\n",
       "      <td>RT03</td>\n",
       "      <td>PTA-stained</td>\n",
       "    </tr>\n",
       "    <tr>\n",
       "      <th>3</th>\n",
       "      <td>RT04</td>\n",
       "      <td>PTA-stained</td>\n",
       "    </tr>\n",
       "    <tr>\n",
       "      <th>4</th>\n",
       "      <td>RT05</td>\n",
       "      <td>PTA-stained</td>\n",
       "    </tr>\n",
       "  </tbody>\n",
       "</table>\n",
       "</div>"
      ],
      "text/plain": [
       "  Experiment           Stain\n",
       "0       RT01  Iodine-stained\n",
       "1       RT02  Iodine-stained\n",
       "2       RT03     PTA-stained\n",
       "3       RT04     PTA-stained\n",
       "4       RT05     PTA-stained"
      ]
     },
     "execution_count": 3,
     "metadata": {},
     "output_type": "execute_result"
    }
   ],
   "source": [
    "df_metadata = df_metadata[['Title', 'Stain']]\n",
    "df_metadata.rename({'Title': 'Experiment'}, axis=1, inplace=True)\n",
    "df_metadata['Experiment'] = df_metadata['Experiment'].str.replace('at ', 'T')\n",
    "df_metadata['Stain'] = df_metadata['Stain'].replace(STAIN_NAMES)\n",
    "df_metadata.head()"
   ]
  },
  {
   "cell_type": "code",
   "execution_count": 4,
   "id": "ecd9052e",
   "metadata": {},
   "outputs": [
    {
     "data": {
      "text/html": [
       "<div>\n",
       "<style scoped>\n",
       "    .dataframe tbody tr th:only-of-type {\n",
       "        vertical-align: middle;\n",
       "    }\n",
       "\n",
       "    .dataframe tbody tr th {\n",
       "        vertical-align: top;\n",
       "    }\n",
       "\n",
       "    .dataframe thead th {\n",
       "        text-align: right;\n",
       "    }\n",
       "</style>\n",
       "<table border=\"1\" class=\"dataframe\">\n",
       "  <thead>\n",
       "    <tr style=\"text-align: right;\">\n",
       "      <th></th>\n",
       "      <th>Experiment</th>\n",
       "      <th>Tissue</th>\n",
       "      <th>ROI</th>\n",
       "      <th>Area</th>\n",
       "      <th>Mean</th>\n",
       "      <th>StdDev</th>\n",
       "      <th>Min</th>\n",
       "      <th>Max</th>\n",
       "      <th>Median</th>\n",
       "      <th>SNR</th>\n",
       "      <th>Stain</th>\n",
       "    </tr>\n",
       "  </thead>\n",
       "  <tbody>\n",
       "    <tr>\n",
       "      <th>0</th>\n",
       "      <td>RT01</td>\n",
       "      <td>Muscle</td>\n",
       "      <td>GC_Antrum</td>\n",
       "      <td>0.1</td>\n",
       "      <td>79.056</td>\n",
       "      <td>9.768</td>\n",
       "      <td>42</td>\n",
       "      <td>105</td>\n",
       "      <td>79</td>\n",
       "      <td>8.093366</td>\n",
       "      <td>Iodine-stained</td>\n",
       "    </tr>\n",
       "    <tr>\n",
       "      <th>1</th>\n",
       "      <td>RT01</td>\n",
       "      <td>Muscle</td>\n",
       "      <td>GC_Pylorus</td>\n",
       "      <td>0.1</td>\n",
       "      <td>73.901</td>\n",
       "      <td>10.629</td>\n",
       "      <td>32</td>\n",
       "      <td>98</td>\n",
       "      <td>76</td>\n",
       "      <td>6.952771</td>\n",
       "      <td>Iodine-stained</td>\n",
       "    </tr>\n",
       "    <tr>\n",
       "      <th>2</th>\n",
       "      <td>RT01</td>\n",
       "      <td>Muscle</td>\n",
       "      <td>LC_Pylorus</td>\n",
       "      <td>0.1</td>\n",
       "      <td>93.076</td>\n",
       "      <td>9.392</td>\n",
       "      <td>62</td>\n",
       "      <td>119</td>\n",
       "      <td>93</td>\n",
       "      <td>9.910136</td>\n",
       "      <td>Iodine-stained</td>\n",
       "    </tr>\n",
       "    <tr>\n",
       "      <th>3</th>\n",
       "      <td>RT01</td>\n",
       "      <td>Muscle</td>\n",
       "      <td>LC_LES</td>\n",
       "      <td>0.1</td>\n",
       "      <td>101.922</td>\n",
       "      <td>10.790</td>\n",
       "      <td>65</td>\n",
       "      <td>138</td>\n",
       "      <td>102</td>\n",
       "      <td>9.445968</td>\n",
       "      <td>Iodine-stained</td>\n",
       "    </tr>\n",
       "    <tr>\n",
       "      <th>4</th>\n",
       "      <td>RT01</td>\n",
       "      <td>Muscle</td>\n",
       "      <td>GC_LES</td>\n",
       "      <td>0.1</td>\n",
       "      <td>113.596</td>\n",
       "      <td>12.897</td>\n",
       "      <td>77</td>\n",
       "      <td>154</td>\n",
       "      <td>113</td>\n",
       "      <td>8.807940</td>\n",
       "      <td>Iodine-stained</td>\n",
       "    </tr>\n",
       "  </tbody>\n",
       "</table>\n",
       "</div>"
      ],
      "text/plain": [
       "  Experiment  Tissue         ROI  Area     Mean  StdDev  Min  Max  Median  \\\n",
       "0       RT01  Muscle   GC_Antrum   0.1   79.056   9.768   42  105      79   \n",
       "1       RT01  Muscle  GC_Pylorus   0.1   73.901  10.629   32   98      76   \n",
       "2       RT01  Muscle  LC_Pylorus   0.1   93.076   9.392   62  119      93   \n",
       "3       RT01  Muscle      LC_LES   0.1  101.922  10.790   65  138     102   \n",
       "4       RT01  Muscle      GC_LES   0.1  113.596  12.897   77  154     113   \n",
       "\n",
       "        SNR           Stain  \n",
       "0  8.093366  Iodine-stained  \n",
       "1  6.952771  Iodine-stained  \n",
       "2  9.910136  Iodine-stained  \n",
       "3  9.445968  Iodine-stained  \n",
       "4  8.807940  Iodine-stained  "
      ]
     },
     "execution_count": 4,
     "metadata": {},
     "output_type": "execute_result"
    }
   ],
   "source": [
    "df_measures = pd.merge(df_measures, df_metadata, on=\"Experiment\", how=\"left\")\n",
    "df_measures.head()"
   ]
  },
  {
   "cell_type": "code",
   "execution_count": 5,
   "id": "3c76af8e",
   "metadata": {},
   "outputs": [
    {
     "data": {
      "text/html": [
       "<div>\n",
       "<style scoped>\n",
       "    .dataframe tbody tr th:only-of-type {\n",
       "        vertical-align: middle;\n",
       "    }\n",
       "\n",
       "    .dataframe tbody tr th {\n",
       "        vertical-align: top;\n",
       "    }\n",
       "\n",
       "    .dataframe thead th {\n",
       "        text-align: right;\n",
       "    }\n",
       "</style>\n",
       "<table border=\"1\" class=\"dataframe\">\n",
       "  <thead>\n",
       "    <tr style=\"text-align: right;\">\n",
       "      <th></th>\n",
       "      <th>Experiment</th>\n",
       "      <th>Stain</th>\n",
       "      <th>ROI</th>\n",
       "      <th>mean_mucosa</th>\n",
       "      <th>mean_muscle</th>\n",
       "      <th>stddev_mucosa</th>\n",
       "      <th>stddev_muscle</th>\n",
       "    </tr>\n",
       "  </thead>\n",
       "  <tbody>\n",
       "    <tr>\n",
       "      <th>0</th>\n",
       "      <td>RT01</td>\n",
       "      <td>Iodine-stained</td>\n",
       "      <td>GC_Antrum</td>\n",
       "      <td>72.612</td>\n",
       "      <td>79.056</td>\n",
       "      <td>8.473</td>\n",
       "      <td>9.768</td>\n",
       "    </tr>\n",
       "    <tr>\n",
       "      <th>1</th>\n",
       "      <td>RT01</td>\n",
       "      <td>Iodine-stained</td>\n",
       "      <td>GC_Corpus</td>\n",
       "      <td>85.331</td>\n",
       "      <td>91.738</td>\n",
       "      <td>8.788</td>\n",
       "      <td>10.509</td>\n",
       "    </tr>\n",
       "    <tr>\n",
       "      <th>2</th>\n",
       "      <td>RT01</td>\n",
       "      <td>Iodine-stained</td>\n",
       "      <td>GC_Fundus1</td>\n",
       "      <td>81.945</td>\n",
       "      <td>83.246</td>\n",
       "      <td>7.481</td>\n",
       "      <td>9.304</td>\n",
       "    </tr>\n",
       "    <tr>\n",
       "      <th>3</th>\n",
       "      <td>RT01</td>\n",
       "      <td>Iodine-stained</td>\n",
       "      <td>GC_Fundus2</td>\n",
       "      <td>67.023</td>\n",
       "      <td>70.690</td>\n",
       "      <td>5.526</td>\n",
       "      <td>5.302</td>\n",
       "    </tr>\n",
       "    <tr>\n",
       "      <th>4</th>\n",
       "      <td>RT01</td>\n",
       "      <td>Iodine-stained</td>\n",
       "      <td>GC_LES</td>\n",
       "      <td>112.101</td>\n",
       "      <td>113.596</td>\n",
       "      <td>13.957</td>\n",
       "      <td>12.897</td>\n",
       "    </tr>\n",
       "    <tr>\n",
       "      <th>5</th>\n",
       "      <td>RT01</td>\n",
       "      <td>Iodine-stained</td>\n",
       "      <td>GC_Pylorus</td>\n",
       "      <td>70.499</td>\n",
       "      <td>73.901</td>\n",
       "      <td>9.478</td>\n",
       "      <td>10.629</td>\n",
       "    </tr>\n",
       "    <tr>\n",
       "      <th>6</th>\n",
       "      <td>RT01</td>\n",
       "      <td>Iodine-stained</td>\n",
       "      <td>LC_Antrum</td>\n",
       "      <td>81.169</td>\n",
       "      <td>87.435</td>\n",
       "      <td>10.681</td>\n",
       "      <td>10.718</td>\n",
       "    </tr>\n",
       "    <tr>\n",
       "      <th>7</th>\n",
       "      <td>RT01</td>\n",
       "      <td>Iodine-stained</td>\n",
       "      <td>LC_Corpus</td>\n",
       "      <td>93.142</td>\n",
       "      <td>109.951</td>\n",
       "      <td>10.162</td>\n",
       "      <td>10.288</td>\n",
       "    </tr>\n",
       "    <tr>\n",
       "      <th>8</th>\n",
       "      <td>RT01</td>\n",
       "      <td>Iodine-stained</td>\n",
       "      <td>LC_LES</td>\n",
       "      <td>99.382</td>\n",
       "      <td>101.922</td>\n",
       "      <td>12.529</td>\n",
       "      <td>10.790</td>\n",
       "    </tr>\n",
       "    <tr>\n",
       "      <th>9</th>\n",
       "      <td>RT01</td>\n",
       "      <td>Iodine-stained</td>\n",
       "      <td>LC_Pylorus</td>\n",
       "      <td>82.348</td>\n",
       "      <td>93.076</td>\n",
       "      <td>10.631</td>\n",
       "      <td>9.392</td>\n",
       "    </tr>\n",
       "  </tbody>\n",
       "</table>\n",
       "</div>"
      ],
      "text/plain": [
       "  Experiment           Stain         ROI  mean_mucosa  mean_muscle  \\\n",
       "0       RT01  Iodine-stained   GC_Antrum       72.612       79.056   \n",
       "1       RT01  Iodine-stained   GC_Corpus       85.331       91.738   \n",
       "2       RT01  Iodine-stained  GC_Fundus1       81.945       83.246   \n",
       "3       RT01  Iodine-stained  GC_Fundus2       67.023       70.690   \n",
       "4       RT01  Iodine-stained      GC_LES      112.101      113.596   \n",
       "5       RT01  Iodine-stained  GC_Pylorus       70.499       73.901   \n",
       "6       RT01  Iodine-stained   LC_Antrum       81.169       87.435   \n",
       "7       RT01  Iodine-stained   LC_Corpus       93.142      109.951   \n",
       "8       RT01  Iodine-stained      LC_LES       99.382      101.922   \n",
       "9       RT01  Iodine-stained  LC_Pylorus       82.348       93.076   \n",
       "\n",
       "   stddev_mucosa  stddev_muscle  \n",
       "0          8.473          9.768  \n",
       "1          8.788         10.509  \n",
       "2          7.481          9.304  \n",
       "3          5.526          5.302  \n",
       "4         13.957         12.897  \n",
       "5          9.478         10.629  \n",
       "6         10.681         10.718  \n",
       "7         10.162         10.288  \n",
       "8         12.529         10.790  \n",
       "9         10.631          9.392  "
      ]
     },
     "metadata": {},
     "output_type": "display_data"
    },
    {
     "data": {
      "text/html": [
       "<div>\n",
       "<style scoped>\n",
       "    .dataframe tbody tr th:only-of-type {\n",
       "        vertical-align: middle;\n",
       "    }\n",
       "\n",
       "    .dataframe tbody tr th {\n",
       "        vertical-align: top;\n",
       "    }\n",
       "\n",
       "    .dataframe thead th {\n",
       "        text-align: right;\n",
       "    }\n",
       "</style>\n",
       "<table border=\"1\" class=\"dataframe\">\n",
       "  <thead>\n",
       "    <tr style=\"text-align: right;\">\n",
       "      <th></th>\n",
       "      <th>Experiment</th>\n",
       "      <th>Stain</th>\n",
       "      <th>ROI</th>\n",
       "      <th>CNR</th>\n",
       "    </tr>\n",
       "  </thead>\n",
       "  <tbody>\n",
       "    <tr>\n",
       "      <th>0</th>\n",
       "      <td>RT01</td>\n",
       "      <td>Iodine-stained</td>\n",
       "      <td>GC_Antrum</td>\n",
       "      <td>0.498345</td>\n",
       "    </tr>\n",
       "    <tr>\n",
       "      <th>1</th>\n",
       "      <td>RT01</td>\n",
       "      <td>Iodine-stained</td>\n",
       "      <td>GC_Corpus</td>\n",
       "      <td>0.467692</td>\n",
       "    </tr>\n",
       "    <tr>\n",
       "      <th>2</th>\n",
       "      <td>RT01</td>\n",
       "      <td>Iodine-stained</td>\n",
       "      <td>GC_Fundus1</td>\n",
       "      <td>0.108974</td>\n",
       "    </tr>\n",
       "    <tr>\n",
       "      <th>3</th>\n",
       "      <td>RT01</td>\n",
       "      <td>Iodine-stained</td>\n",
       "      <td>GC_Fundus2</td>\n",
       "      <td>0.478834</td>\n",
       "    </tr>\n",
       "    <tr>\n",
       "      <th>4</th>\n",
       "      <td>RT01</td>\n",
       "      <td>Iodine-stained</td>\n",
       "      <td>GC_LES</td>\n",
       "      <td>0.078670</td>\n",
       "    </tr>\n",
       "  </tbody>\n",
       "</table>\n",
       "</div>"
      ],
      "text/plain": [
       "  Experiment           Stain         ROI       CNR\n",
       "0       RT01  Iodine-stained   GC_Antrum  0.498345\n",
       "1       RT01  Iodine-stained   GC_Corpus  0.467692\n",
       "2       RT01  Iodine-stained  GC_Fundus1  0.108974\n",
       "3       RT01  Iodine-stained  GC_Fundus2  0.478834\n",
       "4       RT01  Iodine-stained      GC_LES  0.078670"
      ]
     },
     "execution_count": 5,
     "metadata": {},
     "output_type": "execute_result"
    }
   ],
   "source": [
    "# Assuming df_measures is your input DataFrame\n",
    "data = df_measures[[\"Experiment\", \"Stain\", \"ROI\", \"Tissue\", \"Mean\", \"StdDev\"]]\n",
    "\n",
    "# Pivot to get 'muscle' and 'mucosa' stats in columns\n",
    "df_cnr = data.pivot_table(index=[\"Experiment\", \"Stain\", \"ROI\"], columns=\"Tissue\", values=[\"Mean\", \"StdDev\"])\n",
    "\n",
    "# Flatten the multi-level columns\n",
    "df_cnr.columns = ['_'.join(col).strip().lower() for col in df_cnr.columns.values]\n",
    "df_cnr.reset_index(inplace=True)\n",
    "display(df_cnr.head(10))\n",
    "\n",
    "# Compute CNR\n",
    "df_cnr['CNR'] = np.abs(df_cnr['mean_muscle'] - df_cnr['mean_mucosa']) / np.sqrt(df_cnr['stddev_muscle']**2 + df_cnr['stddev_mucosa']**2)\n",
    "\n",
    "df_cnr = df_cnr.reset_index()[[\"Experiment\", \"Stain\", \"ROI\", \"CNR\"]]\n",
    "df_cnr.head()"
   ]
  },
  {
   "cell_type": "code",
   "execution_count": 6,
   "id": "d85f5b71",
   "metadata": {},
   "outputs": [
    {
     "data": {
      "text/html": [
       "<div>\n",
       "<style scoped>\n",
       "    .dataframe tbody tr th:only-of-type {\n",
       "        vertical-align: middle;\n",
       "    }\n",
       "\n",
       "    .dataframe tbody tr th {\n",
       "        vertical-align: top;\n",
       "    }\n",
       "\n",
       "    .dataframe thead th {\n",
       "        text-align: right;\n",
       "    }\n",
       "</style>\n",
       "<table border=\"1\" class=\"dataframe\">\n",
       "  <thead>\n",
       "    <tr style=\"text-align: right;\">\n",
       "      <th></th>\n",
       "      <th>Experiment</th>\n",
       "      <th>Tissue</th>\n",
       "      <th>ROI</th>\n",
       "      <th>Area</th>\n",
       "      <th>Mean</th>\n",
       "      <th>StdDev</th>\n",
       "      <th>Min</th>\n",
       "      <th>Max</th>\n",
       "      <th>Median</th>\n",
       "      <th>SNR</th>\n",
       "      <th>Stain</th>\n",
       "    </tr>\n",
       "  </thead>\n",
       "  <tbody>\n",
       "    <tr>\n",
       "      <th>0</th>\n",
       "      <td>RT01</td>\n",
       "      <td>Muscle-serosal</td>\n",
       "      <td>GC_Antrum</td>\n",
       "      <td>0.1</td>\n",
       "      <td>79.056</td>\n",
       "      <td>9.768</td>\n",
       "      <td>42</td>\n",
       "      <td>105</td>\n",
       "      <td>79</td>\n",
       "      <td>8.093366</td>\n",
       "      <td>Iodine-stained</td>\n",
       "    </tr>\n",
       "    <tr>\n",
       "      <th>1</th>\n",
       "      <td>RT01</td>\n",
       "      <td>Muscle-serosal</td>\n",
       "      <td>GC_Pylorus</td>\n",
       "      <td>0.1</td>\n",
       "      <td>73.901</td>\n",
       "      <td>10.629</td>\n",
       "      <td>32</td>\n",
       "      <td>98</td>\n",
       "      <td>76</td>\n",
       "      <td>6.952771</td>\n",
       "      <td>Iodine-stained</td>\n",
       "    </tr>\n",
       "    <tr>\n",
       "      <th>2</th>\n",
       "      <td>RT01</td>\n",
       "      <td>Muscle-serosal</td>\n",
       "      <td>LC_Pylorus</td>\n",
       "      <td>0.1</td>\n",
       "      <td>93.076</td>\n",
       "      <td>9.392</td>\n",
       "      <td>62</td>\n",
       "      <td>119</td>\n",
       "      <td>93</td>\n",
       "      <td>9.910136</td>\n",
       "      <td>Iodine-stained</td>\n",
       "    </tr>\n",
       "    <tr>\n",
       "      <th>3</th>\n",
       "      <td>RT01</td>\n",
       "      <td>Muscle-serosal</td>\n",
       "      <td>LC_LES</td>\n",
       "      <td>0.1</td>\n",
       "      <td>101.922</td>\n",
       "      <td>10.790</td>\n",
       "      <td>65</td>\n",
       "      <td>138</td>\n",
       "      <td>102</td>\n",
       "      <td>9.445968</td>\n",
       "      <td>Iodine-stained</td>\n",
       "    </tr>\n",
       "    <tr>\n",
       "      <th>4</th>\n",
       "      <td>RT01</td>\n",
       "      <td>Muscle-serosal</td>\n",
       "      <td>GC_LES</td>\n",
       "      <td>0.1</td>\n",
       "      <td>113.596</td>\n",
       "      <td>12.897</td>\n",
       "      <td>77</td>\n",
       "      <td>154</td>\n",
       "      <td>113</td>\n",
       "      <td>8.807940</td>\n",
       "      <td>Iodine-stained</td>\n",
       "    </tr>\n",
       "  </tbody>\n",
       "</table>\n",
       "</div>"
      ],
      "text/plain": [
       "  Experiment          Tissue         ROI  Area     Mean  StdDev  Min  Max  \\\n",
       "0       RT01  Muscle-serosal   GC_Antrum   0.1   79.056   9.768   42  105   \n",
       "1       RT01  Muscle-serosal  GC_Pylorus   0.1   73.901  10.629   32   98   \n",
       "2       RT01  Muscle-serosal  LC_Pylorus   0.1   93.076   9.392   62  119   \n",
       "3       RT01  Muscle-serosal      LC_LES   0.1  101.922  10.790   65  138   \n",
       "4       RT01  Muscle-serosal      GC_LES   0.1  113.596  12.897   77  154   \n",
       "\n",
       "   Median       SNR           Stain  \n",
       "0      79  8.093366  Iodine-stained  \n",
       "1      76  6.952771  Iodine-stained  \n",
       "2      93  9.910136  Iodine-stained  \n",
       "3     102  9.445968  Iodine-stained  \n",
       "4     113  8.807940  Iodine-stained  "
      ]
     },
     "execution_count": 6,
     "metadata": {},
     "output_type": "execute_result"
    }
   ],
   "source": [
    "df_measures['Tissue'] = df_measures['Tissue'].replace(TISSUE_NAMES)\n",
    "\n",
    "# Ensure categorical types for statsmodels\n",
    "df_measures['Experiment'] = pd.Categorical(df_measures['Experiment'])\n",
    "df_measures['Stain'] = pd.Categorical(df_measures['Stain'])\n",
    "df_measures['Tissue'] = pd.Categorical(df_measures['Tissue'])\n",
    "df_measures['ROI'] = pd.Categorical(df_measures['ROI'])\n",
    "\n",
    "df_measures.head()"
   ]
  },
  {
   "cell_type": "code",
   "execution_count": 7,
   "id": "108fc9d2",
   "metadata": {},
   "outputs": [
    {
     "name": "stdout",
     "output_type": "stream",
     "text": [
      "['Experiment', 'Tissue', 'ROI', 'Area', 'Mean', 'StdDev', 'Min', 'Max', 'Median', 'SNR', 'Stain']\n"
     ]
    },
    {
     "data": {
      "text/html": [
       "<div><style>\n",
       ".dataframe > thead > tr,\n",
       ".dataframe > tbody > tr {\n",
       "  text-align: right;\n",
       "  white-space: pre-wrap;\n",
       "}\n",
       "</style>\n",
       "<small>shape: (5, 11)</small><table border=\"1\" class=\"dataframe\"><thead><tr><th>Experiment</th><th>Tissue</th><th>ROI</th><th>Area</th><th>Mean</th><th>StdDev</th><th>Min</th><th>Max</th><th>Median</th><th>SNR</th><th>Stain</th></tr><tr><td>cat</td><td>cat</td><td>cat</td><td>f64</td><td>f64</td><td>f64</td><td>i64</td><td>i64</td><td>i64</td><td>f64</td><td>cat</td></tr></thead><tbody><tr><td>&quot;RT01&quot;</td><td>&quot;Muscle-serosal&quot;</td><td>&quot;GC_Antrum&quot;</td><td>0.1</td><td>79.056</td><td>9.768</td><td>42</td><td>105</td><td>79</td><td>8.093366</td><td>&quot;Iodine-stained&quot;</td></tr><tr><td>&quot;RT01&quot;</td><td>&quot;Muscle-serosal&quot;</td><td>&quot;GC_Pylorus&quot;</td><td>0.1</td><td>73.901</td><td>10.629</td><td>32</td><td>98</td><td>76</td><td>6.952771</td><td>&quot;Iodine-stained&quot;</td></tr><tr><td>&quot;RT01&quot;</td><td>&quot;Muscle-serosal&quot;</td><td>&quot;LC_Pylorus&quot;</td><td>0.1</td><td>93.076</td><td>9.392</td><td>62</td><td>119</td><td>93</td><td>9.910136</td><td>&quot;Iodine-stained&quot;</td></tr><tr><td>&quot;RT01&quot;</td><td>&quot;Muscle-serosal&quot;</td><td>&quot;LC_LES&quot;</td><td>0.1</td><td>101.922</td><td>10.79</td><td>65</td><td>138</td><td>102</td><td>9.445968</td><td>&quot;Iodine-stained&quot;</td></tr><tr><td>&quot;RT01&quot;</td><td>&quot;Muscle-serosal&quot;</td><td>&quot;GC_LES&quot;</td><td>0.1</td><td>113.596</td><td>12.897</td><td>77</td><td>154</td><td>113</td><td>8.80794</td><td>&quot;Iodine-stained&quot;</td></tr></tbody></table></div>"
      ],
      "text/plain": [
       "shape: (5, 11)\n",
       "┌────────────┬────────────────┬────────────┬──────┬───┬─────┬────────┬──────────┬────────────────┐\n",
       "│ Experiment ┆ Tissue         ┆ ROI        ┆ Area ┆ … ┆ Max ┆ Median ┆ SNR      ┆ Stain          │\n",
       "│ ---        ┆ ---            ┆ ---        ┆ ---  ┆   ┆ --- ┆ ---    ┆ ---      ┆ ---            │\n",
       "│ cat        ┆ cat            ┆ cat        ┆ f64  ┆   ┆ i64 ┆ i64    ┆ f64      ┆ cat            │\n",
       "╞════════════╪════════════════╪════════════╪══════╪═══╪═════╪════════╪══════════╪════════════════╡\n",
       "│ RT01       ┆ Muscle-serosal ┆ GC_Antrum  ┆ 0.1  ┆ … ┆ 105 ┆ 79     ┆ 8.093366 ┆ Iodine-stained │\n",
       "│ RT01       ┆ Muscle-serosal ┆ GC_Pylorus ┆ 0.1  ┆ … ┆ 98  ┆ 76     ┆ 6.952771 ┆ Iodine-stained │\n",
       "│ RT01       ┆ Muscle-serosal ┆ LC_Pylorus ┆ 0.1  ┆ … ┆ 119 ┆ 93     ┆ 9.910136 ┆ Iodine-stained │\n",
       "│ RT01       ┆ Muscle-serosal ┆ LC_LES     ┆ 0.1  ┆ … ┆ 138 ┆ 102    ┆ 9.445968 ┆ Iodine-stained │\n",
       "│ RT01       ┆ Muscle-serosal ┆ GC_LES     ┆ 0.1  ┆ … ┆ 154 ┆ 113    ┆ 8.80794  ┆ Iodine-stained │\n",
       "└────────────┴────────────────┴────────────┴──────┴───┴─────┴────────┴──────────┴────────────────┘"
      ]
     },
     "metadata": {},
     "output_type": "display_data"
    }
   ],
   "source": [
    "pl_df_measures = pl.DataFrame(df_measures)\n",
    "print(pl_df_measures.columns)\n",
    "display(pl_df_measures.head())"
   ]
  },
  {
   "cell_type": "code",
   "execution_count": 8,
   "id": "5354cc72",
   "metadata": {},
   "outputs": [
    {
     "data": {
      "text/html": [
       "<div id=\"wqwkypvnzb\" style=\"padding-left:0px;padding-right:0px;padding-top:10px;padding-bottom:10px;overflow-x:auto;overflow-y:auto;width:auto;height:auto;\">\n",
       "<style>\n",
       "#wqwkypvnzb table {\n",
       "          font-family: -apple-system, BlinkMacSystemFont, 'Segoe UI', Roboto, Oxygen, Ubuntu, Cantarell, 'Helvetica Neue', 'Fira Sans', 'Droid Sans', Arial, sans-serif;\n",
       "          -webkit-font-smoothing: antialiased;\n",
       "          -moz-osx-font-smoothing: grayscale;\n",
       "        }\n",
       "\n",
       "#wqwkypvnzb thead, tbody, tfoot, tr, td, th { border-style: none !important; }\n",
       " tr { background-color: transparent !important; }\n",
       "#wqwkypvnzb p { margin: 0 !important; padding: 0 !important; }\n",
       " #wqwkypvnzb .gt_table { display: table !important; border-collapse: collapse !important; line-height: normal !important; margin-left: auto !important; margin-right: auto !important; color: #333333 !important; font-size: 16px !important; font-weight: normal !important; font-style: normal !important; background-color: #FFFFFF !important; width: auto !important; border-top-style: solid !important; border-top-width: 2px !important; border-top-color: #A8A8A8 !important; border-right-style: none !important; border-right-width: 2px !important; border-right-color: #D3D3D3 !important; border-bottom-style: solid !important; border-bottom-width: 2px !important; border-bottom-color: #A8A8A8 !important; border-left-style: none !important; border-left-width: 2px !important; border-left-color: #D3D3D3 !important; }\n",
       " #wqwkypvnzb .gt_caption { padding-top: 4px !important; padding-bottom: 4px !important; }\n",
       " #wqwkypvnzb .gt_title { color: #333333 !important; font-size: 125% !important; font-weight: initial !important; padding-top: 3px !important; padding-bottom: 3px !important; padding-left: 5px !important; padding-right: 5px !important; border-bottom-color: #FFFFFF !important; border-bottom-width: 0 !important; }\n",
       " #wqwkypvnzb .gt_subtitle { color: #333333 !important; font-size: 85% !important; font-weight: initial !important; padding-top: 2px !important; padding-bottom: 4px !important; padding-left: 5px !important; padding-right: 5px !important; border-top-color: #FFFFFF !important; border-top-width: 0 !important; }\n",
       " #wqwkypvnzb .gt_heading { background-color: #FFFFFF !important; text-align: left !important; border-bottom-color: #FFFFFF !important; border-left-style: none !important; border-left-width: 1px !important; border-left-color: #D3D3D3 !important; border-right-style: none !important; border-right-width: 1px !important; border-right-color: #D3D3D3 !important; }\n",
       " #wqwkypvnzb .gt_bottom_border { border-bottom-style: solid !important; border-bottom-width: 2px !important; border-bottom-color: #D3D3D3 !important; }\n",
       " #wqwkypvnzb .gt_col_headings { border-top-style: solid !important; border-top-width: 2px !important; border-top-color: #D3D3D3 !important; border-bottom-style: solid !important; border-bottom-width: 2px !important; border-bottom-color: #D3D3D3 !important; border-left-style: none !important; border-left-width: 1px !important; border-left-color: #D3D3D3 !important; border-right-style: none !important; border-right-width: 1px !important; border-right-color: #D3D3D3 !important; }\n",
       " #wqwkypvnzb .gt_col_heading { color: #333333 !important; background-color: #FFFFFF !important; font-size: 100% !important; font-weight: normal !important; text-transform: inherit !important; border-left-style: none !important; border-left-width: 1px !important; border-left-color: #D3D3D3 !important; border-right-style: none !important; border-right-width: 1px !important; border-right-color: #D3D3D3 !important; vertical-align: bottom !important; padding-top: 3px !important; padding-bottom: 4px !important; padding-left: 5px !important; padding-right: 5px !important; overflow-x: hidden !important; }\n",
       " #wqwkypvnzb .gt_column_spanner_outer { color: #333333 !important; background-color: #FFFFFF !important; font-size: 100% !important; font-weight: normal !important; text-transform: inherit !important; padding-top: 0 !important; padding-bottom: 0 !important; padding-left: 4px !important; padding-right: 4px !important; }\n",
       " #wqwkypvnzb .gt_column_spanner_outer:first-child { padding-left: 0 !important; }\n",
       " #wqwkypvnzb .gt_column_spanner_outer:last-child { padding-right: 0 !important; }\n",
       " #wqwkypvnzb .gt_column_spanner { border-bottom-style: solid !important; border-bottom-width: 2px !important; border-bottom-color: #D3D3D3 !important; vertical-align: bottom !important; padding-top: 3px !important; padding-bottom: 3px !important; overflow-x: hidden !important; display: inline-block !important; width: 100% !important; }\n",
       " #wqwkypvnzb .gt_spanner_row { border-bottom-style: hidden !important; }\n",
       " #wqwkypvnzb .gt_group_heading { padding-top: 6px !important; padding-bottom: 6px !important; padding-left: 5px !important; padding-right: 5px !important; color: #333333 !important; background-color: #FFFFFF !important; font-size: 100% !important; font-weight: initial !important; text-transform: inherit !important; border-top-style: solid !important; border-top-width: 2px !important; border-top-color: #D3D3D3 !important; border-bottom-style: solid !important; border-bottom-width: 2px !important; border-bottom-color: #D3D3D3 !important; border-left-style: none !important; border-left-width: 1px !important; border-left-color: #D3D3D3 !important; border-right-style: none !important; border-right-width: 1px !important; border-right-color: #D3D3D3 !important; vertical-align: middle !important; text-align: left !important; }\n",
       " #wqwkypvnzb .gt_empty_group_heading { padding: 0.5px !important; color: #333333 !important; background-color: #FFFFFF !important; font-size: 100% !important; font-weight: initial !important; border-top-style: solid !important; border-top-width: 2px !important; border-top-color: #D3D3D3 !important; border-bottom-style: solid !important; border-bottom-width: 2px !important; border-bottom-color: #D3D3D3 !important; vertical-align: middle !important; }\n",
       " #wqwkypvnzb .gt_from_md> :first-child { margin-top: 0 !important; }\n",
       " #wqwkypvnzb .gt_from_md> :last-child { margin-bottom: 0 !important; }\n",
       " #wqwkypvnzb .gt_row { padding-top: 6px !important; padding-bottom: 6px !important; padding-left: 5px !important; padding-right: 5px !important; margin: 10px !important; border-top-style: solid !important; border-top-width: 1px !important; border-top-color: #D3D3D3 !important; border-left-style: none !important; border-left-width: 1px !important; border-left-color: #D3D3D3 !important; border-right-style: none !important; border-right-width: 1px !important; border-right-color: #D3D3D3 !important; vertical-align: middle !important; overflow-x: hidden !important; }\n",
       " #wqwkypvnzb .gt_stub { color: #333333 !important; background-color: #FFFFFF !important; font-size: 100% !important; font-weight: initial !important; text-transform: inherit !important; border-right-style: solid !important; border-right-width: 2px !important; border-right-color: #D3D3D3 !important; padding-left: 5px !important; padding-right: 5px !important; }\n",
       " #wqwkypvnzb .gt_stub_row_group { color: #333333 !important; background-color: #FFFFFF !important; font-size: 100% !important; font-weight: initial !important; text-transform: inherit !important; border-right-style: solid !important; border-right-width: 2px !important; border-right-color: #D3D3D3 !important; padding-left: 5px !important; padding-right: 5px !important; vertical-align: top !important; }\n",
       " #wqwkypvnzb .gt_row_group_first td { border-top-width: 2px !important; }\n",
       " #wqwkypvnzb .gt_row_group_first th { border-top-width: 2px !important; }\n",
       " #wqwkypvnzb .gt_striped { background-color: rgba(128,128,128,0.05) !important; }\n",
       " #wqwkypvnzb .gt_table_body { border-top-style: solid !important; border-top-width: 2px !important; border-top-color: #D3D3D3 !important; border-bottom-style: solid !important; border-bottom-width: 2px !important; border-bottom-color: #D3D3D3 !important; }\n",
       " #wqwkypvnzb .gt_sourcenotes { color: #333333 !important; background-color: #FFFFFF !important; border-bottom-style: none !important; border-bottom-width: 2px !important; border-bottom-color: #D3D3D3 !important; border-left-style: none !important; border-left-width: 2px !important; border-left-color: #D3D3D3 !important; border-right-style: none !important; border-right-width: 2px !important; border-right-color: #D3D3D3 !important; }\n",
       " #wqwkypvnzb .gt_sourcenote { font-size: small !important; padding-top: 3px !important; padding-bottom: 3px !important; padding-left: 5px !important; padding-right: 5px !important; text-align: left !important; }\n",
       " #wqwkypvnzb .gt_left { text-align: left !important; }\n",
       " #wqwkypvnzb .gt_center { text-align: center !important; }\n",
       " #wqwkypvnzb .gt_right { text-align: right !important; font-variant-numeric: tabular-nums !important; }\n",
       " #wqwkypvnzb .gt_font_normal { font-weight: normal !important; }\n",
       " #wqwkypvnzb .gt_font_bold { font-weight: bold !important; }\n",
       " #wqwkypvnzb .gt_font_italic { font-style: italic !important; }\n",
       " #wqwkypvnzb .gt_super { font-size: 65% !important; }\n",
       " #wqwkypvnzb .gt_footnote_marks { font-size: 75% !important; vertical-align: 0.4em !important; position: initial !important; }\n",
       " #wqwkypvnzb .gt_asterisk { font-size: 100% !important; vertical-align: 0 !important; }\n",
       " \n",
       "</style>\n",
       "<table class=\"gt_table\" data-quarto-disable-processing=\"false\" data-quarto-bootstrap=\"false\">\n",
       "<thead>\n",
       "\n",
       "  <tr class=\"gt_heading\">\n",
       "    <td colspan=\"10\" class=\"gt_heading gt_title gt_font_normal\">Formula: glmer(SNR~Stain*Tissue+(1|Experiment)+(1|ROI))</td>\n",
       "  </tr>\n",
       "  <tr class=\"gt_heading\">\n",
       "    <td colspan=\"10\" class=\"gt_heading gt_subtitle gt_font_normal gt_bottom_border\">Family: <em>Gamma (link: <em>log</em>)</em><br />\n",
       "Number of observations: <em>260</em><br />\n",
       "Confidence intervals: <em>boot</em><br />\n",
       "Bootstrap Iterations: <em>1000</em><br />\n",
       "---------------------<br />\n",
       "Log-likelihood: <em>-609</em><br />\n",
       "AIC: <em>1232</em> | BIC: <em>1257</em><br />\n",
       "Residual error: <em>0.204</em></td>\n",
       "  </tr>\n",
       "<tr class=\"gt_col_headings\">\n",
       "  <th class=\"gt_col_heading gt_columns_bottom_border gt_left\" rowspan=\"1\" colspan=\"1\" scope=\"col\" id=\"rfx\">Random Effects:</th>\n",
       "  <th class=\"gt_col_heading gt_columns_bottom_border gt_left\" rowspan=\"1\" colspan=\"1\" scope=\"col\" id=\"param\"></th>\n",
       "  <th class=\"gt_col_heading gt_columns_bottom_border gt_right\" rowspan=\"1\" colspan=\"1\" scope=\"col\" id=\"estimate\">Estimate</th>\n",
       "  <th class=\"gt_col_heading gt_columns_bottom_border gt_right\" rowspan=\"1\" colspan=\"1\" scope=\"col\" id=\"conf_low\">CI-low</th>\n",
       "  <th class=\"gt_col_heading gt_columns_bottom_border gt_right\" rowspan=\"1\" colspan=\"1\" scope=\"col\" id=\"conf_high\">CI-high</th>\n",
       "  <th class=\"gt_col_heading gt_columns_bottom_border gt_right\" rowspan=\"1\" colspan=\"1\" scope=\"col\" id=\"std_error\">SE</th>\n",
       "  <th class=\"gt_col_heading gt_columns_bottom_border gt_right\" rowspan=\"1\" colspan=\"1\" scope=\"col\" id=\"z_stat\">Z-stat</th>\n",
       "  <th class=\"gt_col_heading gt_columns_bottom_border gt_right\" rowspan=\"1\" colspan=\"1\" scope=\"col\" id=\"df\">df</th>\n",
       "  <th class=\"gt_col_heading gt_columns_bottom_border gt_left\" rowspan=\"1\" colspan=\"1\" scope=\"col\" id=\"p_value\">p</th>\n",
       "  <th class=\"gt_col_heading gt_columns_bottom_border gt_left\" rowspan=\"1\" colspan=\"1\" scope=\"col\" id=\"stars\"></th>\n",
       "</tr>\n",
       "</thead>\n",
       "<tbody class=\"gt_table_body\">\n",
       "  <tr>\n",
       "    <td class=\"gt_row gt_left\">Experiment-sd</td>\n",
       "    <td style=\"font-style: italic;\" class=\"gt_row gt_left\">(Intercept)</td>\n",
       "    <td class=\"gt_row gt_right\">0.097</td>\n",
       "    <td class=\"gt_row gt_right\">0.141</td>\n",
       "    <td class=\"gt_row gt_right\">0.264</td>\n",
       "    <td class=\"gt_row gt_right\"></td>\n",
       "    <td class=\"gt_row gt_right\"></td>\n",
       "    <td class=\"gt_row gt_right\"></td>\n",
       "    <td class=\"gt_row gt_left\"></td>\n",
       "    <td class=\"gt_row gt_left\"></td>\n",
       "  </tr>\n",
       "  <tr>\n",
       "    <td class=\"gt_row gt_left\">ROI-sd</td>\n",
       "    <td style=\"font-style: italic;\" class=\"gt_row gt_left\">(Intercept)</td>\n",
       "    <td class=\"gt_row gt_right\">0.063</td>\n",
       "    <td class=\"gt_row gt_right\">0.102</td>\n",
       "    <td class=\"gt_row gt_right\">0.201</td>\n",
       "    <td class=\"gt_row gt_right\"></td>\n",
       "    <td class=\"gt_row gt_right\"></td>\n",
       "    <td class=\"gt_row gt_right\"></td>\n",
       "    <td class=\"gt_row gt_left\"></td>\n",
       "    <td class=\"gt_row gt_left\"></td>\n",
       "  </tr>\n",
       "  <tr>\n",
       "    <td class=\"gt_row gt_left\">Residual-sd</td>\n",
       "    <td style=\"font-style: italic;\" class=\"gt_row gt_left\">Observation</td>\n",
       "    <td class=\"gt_row gt_right\">0.204</td>\n",
       "    <td class=\"gt_row gt_right\">0.217</td>\n",
       "    <td class=\"gt_row gt_right\">0.259</td>\n",
       "    <td class=\"gt_row gt_right\"></td>\n",
       "    <td class=\"gt_row gt_right\"></td>\n",
       "    <td class=\"gt_row gt_right\"></td>\n",
       "    <td class=\"gt_row gt_left\"></td>\n",
       "    <td class=\"gt_row gt_left\"></td>\n",
       "  </tr>\n",
       "  <tr>\n",
       "    <td class=\"gt_row gt_left\"></td>\n",
       "    <td style=\"font-style: italic;\" class=\"gt_row gt_left\"></td>\n",
       "    <td class=\"gt_row gt_right\"></td>\n",
       "    <td class=\"gt_row gt_right\"></td>\n",
       "    <td class=\"gt_row gt_right\"></td>\n",
       "    <td class=\"gt_row gt_right\"></td>\n",
       "    <td class=\"gt_row gt_right\"></td>\n",
       "    <td class=\"gt_row gt_right\"></td>\n",
       "    <td class=\"gt_row gt_left\"></td>\n",
       "    <td class=\"gt_row gt_left\"></td>\n",
       "  </tr>\n",
       "  <tr>\n",
       "    <td class=\"gt_row gt_left\">Fixed Effects:</td>\n",
       "    <td style=\"font-style: italic;\" class=\"gt_row gt_left\"></td>\n",
       "    <td class=\"gt_row gt_right\"></td>\n",
       "    <td class=\"gt_row gt_right\"></td>\n",
       "    <td class=\"gt_row gt_right\"></td>\n",
       "    <td class=\"gt_row gt_right\"></td>\n",
       "    <td class=\"gt_row gt_right\"></td>\n",
       "    <td class=\"gt_row gt_right\"></td>\n",
       "    <td class=\"gt_row gt_left\"></td>\n",
       "    <td class=\"gt_row gt_left\"></td>\n",
       "  </tr>\n",
       "  <tr>\n",
       "    <td class=\"gt_row gt_left\"></td>\n",
       "    <td style=\"font-style: italic;\" class=\"gt_row gt_left\">(Intercept)</td>\n",
       "    <td class=\"gt_row gt_right\">9.912</td>\n",
       "    <td class=\"gt_row gt_right\">1.773</td>\n",
       "    <td class=\"gt_row gt_right\">2.804</td>\n",
       "    <td class=\"gt_row gt_right\">1.245</td>\n",
       "    <td class=\"gt_row gt_right\">18.266</td>\n",
       "    <td class=\"gt_row gt_right\">253.000</td>\n",
       "    <td class=\"gt_row gt_left\"><.001</td>\n",
       "    <td class=\"gt_row gt_left\">***</td>\n",
       "  </tr>\n",
       "  <tr>\n",
       "    <td class=\"gt_row gt_left\"></td>\n",
       "    <td style=\"font-style: italic;\" class=\"gt_row gt_left\">StainPTA-stained</td>\n",
       "    <td class=\"gt_row gt_right\">1.359</td>\n",
       "    <td class=\"gt_row gt_right\">−0.232</td>\n",
       "    <td class=\"gt_row gt_right\">0.858</td>\n",
       "    <td class=\"gt_row gt_right\">0.181</td>\n",
       "    <td class=\"gt_row gt_right\">2.304</td>\n",
       "    <td class=\"gt_row gt_right\">253.000</td>\n",
       "    <td class=\"gt_row gt_left\">0.02205</td>\n",
       "    <td class=\"gt_row gt_left\">*</td>\n",
       "  </tr>\n",
       "  <tr>\n",
       "    <td class=\"gt_row gt_left\"></td>\n",
       "    <td style=\"font-style: italic;\" class=\"gt_row gt_left\">TissueMuscle-serosal</td>\n",
       "    <td class=\"gt_row gt_right\">1.040</td>\n",
       "    <td class=\"gt_row gt_right\">−0.051</td>\n",
       "    <td class=\"gt_row gt_right\">0.131</td>\n",
       "    <td class=\"gt_row gt_right\">0.044</td>\n",
       "    <td class=\"gt_row gt_right\">0.924</td>\n",
       "    <td class=\"gt_row gt_right\">253.000</td>\n",
       "    <td class=\"gt_row gt_left\">0.3564</td>\n",
       "    <td class=\"gt_row gt_left\"></td>\n",
       "  </tr>\n",
       "  <tr>\n",
       "    <td class=\"gt_row gt_left\"></td>\n",
       "    <td style=\"font-style: italic;\" class=\"gt_row gt_left\">StainPTA-stained:TissueMuscle-serosal</td>\n",
       "    <td class=\"gt_row gt_right\">0.988</td>\n",
       "    <td class=\"gt_row gt_right\">−0.120</td>\n",
       "    <td class=\"gt_row gt_right\">0.095</td>\n",
       "    <td class=\"gt_row gt_right\">0.050</td>\n",
       "    <td class=\"gt_row gt_right\">−0.240</td>\n",
       "    <td class=\"gt_row gt_right\">253.000</td>\n",
       "    <td class=\"gt_row gt_left\">0.8102</td>\n",
       "    <td class=\"gt_row gt_left\"></td>\n",
       "  </tr>\n",
       "</tbody>\n",
       "  <tfoot class=\"gt_sourcenotes\">\n",
       "  \n",
       "  <tr>\n",
       "    <td class=\"gt_sourcenote\" colspan=\"10\">Signif. codes: <em>0 *** 0.001 ** 0.01 * 0.05 . 0.1</em></td>\n",
       "  </tr>\n",
       "\n",
       "</tfoot>\n",
       "\n",
       "</table>\n",
       "\n",
       "</div>\n",
       "        "
      ],
      "text/plain": [
       "GT(_tbl_data=shape: (9, 10)\n",
       "┌────────────────┬─────────────────┬──────────┬───────────┬───┬───────────┬──────┬─────────┬───────┐\n",
       "│ rfx            ┆ param           ┆ estimate ┆ conf_low  ┆ … ┆ z_stat    ┆ df   ┆ p_value ┆ stars │\n",
       "│ ---            ┆ ---             ┆ ---      ┆ ---       ┆   ┆ ---       ┆ ---  ┆ ---     ┆ ---   │\n",
       "│ str            ┆ str             ┆ f64      ┆ f64       ┆   ┆ f64       ┆ i64  ┆ str     ┆ str   │\n",
       "╞════════════════╪═════════════════╪══════════╪═══════════╪═══╪═══════════╪══════╪═════════╪═══════╡\n",
       "│ Experiment-sd  ┆ (Intercept)     ┆ 0.096793 ┆ 0.141415  ┆ … ┆ null      ┆ null ┆ null    ┆ null  │\n",
       "│ ROI-sd         ┆ (Intercept)     ┆ 0.063451 ┆ 0.102447  ┆ … ┆ null      ┆ null ┆ null    ┆ null  │\n",
       "│ Residual-sd    ┆ Observation     ┆ 0.203774 ┆ 0.21708   ┆ … ┆ null      ┆ null ┆ null    ┆ null  │\n",
       "│ null           ┆ null            ┆ null     ┆ null      ┆ … ┆ null      ┆ null ┆ null    ┆ null  │\n",
       "│ Fixed Effects: ┆ null            ┆ null     ┆ null      ┆ … ┆ null      ┆ null ┆ null    ┆ null  │\n",
       "│ null           ┆ (Intercept)     ┆ 9.911816 ┆ 1.772682  ┆ … ┆ 18.265743 ┆ 253  ┆ <.001   ┆ ***   │\n",
       "│ null           ┆ StainPTA-staine ┆ 1.35851  ┆ -0.231546 ┆ … ┆ 2.303716  ┆ 253  ┆ 0.02205 ┆ *     │\n",
       "│                ┆ d               ┆          ┆           ┆   ┆           ┆      ┆         ┆       │\n",
       "│ null           ┆ TissueMuscle-se ┆ 1.040002 ┆ -0.051307 ┆ … ┆ 0.923888  ┆ 253  ┆ 0.3564  ┆       │\n",
       "│                ┆ rosal           ┆          ┆           ┆   ┆           ┆      ┆         ┆       │\n",
       "│ null           ┆ StainPTA-staine ┆ 0.987811 ┆ -0.119993 ┆ … ┆ -0.240388 ┆ 253  ┆ 0.8102  ┆       │\n",
       "│                ┆ d:TissueMuscle- ┆          ┆           ┆   ┆           ┆      ┆         ┆       │\n",
       "│                ┆ …               ┆          ┆           ┆   ┆           ┆      ┆         ┆       │\n",
       "└────────────────┴─────────────────┴──────────┴───────────┴───┴───────────┴──────┴─────────┴───────┘, _body=<great_tables._gt_data.Body object at 0x7e74c6ebc230>, _boxhead=Boxhead([ColInfo(var='rfx', type=<ColInfoTypeEnum.default: 1>, column_label='Random Effects:', column_align='left', column_width=None), ColInfo(var='param', type=<ColInfoTypeEnum.default: 1>, column_label='', column_align='left', column_width=None), ColInfo(var='estimate', type=<ColInfoTypeEnum.default: 1>, column_label='Estimate', column_align='right', column_width=None), ColInfo(var='conf_low', type=<ColInfoTypeEnum.default: 1>, column_label='CI-low', column_align='right', column_width=None), ColInfo(var='conf_high', type=<ColInfoTypeEnum.default: 1>, column_label='CI-high', column_align='right', column_width=None), ColInfo(var='std_error', type=<ColInfoTypeEnum.default: 1>, column_label='SE', column_align='right', column_width=None), ColInfo(var='z_stat', type=<ColInfoTypeEnum.default: 1>, column_label='Z-stat', column_align='right', column_width=None), ColInfo(var='df', type=<ColInfoTypeEnum.default: 1>, column_label='df', column_align='right', column_width=None), ColInfo(var='p_value', type=<ColInfoTypeEnum.default: 1>, column_label='p', column_align='left', column_width=None), ColInfo(var='stars', type=<ColInfoTypeEnum.default: 1>, column_label='', column_align='left', column_width=None)]), _stub=<great_tables._gt_data.Stub object at 0x7e74c6ed5730>, _spanners=Spanners([]), _heading=Heading(title='Formula: glmer(SNR~Stain*Tissue+(1|Experiment)+(1|ROI))', subtitle=Md(text='Family: *Gamma (link: *log*)*  \\n            Number of observations: *260*  \\n            Confidence intervals: *boot*   \\n            Bootstrap Iterations: *1000*  \\n            ---------------------  \\n            Log-likelihood: *-609*  \\n            AIC: *1232* | BIC: *1257*  \\n            Residual error: *0.204*  \\n        '), preheader=None), _stubhead=None, _source_notes=[Md(text='Signif. codes: *0 *** 0.001 ** 0.01 * 0.05 . 0.1*')], _footnotes=[], _styles=[StyleInfo(locname=LocBody(columns=['param'], rows=None, mask=None), grpname=None, colname='param', rownum=0, colnum=None, styles=[CellStyleText(color=None, font=None, size=None, align=None, v_align=None, style='italic', weight=None, stretch=None, decorate=None, transform=None, whitespace=None)]), StyleInfo(locname=LocBody(columns=['param'], rows=None, mask=None), grpname=None, colname='param', rownum=1, colnum=None, styles=[CellStyleText(color=None, font=None, size=None, align=None, v_align=None, style='italic', weight=None, stretch=None, decorate=None, transform=None, whitespace=None)]), StyleInfo(locname=LocBody(columns=['param'], rows=None, mask=None), grpname=None, colname='param', rownum=2, colnum=None, styles=[CellStyleText(color=None, font=None, size=None, align=None, v_align=None, style='italic', weight=None, stretch=None, decorate=None, transform=None, whitespace=None)]), StyleInfo(locname=LocBody(columns=['param'], rows=None, mask=None), grpname=None, colname='param', rownum=3, colnum=None, styles=[CellStyleText(color=None, font=None, size=None, align=None, v_align=None, style='italic', weight=None, stretch=None, decorate=None, transform=None, whitespace=None)]), StyleInfo(locname=LocBody(columns=['param'], rows=None, mask=None), grpname=None, colname='param', rownum=4, colnum=None, styles=[CellStyleText(color=None, font=None, size=None, align=None, v_align=None, style='italic', weight=None, stretch=None, decorate=None, transform=None, whitespace=None)]), StyleInfo(locname=LocBody(columns=['param'], rows=None, mask=None), grpname=None, colname='param', rownum=5, colnum=None, styles=[CellStyleText(color=None, font=None, size=None, align=None, v_align=None, style='italic', weight=None, stretch=None, decorate=None, transform=None, whitespace=None)]), StyleInfo(locname=LocBody(columns=['param'], rows=None, mask=None), grpname=None, colname='param', rownum=6, colnum=None, styles=[CellStyleText(color=None, font=None, size=None, align=None, v_align=None, style='italic', weight=None, stretch=None, decorate=None, transform=None, whitespace=None)]), StyleInfo(locname=LocBody(columns=['param'], rows=None, mask=None), grpname=None, colname='param', rownum=7, colnum=None, styles=[CellStyleText(color=None, font=None, size=None, align=None, v_align=None, style='italic', weight=None, stretch=None, decorate=None, transform=None, whitespace=None)]), StyleInfo(locname=LocBody(columns=['param'], rows=None, mask=None), grpname=None, colname='param', rownum=8, colnum=None, styles=[CellStyleText(color=None, font=None, size=None, align=None, v_align=None, style='italic', weight=None, stretch=None, decorate=None, transform=None, whitespace=None)])], _locale=<great_tables._gt_data.Locale object at 0x7e74c570a3c0>, _formats=[<great_tables._gt_data.FormatInfo object at 0x7e74c6ebc800>], _substitutions=[<great_tables._gt_data.FormatInfo object at 0x7e74c6d462a0>], _options=Options(table_id=OptionsInfo(scss=False, category='table', type='value', value=None), table_caption=OptionsInfo(scss=False, category='table', type='value', value=None), table_width=OptionsInfo(scss=True, category='table', type='px', value='auto'), table_layout=OptionsInfo(scss=True, category='table', type='value', value='fixed'), table_margin_left=OptionsInfo(scss=True, category='table', type='px', value='auto'), table_margin_right=OptionsInfo(scss=True, category='table', type='px', value='auto'), table_background_color=OptionsInfo(scss=True, category='table', type='value', value='#FFFFFF'), table_additional_css=OptionsInfo(scss=False, category='table', type='values', value=[]), table_font_names=OptionsInfo(scss=False, category='table', type='values', value=['-apple-system', 'BlinkMacSystemFont', 'Segoe UI', 'Roboto', 'Oxygen', 'Ubuntu', 'Cantarell', 'Helvetica Neue', 'Fira Sans', 'Droid Sans', 'Arial', 'sans-serif']), table_font_size=OptionsInfo(scss=True, category='table', type='px', value='16px'), table_font_weight=OptionsInfo(scss=True, category='table', type='value', value='normal'), table_font_style=OptionsInfo(scss=True, category='table', type='value', value='normal'), table_font_color=OptionsInfo(scss=True, category='table', type='value', value='#333333'), table_font_color_light=OptionsInfo(scss=True, category='table', type='value', value='#FFFFFF'), table_border_top_include=OptionsInfo(scss=False, category='table', type='boolean', value=True), table_border_top_style=OptionsInfo(scss=True, category='table', type='value', value='solid'), table_border_top_width=OptionsInfo(scss=True, category='table', type='px', value='2px'), table_border_top_color=OptionsInfo(scss=True, category='table', type='value', value='#A8A8A8'), table_border_right_style=OptionsInfo(scss=True, category='table', type='value', value='none'), table_border_right_width=OptionsInfo(scss=True, category='table', type='px', value='2px'), table_border_right_color=OptionsInfo(scss=True, category='table', type='value', value='#D3D3D3'), table_border_bottom_include=OptionsInfo(scss=False, category='table', type='boolean', value=True), table_border_bottom_style=OptionsInfo(scss=True, category='table', type='value', value='solid'), table_border_bottom_width=OptionsInfo(scss=True, category='table', type='px', value='2px'), table_border_bottom_color=OptionsInfo(scss=True, category='table', type='value', value='#A8A8A8'), table_border_left_style=OptionsInfo(scss=True, category='table', type='value', value='none'), table_border_left_width=OptionsInfo(scss=True, category='table', type='px', value='2px'), table_border_left_color=OptionsInfo(scss=True, category='table', type='value', value='#D3D3D3'), heading_background_color=OptionsInfo(scss=True, category='heading', type='value', value=None), heading_align=OptionsInfo(scss=True, category='heading', type='value', value='left'), heading_title_font_size=OptionsInfo(scss=True, category='heading', type='px', value='125%'), heading_title_font_weight=OptionsInfo(scss=True, category='heading', type='value', value='initial'), heading_subtitle_font_size=OptionsInfo(scss=True, category='heading', type='px', value='85%'), heading_subtitle_font_weight=OptionsInfo(scss=True, category='heading', type='value', value='initial'), heading_padding=OptionsInfo(scss=True, category='heading', type='px', value='3px'), heading_padding_horizontal=OptionsInfo(scss=True, category='heading', type='px', value='5px'), heading_border_bottom_style=OptionsInfo(scss=True, category='heading', type='value', value='solid'), heading_border_bottom_width=OptionsInfo(scss=True, category='heading', type='px', value='2px'), heading_border_bottom_color=OptionsInfo(scss=True, category='heading', type='value', value='#D3D3D3'), heading_border_lr_style=OptionsInfo(scss=True, category='heading', type='value', value='none'), heading_border_lr_width=OptionsInfo(scss=True, category='heading', type='px', value='1px'), heading_border_lr_color=OptionsInfo(scss=True, category='heading', type='value', value='#D3D3D3'), column_labels_background_color=OptionsInfo(scss=True, category='column_labels', type='value', value=None), column_labels_font_size=OptionsInfo(scss=True, category='column_labels', type='px', value='100%'), column_labels_font_weight=OptionsInfo(scss=True, category='column_labels', type='value', value='normal'), column_labels_text_transform=OptionsInfo(scss=True, category='column_labels', type='value', value='inherit'), column_labels_padding=OptionsInfo(scss=True, category='column_labels', type='px', value='3px'), column_labels_padding_horizontal=OptionsInfo(scss=True, category='column_labels', type='px', value='5px'), column_labels_vlines_style=OptionsInfo(scss=True, category='table_body', type='value', value='none'), column_labels_vlines_width=OptionsInfo(scss=True, category='table_body', type='px', value='1px'), column_labels_vlines_color=OptionsInfo(scss=True, category='table_body', type='value', value='#D3D3D3'), column_labels_border_top_style=OptionsInfo(scss=True, category='column_labels', type='value', value='solid'), column_labels_border_top_width=OptionsInfo(scss=True, category='column_labels', type='px', value='2px'), column_labels_border_top_color=OptionsInfo(scss=True, category='column_labels', type='value', value='#D3D3D3'), column_labels_border_bottom_style=OptionsInfo(scss=True, category='column_labels', type='value', value='solid'), column_labels_border_bottom_width=OptionsInfo(scss=True, category='column_labels', type='px', value='2px'), column_labels_border_bottom_color=OptionsInfo(scss=True, category='column_labels', type='value', value='#D3D3D3'), column_labels_border_lr_style=OptionsInfo(scss=True, category='column_labels', type='value', value='none'), column_labels_border_lr_width=OptionsInfo(scss=True, category='column_labels', type='px', value='1px'), column_labels_border_lr_color=OptionsInfo(scss=True, category='column_labels', type='value', value='#D3D3D3'), column_labels_hidden=OptionsInfo(scss=False, category='column_labels', type='boolean', value=False), row_group_background_color=OptionsInfo(scss=True, category='row_group', type='value', value=None), row_group_font_size=OptionsInfo(scss=True, category='row_group', type='px', value='100%'), row_group_font_weight=OptionsInfo(scss=True, category='row_group', type='value', value='initial'), row_group_text_transform=OptionsInfo(scss=True, category='row_group', type='value', value='inherit'), row_group_padding=OptionsInfo(scss=True, category='row_group', type='px', value='6px'), row_group_padding_horizontal=OptionsInfo(scss=True, category='row_group', type='px', value='5px'), row_group_border_top_style=OptionsInfo(scss=True, category='row_group', type='value', value='solid'), row_group_border_top_width=OptionsInfo(scss=True, category='row_group', type='px', value='2px'), row_group_border_top_color=OptionsInfo(scss=True, category='row_group', type='value', value='#D3D3D3'), row_group_border_right_style=OptionsInfo(scss=True, category='row_group', type='value', value='none'), row_group_border_right_width=OptionsInfo(scss=True, category='row_group', type='px', value='1px'), row_group_border_right_color=OptionsInfo(scss=True, category='row_group', type='value', value='#D3D3D3'), row_group_border_bottom_style=OptionsInfo(scss=True, category='row_group', type='value', value='solid'), row_group_border_bottom_width=OptionsInfo(scss=True, category='row_group', type='px', value='2px'), row_group_border_bottom_color=OptionsInfo(scss=True, category='row_group', type='value', value='#D3D3D3'), row_group_border_left_style=OptionsInfo(scss=True, category='row_group', type='value', value='none'), row_group_border_left_width=OptionsInfo(scss=True, category='row_group', type='px', value='1px'), row_group_border_left_color=OptionsInfo(scss=True, category='row_group', type='value', value='#D3D3D3'), row_group_as_column=OptionsInfo(scss=False, category='row_group', type='boolean', value=False), table_body_hlines_style=OptionsInfo(scss=True, category='table_body', type='value', value='solid'), table_body_hlines_width=OptionsInfo(scss=True, category='table_body', type='px', value='1px'), table_body_hlines_color=OptionsInfo(scss=True, category='table_body', type='value', value='#D3D3D3'), table_body_vlines_style=OptionsInfo(scss=True, category='table_body', type='value', value='none'), table_body_vlines_width=OptionsInfo(scss=True, category='table_body', type='px', value='1px'), table_body_vlines_color=OptionsInfo(scss=True, category='table_body', type='value', value='#D3D3D3'), table_body_border_top_style=OptionsInfo(scss=True, category='table_body', type='value', value='solid'), table_body_border_top_width=OptionsInfo(scss=True, category='table_body', type='px', value='2px'), table_body_border_top_color=OptionsInfo(scss=True, category='table_body', type='value', value='#D3D3D3'), table_body_border_bottom_style=OptionsInfo(scss=True, category='table_body', type='value', value='solid'), table_body_border_bottom_width=OptionsInfo(scss=True, category='table_body', type='px', value='2px'), table_body_border_bottom_color=OptionsInfo(scss=True, category='table_body', type='value', value='#D3D3D3'), data_row_padding=OptionsInfo(scss=True, category='data_row', type='px', value='6px'), data_row_padding_horizontal=OptionsInfo(scss=True, category='data_row', type='px', value='5px'), stub_background_color=OptionsInfo(scss=True, category='stub', type='value', value=None), stub_font_size=OptionsInfo(scss=True, category='stub', type='px', value='100%'), stub_font_weight=OptionsInfo(scss=True, category='stub', type='value', value='initial'), stub_text_transform=OptionsInfo(scss=True, category='stub', type='value', value='inherit'), stub_border_style=OptionsInfo(scss=True, category='stub', type='value', value='solid'), stub_border_width=OptionsInfo(scss=True, category='stub', type='px', value='2px'), stub_border_color=OptionsInfo(scss=True, category='stub', type='value', value='#D3D3D3'), stub_row_group_background_color=OptionsInfo(scss=True, category='stub', type='value', value=None), stub_row_group_font_size=OptionsInfo(scss=True, category='stub', type='px', value='100%'), stub_row_group_font_weight=OptionsInfo(scss=True, category='stub', type='value', value='initial'), stub_row_group_text_transform=OptionsInfo(scss=True, category='stub', type='value', value='inherit'), stub_row_group_border_style=OptionsInfo(scss=True, category='stub', type='value', value='solid'), stub_row_group_border_width=OptionsInfo(scss=True, category='stub', type='px', value='2px'), stub_row_group_border_color=OptionsInfo(scss=True, category='stub', type='value', value='#D3D3D3'), source_notes_padding=OptionsInfo(scss=True, category='source_notes', type='px', value='3px'), source_notes_padding_horizontal=OptionsInfo(scss=True, category='source_notes', type='px', value='5px'), source_notes_background_color=OptionsInfo(scss=True, category='source_notes', type='value', value=None), source_notes_font_size=OptionsInfo(scss=True, category='source_notes', type='px', value='small'), source_notes_border_bottom_style=OptionsInfo(scss=True, category='source_notes', type='value', value='none'), source_notes_border_bottom_width=OptionsInfo(scss=True, category='source_notes', type='px', value='2px'), source_notes_border_bottom_color=OptionsInfo(scss=True, category='source_notes', type='value', value='#D3D3D3'), source_notes_border_lr_style=OptionsInfo(scss=True, category='source_notes', type='value', value='none'), source_notes_border_lr_width=OptionsInfo(scss=True, category='source_notes', type='px', value='2px'), source_notes_border_lr_color=OptionsInfo(scss=True, category='source_notes', type='value', value='#D3D3D3'), source_notes_multiline=OptionsInfo(scss=False, category='source_notes', type='boolean', value=True), source_notes_sep=OptionsInfo(scss=False, category='source_notes', type='value', value=' '), row_striping_background_color=OptionsInfo(scss=True, category='row', type='value', value='rgba(128,128,128,0.05)'), row_striping_include_stub=OptionsInfo(scss=False, category='row', type='boolean', value=False), row_striping_include_table_body=OptionsInfo(scss=False, category='row', type='boolean', value=False), container_width=OptionsInfo(scss=False, category='container', type='px', value='auto'), container_height=OptionsInfo(scss=False, category='container', type='px', value='auto'), container_padding_x=OptionsInfo(scss=False, category='container', type='px', value='0px'), container_padding_y=OptionsInfo(scss=False, category='container', type='px', value='10px'), container_overflow_x=OptionsInfo(scss=False, category='container', type='overflow', value='auto'), container_overflow_y=OptionsInfo(scss=False, category='container', type='overflow', value='auto'), quarto_disable_processing=OptionsInfo(scss=False, category='quarto', type='logical', value=False), quarto_use_bootstrap=OptionsInfo(scss=False, category='quarto', type='logical', value=False)), _has_built=False)"
      ]
     },
     "metadata": {},
     "output_type": "display_data"
    },
    {
     "data": {
      "text/html": [
       "<div><style>\n",
       ".dataframe > thead > tr,\n",
       ".dataframe > tbody > tr {\n",
       "  text-align: right;\n",
       "  white-space: pre-wrap;\n",
       "}\n",
       "</style>\n",
       "<small>shape: (1, 13)</small><table border=\"1\" class=\"dataframe\"><thead><tr><th>AIC</th><th>AICc</th><th>BIC</th><th>ICC</th><th>R2_conditional</th><th>R2_marginal</th><th>RMSE</th><th>Sigma</th><th>deviance</th><th>df_residual</th><th>logLik</th><th>nobs</th><th>sigma</th></tr><tr><td>f64</td><td>f64</td><td>f64</td><td>f64</td><td>f64</td><td>f64</td><td>f64</td><td>f64</td><td>f64</td><td>i64</td><td>f64</td><td>i64</td><td>f64</td></tr></thead><tbody><tr><td>1232.691493</td><td>1233.135937</td><td>1257.616264</td><td>0.247689</td><td>0.447243</td><td>0.265255</td><td>2.472008</td><td>0.203774</td><td>9.398417</td><td>253</td><td>-609.345746</td><td>260</td><td>0.203774</td></tr></tbody></table></div>"
      ],
      "text/plain": [
       "shape: (1, 13)\n",
       "┌─────────────┬────────────┬────────────┬──────────┬───┬────────────┬────────────┬──────┬──────────┐\n",
       "│ AIC         ┆ AICc       ┆ BIC        ┆ ICC      ┆ … ┆ df_residua ┆ logLik     ┆ nobs ┆ sigma    │\n",
       "│ ---         ┆ ---        ┆ ---        ┆ ---      ┆   ┆ l          ┆ ---        ┆ ---  ┆ ---      │\n",
       "│ f64         ┆ f64        ┆ f64        ┆ f64      ┆   ┆ ---        ┆ f64        ┆ i64  ┆ f64      │\n",
       "│             ┆            ┆            ┆          ┆   ┆ i64        ┆            ┆      ┆          │\n",
       "╞═════════════╪════════════╪════════════╪══════════╪═══╪════════════╪════════════╪══════╪══════════╡\n",
       "│ 1232.691493 ┆ 1233.13593 ┆ 1257.61626 ┆ 0.247689 ┆ … ┆ 253        ┆ -609.34574 ┆ 260  ┆ 0.203774 │\n",
       "│             ┆ 7          ┆ 4          ┆          ┆   ┆            ┆ 6          ┆      ┆          │\n",
       "└─────────────┴────────────┴────────────┴──────────┴───┴────────────┴────────────┴──────┴──────────┘"
      ]
     },
     "metadata": {},
     "output_type": "display_data"
    },
    {
     "data": {
      "application/vnd.plotly.v1+json": {
       "config": {
        "plotlyServerURL": "https://plot.ly"
       },
       "data": [
        {
         "marker": {
          "color": "#6C8EBF",
          "size": 10
         },
         "mode": "markers",
         "text": [
          "RT01",
          "RT01",
          "RT01",
          "RT01",
          "RT01",
          "RT01",
          "RT01",
          "RT01",
          "RT01",
          "RT01",
          "RT01",
          "RT01",
          "RT01",
          "RT01",
          "RT01",
          "RT01",
          "RT01",
          "RT01",
          "RT01",
          "RT01",
          "RT02",
          "RT02",
          "RT02",
          "RT02",
          "RT02",
          "RT02",
          "RT02",
          "RT02",
          "RT02",
          "RT02",
          "RT02",
          "RT02",
          "RT02",
          "RT02",
          "RT02",
          "RT02",
          "RT02",
          "RT02",
          "RT02",
          "RT02",
          "RT03",
          "RT03",
          "RT03",
          "RT03",
          "RT03",
          "RT03",
          "RT03",
          "RT03",
          "RT03",
          "RT03",
          "RT03",
          "RT03",
          "RT03",
          "RT03",
          "RT03",
          "RT03",
          "RT03",
          "RT03",
          "RT03",
          "RT03",
          "RT04",
          "RT04",
          "RT04",
          "RT04",
          "RT04",
          "RT04",
          "RT04",
          "RT04",
          "RT04",
          "RT04",
          "RT04",
          "RT04",
          "RT04",
          "RT04",
          "RT04",
          "RT04",
          "RT04",
          "RT04",
          "RT04",
          "RT04",
          "RT05",
          "RT05",
          "RT05",
          "RT05",
          "RT05",
          "RT05",
          "RT05",
          "RT05",
          "RT05",
          "RT05",
          "RT05",
          "RT05",
          "RT05",
          "RT05",
          "RT05",
          "RT05",
          "RT05",
          "RT05",
          "RT05",
          "RT05",
          "RT06",
          "RT06",
          "RT06",
          "RT06",
          "RT06",
          "RT06",
          "RT06",
          "RT06",
          "RT06",
          "RT06",
          "RT06",
          "RT06",
          "RT06",
          "RT06",
          "RT06",
          "RT06",
          "RT06",
          "RT06",
          "RT06",
          "RT06",
          "RT09",
          "RT09",
          "RT09",
          "RT09",
          "RT09",
          "RT09",
          "RT09",
          "RT09",
          "RT09",
          "RT09",
          "RT09",
          "RT09",
          "RT09",
          "RT09",
          "RT09",
          "RT09",
          "RT09",
          "RT09",
          "RT09",
          "RT09",
          "RT10",
          "RT10",
          "RT10",
          "RT10",
          "RT10",
          "RT10",
          "RT10",
          "RT10",
          "RT10",
          "RT10",
          "RT10",
          "RT10",
          "RT10",
          "RT10",
          "RT10",
          "RT10",
          "RT10",
          "RT10",
          "RT10",
          "RT10",
          "RT11",
          "RT11",
          "RT11",
          "RT11",
          "RT11",
          "RT11",
          "RT11",
          "RT11",
          "RT11",
          "RT11",
          "RT11",
          "RT11",
          "RT11",
          "RT11",
          "RT11",
          "RT11",
          "RT11",
          "RT11",
          "RT11",
          "RT11",
          "RT12",
          "RT12",
          "RT12",
          "RT12",
          "RT12",
          "RT12",
          "RT12",
          "RT12",
          "RT12",
          "RT12",
          "RT12",
          "RT12",
          "RT12",
          "RT12",
          "RT12",
          "RT12",
          "RT12",
          "RT12",
          "RT12",
          "RT12",
          "RT13",
          "RT13",
          "RT13",
          "RT13",
          "RT13",
          "RT13",
          "RT13",
          "RT13",
          "RT13",
          "RT13",
          "RT13",
          "RT13",
          "RT13",
          "RT13",
          "RT13",
          "RT13",
          "RT13",
          "RT13",
          "RT13",
          "RT13",
          "RT14",
          "RT14",
          "RT14",
          "RT14",
          "RT14",
          "RT14",
          "RT14",
          "RT14",
          "RT14",
          "RT14",
          "RT14",
          "RT14",
          "RT14",
          "RT14",
          "RT14",
          "RT14",
          "RT14",
          "RT14",
          "RT14",
          "RT14",
          "RT15",
          "RT15",
          "RT15",
          "RT15",
          "RT15",
          "RT15",
          "RT15",
          "RT15",
          "RT15",
          "RT15",
          "RT15",
          "RT15",
          "RT15",
          "RT15",
          "RT15",
          "RT15",
          "RT15",
          "RT15",
          "RT15",
          "RT15"
         ],
         "type": "scatter",
         "x": {
          "bdata": "fxXlhnB5IUB+SEOSVoYSQLS5/mgDbydAccTB1fM/JkCuho3nkgIwQIWDjaA3YClAGceO6XtIF0BzDrTrgSMiQC6/38mjoxNAyHUluyWdJ0AZjq5gfu0dQD+VRT7EaiFAToX7UcH9LkB3q1T2spkmQCJPAs6x7S1ANI+lvMMGHEB+vXJq+58lQKHs5XVyxx9Aij6UuRVPD0Cpe15WOAcjQD1B33SpriFAdFUR1gpGH0BXcfPxCBIuQK3v9SX3DCZAFNdL+SCROEB+CVUTFMEtQPkQFF8rIS9Aa7BfT1spLUBuoHILaHcWQH6VW7FjgChAncsdgncsLEB9ichNUGAZQHQW2y2rtytAo3ZDesAMJkCxuJ93GhUxQCbVZylhgx9AIte0DISLIECy7y0JYZIpQLEfD4ev5xNAqywB8quHLUCWHDGLCMA3QO+L7zLQvzRA1E3o/lu7P0AsLBI1hMQ5QApP0v+9xEVAYfXfu1k3P0AK0Kjlxhs1QHZpz/lFuzxAoMD0LwsLMUCiGVueL3RDQNh38Es1lTdApGCrbm3NNUD8nmnxFQhGQMejhlBmWENAK4Ht6ydpR0Bs2nTn9cY5QAfcR1mk2jxAVcXpRClURkCNtrxjsiotQKfHH8zjwERAbyiQmXLfJUD2/D2aygggQPsozN7BNzBA/TT94WktIEB7YyQkY30yQBpqYZxMVRdAcWojgCQoJECQ09TerloWQIG9LLoT/g9A8zXlge6FJEBSS3y2qZ4YQFALkaKnfhFA2s7F/r8KKUBvizVffVkjQE4P06nNeSZA9gejL6upIUBjU8XBj4QlQOnu5xwlFRtA3FMSv4tPE0D6LzoMwk8gQF26yuJfMRxASKmn0oAbI0A4Jz0nHQMpQMlDSlswkSVApj5AL+T7MEAkB70RdtspQAoF/8UQdyZAj2+MaCxoJ0D95TR5H+cWQOPEnraR6idAqOb2cNOTIUC+SmxtmIsiQOru4l0m/CtA3P5Qk8kLJ0AQz4y6ArouQNIDF2k8bChA89pq7WyyIkCe912S1IUmQDh6DMudOBVASR5GTvcxKUCd7aGWDp0xQAB4nB5nqSdALbmktXKwMkA+bWWMkqMyQEaE81tsFEFAKbCfiuGuM0AGh7T3zbkyQDO7ZUVhIjVA260OkhPpHkBjO3b5ozgxQDwt8i7v0DJA15WRTgb5L0Dx5+9Qnqs5QOMWK/Fd2jNAEY5Kl1ExR0DUOFFKLJY2QJyYCtz59DNA4OvUXc9hL0BbPqdO6TwoQKkxDBT7pDlAHIIZyGOgJUBxppLgRlohQFIdLNJVgytAe3xd37dnJ0CC4fwKL9w2QBi/19GKjihA9YTffGLxKUCViB5P3AcqQBN2a+vGPxxAsLEzyq6YJED+eNwAgvQkQHdm2Je50ChAAnCSc3S2LEAa04S1XS8jQMlKrjJ3hSlAzyClPMbTIkA/sfHIh5wfQPrPtz96MitAaAvbI3EEFUCHoPBbCRgjQAo0CikD4BxAySFfcYUpHUBjisesaFIiQJFyHQBIkyFAREnDpZybJ0BMjSnCLKohQBJ74mYtbCRACSUO3Y1eJUCJWUGxjJgOQBmPMahc/yNAd+KhgNS9HEB/ZMEV8AMXQKymvHN5RyZAZ6rKIaiOJkBVNdZSFOwiQHabKyscmyFAorfHqnamK0BU0zSEjXcgQJWzyCvSGhZAbQ0dhemhKUAFXAg4dqQcQGVChM3zUCRAmplHJcavLkDkd+8sk2ctQLoWCNIDEzVArZJaX9sbIkANEimeffIpQB/D9CaBcCtA5XEaMbkjE0DvpGuLTVwlQIiY5st+RyBAHWiZV5pnGEDjD02u9T8zQOG3buMewy5Ai+1BYm9oMUByNzWNju8lQL4L0+iH+ChAMPMAcOeCI0DD5jGU00kbQAA+Yoqe0iVAlaA2FVNfJUCcO0wiiJYgQP/T0mwgqCxAvn7Muv0tKkBwEcoOk9IoQKol9NLAOyxAua8buQvBJUDGHuoIuCktQKbSvI4pAxJAk4GOQ/NhI0BSYTT7RCIfQDCrHe0D8BhA7m1HwnBbKkDsW1rBi+EhQA1IsJsmKTJA6d3mdBqQJkCQV/I/Ck4kQKvPkdaCbCRA0w9xM6QUEUCSzds3Z7cnQD3R4yKRHSVAo3fzc7ZuKUAmFr9R+NswQMpq6uJsPixA/fI6MRIdPkAGhCWMcIwuQJgEFbtJlCpACqXoJKmtLkAvCsZ3+JohQGmhkpbgqjNAdE1l9XIgJkCeZcfcBGwmQDfbUFXnYStAmeqs2EVjMUA9iIBKajA0QNw/G5ILWi5A14wh0qaTKkBytrr0lEwyQPTXI91iARJAWbo0yXw/MUCb0a6VsM8lQD+BU/ZNDipAD5Yl5pMKMUAGDg/UREMhQCs3jlqvUTRAn9GKJNMuKkAY/nvBZ9orQNxNN5GiKzJAf5mVkwgvG0Dpo9ibIC4yQEwNUUXeWCRAI2NmVRZMJUADvqURWWQnQPoB0pz/zjhAPX3zQ68uMkBPH1vZKNMyQBsjiJBc5SdANKGk+raKLEB31MOb/fQgQOL4Q8d1Di9AzI3XCFe4N0Dqr5NfJ+ctQBSgB8i9IUFAtiy6GcPvKkBVCKR8u/NCQNhQHwHmES9AhoH+AhEbN0DG9wRbCOs6QMNO4dRyzCpAAx5hnErIOEDpUUrt2lwzQHpK+eq9iy5A7swJ7N6PL0ABJyNi4eA1QPr54gcLfzxARrUvp7cBMUDjgtfy+og0QBh3QuIcti9AN87d2jklHUBnuxresc4zQA==",
          "dtype": "f8"
         },
         "xaxis": "x",
         "y": {
          "bdata": "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",
          "dtype": "f8"
         },
         "yaxis": "y"
        },
        {
         "marker": {
          "color": "#6C8EBF",
          "size": 10
         },
         "mode": "markers",
         "type": "scatter",
         "x": {
          "bdata": "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",
          "dtype": "f8"
         },
         "xaxis": "x2",
         "y": {
          "bdata": "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",
          "dtype": "f8"
         },
         "yaxis": "y2"
        },
        {
         "marker": {
          "color": "#B85450",
          "line": {
           "width": 2
          }
         },
         "mode": "lines",
         "type": "scatter",
         "x": {
          "bdata": "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",
          "dtype": "f8"
         },
         "xaxis": "x2",
         "y": {
          "bdata": "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",
          "dtype": "f8"
         },
         "yaxis": "y2"
        },
        {
         "marker": {
          "color": "#6C8EBF",
          "size": 10
         },
         "mode": "markers",
         "text": [
          "RT01",
          "RT01",
          "RT01",
          "RT01",
          "RT01",
          "RT01",
          "RT01",
          "RT01",
          "RT01",
          "RT01",
          "RT01",
          "RT01",
          "RT01",
          "RT01",
          "RT01",
          "RT01",
          "RT01",
          "RT01",
          "RT01",
          "RT01",
          "RT02",
          "RT02",
          "RT02",
          "RT02",
          "RT02",
          "RT02",
          "RT02",
          "RT02",
          "RT02",
          "RT02",
          "RT02",
          "RT02",
          "RT02",
          "RT02",
          "RT02",
          "RT02",
          "RT02",
          "RT02",
          "RT02",
          "RT02",
          "RT03",
          "RT03",
          "RT03",
          "RT03",
          "RT03",
          "RT03",
          "RT03",
          "RT03",
          "RT03",
          "RT03",
          "RT03",
          "RT03",
          "RT03",
          "RT03",
          "RT03",
          "RT03",
          "RT03",
          "RT03",
          "RT03",
          "RT03",
          "RT04",
          "RT04",
          "RT04",
          "RT04",
          "RT04",
          "RT04",
          "RT04",
          "RT04",
          "RT04",
          "RT04",
          "RT04",
          "RT04",
          "RT04",
          "RT04",
          "RT04",
          "RT04",
          "RT04",
          "RT04",
          "RT04",
          "RT04",
          "RT05",
          "RT05",
          "RT05",
          "RT05",
          "RT05",
          "RT05",
          "RT05",
          "RT05",
          "RT05",
          "RT05",
          "RT05",
          "RT05",
          "RT05",
          "RT05",
          "RT05",
          "RT05",
          "RT05",
          "RT05",
          "RT05",
          "RT05",
          "RT06",
          "RT06",
          "RT06",
          "RT06",
          "RT06",
          "RT06",
          "RT06",
          "RT06",
          "RT06",
          "RT06",
          "RT06",
          "RT06",
          "RT06",
          "RT06",
          "RT06",
          "RT06",
          "RT06",
          "RT06",
          "RT06",
          "RT06",
          "RT09",
          "RT09",
          "RT09",
          "RT09",
          "RT09",
          "RT09",
          "RT09",
          "RT09",
          "RT09",
          "RT09",
          "RT09",
          "RT09",
          "RT09",
          "RT09",
          "RT09",
          "RT09",
          "RT09",
          "RT09",
          "RT09",
          "RT09",
          "RT10",
          "RT10",
          "RT10",
          "RT10",
          "RT10",
          "RT10",
          "RT10",
          "RT10",
          "RT10",
          "RT10",
          "RT10",
          "RT10",
          "RT10",
          "RT10",
          "RT10",
          "RT10",
          "RT10",
          "RT10",
          "RT10",
          "RT10",
          "RT11",
          "RT11",
          "RT11",
          "RT11",
          "RT11",
          "RT11",
          "RT11",
          "RT11",
          "RT11",
          "RT11",
          "RT11",
          "RT11",
          "RT11",
          "RT11",
          "RT11",
          "RT11",
          "RT11",
          "RT11",
          "RT11",
          "RT11",
          "RT12",
          "RT12",
          "RT12",
          "RT12",
          "RT12",
          "RT12",
          "RT12",
          "RT12",
          "RT12",
          "RT12",
          "RT12",
          "RT12",
          "RT12",
          "RT12",
          "RT12",
          "RT12",
          "RT12",
          "RT12",
          "RT12",
          "RT12",
          "RT13",
          "RT13",
          "RT13",
          "RT13",
          "RT13",
          "RT13",
          "RT13",
          "RT13",
          "RT13",
          "RT13",
          "RT13",
          "RT13",
          "RT13",
          "RT13",
          "RT13",
          "RT13",
          "RT13",
          "RT13",
          "RT13",
          "RT13",
          "RT14",
          "RT14",
          "RT14",
          "RT14",
          "RT14",
          "RT14",
          "RT14",
          "RT14",
          "RT14",
          "RT14",
          "RT14",
          "RT14",
          "RT14",
          "RT14",
          "RT14",
          "RT14",
          "RT14",
          "RT14",
          "RT14",
          "RT14",
          "RT15",
          "RT15",
          "RT15",
          "RT15",
          "RT15",
          "RT15",
          "RT15",
          "RT15",
          "RT15",
          "RT15",
          "RT15",
          "RT15",
          "RT15",
          "RT15",
          "RT15",
          "RT15",
          "RT15",
          "RT15",
          "RT15",
          "RT15"
         ],
         "type": "scatter",
         "x": {
          "bdata": "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",
          "dtype": "f8"
         },
         "xaxis": "x3",
         "y": {
          "bdata": "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",
          "dtype": "f8"
         },
         "yaxis": "y3"
        },
        {
         "histnorm": "probability",
         "marker": {
          "color": "#6C8EBF"
         },
         "type": "histogram",
         "x": {
          "bdata": "prFuyGiYyL8jadN4OJ7Vv5dAFQ0cKWG/iTLIyQq2hL9XviryylTBv0T4r8VDALU/5vnKe00W1j9+1HfeXXzBv9ayHvBv2MQ/SqimZnIWtL+YPCYFPLK5v18fimv43M6/sDil+bjhyb+BnBtwEjHCv83uJygwwse/lkLycmHP1T9IX8wiqijSP4XlafrsGXg/M1zLcMzKpj9iH5qjTPK7v/IBaXMH6NW/DW56w7RmvL99U+rnlXrVP603zg1FFc8/dN3E7bZiyT/P95Fb45Swv0HLSHCLptS/KEoVr/+Kw78sC+tnh3/Xv2LR3g4eBdm/YHi2ONWOsz9Rd5tGsmfFPycDSx6Mt9M/ig/kSuYWpD8Revn98NSgP5AuENh9U9G/gge3oon+1r8c5XbI5oe6PwsJr8vS+Nu/kDrmvc3vyL/28o3LTEDFP8RV7Vvypco/MhkXmKyMkr+MaR4qIznNvxAVbDrMoKE/VC9GvlIMwT80VxIXZwXNvyJDjhS5rKE/qdeUWXQ3uT+jGdMXZtWyv3ZsSeUMP8W/7FFNJgcawT9D1MH1f3/Jv026PAFUWKS/CzZSPs3LzT8KUWTn4QSav/rcA8yoWco/+WqSCocvxb+guFh2mpKgv90XSFT/Cda/LpOg7J+ktL9wEIn4SjPBPwHqPhBeDsI/SeCwr/umsT/R9Vl08eewP2vdio1yZ9O/NLwcz4QxzT+xbVdBLRCiP+kWWPu2QZQ/uNTK/AXLZz/B9xGbsPXAvzCy3n4SHMq/TwQ2AgGCvL/EmxwV3B7Ev4rgKkWZv6u/9s7MuLzOwL9ZF0yLvvG2vxF9EgzzqL8/UzG1xiActb/1LB7lDuTBv3Za/U4R1sE/Iqb+rOJj0T8hR7GJSsPAPzNbm5gcFJE/W3qdrqByz79rsxGrSE/fv5K+yqokrdg/nuUwmqAp07+smAIaUipvP9TAmm4JhNq/oZI8MLbOqj9zuZb7SWLFvx/4IbnDxcu/kPEhsbiLw7+/iY7EUiDFv/TOh9EJI7G/Yv1VkONi1T/yEtFAOQzAP0O7HnlTOLG/NV7B7HYLlT/XCMBP/KakP4iuJQx7NMU/4/6VKNRCs7+4guwoE6GivzZ9oIQKysE/genspfLi278hMTqceJ7Zv8CcCyE/V9y/K7BUurmRjz89W1I+ruOTvyRPdH2Qyqg/cpMK31lImL/b18/qGHe4PzpL1tM7FbW/aEwsGbXdsL9kQNpommfNPxAENU2GmMM/tAs9ZepRwD9bZLAVAL2/v7ueQnErtHK/3wMCZ26t3T+dRUJ70pacv8CawchGocg/6+7LbV9O2T8Xss3vVtazvwGVkoHhH9K/SmxhCFjO0r+zuB7jeynAvwcWZh2UE7i/tE03VUpykL9r6/+ZCGLQP7YkZHkjGqK/SgJrFOJXoT+HoTtTnm67vyfFwqMT4c0/gvtEEp/Vvr9W6zYIPHm3Pxf1Z0Nqztc/XQvt0ubGx783E/5izenAv8+8gi8gErq//+/3LudvsL949y6EgfG4P6tNFjvrm7Y/o1Gy2Ih0yj8VRyILOsLKvx0XXOPvgIY/oKZe/2DWx78/dNXOP8TRP/7JqRGH0Ls/H3k+7JnbwT9t2S6BkiGyv/1bGxCnVsW/xFSSgknMrL8BVP7ryCadv64W4WAjR5e/WvZF4lqGuL/VOi2/AJHJP3mGV/QU92m/fJAxn5eHu7+bJdYTJSHSv459qKYHg1m/EIqu6/r0uD+TM0o05o7JP4mb8TiquKu//mSqFRVx2r+0VdPIEOLQv6/3nESKF9S/nC6+IeWjkj9L2k01T320P3onXrEcLds/6BlNCDI/sb/tmhTEkPS/v/u5pIdPBtK/9y+Emdd7v7/rKhmM+dW/PxUJfcgvLag/A1cI8lyv4j9G34I0/Wu9v0Vqulx6Qc8/k0d5tdr5uL/wHdrg/EGBP9g3xf1LmM6/dFes32a6xD+kRLSNMDegPwmxdrN+WtO/mZo/V6UJ1D9xXW3XTS7TP0LjqfpsnqE/Xcv1Mc8TpD9Co9KhZ5OhP8aYN0Tb5aw/r590ACkLvr/czHrKa1WxPyefcaKYPqC/q0kNhThU0T9+/VM9isnEvyolFqgweM2/hPLsnPd9qb8rntJtgFNHvwgmgxAa2ay/n13wIeTawD8MC2YOtgSiv8nBQkPxycI/Ebh0hNRDxT+405DO/UHXvyl7tHIew7u/XUHiFitEtb/zU+W7qfS6PzK2FjtNJdY/VZvgfRK5sj9ufxqtSNLGvy2oUBwMCZs/saWFTM7bwb/u9Df67p+kvx6oDVxOTMQ/23Btpskq1b+zPiBaGqyovx7nFj6rZcE/yzop/axHvj/4FgE9XAHHvzu47l2nftQ/X8op5ig0yD+4Bez6/p2/PxXZ5YC+Qs4/Whrj8FS1y7/ODG7wWhbDv0itwnU+MMA/IjY9IWwp2T8XYnl5PGSwv5ZGU9X1HLQ/4Rh6RJNHsj+YVCQuUCizvxwjHYf8MXK/Bz1+pGzvwD+huC0n5I20PznOTCYFWcS/mFEnlkVJpj/Dt+mTSpzTv5yT3ptkx8o/NNKWtteQwL/ZuXMDPbaiPyCXqDgSrsE/Q85Djgokur+KDc/TocC6v47Bvkvo8rI/p44ZLQUkkL+E4Qq1Fxy0P9Qj81okxaE/OS+6c/i1hz8gja5CKOGgv6u6nV2u67c/lG6MBNXrqz9yp2YivE3Evz7y3GJ7Wbc/vRgf8KXx0D82+EdCNbXKP2twq7qiNrU/kTzReM/ixL/0MKu4ZZ25vw==",
          "dtype": "f8"
         },
         "xaxis": "x4",
         "yaxis": "y4"
        }
       ],
       "layout": {
        "height": 500,
        "margin": {
         "b": 5,
         "l": 10,
         "r": 10,
         "t": 5
        },
        "showlegend": false,
        "template": {
         "data": {
          "bar": [
           {
            "error_x": {
             "color": "#2a3f5f"
            },
            "error_y": {
             "color": "#2a3f5f"
            },
            "marker": {
             "line": {
              "color": "white",
              "width": 0.5
             },
             "pattern": {
              "fillmode": "overlay",
              "size": 10,
              "solidity": 0.2
             }
            },
            "type": "bar"
           }
          ],
          "barpolar": [
           {
            "marker": {
             "line": {
              "color": "white",
              "width": 0.5
             },
             "pattern": {
              "fillmode": "overlay",
              "size": 10,
              "solidity": 0.2
             }
            },
            "type": "barpolar"
           }
          ],
          "carpet": [
           {
            "aaxis": {
             "endlinecolor": "#2a3f5f",
             "gridcolor": "#C8D4E3",
             "linecolor": "#C8D4E3",
             "minorgridcolor": "#C8D4E3",
             "startlinecolor": "#2a3f5f"
            },
            "baxis": {
             "endlinecolor": "#2a3f5f",
             "gridcolor": "#C8D4E3",
             "linecolor": "#C8D4E3",
             "minorgridcolor": "#C8D4E3",
             "startlinecolor": "#2a3f5f"
            },
            "type": "carpet"
           }
          ],
          "choropleth": [
           {
            "colorbar": {
             "outlinewidth": 0,
             "ticks": ""
            },
            "type": "choropleth"
           }
          ],
          "contour": [
           {
            "colorbar": {
             "outlinewidth": 0,
             "ticks": ""
            },
            "colorscale": [
             [
              0,
              "#0d0887"
             ],
             [
              0.1111111111111111,
              "#46039f"
             ],
             [
              0.2222222222222222,
              "#7201a8"
             ],
             [
              0.3333333333333333,
              "#9c179e"
             ],
             [
              0.4444444444444444,
              "#bd3786"
             ],
             [
              0.5555555555555556,
              "#d8576b"
             ],
             [
              0.6666666666666666,
              "#ed7953"
             ],
             [
              0.7777777777777778,
              "#fb9f3a"
             ],
             [
              0.8888888888888888,
              "#fdca26"
             ],
             [
              1,
              "#f0f921"
             ]
            ],
            "type": "contour"
           }
          ],
          "contourcarpet": [
           {
            "colorbar": {
             "outlinewidth": 0,
             "ticks": ""
            },
            "type": "contourcarpet"
           }
          ],
          "heatmap": [
           {
            "colorbar": {
             "outlinewidth": 0,
             "ticks": ""
            },
            "colorscale": [
             [
              0,
              "#0d0887"
             ],
             [
              0.1111111111111111,
              "#46039f"
             ],
             [
              0.2222222222222222,
              "#7201a8"
             ],
             [
              0.3333333333333333,
              "#9c179e"
             ],
             [
              0.4444444444444444,
              "#bd3786"
             ],
             [
              0.5555555555555556,
              "#d8576b"
             ],
             [
              0.6666666666666666,
              "#ed7953"
             ],
             [
              0.7777777777777778,
              "#fb9f3a"
             ],
             [
              0.8888888888888888,
              "#fdca26"
             ],
             [
              1,
              "#f0f921"
             ]
            ],
            "type": "heatmap"
           }
          ],
          "histogram": [
           {
            "marker": {
             "pattern": {
              "fillmode": "overlay",
              "size": 10,
              "solidity": 0.2
             }
            },
            "type": "histogram"
           }
          ],
          "histogram2d": [
           {
            "colorbar": {
             "outlinewidth": 0,
             "ticks": ""
            },
            "colorscale": [
             [
              0,
              "#0d0887"
             ],
             [
              0.1111111111111111,
              "#46039f"
             ],
             [
              0.2222222222222222,
              "#7201a8"
             ],
             [
              0.3333333333333333,
              "#9c179e"
             ],
             [
              0.4444444444444444,
              "#bd3786"
             ],
             [
              0.5555555555555556,
              "#d8576b"
             ],
             [
              0.6666666666666666,
              "#ed7953"
             ],
             [
              0.7777777777777778,
              "#fb9f3a"
             ],
             [
              0.8888888888888888,
              "#fdca26"
             ],
             [
              1,
              "#f0f921"
             ]
            ],
            "type": "histogram2d"
           }
          ],
          "histogram2dcontour": [
           {
            "colorbar": {
             "outlinewidth": 0,
             "ticks": ""
            },
            "colorscale": [
             [
              0,
              "#0d0887"
             ],
             [
              0.1111111111111111,
              "#46039f"
             ],
             [
              0.2222222222222222,
              "#7201a8"
             ],
             [
              0.3333333333333333,
              "#9c179e"
             ],
             [
              0.4444444444444444,
              "#bd3786"
             ],
             [
              0.5555555555555556,
              "#d8576b"
             ],
             [
              0.6666666666666666,
              "#ed7953"
             ],
             [
              0.7777777777777778,
              "#fb9f3a"
             ],
             [
              0.8888888888888888,
              "#fdca26"
             ],
             [
              1,
              "#f0f921"
             ]
            ],
            "type": "histogram2dcontour"
           }
          ],
          "mesh3d": [
           {
            "colorbar": {
             "outlinewidth": 0,
             "ticks": ""
            },
            "type": "mesh3d"
           }
          ],
          "parcoords": [
           {
            "line": {
             "colorbar": {
              "outlinewidth": 0,
              "ticks": ""
             }
            },
            "type": "parcoords"
           }
          ],
          "pie": [
           {
            "automargin": true,
            "type": "pie"
           }
          ],
          "scatter": [
           {
            "fillpattern": {
             "fillmode": "overlay",
             "size": 10,
             "solidity": 0.2
            },
            "type": "scatter"
           }
          ],
          "scatter3d": [
           {
            "line": {
             "colorbar": {
              "outlinewidth": 0,
              "ticks": ""
             }
            },
            "marker": {
             "colorbar": {
              "outlinewidth": 0,
              "ticks": ""
             }
            },
            "type": "scatter3d"
           }
          ],
          "scattercarpet": [
           {
            "marker": {
             "colorbar": {
              "outlinewidth": 0,
              "ticks": ""
             }
            },
            "type": "scattercarpet"
           }
          ],
          "scattergeo": [
           {
            "marker": {
             "colorbar": {
              "outlinewidth": 0,
              "ticks": ""
             }
            },
            "type": "scattergeo"
           }
          ],
          "scattergl": [
           {
            "marker": {
             "colorbar": {
              "outlinewidth": 0,
              "ticks": ""
             }
            },
            "type": "scattergl"
           }
          ],
          "scattermap": [
           {
            "marker": {
             "colorbar": {
              "outlinewidth": 0,
              "ticks": ""
             }
            },
            "type": "scattermap"
           }
          ],
          "scattermapbox": [
           {
            "marker": {
             "colorbar": {
              "outlinewidth": 0,
              "ticks": ""
             }
            },
            "type": "scattermapbox"
           }
          ],
          "scatterpolar": [
           {
            "marker": {
             "colorbar": {
              "outlinewidth": 0,
              "ticks": ""
             }
            },
            "type": "scatterpolar"
           }
          ],
          "scatterpolargl": [
           {
            "marker": {
             "colorbar": {
              "outlinewidth": 0,
              "ticks": ""
             }
            },
            "type": "scatterpolargl"
           }
          ],
          "scatterternary": [
           {
            "marker": {
             "colorbar": {
              "outlinewidth": 0,
              "ticks": ""
             }
            },
            "type": "scatterternary"
           }
          ],
          "surface": [
           {
            "colorbar": {
             "outlinewidth": 0,
             "ticks": ""
            },
            "colorscale": [
             [
              0,
              "#0d0887"
             ],
             [
              0.1111111111111111,
              "#46039f"
             ],
             [
              0.2222222222222222,
              "#7201a8"
             ],
             [
              0.3333333333333333,
              "#9c179e"
             ],
             [
              0.4444444444444444,
              "#bd3786"
             ],
             [
              0.5555555555555556,
              "#d8576b"
             ],
             [
              0.6666666666666666,
              "#ed7953"
             ],
             [
              0.7777777777777778,
              "#fb9f3a"
             ],
             [
              0.8888888888888888,
              "#fdca26"
             ],
             [
              1,
              "#f0f921"
             ]
            ],
            "type": "surface"
           }
          ],
          "table": [
           {
            "cells": {
             "fill": {
              "color": "#EBF0F8"
             },
             "line": {
              "color": "white"
             }
            },
            "header": {
             "fill": {
              "color": "#C8D4E3"
             },
             "line": {
              "color": "white"
             }
            },
            "type": "table"
           }
          ]
         },
         "layout": {
          "annotationdefaults": {
           "arrowcolor": "#2a3f5f",
           "arrowhead": 0,
           "arrowwidth": 1
          },
          "autotypenumbers": "strict",
          "coloraxis": {
           "colorbar": {
            "outlinewidth": 0,
            "ticks": ""
           }
          },
          "colorscale": {
           "diverging": [
            [
             0,
             "#8e0152"
            ],
            [
             0.1,
             "#c51b7d"
            ],
            [
             0.2,
             "#de77ae"
            ],
            [
             0.3,
             "#f1b6da"
            ],
            [
             0.4,
             "#fde0ef"
            ],
            [
             0.5,
             "#f7f7f7"
            ],
            [
             0.6,
             "#e6f5d0"
            ],
            [
             0.7,
             "#b8e186"
            ],
            [
             0.8,
             "#7fbc41"
            ],
            [
             0.9,
             "#4d9221"
            ],
            [
             1,
             "#276419"
            ]
           ],
           "sequential": [
            [
             0,
             "#0d0887"
            ],
            [
             0.1111111111111111,
             "#46039f"
            ],
            [
             0.2222222222222222,
             "#7201a8"
            ],
            [
             0.3333333333333333,
             "#9c179e"
            ],
            [
             0.4444444444444444,
             "#bd3786"
            ],
            [
             0.5555555555555556,
             "#d8576b"
            ],
            [
             0.6666666666666666,
             "#ed7953"
            ],
            [
             0.7777777777777778,
             "#fb9f3a"
            ],
            [
             0.8888888888888888,
             "#fdca26"
            ],
            [
             1,
             "#f0f921"
            ]
           ],
           "sequentialminus": [
            [
             0,
             "#0d0887"
            ],
            [
             0.1111111111111111,
             "#46039f"
            ],
            [
             0.2222222222222222,
             "#7201a8"
            ],
            [
             0.3333333333333333,
             "#9c179e"
            ],
            [
             0.4444444444444444,
             "#bd3786"
            ],
            [
             0.5555555555555556,
             "#d8576b"
            ],
            [
             0.6666666666666666,
             "#ed7953"
            ],
            [
             0.7777777777777778,
             "#fb9f3a"
            ],
            [
             0.8888888888888888,
             "#fdca26"
            ],
            [
             1,
             "#f0f921"
            ]
           ]
          },
          "colorway": [
           "#636efa",
           "#EF553B",
           "#00cc96",
           "#ab63fa",
           "#FFA15A",
           "#19d3f3",
           "#FF6692",
           "#B6E880",
           "#FF97FF",
           "#FECB52"
          ],
          "font": {
           "color": "#2a3f5f"
          },
          "geo": {
           "bgcolor": "white",
           "lakecolor": "white",
           "landcolor": "white",
           "showlakes": true,
           "showland": true,
           "subunitcolor": "#C8D4E3"
          },
          "hoverlabel": {
           "align": "left"
          },
          "hovermode": "closest",
          "mapbox": {
           "style": "light"
          },
          "paper_bgcolor": "white",
          "plot_bgcolor": "white",
          "polar": {
           "angularaxis": {
            "gridcolor": "#EBF0F8",
            "linecolor": "#EBF0F8",
            "ticks": ""
           },
           "bgcolor": "white",
           "radialaxis": {
            "gridcolor": "#EBF0F8",
            "linecolor": "#EBF0F8",
            "ticks": ""
           }
          },
          "scene": {
           "xaxis": {
            "backgroundcolor": "white",
            "gridcolor": "#DFE8F3",
            "gridwidth": 2,
            "linecolor": "#EBF0F8",
            "showbackground": true,
            "ticks": "",
            "zerolinecolor": "#EBF0F8"
           },
           "yaxis": {
            "backgroundcolor": "white",
            "gridcolor": "#DFE8F3",
            "gridwidth": 2,
            "linecolor": "#EBF0F8",
            "showbackground": true,
            "ticks": "",
            "zerolinecolor": "#EBF0F8"
           },
           "zaxis": {
            "backgroundcolor": "white",
            "gridcolor": "#DFE8F3",
            "gridwidth": 2,
            "linecolor": "#EBF0F8",
            "showbackground": true,
            "ticks": "",
            "zerolinecolor": "#EBF0F8"
           }
          },
          "shapedefaults": {
           "line": {
            "color": "#2a3f5f"
           }
          },
          "ternary": {
           "aaxis": {
            "gridcolor": "#DFE8F3",
            "linecolor": "#A2B1C6",
            "ticks": ""
           },
           "baxis": {
            "gridcolor": "#DFE8F3",
            "linecolor": "#A2B1C6",
            "ticks": ""
           },
           "bgcolor": "white",
           "caxis": {
            "gridcolor": "#DFE8F3",
            "linecolor": "#A2B1C6",
            "ticks": ""
           }
          },
          "title": {
           "x": 0.05
          },
          "xaxis": {
           "automargin": true,
           "gridcolor": "#EBF0F8",
           "linecolor": "#EBF0F8",
           "ticks": "",
           "title": {
            "standoff": 15
           },
           "zerolinecolor": "#EBF0F8",
           "zerolinewidth": 2
          },
          "yaxis": {
           "automargin": true,
           "gridcolor": "#EBF0F8",
           "linecolor": "#EBF0F8",
           "ticks": "",
           "title": {
            "standoff": 15
           },
           "zerolinecolor": "#EBF0F8",
           "zerolinewidth": 2
          }
         }
        },
        "width": 800,
        "xaxis": {
         "anchor": "y",
         "domain": [
          0,
          0.45
         ],
         "title": {
          "text": "Fitted"
         }
        },
        "xaxis2": {
         "anchor": "y2",
         "domain": [
          0.55,
          1
         ],
         "title": {
          "text": "Theoretical Quantiles"
         }
        },
        "xaxis3": {
         "anchor": "y3",
         "domain": [
          0,
          0.45
         ],
         "title": {
          "text": "Fitted"
         }
        },
        "xaxis4": {
         "anchor": "y4",
         "domain": [
          0.55,
          1
         ],
         "title": {
          "text": "Residuals"
         }
        },
        "yaxis": {
         "anchor": "x",
         "domain": [
          0.575,
          1
         ],
         "title": {
          "text": "Residuals"
         }
        },
        "yaxis2": {
         "anchor": "x2",
         "domain": [
          0.575,
          1
         ],
         "title": {
          "text": "Sample Quantiles"
         }
        },
        "yaxis3": {
         "anchor": "x3",
         "domain": [
          0,
          0.425
         ],
         "title": {
          "text": "Sqrt( Abs( Residuals ) )"
         }
        },
        "yaxis4": {
         "anchor": "x4",
         "domain": [
          0,
          0.425
         ],
         "title": {
          "text": "Count"
         }
        }
       }
      }
     },
     "metadata": {},
     "output_type": "display_data"
    }
   ],
   "source": [
    "glmm_snr_snt = glmer('SNR ~ Stain * Tissue + (1|Experiment) + (1|ROI)', data=pl_df_measures, family='Gamma', link='log')\n",
    "glmm_snr_snt.set_factors(['Stain', 'Tissue'])\n",
    "\n",
    "# Convert estimates to odds\n",
    "display(glmm_snr_snt.fit(exponentiate=True, summary=True, conf_method='boot'))\n",
    "display(glmm_snr_snt.result_fit_stats)\n",
    "stat_diagnostics(glmm_snr_snt.data['fitted'], glmm_snr_snt.data['resid'], glmm_snr_snt.data['Experiment'])"
   ]
  },
  {
   "cell_type": "code",
   "execution_count": 9,
   "id": "43921eaa",
   "metadata": {},
   "outputs": [],
   "source": [
    "glmm_snr_snt.conf_method"
   ]
  },
  {
   "cell_type": "code",
   "execution_count": 10,
   "id": "55cf82ed",
   "metadata": {},
   "outputs": [
    {
     "data": {
      "text/html": [
       "<div id=\"iiwprkkwxt\" style=\"padding-left:0px;padding-right:0px;padding-top:10px;padding-bottom:10px;overflow-x:auto;overflow-y:auto;width:auto;height:auto;\">\n",
       "<style>\n",
       "#iiwprkkwxt table {\n",
       "          font-family: -apple-system, BlinkMacSystemFont, 'Segoe UI', Roboto, Oxygen, Ubuntu, Cantarell, 'Helvetica Neue', 'Fira Sans', 'Droid Sans', Arial, sans-serif;\n",
       "          -webkit-font-smoothing: antialiased;\n",
       "          -moz-osx-font-smoothing: grayscale;\n",
       "        }\n",
       "\n",
       "#iiwprkkwxt thead, tbody, tfoot, tr, td, th { border-style: none !important; }\n",
       " tr { background-color: transparent !important; }\n",
       "#iiwprkkwxt p { margin: 0 !important; padding: 0 !important; }\n",
       " #iiwprkkwxt .gt_table { display: table !important; border-collapse: collapse !important; line-height: normal !important; margin-left: auto !important; margin-right: auto !important; color: #333333 !important; font-size: 16px !important; font-weight: normal !important; font-style: normal !important; background-color: #FFFFFF !important; width: auto !important; border-top-style: solid !important; border-top-width: 2px !important; border-top-color: #A8A8A8 !important; border-right-style: none !important; border-right-width: 2px !important; border-right-color: #D3D3D3 !important; border-bottom-style: solid !important; border-bottom-width: 2px !important; border-bottom-color: #A8A8A8 !important; border-left-style: none !important; border-left-width: 2px !important; border-left-color: #D3D3D3 !important; }\n",
       " #iiwprkkwxt .gt_caption { padding-top: 4px !important; padding-bottom: 4px !important; }\n",
       " #iiwprkkwxt .gt_title { color: #333333 !important; font-size: 125% !important; font-weight: initial !important; padding-top: 3px !important; padding-bottom: 3px !important; padding-left: 5px !important; padding-right: 5px !important; border-bottom-color: #FFFFFF !important; border-bottom-width: 0 !important; }\n",
       " #iiwprkkwxt .gt_subtitle { color: #333333 !important; font-size: 85% !important; font-weight: initial !important; padding-top: 2px !important; padding-bottom: 4px !important; padding-left: 5px !important; padding-right: 5px !important; border-top-color: #FFFFFF !important; border-top-width: 0 !important; }\n",
       " #iiwprkkwxt .gt_heading { background-color: #FFFFFF !important; text-align: left !important; border-bottom-color: #FFFFFF !important; border-left-style: none !important; border-left-width: 1px !important; border-left-color: #D3D3D3 !important; border-right-style: none !important; border-right-width: 1px !important; border-right-color: #D3D3D3 !important; }\n",
       " #iiwprkkwxt .gt_bottom_border { border-bottom-style: solid !important; border-bottom-width: 2px !important; border-bottom-color: #D3D3D3 !important; }\n",
       " #iiwprkkwxt .gt_col_headings { border-top-style: solid !important; border-top-width: 2px !important; border-top-color: #D3D3D3 !important; border-bottom-style: solid !important; border-bottom-width: 2px !important; border-bottom-color: #D3D3D3 !important; border-left-style: none !important; border-left-width: 1px !important; border-left-color: #D3D3D3 !important; border-right-style: none !important; border-right-width: 1px !important; border-right-color: #D3D3D3 !important; }\n",
       " #iiwprkkwxt .gt_col_heading { color: #333333 !important; background-color: #FFFFFF !important; font-size: 100% !important; font-weight: normal !important; text-transform: inherit !important; border-left-style: none !important; border-left-width: 1px !important; border-left-color: #D3D3D3 !important; border-right-style: none !important; border-right-width: 1px !important; border-right-color: #D3D3D3 !important; vertical-align: bottom !important; padding-top: 3px !important; padding-bottom: 4px !important; padding-left: 5px !important; padding-right: 5px !important; overflow-x: hidden !important; }\n",
       " #iiwprkkwxt .gt_column_spanner_outer { color: #333333 !important; background-color: #FFFFFF !important; font-size: 100% !important; font-weight: normal !important; text-transform: inherit !important; padding-top: 0 !important; padding-bottom: 0 !important; padding-left: 4px !important; padding-right: 4px !important; }\n",
       " #iiwprkkwxt .gt_column_spanner_outer:first-child { padding-left: 0 !important; }\n",
       " #iiwprkkwxt .gt_column_spanner_outer:last-child { padding-right: 0 !important; }\n",
       " #iiwprkkwxt .gt_column_spanner { border-bottom-style: solid !important; border-bottom-width: 2px !important; border-bottom-color: #D3D3D3 !important; vertical-align: bottom !important; padding-top: 3px !important; padding-bottom: 3px !important; overflow-x: hidden !important; display: inline-block !important; width: 100% !important; }\n",
       " #iiwprkkwxt .gt_spanner_row { border-bottom-style: hidden !important; }\n",
       " #iiwprkkwxt .gt_group_heading { padding-top: 6px !important; padding-bottom: 6px !important; padding-left: 5px !important; padding-right: 5px !important; color: #333333 !important; background-color: #FFFFFF !important; font-size: 100% !important; font-weight: initial !important; text-transform: inherit !important; border-top-style: solid !important; border-top-width: 2px !important; border-top-color: #D3D3D3 !important; border-bottom-style: solid !important; border-bottom-width: 2px !important; border-bottom-color: #D3D3D3 !important; border-left-style: none !important; border-left-width: 1px !important; border-left-color: #D3D3D3 !important; border-right-style: none !important; border-right-width: 1px !important; border-right-color: #D3D3D3 !important; vertical-align: middle !important; text-align: left !important; }\n",
       " #iiwprkkwxt .gt_empty_group_heading { padding: 0.5px !important; color: #333333 !important; background-color: #FFFFFF !important; font-size: 100% !important; font-weight: initial !important; border-top-style: solid !important; border-top-width: 2px !important; border-top-color: #D3D3D3 !important; border-bottom-style: solid !important; border-bottom-width: 2px !important; border-bottom-color: #D3D3D3 !important; vertical-align: middle !important; }\n",
       " #iiwprkkwxt .gt_from_md> :first-child { margin-top: 0 !important; }\n",
       " #iiwprkkwxt .gt_from_md> :last-child { margin-bottom: 0 !important; }\n",
       " #iiwprkkwxt .gt_row { padding-top: 6px !important; padding-bottom: 6px !important; padding-left: 5px !important; padding-right: 5px !important; margin: 10px !important; border-top-style: solid !important; border-top-width: 1px !important; border-top-color: #D3D3D3 !important; border-left-style: none !important; border-left-width: 1px !important; border-left-color: #D3D3D3 !important; border-right-style: none !important; border-right-width: 1px !important; border-right-color: #D3D3D3 !important; vertical-align: middle !important; overflow-x: hidden !important; }\n",
       " #iiwprkkwxt .gt_stub { color: #333333 !important; background-color: #FFFFFF !important; font-size: 100% !important; font-weight: initial !important; text-transform: inherit !important; border-right-style: solid !important; border-right-width: 2px !important; border-right-color: #D3D3D3 !important; padding-left: 5px !important; padding-right: 5px !important; }\n",
       " #iiwprkkwxt .gt_stub_row_group { color: #333333 !important; background-color: #FFFFFF !important; font-size: 100% !important; font-weight: initial !important; text-transform: inherit !important; border-right-style: solid !important; border-right-width: 2px !important; border-right-color: #D3D3D3 !important; padding-left: 5px !important; padding-right: 5px !important; vertical-align: top !important; }\n",
       " #iiwprkkwxt .gt_row_group_first td { border-top-width: 2px !important; }\n",
       " #iiwprkkwxt .gt_row_group_first th { border-top-width: 2px !important; }\n",
       " #iiwprkkwxt .gt_striped { background-color: rgba(128,128,128,0.05) !important; }\n",
       " #iiwprkkwxt .gt_table_body { border-top-style: solid !important; border-top-width: 2px !important; border-top-color: #D3D3D3 !important; border-bottom-style: solid !important; border-bottom-width: 2px !important; border-bottom-color: #D3D3D3 !important; }\n",
       " #iiwprkkwxt .gt_sourcenotes { color: #333333 !important; background-color: #FFFFFF !important; border-bottom-style: none !important; border-bottom-width: 2px !important; border-bottom-color: #D3D3D3 !important; border-left-style: none !important; border-left-width: 2px !important; border-left-color: #D3D3D3 !important; border-right-style: none !important; border-right-width: 2px !important; border-right-color: #D3D3D3 !important; }\n",
       " #iiwprkkwxt .gt_sourcenote { font-size: small !important; padding-top: 3px !important; padding-bottom: 3px !important; padding-left: 5px !important; padding-right: 5px !important; text-align: left !important; }\n",
       " #iiwprkkwxt .gt_left { text-align: left !important; }\n",
       " #iiwprkkwxt .gt_center { text-align: center !important; }\n",
       " #iiwprkkwxt .gt_right { text-align: right !important; font-variant-numeric: tabular-nums !important; }\n",
       " #iiwprkkwxt .gt_font_normal { font-weight: normal !important; }\n",
       " #iiwprkkwxt .gt_font_bold { font-weight: bold !important; }\n",
       " #iiwprkkwxt .gt_font_italic { font-style: italic !important; }\n",
       " #iiwprkkwxt .gt_super { font-size: 65% !important; }\n",
       " #iiwprkkwxt .gt_footnote_marks { font-size: 75% !important; vertical-align: 0.4em !important; position: initial !important; }\n",
       " #iiwprkkwxt .gt_asterisk { font-size: 100% !important; vertical-align: 0 !important; }\n",
       " \n",
       "</style>\n",
       "<table class=\"gt_table\" data-quarto-disable-processing=\"false\" data-quarto-bootstrap=\"false\">\n",
       "<thead>\n",
       "\n",
       "  <tr class=\"gt_heading\">\n",
       "    <td colspan=\"10\" class=\"gt_heading gt_title gt_font_normal\">Formula: glmer(SNR~Stain+Tissue+(1|Experiment)+(1|ROI))</td>\n",
       "  </tr>\n",
       "  <tr class=\"gt_heading\">\n",
       "    <td colspan=\"10\" class=\"gt_heading gt_subtitle gt_font_normal gt_bottom_border\">Family: <em>Gamma (link: <em>log</em>)</em><br />\n",
       "Number of observations: <em>260</em><br />\n",
       "Confidence intervals: <em>boot</em><br />\n",
       "Bootstrap Iterations: <em>1000</em><br />\n",
       "---------------------<br />\n",
       "Log-likelihood: <em>-609</em><br />\n",
       "AIC: <em>1230</em> | BIC: <em>1252</em><br />\n",
       "Residual error: <em>0.204</em></td>\n",
       "  </tr>\n",
       "<tr class=\"gt_col_headings\">\n",
       "  <th class=\"gt_col_heading gt_columns_bottom_border gt_left\" rowspan=\"1\" colspan=\"1\" scope=\"col\" id=\"rfx\">Random Effects:</th>\n",
       "  <th class=\"gt_col_heading gt_columns_bottom_border gt_left\" rowspan=\"1\" colspan=\"1\" scope=\"col\" id=\"param\"></th>\n",
       "  <th class=\"gt_col_heading gt_columns_bottom_border gt_right\" rowspan=\"1\" colspan=\"1\" scope=\"col\" id=\"estimate\">Estimate</th>\n",
       "  <th class=\"gt_col_heading gt_columns_bottom_border gt_right\" rowspan=\"1\" colspan=\"1\" scope=\"col\" id=\"conf_low\">CI-low</th>\n",
       "  <th class=\"gt_col_heading gt_columns_bottom_border gt_right\" rowspan=\"1\" colspan=\"1\" scope=\"col\" id=\"conf_high\">CI-high</th>\n",
       "  <th class=\"gt_col_heading gt_columns_bottom_border gt_right\" rowspan=\"1\" colspan=\"1\" scope=\"col\" id=\"std_error\">SE</th>\n",
       "  <th class=\"gt_col_heading gt_columns_bottom_border gt_right\" rowspan=\"1\" colspan=\"1\" scope=\"col\" id=\"z_stat\">Z-stat</th>\n",
       "  <th class=\"gt_col_heading gt_columns_bottom_border gt_right\" rowspan=\"1\" colspan=\"1\" scope=\"col\" id=\"df\">df</th>\n",
       "  <th class=\"gt_col_heading gt_columns_bottom_border gt_left\" rowspan=\"1\" colspan=\"1\" scope=\"col\" id=\"p_value\">p</th>\n",
       "  <th class=\"gt_col_heading gt_columns_bottom_border gt_left\" rowspan=\"1\" colspan=\"1\" scope=\"col\" id=\"stars\"></th>\n",
       "</tr>\n",
       "</thead>\n",
       "<tbody class=\"gt_table_body\">\n",
       "  <tr>\n",
       "    <td class=\"gt_row gt_left\">Experiment-sd</td>\n",
       "    <td style=\"font-style: italic;\" class=\"gt_row gt_left\">(Intercept)</td>\n",
       "    <td class=\"gt_row gt_right\">0.097</td>\n",
       "    <td class=\"gt_row gt_right\">0.141</td>\n",
       "    <td class=\"gt_row gt_right\">0.265</td>\n",
       "    <td class=\"gt_row gt_right\"></td>\n",
       "    <td class=\"gt_row gt_right\"></td>\n",
       "    <td class=\"gt_row gt_right\"></td>\n",
       "    <td class=\"gt_row gt_left\"></td>\n",
       "    <td class=\"gt_row gt_left\"></td>\n",
       "  </tr>\n",
       "  <tr>\n",
       "    <td class=\"gt_row gt_left\">ROI-sd</td>\n",
       "    <td style=\"font-style: italic;\" class=\"gt_row gt_left\">(Intercept)</td>\n",
       "    <td class=\"gt_row gt_right\">0.063</td>\n",
       "    <td class=\"gt_row gt_right\">0.106</td>\n",
       "    <td class=\"gt_row gt_right\">0.203</td>\n",
       "    <td class=\"gt_row gt_right\"></td>\n",
       "    <td class=\"gt_row gt_right\"></td>\n",
       "    <td class=\"gt_row gt_right\"></td>\n",
       "    <td class=\"gt_row gt_left\"></td>\n",
       "    <td class=\"gt_row gt_left\"></td>\n",
       "  </tr>\n",
       "  <tr>\n",
       "    <td class=\"gt_row gt_left\">Residual-sd</td>\n",
       "    <td style=\"font-style: italic;\" class=\"gt_row gt_left\">Observation</td>\n",
       "    <td class=\"gt_row gt_right\">0.204</td>\n",
       "    <td class=\"gt_row gt_right\">0.216</td>\n",
       "    <td class=\"gt_row gt_right\">0.258</td>\n",
       "    <td class=\"gt_row gt_right\"></td>\n",
       "    <td class=\"gt_row gt_right\"></td>\n",
       "    <td class=\"gt_row gt_right\"></td>\n",
       "    <td class=\"gt_row gt_left\"></td>\n",
       "    <td class=\"gt_row gt_left\"></td>\n",
       "  </tr>\n",
       "  <tr>\n",
       "    <td class=\"gt_row gt_left\"></td>\n",
       "    <td style=\"font-style: italic;\" class=\"gt_row gt_left\"></td>\n",
       "    <td class=\"gt_row gt_right\"></td>\n",
       "    <td class=\"gt_row gt_right\"></td>\n",
       "    <td class=\"gt_row gt_right\"></td>\n",
       "    <td class=\"gt_row gt_right\"></td>\n",
       "    <td class=\"gt_row gt_right\"></td>\n",
       "    <td class=\"gt_row gt_right\"></td>\n",
       "    <td class=\"gt_row gt_left\"></td>\n",
       "    <td class=\"gt_row gt_left\"></td>\n",
       "  </tr>\n",
       "  <tr>\n",
       "    <td class=\"gt_row gt_left\">Fixed Effects:</td>\n",
       "    <td style=\"font-style: italic;\" class=\"gt_row gt_left\"></td>\n",
       "    <td class=\"gt_row gt_right\"></td>\n",
       "    <td class=\"gt_row gt_right\"></td>\n",
       "    <td class=\"gt_row gt_right\"></td>\n",
       "    <td class=\"gt_row gt_right\"></td>\n",
       "    <td class=\"gt_row gt_right\"></td>\n",
       "    <td class=\"gt_row gt_right\"></td>\n",
       "    <td class=\"gt_row gt_left\"></td>\n",
       "    <td class=\"gt_row gt_left\"></td>\n",
       "  </tr>\n",
       "  <tr>\n",
       "    <td class=\"gt_row gt_left\"></td>\n",
       "    <td style=\"font-style: italic;\" class=\"gt_row gt_left\">(Intercept)</td>\n",
       "    <td class=\"gt_row gt_right\">9.954</td>\n",
       "    <td class=\"gt_row gt_right\">1.772</td>\n",
       "    <td class=\"gt_row gt_right\">2.760</td>\n",
       "    <td class=\"gt_row gt_right\">1.238</td>\n",
       "    <td class=\"gt_row gt_right\">18.477</td>\n",
       "    <td class=\"gt_row gt_right\">254.000</td>\n",
       "    <td class=\"gt_row gt_left\"><.001</td>\n",
       "    <td class=\"gt_row gt_left\">***</td>\n",
       "  </tr>\n",
       "  <tr>\n",
       "    <td class=\"gt_row gt_left\"></td>\n",
       "    <td style=\"font-style: italic;\" class=\"gt_row gt_left\">StainPTA-stained</td>\n",
       "    <td class=\"gt_row gt_right\">1.350</td>\n",
       "    <td class=\"gt_row gt_right\">−0.230</td>\n",
       "    <td class=\"gt_row gt_right\">0.899</td>\n",
       "    <td class=\"gt_row gt_right\">0.176</td>\n",
       "    <td class=\"gt_row gt_right\">2.299</td>\n",
       "    <td class=\"gt_row gt_right\">254.000</td>\n",
       "    <td class=\"gt_row gt_left\">0.0223</td>\n",
       "    <td class=\"gt_row gt_left\">*</td>\n",
       "  </tr>\n",
       "  <tr>\n",
       "    <td class=\"gt_row gt_left\"></td>\n",
       "    <td style=\"font-style: italic;\" class=\"gt_row gt_left\">TissueMuscle-serosal</td>\n",
       "    <td class=\"gt_row gt_right\">1.031</td>\n",
       "    <td class=\"gt_row gt_right\">−0.024</td>\n",
       "    <td class=\"gt_row gt_right\">0.077</td>\n",
       "    <td class=\"gt_row gt_right\">0.024</td>\n",
       "    <td class=\"gt_row gt_right\">1.302</td>\n",
       "    <td class=\"gt_row gt_right\">254.000</td>\n",
       "    <td class=\"gt_row gt_left\">0.1939</td>\n",
       "    <td class=\"gt_row gt_left\"></td>\n",
       "  </tr>\n",
       "</tbody>\n",
       "  <tfoot class=\"gt_sourcenotes\">\n",
       "  \n",
       "  <tr>\n",
       "    <td class=\"gt_sourcenote\" colspan=\"10\">Signif. codes: <em>0 *** 0.001 ** 0.01 * 0.05 . 0.1</em></td>\n",
       "  </tr>\n",
       "\n",
       "</tfoot>\n",
       "\n",
       "</table>\n",
       "\n",
       "</div>\n",
       "        "
      ],
      "text/plain": [
       "GT(_tbl_data=shape: (8, 10)\n",
       "┌────────────────┬─────────────────┬──────────┬───────────┬───┬───────────┬──────┬─────────┬───────┐\n",
       "│ rfx            ┆ param           ┆ estimate ┆ conf_low  ┆ … ┆ z_stat    ┆ df   ┆ p_value ┆ stars │\n",
       "│ ---            ┆ ---             ┆ ---      ┆ ---       ┆   ┆ ---       ┆ ---  ┆ ---     ┆ ---   │\n",
       "│ str            ┆ str             ┆ f64      ┆ f64       ┆   ┆ f64       ┆ i64  ┆ str     ┆ str   │\n",
       "╞════════════════╪═════════════════╪══════════╪═══════════╪═══╪═══════════╪══════╪═════════╪═══════╡\n",
       "│ Experiment-sd  ┆ (Intercept)     ┆ 0.096805 ┆ 0.140871  ┆ … ┆ null      ┆ null ┆ null    ┆ null  │\n",
       "│ ROI-sd         ┆ (Intercept)     ┆ 0.063434 ┆ 0.106411  ┆ … ┆ null      ┆ null ┆ null    ┆ null  │\n",
       "│ Residual-sd    ┆ Observation     ┆ 0.203785 ┆ 0.216015  ┆ … ┆ null      ┆ null ┆ null    ┆ null  │\n",
       "│ null           ┆ null            ┆ null     ┆ null      ┆ … ┆ null      ┆ null ┆ null    ┆ null  │\n",
       "│ Fixed Effects: ┆ null            ┆ null     ┆ null      ┆ … ┆ null      ┆ null ┆ null    ┆ null  │\n",
       "│ null           ┆ (Intercept)     ┆ 9.953884 ┆ 1.771778  ┆ … ┆ 18.477378 ┆ 254  ┆ <.001   ┆ ***   │\n",
       "│ null           ┆ StainPTA-staine ┆ 1.350221 ┆ -0.230465 ┆ … ┆ 2.299355  ┆ 254  ┆ 0.0223  ┆ *     │\n",
       "│                ┆ d               ┆          ┆           ┆   ┆           ┆      ┆         ┆       │\n",
       "│ null           ┆ TissueMuscle-se ┆ 1.031215 ┆ -0.023521 ┆ … ┆ 1.302459  ┆ 254  ┆ 0.1939  ┆       │\n",
       "│                ┆ rosal           ┆          ┆           ┆   ┆           ┆      ┆         ┆       │\n",
       "└────────────────┴─────────────────┴──────────┴───────────┴───┴───────────┴──────┴─────────┴───────┘, _body=<great_tables._gt_data.Body object at 0x7e75b053c080>, _boxhead=Boxhead([ColInfo(var='rfx', type=<ColInfoTypeEnum.default: 1>, column_label='Random Effects:', column_align='left', column_width=None), ColInfo(var='param', type=<ColInfoTypeEnum.default: 1>, column_label='', column_align='left', column_width=None), ColInfo(var='estimate', type=<ColInfoTypeEnum.default: 1>, column_label='Estimate', column_align='right', column_width=None), ColInfo(var='conf_low', type=<ColInfoTypeEnum.default: 1>, column_label='CI-low', column_align='right', column_width=None), ColInfo(var='conf_high', type=<ColInfoTypeEnum.default: 1>, column_label='CI-high', column_align='right', column_width=None), ColInfo(var='std_error', type=<ColInfoTypeEnum.default: 1>, column_label='SE', column_align='right', column_width=None), ColInfo(var='z_stat', type=<ColInfoTypeEnum.default: 1>, column_label='Z-stat', column_align='right', column_width=None), ColInfo(var='df', type=<ColInfoTypeEnum.default: 1>, column_label='df', column_align='right', column_width=None), ColInfo(var='p_value', type=<ColInfoTypeEnum.default: 1>, column_label='p', column_align='left', column_width=None), ColInfo(var='stars', type=<ColInfoTypeEnum.default: 1>, column_label='', column_align='left', column_width=None)]), _stub=<great_tables._gt_data.Stub object at 0x7e75b0660fb0>, _spanners=Spanners([]), _heading=Heading(title='Formula: glmer(SNR~Stain+Tissue+(1|Experiment)+(1|ROI))', subtitle=Md(text='Family: *Gamma (link: *log*)*  \\n            Number of observations: *260*  \\n            Confidence intervals: *boot*   \\n            Bootstrap Iterations: *1000*  \\n            ---------------------  \\n            Log-likelihood: *-609*  \\n            AIC: *1230* | BIC: *1252*  \\n            Residual error: *0.204*  \\n        '), preheader=None), _stubhead=None, _source_notes=[Md(text='Signif. codes: *0 *** 0.001 ** 0.01 * 0.05 . 0.1*')], _footnotes=[], _styles=[StyleInfo(locname=LocBody(columns=['param'], rows=None, mask=None), grpname=None, colname='param', rownum=0, colnum=None, styles=[CellStyleText(color=None, font=None, size=None, align=None, v_align=None, style='italic', weight=None, stretch=None, decorate=None, transform=None, whitespace=None)]), StyleInfo(locname=LocBody(columns=['param'], rows=None, mask=None), grpname=None, colname='param', rownum=1, colnum=None, styles=[CellStyleText(color=None, font=None, size=None, align=None, v_align=None, style='italic', weight=None, stretch=None, decorate=None, transform=None, whitespace=None)]), StyleInfo(locname=LocBody(columns=['param'], rows=None, mask=None), grpname=None, colname='param', rownum=2, colnum=None, styles=[CellStyleText(color=None, font=None, size=None, align=None, v_align=None, style='italic', weight=None, stretch=None, decorate=None, transform=None, whitespace=None)]), StyleInfo(locname=LocBody(columns=['param'], rows=None, mask=None), grpname=None, colname='param', rownum=3, colnum=None, styles=[CellStyleText(color=None, font=None, size=None, align=None, v_align=None, style='italic', weight=None, stretch=None, decorate=None, transform=None, whitespace=None)]), StyleInfo(locname=LocBody(columns=['param'], rows=None, mask=None), grpname=None, colname='param', rownum=4, colnum=None, styles=[CellStyleText(color=None, font=None, size=None, align=None, v_align=None, style='italic', weight=None, stretch=None, decorate=None, transform=None, whitespace=None)]), StyleInfo(locname=LocBody(columns=['param'], rows=None, mask=None), grpname=None, colname='param', rownum=5, colnum=None, styles=[CellStyleText(color=None, font=None, size=None, align=None, v_align=None, style='italic', weight=None, stretch=None, decorate=None, transform=None, whitespace=None)]), StyleInfo(locname=LocBody(columns=['param'], rows=None, mask=None), grpname=None, colname='param', rownum=6, colnum=None, styles=[CellStyleText(color=None, font=None, size=None, align=None, v_align=None, style='italic', weight=None, stretch=None, decorate=None, transform=None, whitespace=None)]), StyleInfo(locname=LocBody(columns=['param'], rows=None, mask=None), grpname=None, colname='param', rownum=7, colnum=None, styles=[CellStyleText(color=None, font=None, size=None, align=None, v_align=None, style='italic', weight=None, stretch=None, decorate=None, transform=None, whitespace=None)])], _locale=<great_tables._gt_data.Locale object at 0x7e75b053c2c0>, _formats=[<great_tables._gt_data.FormatInfo object at 0x7e74c6cbebd0>], _substitutions=[<great_tables._gt_data.FormatInfo object at 0x7e75b0510fb0>], _options=Options(table_id=OptionsInfo(scss=False, category='table', type='value', value=None), table_caption=OptionsInfo(scss=False, category='table', type='value', value=None), table_width=OptionsInfo(scss=True, category='table', type='px', value='auto'), table_layout=OptionsInfo(scss=True, category='table', type='value', value='fixed'), table_margin_left=OptionsInfo(scss=True, category='table', type='px', value='auto'), table_margin_right=OptionsInfo(scss=True, category='table', type='px', value='auto'), table_background_color=OptionsInfo(scss=True, category='table', type='value', value='#FFFFFF'), table_additional_css=OptionsInfo(scss=False, category='table', type='values', value=[]), table_font_names=OptionsInfo(scss=False, category='table', type='values', value=['-apple-system', 'BlinkMacSystemFont', 'Segoe UI', 'Roboto', 'Oxygen', 'Ubuntu', 'Cantarell', 'Helvetica Neue', 'Fira Sans', 'Droid Sans', 'Arial', 'sans-serif']), table_font_size=OptionsInfo(scss=True, category='table', type='px', value='16px'), table_font_weight=OptionsInfo(scss=True, category='table', type='value', value='normal'), table_font_style=OptionsInfo(scss=True, category='table', type='value', value='normal'), table_font_color=OptionsInfo(scss=True, category='table', type='value', value='#333333'), table_font_color_light=OptionsInfo(scss=True, category='table', type='value', value='#FFFFFF'), table_border_top_include=OptionsInfo(scss=False, category='table', type='boolean', value=True), table_border_top_style=OptionsInfo(scss=True, category='table', type='value', value='solid'), table_border_top_width=OptionsInfo(scss=True, category='table', type='px', value='2px'), table_border_top_color=OptionsInfo(scss=True, category='table', type='value', value='#A8A8A8'), table_border_right_style=OptionsInfo(scss=True, category='table', type='value', value='none'), table_border_right_width=OptionsInfo(scss=True, category='table', type='px', value='2px'), table_border_right_color=OptionsInfo(scss=True, category='table', type='value', value='#D3D3D3'), table_border_bottom_include=OptionsInfo(scss=False, category='table', type='boolean', value=True), table_border_bottom_style=OptionsInfo(scss=True, category='table', type='value', value='solid'), table_border_bottom_width=OptionsInfo(scss=True, category='table', type='px', value='2px'), table_border_bottom_color=OptionsInfo(scss=True, category='table', type='value', value='#A8A8A8'), table_border_left_style=OptionsInfo(scss=True, category='table', type='value', value='none'), table_border_left_width=OptionsInfo(scss=True, category='table', type='px', value='2px'), table_border_left_color=OptionsInfo(scss=True, category='table', type='value', value='#D3D3D3'), heading_background_color=OptionsInfo(scss=True, category='heading', type='value', value=None), heading_align=OptionsInfo(scss=True, category='heading', type='value', value='left'), heading_title_font_size=OptionsInfo(scss=True, category='heading', type='px', value='125%'), heading_title_font_weight=OptionsInfo(scss=True, category='heading', type='value', value='initial'), heading_subtitle_font_size=OptionsInfo(scss=True, category='heading', type='px', value='85%'), heading_subtitle_font_weight=OptionsInfo(scss=True, category='heading', type='value', value='initial'), heading_padding=OptionsInfo(scss=True, category='heading', type='px', value='3px'), heading_padding_horizontal=OptionsInfo(scss=True, category='heading', type='px', value='5px'), heading_border_bottom_style=OptionsInfo(scss=True, category='heading', type='value', value='solid'), heading_border_bottom_width=OptionsInfo(scss=True, category='heading', type='px', value='2px'), heading_border_bottom_color=OptionsInfo(scss=True, category='heading', type='value', value='#D3D3D3'), heading_border_lr_style=OptionsInfo(scss=True, category='heading', type='value', value='none'), heading_border_lr_width=OptionsInfo(scss=True, category='heading', type='px', value='1px'), heading_border_lr_color=OptionsInfo(scss=True, category='heading', type='value', value='#D3D3D3'), column_labels_background_color=OptionsInfo(scss=True, category='column_labels', type='value', value=None), column_labels_font_size=OptionsInfo(scss=True, category='column_labels', type='px', value='100%'), column_labels_font_weight=OptionsInfo(scss=True, category='column_labels', type='value', value='normal'), column_labels_text_transform=OptionsInfo(scss=True, category='column_labels', type='value', value='inherit'), column_labels_padding=OptionsInfo(scss=True, category='column_labels', type='px', value='3px'), column_labels_padding_horizontal=OptionsInfo(scss=True, category='column_labels', type='px', value='5px'), column_labels_vlines_style=OptionsInfo(scss=True, category='table_body', type='value', value='none'), column_labels_vlines_width=OptionsInfo(scss=True, category='table_body', type='px', value='1px'), column_labels_vlines_color=OptionsInfo(scss=True, category='table_body', type='value', value='#D3D3D3'), column_labels_border_top_style=OptionsInfo(scss=True, category='column_labels', type='value', value='solid'), column_labels_border_top_width=OptionsInfo(scss=True, category='column_labels', type='px', value='2px'), column_labels_border_top_color=OptionsInfo(scss=True, category='column_labels', type='value', value='#D3D3D3'), column_labels_border_bottom_style=OptionsInfo(scss=True, category='column_labels', type='value', value='solid'), column_labels_border_bottom_width=OptionsInfo(scss=True, category='column_labels', type='px', value='2px'), column_labels_border_bottom_color=OptionsInfo(scss=True, category='column_labels', type='value', value='#D3D3D3'), column_labels_border_lr_style=OptionsInfo(scss=True, category='column_labels', type='value', value='none'), column_labels_border_lr_width=OptionsInfo(scss=True, category='column_labels', type='px', value='1px'), column_labels_border_lr_color=OptionsInfo(scss=True, category='column_labels', type='value', value='#D3D3D3'), column_labels_hidden=OptionsInfo(scss=False, category='column_labels', type='boolean', value=False), row_group_background_color=OptionsInfo(scss=True, category='row_group', type='value', value=None), row_group_font_size=OptionsInfo(scss=True, category='row_group', type='px', value='100%'), row_group_font_weight=OptionsInfo(scss=True, category='row_group', type='value', value='initial'), row_group_text_transform=OptionsInfo(scss=True, category='row_group', type='value', value='inherit'), row_group_padding=OptionsInfo(scss=True, category='row_group', type='px', value='6px'), row_group_padding_horizontal=OptionsInfo(scss=True, category='row_group', type='px', value='5px'), row_group_border_top_style=OptionsInfo(scss=True, category='row_group', type='value', value='solid'), row_group_border_top_width=OptionsInfo(scss=True, category='row_group', type='px', value='2px'), row_group_border_top_color=OptionsInfo(scss=True, category='row_group', type='value', value='#D3D3D3'), row_group_border_right_style=OptionsInfo(scss=True, category='row_group', type='value', value='none'), row_group_border_right_width=OptionsInfo(scss=True, category='row_group', type='px', value='1px'), row_group_border_right_color=OptionsInfo(scss=True, category='row_group', type='value', value='#D3D3D3'), row_group_border_bottom_style=OptionsInfo(scss=True, category='row_group', type='value', value='solid'), row_group_border_bottom_width=OptionsInfo(scss=True, category='row_group', type='px', value='2px'), row_group_border_bottom_color=OptionsInfo(scss=True, category='row_group', type='value', value='#D3D3D3'), row_group_border_left_style=OptionsInfo(scss=True, category='row_group', type='value', value='none'), row_group_border_left_width=OptionsInfo(scss=True, category='row_group', type='px', value='1px'), row_group_border_left_color=OptionsInfo(scss=True, category='row_group', type='value', value='#D3D3D3'), row_group_as_column=OptionsInfo(scss=False, category='row_group', type='boolean', value=False), table_body_hlines_style=OptionsInfo(scss=True, category='table_body', type='value', value='solid'), table_body_hlines_width=OptionsInfo(scss=True, category='table_body', type='px', value='1px'), table_body_hlines_color=OptionsInfo(scss=True, category='table_body', type='value', value='#D3D3D3'), table_body_vlines_style=OptionsInfo(scss=True, category='table_body', type='value', value='none'), table_body_vlines_width=OptionsInfo(scss=True, category='table_body', type='px', value='1px'), table_body_vlines_color=OptionsInfo(scss=True, category='table_body', type='value', value='#D3D3D3'), table_body_border_top_style=OptionsInfo(scss=True, category='table_body', type='value', value='solid'), table_body_border_top_width=OptionsInfo(scss=True, category='table_body', type='px', value='2px'), table_body_border_top_color=OptionsInfo(scss=True, category='table_body', type='value', value='#D3D3D3'), table_body_border_bottom_style=OptionsInfo(scss=True, category='table_body', type='value', value='solid'), table_body_border_bottom_width=OptionsInfo(scss=True, category='table_body', type='px', value='2px'), table_body_border_bottom_color=OptionsInfo(scss=True, category='table_body', type='value', value='#D3D3D3'), data_row_padding=OptionsInfo(scss=True, category='data_row', type='px', value='6px'), data_row_padding_horizontal=OptionsInfo(scss=True, category='data_row', type='px', value='5px'), stub_background_color=OptionsInfo(scss=True, category='stub', type='value', value=None), stub_font_size=OptionsInfo(scss=True, category='stub', type='px', value='100%'), stub_font_weight=OptionsInfo(scss=True, category='stub', type='value', value='initial'), stub_text_transform=OptionsInfo(scss=True, category='stub', type='value', value='inherit'), stub_border_style=OptionsInfo(scss=True, category='stub', type='value', value='solid'), stub_border_width=OptionsInfo(scss=True, category='stub', type='px', value='2px'), stub_border_color=OptionsInfo(scss=True, category='stub', type='value', value='#D3D3D3'), stub_row_group_background_color=OptionsInfo(scss=True, category='stub', type='value', value=None), stub_row_group_font_size=OptionsInfo(scss=True, category='stub', type='px', value='100%'), stub_row_group_font_weight=OptionsInfo(scss=True, category='stub', type='value', value='initial'), stub_row_group_text_transform=OptionsInfo(scss=True, category='stub', type='value', value='inherit'), stub_row_group_border_style=OptionsInfo(scss=True, category='stub', type='value', value='solid'), stub_row_group_border_width=OptionsInfo(scss=True, category='stub', type='px', value='2px'), stub_row_group_border_color=OptionsInfo(scss=True, category='stub', type='value', value='#D3D3D3'), source_notes_padding=OptionsInfo(scss=True, category='source_notes', type='px', value='3px'), source_notes_padding_horizontal=OptionsInfo(scss=True, category='source_notes', type='px', value='5px'), source_notes_background_color=OptionsInfo(scss=True, category='source_notes', type='value', value=None), source_notes_font_size=OptionsInfo(scss=True, category='source_notes', type='px', value='small'), source_notes_border_bottom_style=OptionsInfo(scss=True, category='source_notes', type='value', value='none'), source_notes_border_bottom_width=OptionsInfo(scss=True, category='source_notes', type='px', value='2px'), source_notes_border_bottom_color=OptionsInfo(scss=True, category='source_notes', type='value', value='#D3D3D3'), source_notes_border_lr_style=OptionsInfo(scss=True, category='source_notes', type='value', value='none'), source_notes_border_lr_width=OptionsInfo(scss=True, category='source_notes', type='px', value='2px'), source_notes_border_lr_color=OptionsInfo(scss=True, category='source_notes', type='value', value='#D3D3D3'), source_notes_multiline=OptionsInfo(scss=False, category='source_notes', type='boolean', value=True), source_notes_sep=OptionsInfo(scss=False, category='source_notes', type='value', value=' '), row_striping_background_color=OptionsInfo(scss=True, category='row', type='value', value='rgba(128,128,128,0.05)'), row_striping_include_stub=OptionsInfo(scss=False, category='row', type='boolean', value=False), row_striping_include_table_body=OptionsInfo(scss=False, category='row', type='boolean', value=False), container_width=OptionsInfo(scss=False, category='container', type='px', value='auto'), container_height=OptionsInfo(scss=False, category='container', type='px', value='auto'), container_padding_x=OptionsInfo(scss=False, category='container', type='px', value='0px'), container_padding_y=OptionsInfo(scss=False, category='container', type='px', value='10px'), container_overflow_x=OptionsInfo(scss=False, category='container', type='overflow', value='auto'), container_overflow_y=OptionsInfo(scss=False, category='container', type='overflow', value='auto'), quarto_disable_processing=OptionsInfo(scss=False, category='quarto', type='logical', value=False), quarto_use_bootstrap=OptionsInfo(scss=False, category='quarto', type='logical', value=False)), _has_built=False)"
      ]
     },
     "metadata": {},
     "output_type": "display_data"
    },
    {
     "data": {
      "text/html": [
       "<div><style>\n",
       ".dataframe > thead > tr,\n",
       ".dataframe > tbody > tr {\n",
       "  text-align: right;\n",
       "  white-space: pre-wrap;\n",
       "}\n",
       "</style>\n",
       "<small>shape: (1, 13)</small><table border=\"1\" class=\"dataframe\"><thead><tr><th>AIC</th><th>AICc</th><th>BIC</th><th>ICC</th><th>R2_conditional</th><th>R2_marginal</th><th>RMSE</th><th>Sigma</th><th>deviance</th><th>df_residual</th><th>logLik</th><th>nobs</th><th>sigma</th></tr><tr><td>f64</td><td>f64</td><td>f64</td><td>f64</td><td>f64</td><td>f64</td><td>f64</td><td>f64</td><td>f64</td><td>i64</td><td>f64</td><td>i64</td><td>f64</td></tr></thead><tbody><tr><td>1230.749628</td><td>1231.081643</td><td>1252.113717</td><td>0.247671</td><td>0.447169</td><td>0.265174</td><td>2.472573</td><td>0.203785</td><td>9.400602</td><td>254</td><td>-609.374814</td><td>260</td><td>0.203785</td></tr></tbody></table></div>"
      ],
      "text/plain": [
       "shape: (1, 13)\n",
       "┌─────────────┬────────────┬────────────┬──────────┬───┬────────────┬────────────┬──────┬──────────┐\n",
       "│ AIC         ┆ AICc       ┆ BIC        ┆ ICC      ┆ … ┆ df_residua ┆ logLik     ┆ nobs ┆ sigma    │\n",
       "│ ---         ┆ ---        ┆ ---        ┆ ---      ┆   ┆ l          ┆ ---        ┆ ---  ┆ ---      │\n",
       "│ f64         ┆ f64        ┆ f64        ┆ f64      ┆   ┆ ---        ┆ f64        ┆ i64  ┆ f64      │\n",
       "│             ┆            ┆            ┆          ┆   ┆ i64        ┆            ┆      ┆          │\n",
       "╞═════════════╪════════════╪════════════╪══════════╪═══╪════════════╪════════════╪══════╪══════════╡\n",
       "│ 1230.749628 ┆ 1231.08164 ┆ 1252.11371 ┆ 0.247671 ┆ … ┆ 254        ┆ -609.37481 ┆ 260  ┆ 0.203785 │\n",
       "│             ┆ 3          ┆ 7          ┆          ┆   ┆            ┆ 4          ┆      ┆          │\n",
       "└─────────────┴────────────┴────────────┴──────────┴───┴────────────┴────────────┴──────┴──────────┘"
      ]
     },
     "metadata": {},
     "output_type": "display_data"
    },
    {
     "data": {
      "application/vnd.plotly.v1+json": {
       "config": {
        "plotlyServerURL": "https://plot.ly"
       },
       "data": [
        {
         "marker": {
          "color": "#6C8EBF",
          "size": 10
         },
         "mode": "markers",
         "text": [
          "RT01",
          "RT01",
          "RT01",
          "RT01",
          "RT01",
          "RT01",
          "RT01",
          "RT01",
          "RT01",
          "RT01",
          "RT01",
          "RT01",
          "RT01",
          "RT01",
          "RT01",
          "RT01",
          "RT01",
          "RT01",
          "RT01",
          "RT01",
          "RT02",
          "RT02",
          "RT02",
          "RT02",
          "RT02",
          "RT02",
          "RT02",
          "RT02",
          "RT02",
          "RT02",
          "RT02",
          "RT02",
          "RT02",
          "RT02",
          "RT02",
          "RT02",
          "RT02",
          "RT02",
          "RT02",
          "RT02",
          "RT03",
          "RT03",
          "RT03",
          "RT03",
          "RT03",
          "RT03",
          "RT03",
          "RT03",
          "RT03",
          "RT03",
          "RT03",
          "RT03",
          "RT03",
          "RT03",
          "RT03",
          "RT03",
          "RT03",
          "RT03",
          "RT03",
          "RT03",
          "RT04",
          "RT04",
          "RT04",
          "RT04",
          "RT04",
          "RT04",
          "RT04",
          "RT04",
          "RT04",
          "RT04",
          "RT04",
          "RT04",
          "RT04",
          "RT04",
          "RT04",
          "RT04",
          "RT04",
          "RT04",
          "RT04",
          "RT04",
          "RT05",
          "RT05",
          "RT05",
          "RT05",
          "RT05",
          "RT05",
          "RT05",
          "RT05",
          "RT05",
          "RT05",
          "RT05",
          "RT05",
          "RT05",
          "RT05",
          "RT05",
          "RT05",
          "RT05",
          "RT05",
          "RT05",
          "RT05",
          "RT06",
          "RT06",
          "RT06",
          "RT06",
          "RT06",
          "RT06",
          "RT06",
          "RT06",
          "RT06",
          "RT06",
          "RT06",
          "RT06",
          "RT06",
          "RT06",
          "RT06",
          "RT06",
          "RT06",
          "RT06",
          "RT06",
          "RT06",
          "RT09",
          "RT09",
          "RT09",
          "RT09",
          "RT09",
          "RT09",
          "RT09",
          "RT09",
          "RT09",
          "RT09",
          "RT09",
          "RT09",
          "RT09",
          "RT09",
          "RT09",
          "RT09",
          "RT09",
          "RT09",
          "RT09",
          "RT09",
          "RT10",
          "RT10",
          "RT10",
          "RT10",
          "RT10",
          "RT10",
          "RT10",
          "RT10",
          "RT10",
          "RT10",
          "RT10",
          "RT10",
          "RT10",
          "RT10",
          "RT10",
          "RT10",
          "RT10",
          "RT10",
          "RT10",
          "RT10",
          "RT11",
          "RT11",
          "RT11",
          "RT11",
          "RT11",
          "RT11",
          "RT11",
          "RT11",
          "RT11",
          "RT11",
          "RT11",
          "RT11",
          "RT11",
          "RT11",
          "RT11",
          "RT11",
          "RT11",
          "RT11",
          "RT11",
          "RT11",
          "RT12",
          "RT12",
          "RT12",
          "RT12",
          "RT12",
          "RT12",
          "RT12",
          "RT12",
          "RT12",
          "RT12",
          "RT12",
          "RT12",
          "RT12",
          "RT12",
          "RT12",
          "RT12",
          "RT12",
          "RT12",
          "RT12",
          "RT12",
          "RT13",
          "RT13",
          "RT13",
          "RT13",
          "RT13",
          "RT13",
          "RT13",
          "RT13",
          "RT13",
          "RT13",
          "RT13",
          "RT13",
          "RT13",
          "RT13",
          "RT13",
          "RT13",
          "RT13",
          "RT13",
          "RT13",
          "RT13",
          "RT14",
          "RT14",
          "RT14",
          "RT14",
          "RT14",
          "RT14",
          "RT14",
          "RT14",
          "RT14",
          "RT14",
          "RT14",
          "RT14",
          "RT14",
          "RT14",
          "RT14",
          "RT14",
          "RT14",
          "RT14",
          "RT14",
          "RT14",
          "RT15",
          "RT15",
          "RT15",
          "RT15",
          "RT15",
          "RT15",
          "RT15",
          "RT15",
          "RT15",
          "RT15",
          "RT15",
          "RT15",
          "RT15",
          "RT15",
          "RT15",
          "RT15",
          "RT15",
          "RT15",
          "RT15",
          "RT15"
         ],
         "type": "scatter",
         "x": {
          "bdata": "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",
          "dtype": "f8"
         },
         "xaxis": "x",
         "y": {
          "bdata": "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",
          "dtype": "f8"
         },
         "yaxis": "y"
        },
        {
         "marker": {
          "color": "#6C8EBF",
          "size": 10
         },
         "mode": "markers",
         "type": "scatter",
         "x": {
          "bdata": "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",
          "dtype": "f8"
         },
         "xaxis": "x2",
         "y": {
          "bdata": "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",
          "dtype": "f8"
         },
         "yaxis": "y2"
        },
        {
         "marker": {
          "color": "#B85450",
          "line": {
           "width": 2
          }
         },
         "mode": "lines",
         "type": "scatter",
         "x": {
          "bdata": "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",
          "dtype": "f8"
         },
         "xaxis": "x2",
         "y": {
          "bdata": "CKaSV+WN4L9C4eluNivev1oUHKK1Vdy/pGve0zb52r+vbyiNBuHZv1Yg984O9di/gtaX6zIo2L+BZJTZfHLXv+kV+X62zta/HbSY90Q51r9lVgg3jq/Vv/yZDiehL9W/QSDcigC41L9mHu9QgUfUv2sK9lo03dO/U93VVld4079jh8cdShjTvxGo3xCHvNK/22alfZ1k0r9iV6VsLRDSvygAZHHkvtG/kDTMNHtw0b+iMgmJsyTRv2TdMeRW29C/n6/xKDWU0L/P+RirI0/Qv9YEt2L8C9C//K96hzqVz79AkTFlzxXPvwQT5x+Amc6/7/JHrhogzr/px4+XcanNvzf2lGdbNc2//L9JN7LDzL8QcjJGU1TMv7QA/6Ee58u/8fT+2fZ7y79nSJK8wBLLv+hpDx1jq8q/Mh3boMZFyr+zAaaS1eHJvwon8Lp7f8m/OmQXPaYeyb/y21J4Q7/IvymHFuxCYci/Fs9tH5UEyL+/Ae2KK6nHv29k54T4Tse/E1mjL+/1xr8m309pA57Gv2EDh70pR8a/5tUvWFfxxb8adZj5gZzFv4zQpeufSMW/ox/796f1xL9cwv5ekaPEv8N2pc9TUsS/jJLvX+cBxL9FVAaGRLLDvzxz6RFkY8O/9OKeJz8Vw7/FUdg5z8fCvyJKAwUOe8K/4hG6ivUuwr94cYwNgOPBv9J6GA2omMG/6ThsQmhOwb926qmcuwTBv7sN6T2du8C/pBRPeAhzwL8yGVvL+CrAvza6wMLTxr+/zopXGq84v7+uvKGPe6u+v3CKNl0xH76/zj1DAsmTvb9yBu8+Owm9v9oA+BCBf7y/Bh2FsJP2u79U9CiNbG67v5jzEUsF57q/hIxkwFdgur/qZrzyXdq5v/TK0RQSVbm/BLZAhG7QuL8AQW/HbUy4v8AtkYsKybe/7JzGoj9Gt7+4FFQCCMS2v7Yk8sBeQra/CBQzFT/Btb+eJP1TpEC1v+4RGO+JwLS/RorMc+tAtL/UeJSJxMGzv5QL2/AQQ7O/RnPLgczEsr+obS0r80ayv965TvGAybG/ZKb47HFMsb9A9XBKws+wv9RfhUhuU7C/NB9Cb+Sur7+F1tbxlLeuv01E3/rmwK2/INGYitPKrL8RwNa9U9Wrvz5df8xg4Kq/450WCPTrqb+JU1XaBviovyQfzMOSBKi/91yRWpERp7/NS/lI/B6mv6q7V0zNLKW/bJnKM/46pL+2swzfiEmjvygeUD1nWKK/vZ0fTJNnob+Kj0YWB3egv3KCfWV5DZ+/pW1Hh1wtnb9AvlXqq02bvxB2QPlbbpm/9gHOLmGPl796kPsTsLCVv+CVCz490pO/PKGZTP3zkb86qbLn5BWQv5H44XvRb4y/xAM2BfuziL8U+ofXL/iEvzgF3GBZPIG/5laxGsIAe7/CdhWHYIhzvyRIm4LBHmi/kOc2plVWUr8wYeANeClHPyC5C1c0wmQ/bv3a71necT/kuqFjHF15PwwHPe7HboA/YEBcfPEvhD8OecBTIvKHP8h6ghhytYs//tB0n/h5jz/kMzb55p+RP2l4UCqFg5M/rpiTI+NnlT8Ku8NGDU2XP1Q/ORkQM5k/JqhLRvgZmz/iPM6h0gGdP4i7nyqs6p4/m0CnBklqoD+qUWnTyF+hP9vEr0PcVaI/DFenOopMoz++nxK42UOkPzdA29nRO6U/Bmuy3Xk0pj9TzcEi2S2nP0b0bSv3J6g/3Vsrn9siqT8XZ2dMjh6qP7GXhioXG6s/NXL5W34YrD8RlWkwzBatP2WkACcJFq4/x8nK8D0Wrz9KVJu5uQuwP/pkWmXZjLA//lS8poIOsT803S5HupCxPwRu+S+FE7I/RIHXa+iWsj9K9qgo6RqzPzYLOrmMn7M/Lqckl9gktD/IzMxk0qq0P+Azeu9/MbU/ljSRMee4tT9KXe1UDkG2PyJBYLX7ybY/tkZX47VTtz8SfqumQ963P7bKngGsabg/9PwJNPb1uD8Sy7++KYO5P3r6KGdOEbo/rHIeO2yguj+KaQaVizC7P7xbOiC1wbs/MBW83fFTvD8askApS+e8P+g1mb7Ke70/NCOBv3oRvj8IZNy5Zai+P4jUbq6WQL8/zuMYGBnavz8WA9N5fDrAP16THWShiMA/Z3Q62IHXwD+usiOyJCfBP+aW2SGRd8E/fuIysc7IwT/FPy9K5RrCP67w2T3dbcI/OpXMS7/Bwj8I9mOqlBbDP4Mjuw9nbMM/Sf+Du0DDwz81edeBLBvEP5GEG9c1dMQ/4SEh3WjOxD8476Fx0inFP0unSj6AhsU/FPyGyoDkxT9chEuP40PGPyxHJA25pMY/1SHa5BIHxz9UPQ/zA2vHPwqKQ2+g0Mc/iWjGDv43yD8TFTMsNKHIP9QgM/RbDMk/MpJmmJB5yT8e4H2J7+jJP1kWybmYWso/C+jD6a7Oyj8RE3wAWEXLPyYzG3K9vss/X7Fltww7zD8e0K7Zd7rMP9Epohc2Pc0/xBNmqITDzT9gfxekp03OP+valxrr284/Z4VGZKRuzz+gRObdGQPQPzoQfhqDUdA/dGe/Fcyi0D/tdr8mPPfQPyO4+bklT9E/dZfhxuiq0T9m7e//9QrSP30aEATTb9I/eC4J+h/a0j9UMPYzn0rTPwyqKNA/wtM/d2Yi4CxC1D8vxLKg48vUP/slEyhVYdU/kHSughsF1j+U5rGU0brWP2swEXith9c/vn9CNqVz2D+0e/h81YvZP2wkNktU6No/XfEDGNW93D8ZXD9Yaa7fPw==",
          "dtype": "f8"
         },
         "yaxis": "y2"
        },
        {
         "marker": {
          "color": "#6C8EBF",
          "size": 10
         },
         "mode": "markers",
         "text": [
          "RT01",
          "RT01",
          "RT01",
          "RT01",
          "RT01",
          "RT01",
          "RT01",
          "RT01",
          "RT01",
          "RT01",
          "RT01",
          "RT01",
          "RT01",
          "RT01",
          "RT01",
          "RT01",
          "RT01",
          "RT01",
          "RT01",
          "RT01",
          "RT02",
          "RT02",
          "RT02",
          "RT02",
          "RT02",
          "RT02",
          "RT02",
          "RT02",
          "RT02",
          "RT02",
          "RT02",
          "RT02",
          "RT02",
          "RT02",
          "RT02",
          "RT02",
          "RT02",
          "RT02",
          "RT02",
          "RT02",
          "RT03",
          "RT03",
          "RT03",
          "RT03",
          "RT03",
          "RT03",
          "RT03",
          "RT03",
          "RT03",
          "RT03",
          "RT03",
          "RT03",
          "RT03",
          "RT03",
          "RT03",
          "RT03",
          "RT03",
          "RT03",
          "RT03",
          "RT03",
          "RT04",
          "RT04",
          "RT04",
          "RT04",
          "RT04",
          "RT04",
          "RT04",
          "RT04",
          "RT04",
          "RT04",
          "RT04",
          "RT04",
          "RT04",
          "RT04",
          "RT04",
          "RT04",
          "RT04",
          "RT04",
          "RT04",
          "RT04",
          "RT05",
          "RT05",
          "RT05",
          "RT05",
          "RT05",
          "RT05",
          "RT05",
          "RT05",
          "RT05",
          "RT05",
          "RT05",
          "RT05",
          "RT05",
          "RT05",
          "RT05",
          "RT05",
          "RT05",
          "RT05",
          "RT05",
          "RT05",
          "RT06",
          "RT06",
          "RT06",
          "RT06",
          "RT06",
          "RT06",
          "RT06",
          "RT06",
          "RT06",
          "RT06",
          "RT06",
          "RT06",
          "RT06",
          "RT06",
          "RT06",
          "RT06",
          "RT06",
          "RT06",
          "RT06",
          "RT06",
          "RT09",
          "RT09",
          "RT09",
          "RT09",
          "RT09",
          "RT09",
          "RT09",
          "RT09",
          "RT09",
          "RT09",
          "RT09",
          "RT09",
          "RT09",
          "RT09",
          "RT09",
          "RT09",
          "RT09",
          "RT09",
          "RT09",
          "RT09",
          "RT10",
          "RT10",
          "RT10",
          "RT10",
          "RT10",
          "RT10",
          "RT10",
          "RT10",
          "RT10",
          "RT10",
          "RT10",
          "RT10",
          "RT10",
          "RT10",
          "RT10",
          "RT10",
          "RT10",
          "RT10",
          "RT10",
          "RT10",
          "RT11",
          "RT11",
          "RT11",
          "RT11",
          "RT11",
          "RT11",
          "RT11",
          "RT11",
          "RT11",
          "RT11",
          "RT11",
          "RT11",
          "RT11",
          "RT11",
          "RT11",
          "RT11",
          "RT11",
          "RT11",
          "RT11",
          "RT11",
          "RT12",
          "RT12",
          "RT12",
          "RT12",
          "RT12",
          "RT12",
          "RT12",
          "RT12",
          "RT12",
          "RT12",
          "RT12",
          "RT12",
          "RT12",
          "RT12",
          "RT12",
          "RT12",
          "RT12",
          "RT12",
          "RT12",
          "RT12",
          "RT13",
          "RT13",
          "RT13",
          "RT13",
          "RT13",
          "RT13",
          "RT13",
          "RT13",
          "RT13",
          "RT13",
          "RT13",
          "RT13",
          "RT13",
          "RT13",
          "RT13",
          "RT13",
          "RT13",
          "RT13",
          "RT13",
          "RT13",
          "RT14",
          "RT14",
          "RT14",
          "RT14",
          "RT14",
          "RT14",
          "RT14",
          "RT14",
          "RT14",
          "RT14",
          "RT14",
          "RT14",
          "RT14",
          "RT14",
          "RT14",
          "RT14",
          "RT14",
          "RT14",
          "RT14",
          "RT14",
          "RT15",
          "RT15",
          "RT15",
          "RT15",
          "RT15",
          "RT15",
          "RT15",
          "RT15",
          "RT15",
          "RT15",
          "RT15",
          "RT15",
          "RT15",
          "RT15",
          "RT15",
          "RT15",
          "RT15",
          "RT15",
          "RT15",
          "RT15"
         ],
         "type": "scatter",
         "x": {
          "bdata": "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",
          "dtype": "f8"
         },
         "xaxis": "x3",
         "y": {
          "bdata": "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",
          "dtype": "f8"
         },
         "yaxis": "y3"
        },
        {
         "histnorm": "probability",
         "marker": {
          "color": "#6C8EBF"
         },
         "type": "histogram",
         "x": {
          "bdata": "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",
          "dtype": "f8"
         },
         "xaxis": "x4",
         "yaxis": "y4"
        }
       ],
       "layout": {
        "height": 500,
        "margin": {
         "b": 5,
         "l": 10,
         "r": 10,
         "t": 5
        },
        "showlegend": false,
        "template": {
         "data": {
          "bar": [
           {
            "error_x": {
             "color": "#2a3f5f"
            },
            "error_y": {
             "color": "#2a3f5f"
            },
            "marker": {
             "line": {
              "color": "white",
              "width": 0.5
             },
             "pattern": {
              "fillmode": "overlay",
              "size": 10,
              "solidity": 0.2
             }
            },
            "type": "bar"
           }
          ],
          "barpolar": [
           {
            "marker": {
             "line": {
              "color": "white",
              "width": 0.5
             },
             "pattern": {
              "fillmode": "overlay",
              "size": 10,
              "solidity": 0.2
             }
            },
            "type": "barpolar"
           }
          ],
          "carpet": [
           {
            "aaxis": {
             "endlinecolor": "#2a3f5f",
             "gridcolor": "#C8D4E3",
             "linecolor": "#C8D4E3",
             "minorgridcolor": "#C8D4E3",
             "startlinecolor": "#2a3f5f"
            },
            "baxis": {
             "endlinecolor": "#2a3f5f",
             "gridcolor": "#C8D4E3",
             "linecolor": "#C8D4E3",
             "minorgridcolor": "#C8D4E3",
             "startlinecolor": "#2a3f5f"
            },
            "type": "carpet"
           }
          ],
          "choropleth": [
           {
            "colorbar": {
             "outlinewidth": 0,
             "ticks": ""
            },
            "type": "choropleth"
           }
          ],
          "contour": [
           {
            "colorbar": {
             "outlinewidth": 0,
             "ticks": ""
            },
            "colorscale": [
             [
              0,
              "#0d0887"
             ],
             [
              0.1111111111111111,
              "#46039f"
             ],
             [
              0.2222222222222222,
              "#7201a8"
             ],
             [
              0.3333333333333333,
              "#9c179e"
             ],
             [
              0.4444444444444444,
              "#bd3786"
             ],
             [
              0.5555555555555556,
              "#d8576b"
             ],
             [
              0.6666666666666666,
              "#ed7953"
             ],
             [
              0.7777777777777778,
              "#fb9f3a"
             ],
             [
              0.8888888888888888,
              "#fdca26"
             ],
             [
              1,
              "#f0f921"
             ]
            ],
            "type": "contour"
           }
          ],
          "contourcarpet": [
           {
            "colorbar": {
             "outlinewidth": 0,
             "ticks": ""
            },
            "type": "contourcarpet"
           }
          ],
          "heatmap": [
           {
            "colorbar": {
             "outlinewidth": 0,
             "ticks": ""
            },
            "colorscale": [
             [
              0,
              "#0d0887"
             ],
             [
              0.1111111111111111,
              "#46039f"
             ],
             [
              0.2222222222222222,
              "#7201a8"
             ],
             [
              0.3333333333333333,
              "#9c179e"
             ],
             [
              0.4444444444444444,
              "#bd3786"
             ],
             [
              0.5555555555555556,
              "#d8576b"
             ],
             [
              0.6666666666666666,
              "#ed7953"
             ],
             [
              0.7777777777777778,
              "#fb9f3a"
             ],
             [
              0.8888888888888888,
              "#fdca26"
             ],
             [
              1,
              "#f0f921"
             ]
            ],
            "type": "heatmap"
           }
          ],
          "histogram": [
           {
            "marker": {
             "pattern": {
              "fillmode": "overlay",
              "size": 10,
              "solidity": 0.2
             }
            },
            "type": "histogram"
           }
          ],
          "histogram2d": [
           {
            "colorbar": {
             "outlinewidth": 0,
             "ticks": ""
            },
            "colorscale": [
             [
              0,
              "#0d0887"
             ],
             [
              0.1111111111111111,
              "#46039f"
             ],
             [
              0.2222222222222222,
              "#7201a8"
             ],
             [
              0.3333333333333333,
              "#9c179e"
             ],
             [
              0.4444444444444444,
              "#bd3786"
             ],
             [
              0.5555555555555556,
              "#d8576b"
             ],
             [
              0.6666666666666666,
              "#ed7953"
             ],
             [
              0.7777777777777778,
              "#fb9f3a"
             ],
             [
              0.8888888888888888,
              "#fdca26"
             ],
             [
              1,
              "#f0f921"
             ]
            ],
            "type": "histogram2d"
           }
          ],
          "histogram2dcontour": [
           {
            "colorbar": {
             "outlinewidth": 0,
             "ticks": ""
            },
            "colorscale": [
             [
              0,
              "#0d0887"
             ],
             [
              0.1111111111111111,
              "#46039f"
             ],
             [
              0.2222222222222222,
              "#7201a8"
             ],
             [
              0.3333333333333333,
              "#9c179e"
             ],
             [
              0.4444444444444444,
              "#bd3786"
             ],
             [
              0.5555555555555556,
              "#d8576b"
             ],
             [
              0.6666666666666666,
              "#ed7953"
             ],
             [
              0.7777777777777778,
              "#fb9f3a"
             ],
             [
              0.8888888888888888,
              "#fdca26"
             ],
             [
              1,
              "#f0f921"
             ]
            ],
            "type": "histogram2dcontour"
           }
          ],
          "mesh3d": [
           {
            "colorbar": {
             "outlinewidth": 0,
             "ticks": ""
            },
            "type": "mesh3d"
           }
          ],
          "parcoords": [
           {
            "line": {
             "colorbar": {
              "outlinewidth": 0,
              "ticks": ""
             }
            },
            "type": "parcoords"
           }
          ],
          "pie": [
           {
            "automargin": true,
            "type": "pie"
           }
          ],
          "scatter": [
           {
            "fillpattern": {
             "fillmode": "overlay",
             "size": 10,
             "solidity": 0.2
            },
            "type": "scatter"
           }
          ],
          "scatter3d": [
           {
            "line": {
             "colorbar": {
              "outlinewidth": 0,
              "ticks": ""
             }
            },
            "marker": {
             "colorbar": {
              "outlinewidth": 0,
              "ticks": ""
             }
            },
            "type": "scatter3d"
           }
          ],
          "scattercarpet": [
           {
            "marker": {
             "colorbar": {
              "outlinewidth": 0,
              "ticks": ""
             }
            },
            "type": "scattercarpet"
           }
          ],
          "scattergeo": [
           {
            "marker": {
             "colorbar": {
              "outlinewidth": 0,
              "ticks": ""
             }
            },
            "type": "scattergeo"
           }
          ],
          "scattergl": [
           {
            "marker": {
             "colorbar": {
              "outlinewidth": 0,
              "ticks": ""
             }
            },
            "type": "scattergl"
           }
          ],
          "scattermap": [
           {
            "marker": {
             "colorbar": {
              "outlinewidth": 0,
              "ticks": ""
             }
            },
            "type": "scattermap"
           }
          ],
          "scattermapbox": [
           {
            "marker": {
             "colorbar": {
              "outlinewidth": 0,
              "ticks": ""
             }
            },
            "type": "scattermapbox"
           }
          ],
          "scatterpolar": [
           {
            "marker": {
             "colorbar": {
              "outlinewidth": 0,
              "ticks": ""
             }
            },
            "type": "scatterpolar"
           }
          ],
          "scatterpolargl": [
           {
            "marker": {
             "colorbar": {
              "outlinewidth": 0,
              "ticks": ""
             }
            },
            "type": "scatterpolargl"
           }
          ],
          "scatterternary": [
           {
            "marker": {
             "colorbar": {
              "outlinewidth": 0,
              "ticks": ""
             }
            },
            "type": "scatterternary"
           }
          ],
          "surface": [
           {
            "colorbar": {
             "outlinewidth": 0,
             "ticks": ""
            },
            "colorscale": [
             [
              0,
              "#0d0887"
             ],
             [
              0.1111111111111111,
              "#46039f"
             ],
             [
              0.2222222222222222,
              "#7201a8"
             ],
             [
              0.3333333333333333,
              "#9c179e"
             ],
             [
              0.4444444444444444,
              "#bd3786"
             ],
             [
              0.5555555555555556,
              "#d8576b"
             ],
             [
              0.6666666666666666,
              "#ed7953"
             ],
             [
              0.7777777777777778,
              "#fb9f3a"
             ],
             [
              0.8888888888888888,
              "#fdca26"
             ],
             [
              1,
              "#f0f921"
             ]
            ],
            "type": "surface"
           }
          ],
          "table": [
           {
            "cells": {
             "fill": {
              "color": "#EBF0F8"
             },
             "line": {
              "color": "white"
             }
            },
            "header": {
             "fill": {
              "color": "#C8D4E3"
             },
             "line": {
              "color": "white"
             }
            },
            "type": "table"
           }
          ]
         },
         "layout": {
          "annotationdefaults": {
           "arrowcolor": "#2a3f5f",
           "arrowhead": 0,
           "arrowwidth": 1
          },
          "autotypenumbers": "strict",
          "coloraxis": {
           "colorbar": {
            "outlinewidth": 0,
            "ticks": ""
           }
          },
          "colorscale": {
           "diverging": [
            [
             0,
             "#8e0152"
            ],
            [
             0.1,
             "#c51b7d"
            ],
            [
             0.2,
             "#de77ae"
            ],
            [
             0.3,
             "#f1b6da"
            ],
            [
             0.4,
             "#fde0ef"
            ],
            [
             0.5,
             "#f7f7f7"
            ],
            [
             0.6,
             "#e6f5d0"
            ],
            [
             0.7,
             "#b8e186"
            ],
            [
             0.8,
             "#7fbc41"
            ],
            [
             0.9,
             "#4d9221"
            ],
            [
             1,
             "#276419"
            ]
           ],
           "sequential": [
            [
             0,
             "#0d0887"
            ],
            [
             0.1111111111111111,
             "#46039f"
            ],
            [
             0.2222222222222222,
             "#7201a8"
            ],
            [
             0.3333333333333333,
             "#9c179e"
            ],
            [
             0.4444444444444444,
             "#bd3786"
            ],
            [
             0.5555555555555556,
             "#d8576b"
            ],
            [
             0.6666666666666666,
             "#ed7953"
            ],
            [
             0.7777777777777778,
             "#fb9f3a"
            ],
            [
             0.8888888888888888,
             "#fdca26"
            ],
            [
             1,
             "#f0f921"
            ]
           ],
           "sequentialminus": [
            [
             0,
             "#0d0887"
            ],
            [
             0.1111111111111111,
             "#46039f"
            ],
            [
             0.2222222222222222,
             "#7201a8"
            ],
            [
             0.3333333333333333,
             "#9c179e"
            ],
            [
             0.4444444444444444,
             "#bd3786"
            ],
            [
             0.5555555555555556,
             "#d8576b"
            ],
            [
             0.6666666666666666,
             "#ed7953"
            ],
            [
             0.7777777777777778,
             "#fb9f3a"
            ],
            [
             0.8888888888888888,
             "#fdca26"
            ],
            [
             1,
             "#f0f921"
            ]
           ]
          },
          "colorway": [
           "#636efa",
           "#EF553B",
           "#00cc96",
           "#ab63fa",
           "#FFA15A",
           "#19d3f3",
           "#FF6692",
           "#B6E880",
           "#FF97FF",
           "#FECB52"
          ],
          "font": {
           "color": "#2a3f5f"
          },
          "geo": {
           "bgcolor": "white",
           "lakecolor": "white",
           "landcolor": "white",
           "showlakes": true,
           "showland": true,
           "subunitcolor": "#C8D4E3"
          },
          "hoverlabel": {
           "align": "left"
          },
          "hovermode": "closest",
          "mapbox": {
           "style": "light"
          },
          "paper_bgcolor": "white",
          "plot_bgcolor": "white",
          "polar": {
           "angularaxis": {
            "gridcolor": "#EBF0F8",
            "linecolor": "#EBF0F8",
            "ticks": ""
           },
           "bgcolor": "white",
           "radialaxis": {
            "gridcolor": "#EBF0F8",
            "linecolor": "#EBF0F8",
            "ticks": ""
           }
          },
          "scene": {
           "xaxis": {
            "backgroundcolor": "white",
            "gridcolor": "#DFE8F3",
            "gridwidth": 2,
            "linecolor": "#EBF0F8",
            "showbackground": true,
            "ticks": "",
            "zerolinecolor": "#EBF0F8"
           },
           "yaxis": {
            "backgroundcolor": "white",
            "gridcolor": "#DFE8F3",
            "gridwidth": 2,
            "linecolor": "#EBF0F8",
            "showbackground": true,
            "ticks": "",
            "zerolinecolor": "#EBF0F8"
           },
           "zaxis": {
            "backgroundcolor": "white",
            "gridcolor": "#DFE8F3",
            "gridwidth": 2,
            "linecolor": "#EBF0F8",
            "showbackground": true,
            "ticks": "",
            "zerolinecolor": "#EBF0F8"
           }
          },
          "shapedefaults": {
           "line": {
            "color": "#2a3f5f"
           }
          },
          "ternary": {
           "aaxis": {
            "gridcolor": "#DFE8F3",
            "linecolor": "#A2B1C6",
            "ticks": ""
           },
           "baxis": {
            "gridcolor": "#DFE8F3",
            "linecolor": "#A2B1C6",
            "ticks": ""
           },
           "bgcolor": "white",
           "caxis": {
            "gridcolor": "#DFE8F3",
            "linecolor": "#A2B1C6",
            "ticks": ""
           }
          },
          "title": {
           "x": 0.05
          },
          "xaxis": {
           "automargin": true,
           "gridcolor": "#EBF0F8",
           "linecolor": "#EBF0F8",
           "ticks": "",
           "title": {
            "standoff": 15
           },
           "zerolinecolor": "#EBF0F8",
           "zerolinewidth": 2
          },
          "yaxis": {
           "automargin": true,
           "gridcolor": "#EBF0F8",
           "linecolor": "#EBF0F8",
           "ticks": "",
           "title": {
            "standoff": 15
           },
           "zerolinecolor": "#EBF0F8",
           "zerolinewidth": 2
          }
         }
        },
        "width": 800,
        "xaxis": {
         "anchor": "y",
         "domain": [
          0,
          0.45
         ],
         "title": {
          "text": "Fitted"
         }
        },
        "xaxis2": {
         "anchor": "y2",
         "domain": [
          0.55,
          1
         ],
         "title": {
          "text": "Theoretical Quantiles"
         }
        },
        "xaxis3": {
         "anchor": "y3",
         "domain": [
          0,
          0.45
         ],
         "title": {
          "text": "Fitted"
         }
        },
        "xaxis4": {
         "anchor": "y4",
         "domain": [
          0.55,
          1
         ],
         "title": {
          "text": "Residuals"
         }
        },
        "yaxis": {
         "anchor": "x",
         "domain": [
          0.575,
          1
         ],
         "title": {
          "text": "Residuals"
         }
        },
        "yaxis2": {
         "anchor": "x2",
         "domain": [
          0.575,
          1
         ],
         "title": {
          "text": "Sample Quantiles"
         }
        },
        "yaxis3": {
         "anchor": "x3",
         "domain": [
          0,
          0.425
         ],
         "title": {
          "text": "Sqrt( Abs( Residuals ) )"
         }
        },
        "yaxis4": {
         "anchor": "x4",
         "domain": [
          0,
          0.425
         ],
         "title": {
          "text": "Count"
         }
        }
       }
      }
     },
     "metadata": {},
     "output_type": "display_data"
    }
   ],
   "source": [
    "glmm_snr_sot = glmer('SNR ~ Stain + Tissue + (1|Experiment) + (1|ROI)', data=pl_df_measures, family='Gamma', link='log')\n",
    "glmm_snr_sot.set_factors(['Stain', 'Tissue'])\n",
    "\n",
    "# Convert estimates to odds\n",
    "display(glmm_snr_sot.fit(exponentiate=True, summary=True, conf_method='boot'))\n",
    "\n",
    "display(glmm_snr_sot.result_fit_stats)\n",
    "stat_diagnostics(glmm_snr_sot.data['fitted'], glmm_snr_sot.data['resid'], glmm_snr_sot.data['Experiment'])"
   ]
  },
  {
   "cell_type": "code",
   "execution_count": 11,
   "id": "b3810e61",
   "metadata": {},
   "outputs": [
    {
     "data": {
      "text/html": [
       "<div id=\"gpptlazoyp\" style=\"padding-left:0px;padding-right:0px;padding-top:10px;padding-bottom:10px;overflow-x:auto;overflow-y:auto;width:auto;height:auto;\">\n",
       "<style>\n",
       "#gpptlazoyp table {\n",
       "          font-family: -apple-system, BlinkMacSystemFont, 'Segoe UI', Roboto, Oxygen, Ubuntu, Cantarell, 'Helvetica Neue', 'Fira Sans', 'Droid Sans', Arial, sans-serif;\n",
       "          -webkit-font-smoothing: antialiased;\n",
       "          -moz-osx-font-smoothing: grayscale;\n",
       "        }\n",
       "\n",
       "#gpptlazoyp thead, tbody, tfoot, tr, td, th { border-style: none !important; }\n",
       " tr { background-color: transparent !important; }\n",
       "#gpptlazoyp p { margin: 0 !important; padding: 0 !important; }\n",
       " #gpptlazoyp .gt_table { display: table !important; border-collapse: collapse !important; line-height: normal !important; margin-left: auto !important; margin-right: auto !important; color: #333333 !important; font-size: 16px !important; font-weight: normal !important; font-style: normal !important; background-color: #FFFFFF !important; width: auto !important; border-top-style: solid !important; border-top-width: 2px !important; border-top-color: #A8A8A8 !important; border-right-style: none !important; border-right-width: 2px !important; border-right-color: #D3D3D3 !important; border-bottom-style: solid !important; border-bottom-width: 2px !important; border-bottom-color: #A8A8A8 !important; border-left-style: none !important; border-left-width: 2px !important; border-left-color: #D3D3D3 !important; }\n",
       " #gpptlazoyp .gt_caption { padding-top: 4px !important; padding-bottom: 4px !important; }\n",
       " #gpptlazoyp .gt_title { color: #333333 !important; font-size: 125% !important; font-weight: initial !important; padding-top: 3px !important; padding-bottom: 3px !important; padding-left: 5px !important; padding-right: 5px !important; border-bottom-color: #FFFFFF !important; border-bottom-width: 0 !important; }\n",
       " #gpptlazoyp .gt_subtitle { color: #333333 !important; font-size: 85% !important; font-weight: initial !important; padding-top: 2px !important; padding-bottom: 4px !important; padding-left: 5px !important; padding-right: 5px !important; border-top-color: #FFFFFF !important; border-top-width: 0 !important; }\n",
       " #gpptlazoyp .gt_heading { background-color: #FFFFFF !important; text-align: left !important; border-bottom-color: #FFFFFF !important; border-left-style: none !important; border-left-width: 1px !important; border-left-color: #D3D3D3 !important; border-right-style: none !important; border-right-width: 1px !important; border-right-color: #D3D3D3 !important; }\n",
       " #gpptlazoyp .gt_bottom_border { border-bottom-style: solid !important; border-bottom-width: 2px !important; border-bottom-color: #D3D3D3 !important; }\n",
       " #gpptlazoyp .gt_col_headings { border-top-style: solid !important; border-top-width: 2px !important; border-top-color: #D3D3D3 !important; border-bottom-style: solid !important; border-bottom-width: 2px !important; border-bottom-color: #D3D3D3 !important; border-left-style: none !important; border-left-width: 1px !important; border-left-color: #D3D3D3 !important; border-right-style: none !important; border-right-width: 1px !important; border-right-color: #D3D3D3 !important; }\n",
       " #gpptlazoyp .gt_col_heading { color: #333333 !important; background-color: #FFFFFF !important; font-size: 100% !important; font-weight: normal !important; text-transform: inherit !important; border-left-style: none !important; border-left-width: 1px !important; border-left-color: #D3D3D3 !important; border-right-style: none !important; border-right-width: 1px !important; border-right-color: #D3D3D3 !important; vertical-align: bottom !important; padding-top: 3px !important; padding-bottom: 4px !important; padding-left: 5px !important; padding-right: 5px !important; overflow-x: hidden !important; }\n",
       " #gpptlazoyp .gt_column_spanner_outer { color: #333333 !important; background-color: #FFFFFF !important; font-size: 100% !important; font-weight: normal !important; text-transform: inherit !important; padding-top: 0 !important; padding-bottom: 0 !important; padding-left: 4px !important; padding-right: 4px !important; }\n",
       " #gpptlazoyp .gt_column_spanner_outer:first-child { padding-left: 0 !important; }\n",
       " #gpptlazoyp .gt_column_spanner_outer:last-child { padding-right: 0 !important; }\n",
       " #gpptlazoyp .gt_column_spanner { border-bottom-style: solid !important; border-bottom-width: 2px !important; border-bottom-color: #D3D3D3 !important; vertical-align: bottom !important; padding-top: 3px !important; padding-bottom: 3px !important; overflow-x: hidden !important; display: inline-block !important; width: 100% !important; }\n",
       " #gpptlazoyp .gt_spanner_row { border-bottom-style: hidden !important; }\n",
       " #gpptlazoyp .gt_group_heading { padding-top: 6px !important; padding-bottom: 6px !important; padding-left: 5px !important; padding-right: 5px !important; color: #333333 !important; background-color: #FFFFFF !important; font-size: 100% !important; font-weight: initial !important; text-transform: inherit !important; border-top-style: solid !important; border-top-width: 2px !important; border-top-color: #D3D3D3 !important; border-bottom-style: solid !important; border-bottom-width: 2px !important; border-bottom-color: #D3D3D3 !important; border-left-style: none !important; border-left-width: 1px !important; border-left-color: #D3D3D3 !important; border-right-style: none !important; border-right-width: 1px !important; border-right-color: #D3D3D3 !important; vertical-align: middle !important; text-align: left !important; }\n",
       " #gpptlazoyp .gt_empty_group_heading { padding: 0.5px !important; color: #333333 !important; background-color: #FFFFFF !important; font-size: 100% !important; font-weight: initial !important; border-top-style: solid !important; border-top-width: 2px !important; border-top-color: #D3D3D3 !important; border-bottom-style: solid !important; border-bottom-width: 2px !important; border-bottom-color: #D3D3D3 !important; vertical-align: middle !important; }\n",
       " #gpptlazoyp .gt_from_md> :first-child { margin-top: 0 !important; }\n",
       " #gpptlazoyp .gt_from_md> :last-child { margin-bottom: 0 !important; }\n",
       " #gpptlazoyp .gt_row { padding-top: 6px !important; padding-bottom: 6px !important; padding-left: 5px !important; padding-right: 5px !important; margin: 10px !important; border-top-style: solid !important; border-top-width: 1px !important; border-top-color: #D3D3D3 !important; border-left-style: none !important; border-left-width: 1px !important; border-left-color: #D3D3D3 !important; border-right-style: none !important; border-right-width: 1px !important; border-right-color: #D3D3D3 !important; vertical-align: middle !important; overflow-x: hidden !important; }\n",
       " #gpptlazoyp .gt_stub { color: #333333 !important; background-color: #FFFFFF !important; font-size: 100% !important; font-weight: initial !important; text-transform: inherit !important; border-right-style: solid !important; border-right-width: 2px !important; border-right-color: #D3D3D3 !important; padding-left: 5px !important; padding-right: 5px !important; }\n",
       " #gpptlazoyp .gt_stub_row_group { color: #333333 !important; background-color: #FFFFFF !important; font-size: 100% !important; font-weight: initial !important; text-transform: inherit !important; border-right-style: solid !important; border-right-width: 2px !important; border-right-color: #D3D3D3 !important; padding-left: 5px !important; padding-right: 5px !important; vertical-align: top !important; }\n",
       " #gpptlazoyp .gt_row_group_first td { border-top-width: 2px !important; }\n",
       " #gpptlazoyp .gt_row_group_first th { border-top-width: 2px !important; }\n",
       " #gpptlazoyp .gt_striped { background-color: rgba(128,128,128,0.05) !important; }\n",
       " #gpptlazoyp .gt_table_body { border-top-style: solid !important; border-top-width: 2px !important; border-top-color: #D3D3D3 !important; border-bottom-style: solid !important; border-bottom-width: 2px !important; border-bottom-color: #D3D3D3 !important; }\n",
       " #gpptlazoyp .gt_sourcenotes { color: #333333 !important; background-color: #FFFFFF !important; border-bottom-style: none !important; border-bottom-width: 2px !important; border-bottom-color: #D3D3D3 !important; border-left-style: none !important; border-left-width: 2px !important; border-left-color: #D3D3D3 !important; border-right-style: none !important; border-right-width: 2px !important; border-right-color: #D3D3D3 !important; }\n",
       " #gpptlazoyp .gt_sourcenote { font-size: small !important; padding-top: 3px !important; padding-bottom: 3px !important; padding-left: 5px !important; padding-right: 5px !important; text-align: left !important; }\n",
       " #gpptlazoyp .gt_left { text-align: left !important; }\n",
       " #gpptlazoyp .gt_center { text-align: center !important; }\n",
       " #gpptlazoyp .gt_right { text-align: right !important; font-variant-numeric: tabular-nums !important; }\n",
       " #gpptlazoyp .gt_font_normal { font-weight: normal !important; }\n",
       " #gpptlazoyp .gt_font_bold { font-weight: bold !important; }\n",
       " #gpptlazoyp .gt_font_italic { font-style: italic !important; }\n",
       " #gpptlazoyp .gt_super { font-size: 65% !important; }\n",
       " #gpptlazoyp .gt_footnote_marks { font-size: 75% !important; vertical-align: 0.4em !important; position: initial !important; }\n",
       " #gpptlazoyp .gt_asterisk { font-size: 100% !important; vertical-align: 0 !important; }\n",
       " \n",
       "</style>\n",
       "<table class=\"gt_table\" data-quarto-disable-processing=\"false\" data-quarto-bootstrap=\"false\">\n",
       "<thead>\n",
       "\n",
       "  <tr class=\"gt_heading\">\n",
       "    <td colspan=\"10\" class=\"gt_heading gt_title gt_font_normal\">Formula: glmer(SNR~Stain+(1|Experiment)+(1|ROI))</td>\n",
       "  </tr>\n",
       "  <tr class=\"gt_heading\">\n",
       "    <td colspan=\"10\" class=\"gt_heading gt_subtitle gt_font_normal gt_bottom_border\">Family: <em>Gamma (link: <em>log</em>)</em><br />\n",
       "Number of observations: <em>260</em><br />\n",
       "Confidence intervals: <em>boot</em><br />\n",
       "Bootstrap Iterations: <em>1000</em><br />\n",
       "---------------------<br />\n",
       "Log-likelihood: <em>-610</em><br />\n",
       "AIC: <em>1230</em> | BIC: <em>1248</em><br />\n",
       "Residual error: <em>0.205</em></td>\n",
       "  </tr>\n",
       "<tr class=\"gt_col_headings\">\n",
       "  <th class=\"gt_col_heading gt_columns_bottom_border gt_left\" rowspan=\"1\" colspan=\"1\" scope=\"col\" id=\"rfx\">Random Effects:</th>\n",
       "  <th class=\"gt_col_heading gt_columns_bottom_border gt_left\" rowspan=\"1\" colspan=\"1\" scope=\"col\" id=\"param\"></th>\n",
       "  <th class=\"gt_col_heading gt_columns_bottom_border gt_right\" rowspan=\"1\" colspan=\"1\" scope=\"col\" id=\"estimate\">Estimate</th>\n",
       "  <th class=\"gt_col_heading gt_columns_bottom_border gt_right\" rowspan=\"1\" colspan=\"1\" scope=\"col\" id=\"conf_low\">CI-low</th>\n",
       "  <th class=\"gt_col_heading gt_columns_bottom_border gt_right\" rowspan=\"1\" colspan=\"1\" scope=\"col\" id=\"conf_high\">CI-high</th>\n",
       "  <th class=\"gt_col_heading gt_columns_bottom_border gt_right\" rowspan=\"1\" colspan=\"1\" scope=\"col\" id=\"std_error\">SE</th>\n",
       "  <th class=\"gt_col_heading gt_columns_bottom_border gt_right\" rowspan=\"1\" colspan=\"1\" scope=\"col\" id=\"z_stat\">Z-stat</th>\n",
       "  <th class=\"gt_col_heading gt_columns_bottom_border gt_right\" rowspan=\"1\" colspan=\"1\" scope=\"col\" id=\"df\">df</th>\n",
       "  <th class=\"gt_col_heading gt_columns_bottom_border gt_left\" rowspan=\"1\" colspan=\"1\" scope=\"col\" id=\"p_value\">p</th>\n",
       "  <th class=\"gt_col_heading gt_columns_bottom_border gt_left\" rowspan=\"1\" colspan=\"1\" scope=\"col\" id=\"stars\"></th>\n",
       "</tr>\n",
       "</thead>\n",
       "<tbody class=\"gt_table_body\">\n",
       "  <tr>\n",
       "    <td class=\"gt_row gt_left\">Experiment-sd</td>\n",
       "    <td style=\"font-style: italic;\" class=\"gt_row gt_left\">(Intercept)</td>\n",
       "    <td class=\"gt_row gt_right\">0.097</td>\n",
       "    <td class=\"gt_row gt_right\">0.145</td>\n",
       "    <td class=\"gt_row gt_right\">0.264</td>\n",
       "    <td class=\"gt_row gt_right\"></td>\n",
       "    <td class=\"gt_row gt_right\"></td>\n",
       "    <td class=\"gt_row gt_right\"></td>\n",
       "    <td class=\"gt_row gt_left\"></td>\n",
       "    <td class=\"gt_row gt_left\"></td>\n",
       "  </tr>\n",
       "  <tr>\n",
       "    <td class=\"gt_row gt_left\">ROI-sd</td>\n",
       "    <td style=\"font-style: italic;\" class=\"gt_row gt_left\">(Intercept)</td>\n",
       "    <td class=\"gt_row gt_right\">0.064</td>\n",
       "    <td class=\"gt_row gt_right\">0.106</td>\n",
       "    <td class=\"gt_row gt_right\">0.204</td>\n",
       "    <td class=\"gt_row gt_right\"></td>\n",
       "    <td class=\"gt_row gt_right\"></td>\n",
       "    <td class=\"gt_row gt_right\"></td>\n",
       "    <td class=\"gt_row gt_left\"></td>\n",
       "    <td class=\"gt_row gt_left\"></td>\n",
       "  </tr>\n",
       "  <tr>\n",
       "    <td class=\"gt_row gt_left\">Residual-sd</td>\n",
       "    <td style=\"font-style: italic;\" class=\"gt_row gt_left\">Observation</td>\n",
       "    <td class=\"gt_row gt_right\">0.205</td>\n",
       "    <td class=\"gt_row gt_right\">0.218</td>\n",
       "    <td class=\"gt_row gt_right\">0.259</td>\n",
       "    <td class=\"gt_row gt_right\"></td>\n",
       "    <td class=\"gt_row gt_right\"></td>\n",
       "    <td class=\"gt_row gt_right\"></td>\n",
       "    <td class=\"gt_row gt_left\"></td>\n",
       "    <td class=\"gt_row gt_left\"></td>\n",
       "  </tr>\n",
       "  <tr>\n",
       "    <td class=\"gt_row gt_left\"></td>\n",
       "    <td style=\"font-style: italic;\" class=\"gt_row gt_left\"></td>\n",
       "    <td class=\"gt_row gt_right\"></td>\n",
       "    <td class=\"gt_row gt_right\"></td>\n",
       "    <td class=\"gt_row gt_right\"></td>\n",
       "    <td class=\"gt_row gt_right\"></td>\n",
       "    <td class=\"gt_row gt_right\"></td>\n",
       "    <td class=\"gt_row gt_right\"></td>\n",
       "    <td class=\"gt_row gt_left\"></td>\n",
       "    <td class=\"gt_row gt_left\"></td>\n",
       "  </tr>\n",
       "  <tr>\n",
       "    <td class=\"gt_row gt_left\">Fixed Effects:</td>\n",
       "    <td style=\"font-style: italic;\" class=\"gt_row gt_left\"></td>\n",
       "    <td class=\"gt_row gt_right\"></td>\n",
       "    <td class=\"gt_row gt_right\"></td>\n",
       "    <td class=\"gt_row gt_right\"></td>\n",
       "    <td class=\"gt_row gt_right\"></td>\n",
       "    <td class=\"gt_row gt_right\"></td>\n",
       "    <td class=\"gt_row gt_right\"></td>\n",
       "    <td class=\"gt_row gt_left\"></td>\n",
       "    <td class=\"gt_row gt_left\"></td>\n",
       "  </tr>\n",
       "  <tr>\n",
       "    <td class=\"gt_row gt_left\"></td>\n",
       "    <td style=\"font-style: italic;\" class=\"gt_row gt_left\">(Intercept)</td>\n",
       "    <td class=\"gt_row gt_right\">10.110</td>\n",
       "    <td class=\"gt_row gt_right\">1.780</td>\n",
       "    <td class=\"gt_row gt_right\">2.834</td>\n",
       "    <td class=\"gt_row gt_right\">1.253</td>\n",
       "    <td class=\"gt_row gt_right\">18.670</td>\n",
       "    <td class=\"gt_row gt_right\">255.000</td>\n",
       "    <td class=\"gt_row gt_left\"><.001</td>\n",
       "    <td class=\"gt_row gt_left\">***</td>\n",
       "  </tr>\n",
       "  <tr>\n",
       "    <td class=\"gt_row gt_left\"></td>\n",
       "    <td style=\"font-style: italic;\" class=\"gt_row gt_left\">StainPTA-stained</td>\n",
       "    <td class=\"gt_row gt_right\">1.350</td>\n",
       "    <td class=\"gt_row gt_right\">−0.273</td>\n",
       "    <td class=\"gt_row gt_right\">0.878</td>\n",
       "    <td class=\"gt_row gt_right\">0.176</td>\n",
       "    <td class=\"gt_row gt_right\">2.298</td>\n",
       "    <td class=\"gt_row gt_right\">255.000</td>\n",
       "    <td class=\"gt_row gt_left\">0.0224</td>\n",
       "    <td class=\"gt_row gt_left\">*</td>\n",
       "  </tr>\n",
       "</tbody>\n",
       "  <tfoot class=\"gt_sourcenotes\">\n",
       "  \n",
       "  <tr>\n",
       "    <td class=\"gt_sourcenote\" colspan=\"10\">Signif. codes: <em>0 *** 0.001 ** 0.01 * 0.05 . 0.1</em></td>\n",
       "  </tr>\n",
       "\n",
       "</tfoot>\n",
       "\n",
       "</table>\n",
       "\n",
       "</div>\n",
       "        "
      ],
      "text/plain": [
       "GT(_tbl_data=shape: (7, 10)\n",
       "┌────────────────┬────────────────┬───────────┬───────────┬───┬───────────┬──────┬─────────┬───────┐\n",
       "│ rfx            ┆ param          ┆ estimate  ┆ conf_low  ┆ … ┆ z_stat    ┆ df   ┆ p_value ┆ stars │\n",
       "│ ---            ┆ ---            ┆ ---       ┆ ---       ┆   ┆ ---       ┆ ---  ┆ ---     ┆ ---   │\n",
       "│ str            ┆ str            ┆ f64       ┆ f64       ┆   ┆ f64       ┆ i64  ┆ str     ┆ str   │\n",
       "╞════════════════╪════════════════╪═══════════╪═══════════╪═══╪═══════════╪══════╪═════════╪═══════╡\n",
       "│ Experiment-sd  ┆ (Intercept)    ┆ 0.097171  ┆ 0.145075  ┆ … ┆ null      ┆ null ┆ null    ┆ null  │\n",
       "│ ROI-sd         ┆ (Intercept)    ┆ 0.063828  ┆ 0.106307  ┆ … ┆ null      ┆ null ┆ null    ┆ null  │\n",
       "│ Residual-sd    ┆ Observation    ┆ 0.204885  ┆ 0.218174  ┆ … ┆ null      ┆ null ┆ null    ┆ null  │\n",
       "│ null           ┆ null           ┆ null      ┆ null      ┆ … ┆ null      ┆ null ┆ null    ┆ null  │\n",
       "│ Fixed Effects: ┆ null           ┆ null      ┆ null      ┆ … ┆ null      ┆ null ┆ null    ┆ null  │\n",
       "│ null           ┆ (Intercept)    ┆ 10.109869 ┆ 1.78023   ┆ … ┆ 18.669942 ┆ 255  ┆ <.001   ┆ ***   │\n",
       "│ null           ┆ StainPTA-stain ┆ 1.350062  ┆ -0.272897 ┆ … ┆ 2.297574  ┆ 255  ┆ 0.0224  ┆ *     │\n",
       "│                ┆ ed             ┆           ┆           ┆   ┆           ┆      ┆         ┆       │\n",
       "└────────────────┴────────────────┴───────────┴───────────┴───┴───────────┴──────┴─────────┴───────┘, _body=<great_tables._gt_data.Body object at 0x7e75b0555e50>, _boxhead=Boxhead([ColInfo(var='rfx', type=<ColInfoTypeEnum.default: 1>, column_label='Random Effects:', column_align='left', column_width=None), ColInfo(var='param', type=<ColInfoTypeEnum.default: 1>, column_label='', column_align='left', column_width=None), ColInfo(var='estimate', type=<ColInfoTypeEnum.default: 1>, column_label='Estimate', column_align='right', column_width=None), ColInfo(var='conf_low', type=<ColInfoTypeEnum.default: 1>, column_label='CI-low', column_align='right', column_width=None), ColInfo(var='conf_high', type=<ColInfoTypeEnum.default: 1>, column_label='CI-high', column_align='right', column_width=None), ColInfo(var='std_error', type=<ColInfoTypeEnum.default: 1>, column_label='SE', column_align='right', column_width=None), ColInfo(var='z_stat', type=<ColInfoTypeEnum.default: 1>, column_label='Z-stat', column_align='right', column_width=None), ColInfo(var='df', type=<ColInfoTypeEnum.default: 1>, column_label='df', column_align='right', column_width=None), ColInfo(var='p_value', type=<ColInfoTypeEnum.default: 1>, column_label='p', column_align='left', column_width=None), ColInfo(var='stars', type=<ColInfoTypeEnum.default: 1>, column_label='', column_align='left', column_width=None)]), _stub=<great_tables._gt_data.Stub object at 0x7e75b03c5430>, _spanners=Spanners([]), _heading=Heading(title='Formula: glmer(SNR~Stain+(1|Experiment)+(1|ROI))', subtitle=Md(text='Family: *Gamma (link: *log*)*  \\n            Number of observations: *260*  \\n            Confidence intervals: *boot*   \\n            Bootstrap Iterations: *1000*  \\n            ---------------------  \\n            Log-likelihood: *-610*  \\n            AIC: *1230* | BIC: *1248*  \\n            Residual error: *0.205*  \\n        '), preheader=None), _stubhead=None, _source_notes=[Md(text='Signif. codes: *0 *** 0.001 ** 0.01 * 0.05 . 0.1*')], _footnotes=[], _styles=[StyleInfo(locname=LocBody(columns=['param'], rows=None, mask=None), grpname=None, colname='param', rownum=0, colnum=None, styles=[CellStyleText(color=None, font=None, size=None, align=None, v_align=None, style='italic', weight=None, stretch=None, decorate=None, transform=None, whitespace=None)]), StyleInfo(locname=LocBody(columns=['param'], rows=None, mask=None), grpname=None, colname='param', rownum=1, colnum=None, styles=[CellStyleText(color=None, font=None, size=None, align=None, v_align=None, style='italic', weight=None, stretch=None, decorate=None, transform=None, whitespace=None)]), StyleInfo(locname=LocBody(columns=['param'], rows=None, mask=None), grpname=None, colname='param', rownum=2, colnum=None, styles=[CellStyleText(color=None, font=None, size=None, align=None, v_align=None, style='italic', weight=None, stretch=None, decorate=None, transform=None, whitespace=None)]), StyleInfo(locname=LocBody(columns=['param'], rows=None, mask=None), grpname=None, colname='param', rownum=3, colnum=None, styles=[CellStyleText(color=None, font=None, size=None, align=None, v_align=None, style='italic', weight=None, stretch=None, decorate=None, transform=None, whitespace=None)]), StyleInfo(locname=LocBody(columns=['param'], rows=None, mask=None), grpname=None, colname='param', rownum=4, colnum=None, styles=[CellStyleText(color=None, font=None, size=None, align=None, v_align=None, style='italic', weight=None, stretch=None, decorate=None, transform=None, whitespace=None)]), StyleInfo(locname=LocBody(columns=['param'], rows=None, mask=None), grpname=None, colname='param', rownum=5, colnum=None, styles=[CellStyleText(color=None, font=None, size=None, align=None, v_align=None, style='italic', weight=None, stretch=None, decorate=None, transform=None, whitespace=None)]), StyleInfo(locname=LocBody(columns=['param'], rows=None, mask=None), grpname=None, colname='param', rownum=6, colnum=None, styles=[CellStyleText(color=None, font=None, size=None, align=None, v_align=None, style='italic', weight=None, stretch=None, decorate=None, transform=None, whitespace=None)])], _locale=<great_tables._gt_data.Locale object at 0x7e75b03c55b0>, _formats=[<great_tables._gt_data.FormatInfo object at 0x7e75b03de630>], _substitutions=[<great_tables._gt_data.FormatInfo object at 0x7e75b03f79e0>], _options=Options(table_id=OptionsInfo(scss=False, category='table', type='value', value=None), table_caption=OptionsInfo(scss=False, category='table', type='value', value=None), table_width=OptionsInfo(scss=True, category='table', type='px', value='auto'), table_layout=OptionsInfo(scss=True, category='table', type='value', value='fixed'), table_margin_left=OptionsInfo(scss=True, category='table', type='px', value='auto'), table_margin_right=OptionsInfo(scss=True, category='table', type='px', value='auto'), table_background_color=OptionsInfo(scss=True, category='table', type='value', value='#FFFFFF'), table_additional_css=OptionsInfo(scss=False, category='table', type='values', value=[]), table_font_names=OptionsInfo(scss=False, category='table', type='values', value=['-apple-system', 'BlinkMacSystemFont', 'Segoe UI', 'Roboto', 'Oxygen', 'Ubuntu', 'Cantarell', 'Helvetica Neue', 'Fira Sans', 'Droid Sans', 'Arial', 'sans-serif']), table_font_size=OptionsInfo(scss=True, category='table', type='px', value='16px'), table_font_weight=OptionsInfo(scss=True, category='table', type='value', value='normal'), table_font_style=OptionsInfo(scss=True, category='table', type='value', value='normal'), table_font_color=OptionsInfo(scss=True, category='table', type='value', value='#333333'), table_font_color_light=OptionsInfo(scss=True, category='table', type='value', value='#FFFFFF'), table_border_top_include=OptionsInfo(scss=False, category='table', type='boolean', value=True), table_border_top_style=OptionsInfo(scss=True, category='table', type='value', value='solid'), table_border_top_width=OptionsInfo(scss=True, category='table', type='px', value='2px'), table_border_top_color=OptionsInfo(scss=True, category='table', type='value', value='#A8A8A8'), table_border_right_style=OptionsInfo(scss=True, category='table', type='value', value='none'), table_border_right_width=OptionsInfo(scss=True, category='table', type='px', value='2px'), table_border_right_color=OptionsInfo(scss=True, category='table', type='value', value='#D3D3D3'), table_border_bottom_include=OptionsInfo(scss=False, category='table', type='boolean', value=True), table_border_bottom_style=OptionsInfo(scss=True, category='table', type='value', value='solid'), table_border_bottom_width=OptionsInfo(scss=True, category='table', type='px', value='2px'), table_border_bottom_color=OptionsInfo(scss=True, category='table', type='value', value='#A8A8A8'), table_border_left_style=OptionsInfo(scss=True, category='table', type='value', value='none'), table_border_left_width=OptionsInfo(scss=True, category='table', type='px', value='2px'), table_border_left_color=OptionsInfo(scss=True, category='table', type='value', value='#D3D3D3'), heading_background_color=OptionsInfo(scss=True, category='heading', type='value', value=None), heading_align=OptionsInfo(scss=True, category='heading', type='value', value='left'), heading_title_font_size=OptionsInfo(scss=True, category='heading', type='px', value='125%'), heading_title_font_weight=OptionsInfo(scss=True, category='heading', type='value', value='initial'), heading_subtitle_font_size=OptionsInfo(scss=True, category='heading', type='px', value='85%'), heading_subtitle_font_weight=OptionsInfo(scss=True, category='heading', type='value', value='initial'), heading_padding=OptionsInfo(scss=True, category='heading', type='px', value='3px'), heading_padding_horizontal=OptionsInfo(scss=True, category='heading', type='px', value='5px'), heading_border_bottom_style=OptionsInfo(scss=True, category='heading', type='value', value='solid'), heading_border_bottom_width=OptionsInfo(scss=True, category='heading', type='px', value='2px'), heading_border_bottom_color=OptionsInfo(scss=True, category='heading', type='value', value='#D3D3D3'), heading_border_lr_style=OptionsInfo(scss=True, category='heading', type='value', value='none'), heading_border_lr_width=OptionsInfo(scss=True, category='heading', type='px', value='1px'), heading_border_lr_color=OptionsInfo(scss=True, category='heading', type='value', value='#D3D3D3'), column_labels_background_color=OptionsInfo(scss=True, category='column_labels', type='value', value=None), column_labels_font_size=OptionsInfo(scss=True, category='column_labels', type='px', value='100%'), column_labels_font_weight=OptionsInfo(scss=True, category='column_labels', type='value', value='normal'), column_labels_text_transform=OptionsInfo(scss=True, category='column_labels', type='value', value='inherit'), column_labels_padding=OptionsInfo(scss=True, category='column_labels', type='px', value='3px'), column_labels_padding_horizontal=OptionsInfo(scss=True, category='column_labels', type='px', value='5px'), column_labels_vlines_style=OptionsInfo(scss=True, category='table_body', type='value', value='none'), column_labels_vlines_width=OptionsInfo(scss=True, category='table_body', type='px', value='1px'), column_labels_vlines_color=OptionsInfo(scss=True, category='table_body', type='value', value='#D3D3D3'), column_labels_border_top_style=OptionsInfo(scss=True, category='column_labels', type='value', value='solid'), column_labels_border_top_width=OptionsInfo(scss=True, category='column_labels', type='px', value='2px'), column_labels_border_top_color=OptionsInfo(scss=True, category='column_labels', type='value', value='#D3D3D3'), column_labels_border_bottom_style=OptionsInfo(scss=True, category='column_labels', type='value', value='solid'), column_labels_border_bottom_width=OptionsInfo(scss=True, category='column_labels', type='px', value='2px'), column_labels_border_bottom_color=OptionsInfo(scss=True, category='column_labels', type='value', value='#D3D3D3'), column_labels_border_lr_style=OptionsInfo(scss=True, category='column_labels', type='value', value='none'), column_labels_border_lr_width=OptionsInfo(scss=True, category='column_labels', type='px', value='1px'), column_labels_border_lr_color=OptionsInfo(scss=True, category='column_labels', type='value', value='#D3D3D3'), column_labels_hidden=OptionsInfo(scss=False, category='column_labels', type='boolean', value=False), row_group_background_color=OptionsInfo(scss=True, category='row_group', type='value', value=None), row_group_font_size=OptionsInfo(scss=True, category='row_group', type='px', value='100%'), row_group_font_weight=OptionsInfo(scss=True, category='row_group', type='value', value='initial'), row_group_text_transform=OptionsInfo(scss=True, category='row_group', type='value', value='inherit'), row_group_padding=OptionsInfo(scss=True, category='row_group', type='px', value='6px'), row_group_padding_horizontal=OptionsInfo(scss=True, category='row_group', type='px', value='5px'), row_group_border_top_style=OptionsInfo(scss=True, category='row_group', type='value', value='solid'), row_group_border_top_width=OptionsInfo(scss=True, category='row_group', type='px', value='2px'), row_group_border_top_color=OptionsInfo(scss=True, category='row_group', type='value', value='#D3D3D3'), row_group_border_right_style=OptionsInfo(scss=True, category='row_group', type='value', value='none'), row_group_border_right_width=OptionsInfo(scss=True, category='row_group', type='px', value='1px'), row_group_border_right_color=OptionsInfo(scss=True, category='row_group', type='value', value='#D3D3D3'), row_group_border_bottom_style=OptionsInfo(scss=True, category='row_group', type='value', value='solid'), row_group_border_bottom_width=OptionsInfo(scss=True, category='row_group', type='px', value='2px'), row_group_border_bottom_color=OptionsInfo(scss=True, category='row_group', type='value', value='#D3D3D3'), row_group_border_left_style=OptionsInfo(scss=True, category='row_group', type='value', value='none'), row_group_border_left_width=OptionsInfo(scss=True, category='row_group', type='px', value='1px'), row_group_border_left_color=OptionsInfo(scss=True, category='row_group', type='value', value='#D3D3D3'), row_group_as_column=OptionsInfo(scss=False, category='row_group', type='boolean', value=False), table_body_hlines_style=OptionsInfo(scss=True, category='table_body', type='value', value='solid'), table_body_hlines_width=OptionsInfo(scss=True, category='table_body', type='px', value='1px'), table_body_hlines_color=OptionsInfo(scss=True, category='table_body', type='value', value='#D3D3D3'), table_body_vlines_style=OptionsInfo(scss=True, category='table_body', type='value', value='none'), table_body_vlines_width=OptionsInfo(scss=True, category='table_body', type='px', value='1px'), table_body_vlines_color=OptionsInfo(scss=True, category='table_body', type='value', value='#D3D3D3'), table_body_border_top_style=OptionsInfo(scss=True, category='table_body', type='value', value='solid'), table_body_border_top_width=OptionsInfo(scss=True, category='table_body', type='px', value='2px'), table_body_border_top_color=OptionsInfo(scss=True, category='table_body', type='value', value='#D3D3D3'), table_body_border_bottom_style=OptionsInfo(scss=True, category='table_body', type='value', value='solid'), table_body_border_bottom_width=OptionsInfo(scss=True, category='table_body', type='px', value='2px'), table_body_border_bottom_color=OptionsInfo(scss=True, category='table_body', type='value', value='#D3D3D3'), data_row_padding=OptionsInfo(scss=True, category='data_row', type='px', value='6px'), data_row_padding_horizontal=OptionsInfo(scss=True, category='data_row', type='px', value='5px'), stub_background_color=OptionsInfo(scss=True, category='stub', type='value', value=None), stub_font_size=OptionsInfo(scss=True, category='stub', type='px', value='100%'), stub_font_weight=OptionsInfo(scss=True, category='stub', type='value', value='initial'), stub_text_transform=OptionsInfo(scss=True, category='stub', type='value', value='inherit'), stub_border_style=OptionsInfo(scss=True, category='stub', type='value', value='solid'), stub_border_width=OptionsInfo(scss=True, category='stub', type='px', value='2px'), stub_border_color=OptionsInfo(scss=True, category='stub', type='value', value='#D3D3D3'), stub_row_group_background_color=OptionsInfo(scss=True, category='stub', type='value', value=None), stub_row_group_font_size=OptionsInfo(scss=True, category='stub', type='px', value='100%'), stub_row_group_font_weight=OptionsInfo(scss=True, category='stub', type='value', value='initial'), stub_row_group_text_transform=OptionsInfo(scss=True, category='stub', type='value', value='inherit'), stub_row_group_border_style=OptionsInfo(scss=True, category='stub', type='value', value='solid'), stub_row_group_border_width=OptionsInfo(scss=True, category='stub', type='px', value='2px'), stub_row_group_border_color=OptionsInfo(scss=True, category='stub', type='value', value='#D3D3D3'), source_notes_padding=OptionsInfo(scss=True, category='source_notes', type='px', value='3px'), source_notes_padding_horizontal=OptionsInfo(scss=True, category='source_notes', type='px', value='5px'), source_notes_background_color=OptionsInfo(scss=True, category='source_notes', type='value', value=None), source_notes_font_size=OptionsInfo(scss=True, category='source_notes', type='px', value='small'), source_notes_border_bottom_style=OptionsInfo(scss=True, category='source_notes', type='value', value='none'), source_notes_border_bottom_width=OptionsInfo(scss=True, category='source_notes', type='px', value='2px'), source_notes_border_bottom_color=OptionsInfo(scss=True, category='source_notes', type='value', value='#D3D3D3'), source_notes_border_lr_style=OptionsInfo(scss=True, category='source_notes', type='value', value='none'), source_notes_border_lr_width=OptionsInfo(scss=True, category='source_notes', type='px', value='2px'), source_notes_border_lr_color=OptionsInfo(scss=True, category='source_notes', type='value', value='#D3D3D3'), source_notes_multiline=OptionsInfo(scss=False, category='source_notes', type='boolean', value=True), source_notes_sep=OptionsInfo(scss=False, category='source_notes', type='value', value=' '), row_striping_background_color=OptionsInfo(scss=True, category='row', type='value', value='rgba(128,128,128,0.05)'), row_striping_include_stub=OptionsInfo(scss=False, category='row', type='boolean', value=False), row_striping_include_table_body=OptionsInfo(scss=False, category='row', type='boolean', value=False), container_width=OptionsInfo(scss=False, category='container', type='px', value='auto'), container_height=OptionsInfo(scss=False, category='container', type='px', value='auto'), container_padding_x=OptionsInfo(scss=False, category='container', type='px', value='0px'), container_padding_y=OptionsInfo(scss=False, category='container', type='px', value='10px'), container_overflow_x=OptionsInfo(scss=False, category='container', type='overflow', value='auto'), container_overflow_y=OptionsInfo(scss=False, category='container', type='overflow', value='auto'), quarto_disable_processing=OptionsInfo(scss=False, category='quarto', type='logical', value=False), quarto_use_bootstrap=OptionsInfo(scss=False, category='quarto', type='logical', value=False)), _has_built=False)"
      ]
     },
     "metadata": {},
     "output_type": "display_data"
    },
    {
     "data": {
      "text/html": [
       "<div><style>\n",
       ".dataframe > thead > tr,\n",
       ".dataframe > tbody > tr {\n",
       "  text-align: right;\n",
       "  white-space: pre-wrap;\n",
       "}\n",
       "</style>\n",
       "<small>shape: (1, 13)</small><table border=\"1\" class=\"dataframe\"><thead><tr><th>AIC</th><th>AICc</th><th>BIC</th><th>ICC</th><th>R2_conditional</th><th>R2_marginal</th><th>RMSE</th><th>Sigma</th><th>deviance</th><th>df_residual</th><th>logLik</th><th>nobs</th><th>sigma</th></tr><tr><td>f64</td><td>f64</td><td>f64</td><td>f64</td><td>f64</td><td>f64</td><td>f64</td><td>f64</td><td>f64</td><td>i64</td><td>f64</td><td>i64</td><td>f64</td></tr></thead><tbody><tr><td>1230.436622</td><td>1230.672842</td><td>1248.24003</td><td>0.247381</td><td>0.443576</td><td>0.260682</td><td>2.483453</td><td>0.204885</td><td>9.462024</td><td>255</td><td>-610.218311</td><td>260</td><td>0.204885</td></tr></tbody></table></div>"
      ],
      "text/plain": [
       "shape: (1, 13)\n",
       "┌─────────────┬────────────┬────────────┬──────────┬───┬────────────┬────────────┬──────┬──────────┐\n",
       "│ AIC         ┆ AICc       ┆ BIC        ┆ ICC      ┆ … ┆ df_residua ┆ logLik     ┆ nobs ┆ sigma    │\n",
       "│ ---         ┆ ---        ┆ ---        ┆ ---      ┆   ┆ l          ┆ ---        ┆ ---  ┆ ---      │\n",
       "│ f64         ┆ f64        ┆ f64        ┆ f64      ┆   ┆ ---        ┆ f64        ┆ i64  ┆ f64      │\n",
       "│             ┆            ┆            ┆          ┆   ┆ i64        ┆            ┆      ┆          │\n",
       "╞═════════════╪════════════╪════════════╪══════════╪═══╪════════════╪════════════╪══════╪══════════╡\n",
       "│ 1230.436622 ┆ 1230.67284 ┆ 1248.24003 ┆ 0.247381 ┆ … ┆ 255        ┆ -610.21831 ┆ 260  ┆ 0.204885 │\n",
       "│             ┆ 2          ┆            ┆          ┆   ┆            ┆ 1          ┆      ┆          │\n",
       "└─────────────┴────────────┴────────────┴──────────┴───┴────────────┴────────────┴──────┴──────────┘"
      ]
     },
     "metadata": {},
     "output_type": "display_data"
    },
    {
     "data": {
      "application/vnd.plotly.v1+json": {
       "config": {
        "plotlyServerURL": "https://plot.ly"
       },
       "data": [
        {
         "marker": {
          "color": "#6C8EBF",
          "size": 10
         },
         "mode": "markers",
         "text": [
          "RT01",
          "RT01",
          "RT01",
          "RT01",
          "RT01",
          "RT01",
          "RT01",
          "RT01",
          "RT01",
          "RT01",
          "RT01",
          "RT01",
          "RT01",
          "RT01",
          "RT01",
          "RT01",
          "RT01",
          "RT01",
          "RT01",
          "RT01",
          "RT02",
          "RT02",
          "RT02",
          "RT02",
          "RT02",
          "RT02",
          "RT02",
          "RT02",
          "RT02",
          "RT02",
          "RT02",
          "RT02",
          "RT02",
          "RT02",
          "RT02",
          "RT02",
          "RT02",
          "RT02",
          "RT02",
          "RT02",
          "RT03",
          "RT03",
          "RT03",
          "RT03",
          "RT03",
          "RT03",
          "RT03",
          "RT03",
          "RT03",
          "RT03",
          "RT03",
          "RT03",
          "RT03",
          "RT03",
          "RT03",
          "RT03",
          "RT03",
          "RT03",
          "RT03",
          "RT03",
          "RT04",
          "RT04",
          "RT04",
          "RT04",
          "RT04",
          "RT04",
          "RT04",
          "RT04",
          "RT04",
          "RT04",
          "RT04",
          "RT04",
          "RT04",
          "RT04",
          "RT04",
          "RT04",
          "RT04",
          "RT04",
          "RT04",
          "RT04",
          "RT05",
          "RT05",
          "RT05",
          "RT05",
          "RT05",
          "RT05",
          "RT05",
          "RT05",
          "RT05",
          "RT05",
          "RT05",
          "RT05",
          "RT05",
          "RT05",
          "RT05",
          "RT05",
          "RT05",
          "RT05",
          "RT05",
          "RT05",
          "RT06",
          "RT06",
          "RT06",
          "RT06",
          "RT06",
          "RT06",
          "RT06",
          "RT06",
          "RT06",
          "RT06",
          "RT06",
          "RT06",
          "RT06",
          "RT06",
          "RT06",
          "RT06",
          "RT06",
          "RT06",
          "RT06",
          "RT06",
          "RT09",
          "RT09",
          "RT09",
          "RT09",
          "RT09",
          "RT09",
          "RT09",
          "RT09",
          "RT09",
          "RT09",
          "RT09",
          "RT09",
          "RT09",
          "RT09",
          "RT09",
          "RT09",
          "RT09",
          "RT09",
          "RT09",
          "RT09",
          "RT10",
          "RT10",
          "RT10",
          "RT10",
          "RT10",
          "RT10",
          "RT10",
          "RT10",
          "RT10",
          "RT10",
          "RT10",
          "RT10",
          "RT10",
          "RT10",
          "RT10",
          "RT10",
          "RT10",
          "RT10",
          "RT10",
          "RT10",
          "RT11",
          "RT11",
          "RT11",
          "RT11",
          "RT11",
          "RT11",
          "RT11",
          "RT11",
          "RT11",
          "RT11",
          "RT11",
          "RT11",
          "RT11",
          "RT11",
          "RT11",
          "RT11",
          "RT11",
          "RT11",
          "RT11",
          "RT11",
          "RT12",
          "RT12",
          "RT12",
          "RT12",
          "RT12",
          "RT12",
          "RT12",
          "RT12",
          "RT12",
          "RT12",
          "RT12",
          "RT12",
          "RT12",
          "RT12",
          "RT12",
          "RT12",
          "RT12",
          "RT12",
          "RT12",
          "RT12",
          "RT13",
          "RT13",
          "RT13",
          "RT13",
          "RT13",
          "RT13",
          "RT13",
          "RT13",
          "RT13",
          "RT13",
          "RT13",
          "RT13",
          "RT13",
          "RT13",
          "RT13",
          "RT13",
          "RT13",
          "RT13",
          "RT13",
          "RT13",
          "RT14",
          "RT14",
          "RT14",
          "RT14",
          "RT14",
          "RT14",
          "RT14",
          "RT14",
          "RT14",
          "RT14",
          "RT14",
          "RT14",
          "RT14",
          "RT14",
          "RT14",
          "RT14",
          "RT14",
          "RT14",
          "RT14",
          "RT14",
          "RT15",
          "RT15",
          "RT15",
          "RT15",
          "RT15",
          "RT15",
          "RT15",
          "RT15",
          "RT15",
          "RT15",
          "RT15",
          "RT15",
          "RT15",
          "RT15",
          "RT15",
          "RT15",
          "RT15",
          "RT15",
          "RT15",
          "RT15"
         ],
         "type": "scatter",
         "x": {
          "bdata": "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",
          "dtype": "f8"
         },
         "xaxis": "x",
         "y": {
          "bdata": "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",
          "dtype": "f8"
         },
         "yaxis": "y"
        },
        {
         "marker": {
          "color": "#6C8EBF",
          "size": 10
         },
         "mode": "markers",
         "type": "scatter",
         "x": {
          "bdata": "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",
          "dtype": "f8"
         },
         "xaxis": "x2",
         "y": {
          "bdata": "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",
          "dtype": "f8"
         },
         "yaxis": "y2"
        },
        {
         "marker": {
          "color": "#B85450",
          "line": {
           "width": 2
          }
         },
         "mode": "lines",
         "type": "scatter",
         "x": {
          "bdata": "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",
          "dtype": "f8"
         },
         "xaxis": "x2",
         "y": {
          "bdata": "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",
          "dtype": "f8"
         },
         "yaxis": "y2"
        },
        {
         "marker": {
          "color": "#6C8EBF",
          "size": 10
         },
         "mode": "markers",
         "text": [
          "RT01",
          "RT01",
          "RT01",
          "RT01",
          "RT01",
          "RT01",
          "RT01",
          "RT01",
          "RT01",
          "RT01",
          "RT01",
          "RT01",
          "RT01",
          "RT01",
          "RT01",
          "RT01",
          "RT01",
          "RT01",
          "RT01",
          "RT01",
          "RT02",
          "RT02",
          "RT02",
          "RT02",
          "RT02",
          "RT02",
          "RT02",
          "RT02",
          "RT02",
          "RT02",
          "RT02",
          "RT02",
          "RT02",
          "RT02",
          "RT02",
          "RT02",
          "RT02",
          "RT02",
          "RT02",
          "RT02",
          "RT03",
          "RT03",
          "RT03",
          "RT03",
          "RT03",
          "RT03",
          "RT03",
          "RT03",
          "RT03",
          "RT03",
          "RT03",
          "RT03",
          "RT03",
          "RT03",
          "RT03",
          "RT03",
          "RT03",
          "RT03",
          "RT03",
          "RT03",
          "RT04",
          "RT04",
          "RT04",
          "RT04",
          "RT04",
          "RT04",
          "RT04",
          "RT04",
          "RT04",
          "RT04",
          "RT04",
          "RT04",
          "RT04",
          "RT04",
          "RT04",
          "RT04",
          "RT04",
          "RT04",
          "RT04",
          "RT04",
          "RT05",
          "RT05",
          "RT05",
          "RT05",
          "RT05",
          "RT05",
          "RT05",
          "RT05",
          "RT05",
          "RT05",
          "RT05",
          "RT05",
          "RT05",
          "RT05",
          "RT05",
          "RT05",
          "RT05",
          "RT05",
          "RT05",
          "RT05",
          "RT06",
          "RT06",
          "RT06",
          "RT06",
          "RT06",
          "RT06",
          "RT06",
          "RT06",
          "RT06",
          "RT06",
          "RT06",
          "RT06",
          "RT06",
          "RT06",
          "RT06",
          "RT06",
          "RT06",
          "RT06",
          "RT06",
          "RT06",
          "RT09",
          "RT09",
          "RT09",
          "RT09",
          "RT09",
          "RT09",
          "RT09",
          "RT09",
          "RT09",
          "RT09",
          "RT09",
          "RT09",
          "RT09",
          "RT09",
          "RT09",
          "RT09",
          "RT09",
          "RT09",
          "RT09",
          "RT09",
          "RT10",
          "RT10",
          "RT10",
          "RT10",
          "RT10",
          "RT10",
          "RT10",
          "RT10",
          "RT10",
          "RT10",
          "RT10",
          "RT10",
          "RT10",
          "RT10",
          "RT10",
          "RT10",
          "RT10",
          "RT10",
          "RT10",
          "RT10",
          "RT11",
          "RT11",
          "RT11",
          "RT11",
          "RT11",
          "RT11",
          "RT11",
          "RT11",
          "RT11",
          "RT11",
          "RT11",
          "RT11",
          "RT11",
          "RT11",
          "RT11",
          "RT11",
          "RT11",
          "RT11",
          "RT11",
          "RT11",
          "RT12",
          "RT12",
          "RT12",
          "RT12",
          "RT12",
          "RT12",
          "RT12",
          "RT12",
          "RT12",
          "RT12",
          "RT12",
          "RT12",
          "RT12",
          "RT12",
          "RT12",
          "RT12",
          "RT12",
          "RT12",
          "RT12",
          "RT12",
          "RT13",
          "RT13",
          "RT13",
          "RT13",
          "RT13",
          "RT13",
          "RT13",
          "RT13",
          "RT13",
          "RT13",
          "RT13",
          "RT13",
          "RT13",
          "RT13",
          "RT13",
          "RT13",
          "RT13",
          "RT13",
          "RT13",
          "RT13",
          "RT14",
          "RT14",
          "RT14",
          "RT14",
          "RT14",
          "RT14",
          "RT14",
          "RT14",
          "RT14",
          "RT14",
          "RT14",
          "RT14",
          "RT14",
          "RT14",
          "RT14",
          "RT14",
          "RT14",
          "RT14",
          "RT14",
          "RT14",
          "RT15",
          "RT15",
          "RT15",
          "RT15",
          "RT15",
          "RT15",
          "RT15",
          "RT15",
          "RT15",
          "RT15",
          "RT15",
          "RT15",
          "RT15",
          "RT15",
          "RT15",
          "RT15",
          "RT15",
          "RT15",
          "RT15",
          "RT15"
         ],
         "type": "scatter",
         "x": {
          "bdata": "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",
          "dtype": "f8"
         },
         "xaxis": "x3",
         "y": {
          "bdata": "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",
          "dtype": "f8"
         },
         "yaxis": "y3"
        },
        {
         "histnorm": "probability",
         "marker": {
          "color": "#6C8EBF"
         },
         "type": "histogram",
         "x": {
          "bdata": "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",
          "dtype": "f8"
         },
         "xaxis": "x4",
         "yaxis": "y4"
        }
       ],
       "layout": {
        "height": 500,
        "margin": {
         "b": 5,
         "l": 10,
         "r": 10,
         "t": 5
        },
        "showlegend": false,
        "template": {
         "data": {
          "bar": [
           {
            "error_x": {
             "color": "#2a3f5f"
            },
            "error_y": {
             "color": "#2a3f5f"
            },
            "marker": {
             "line": {
              "color": "white",
              "width": 0.5
             },
             "pattern": {
              "fillmode": "overlay",
              "size": 10,
              "solidity": 0.2
             }
            },
            "type": "bar"
           }
          ],
          "barpolar": [
           {
            "marker": {
             "line": {
              "color": "white",
              "width": 0.5
             },
             "pattern": {
              "fillmode": "overlay",
              "size": 10,
              "solidity": 0.2
             }
            },
            "type": "barpolar"
           }
          ],
          "carpet": [
           {
            "aaxis": {
             "endlinecolor": "#2a3f5f",
             "gridcolor": "#C8D4E3",
             "linecolor": "#C8D4E3",
             "minorgridcolor": "#C8D4E3",
             "startlinecolor": "#2a3f5f"
            },
            "baxis": {
             "endlinecolor": "#2a3f5f",
             "gridcolor": "#C8D4E3",
             "linecolor": "#C8D4E3",
             "minorgridcolor": "#C8D4E3",
             "startlinecolor": "#2a3f5f"
            },
            "type": "carpet"
           }
          ],
          "choropleth": [
           {
            "colorbar": {
             "outlinewidth": 0,
             "ticks": ""
            },
            "type": "choropleth"
           }
          ],
          "contour": [
           {
            "colorbar": {
             "outlinewidth": 0,
             "ticks": ""
            },
            "colorscale": [
             [
              0,
              "#0d0887"
             ],
             [
              0.1111111111111111,
              "#46039f"
             ],
             [
              0.2222222222222222,
              "#7201a8"
             ],
             [
              0.3333333333333333,
              "#9c179e"
             ],
             [
              0.4444444444444444,
              "#bd3786"
             ],
             [
              0.5555555555555556,
              "#d8576b"
             ],
             [
              0.6666666666666666,
              "#ed7953"
             ],
             [
              0.7777777777777778,
              "#fb9f3a"
             ],
             [
              0.8888888888888888,
              "#fdca26"
             ],
             [
              1,
              "#f0f921"
             ]
            ],
            "type": "contour"
           }
          ],
          "contourcarpet": [
           {
            "colorbar": {
             "outlinewidth": 0,
             "ticks": ""
            },
            "type": "contourcarpet"
           }
          ],
          "heatmap": [
           {
            "colorbar": {
             "outlinewidth": 0,
             "ticks": ""
            },
            "colorscale": [
             [
              0,
              "#0d0887"
             ],
             [
              0.1111111111111111,
              "#46039f"
             ],
             [
              0.2222222222222222,
              "#7201a8"
             ],
             [
              0.3333333333333333,
              "#9c179e"
             ],
             [
              0.4444444444444444,
              "#bd3786"
             ],
             [
              0.5555555555555556,
              "#d8576b"
             ],
             [
              0.6666666666666666,
              "#ed7953"
             ],
             [
              0.7777777777777778,
              "#fb9f3a"
             ],
             [
              0.8888888888888888,
              "#fdca26"
             ],
             [
              1,
              "#f0f921"
             ]
            ],
            "type": "heatmap"
           }
          ],
          "histogram": [
           {
            "marker": {
             "pattern": {
              "fillmode": "overlay",
              "size": 10,
              "solidity": 0.2
             }
            },
            "type": "histogram"
           }
          ],
          "histogram2d": [
           {
            "colorbar": {
             "outlinewidth": 0,
             "ticks": ""
            },
            "colorscale": [
             [
              0,
              "#0d0887"
             ],
             [
              0.1111111111111111,
              "#46039f"
             ],
             [
              0.2222222222222222,
              "#7201a8"
             ],
             [
              0.3333333333333333,
              "#9c179e"
             ],
             [
              0.4444444444444444,
              "#bd3786"
             ],
             [
              0.5555555555555556,
              "#d8576b"
             ],
             [
              0.6666666666666666,
              "#ed7953"
             ],
             [
              0.7777777777777778,
              "#fb9f3a"
             ],
             [
              0.8888888888888888,
              "#fdca26"
             ],
             [
              1,
              "#f0f921"
             ]
            ],
            "type": "histogram2d"
           }
          ],
          "histogram2dcontour": [
           {
            "colorbar": {
             "outlinewidth": 0,
             "ticks": ""
            },
            "colorscale": [
             [
              0,
              "#0d0887"
             ],
             [
              0.1111111111111111,
              "#46039f"
             ],
             [
              0.2222222222222222,
              "#7201a8"
             ],
             [
              0.3333333333333333,
              "#9c179e"
             ],
             [
              0.4444444444444444,
              "#bd3786"
             ],
             [
              0.5555555555555556,
              "#d8576b"
             ],
             [
              0.6666666666666666,
              "#ed7953"
             ],
             [
              0.7777777777777778,
              "#fb9f3a"
             ],
             [
              0.8888888888888888,
              "#fdca26"
             ],
             [
              1,
              "#f0f921"
             ]
            ],
            "type": "histogram2dcontour"
           }
          ],
          "mesh3d": [
           {
            "colorbar": {
             "outlinewidth": 0,
             "ticks": ""
            },
            "type": "mesh3d"
           }
          ],
          "parcoords": [
           {
            "line": {
             "colorbar": {
              "outlinewidth": 0,
              "ticks": ""
             }
            },
            "type": "parcoords"
           }
          ],
          "pie": [
           {
            "automargin": true,
            "type": "pie"
           }
          ],
          "scatter": [
           {
            "fillpattern": {
             "fillmode": "overlay",
             "size": 10,
             "solidity": 0.2
            },
            "type": "scatter"
           }
          ],
          "scatter3d": [
           {
            "line": {
             "colorbar": {
              "outlinewidth": 0,
              "ticks": ""
             }
            },
            "marker": {
             "colorbar": {
              "outlinewidth": 0,
              "ticks": ""
             }
            },
            "type": "scatter3d"
           }
          ],
          "scattercarpet": [
           {
            "marker": {
             "colorbar": {
              "outlinewidth": 0,
              "ticks": ""
             }
            },
            "type": "scattercarpet"
           }
          ],
          "scattergeo": [
           {
            "marker": {
             "colorbar": {
              "outlinewidth": 0,
              "ticks": ""
             }
            },
            "type": "scattergeo"
           }
          ],
          "scattergl": [
           {
            "marker": {
             "colorbar": {
              "outlinewidth": 0,
              "ticks": ""
             }
            },
            "type": "scattergl"
           }
          ],
          "scattermap": [
           {
            "marker": {
             "colorbar": {
              "outlinewidth": 0,
              "ticks": ""
             }
            },
            "type": "scattermap"
           }
          ],
          "scattermapbox": [
           {
            "marker": {
             "colorbar": {
              "outlinewidth": 0,
              "ticks": ""
             }
            },
            "type": "scattermapbox"
           }
          ],
          "scatterpolar": [
           {
            "marker": {
             "colorbar": {
              "outlinewidth": 0,
              "ticks": ""
             }
            },
            "type": "scatterpolar"
           }
          ],
          "scatterpolargl": [
           {
            "marker": {
             "colorbar": {
              "outlinewidth": 0,
              "ticks": ""
             }
            },
            "type": "scatterpolargl"
           }
          ],
          "scatterternary": [
           {
            "marker": {
             "colorbar": {
              "outlinewidth": 0,
              "ticks": ""
             }
            },
            "type": "scatterternary"
           }
          ],
          "surface": [
           {
            "colorbar": {
             "outlinewidth": 0,
             "ticks": ""
            },
            "colorscale": [
             [
              0,
              "#0d0887"
             ],
             [
              0.1111111111111111,
              "#46039f"
             ],
             [
              0.2222222222222222,
              "#7201a8"
             ],
             [
              0.3333333333333333,
              "#9c179e"
             ],
             [
              0.4444444444444444,
              "#bd3786"
             ],
             [
              0.5555555555555556,
              "#d8576b"
             ],
             [
              0.6666666666666666,
              "#ed7953"
             ],
             [
              0.7777777777777778,
              "#fb9f3a"
             ],
             [
              0.8888888888888888,
              "#fdca26"
             ],
             [
              1,
              "#f0f921"
             ]
            ],
            "type": "surface"
           }
          ],
          "table": [
           {
            "cells": {
             "fill": {
              "color": "#EBF0F8"
             },
             "line": {
              "color": "white"
             }
            },
            "header": {
             "fill": {
              "color": "#C8D4E3"
             },
             "line": {
              "color": "white"
             }
            },
            "type": "table"
           }
          ]
         },
         "layout": {
          "annotationdefaults": {
           "arrowcolor": "#2a3f5f",
           "arrowhead": 0,
           "arrowwidth": 1
          },
          "autotypenumbers": "strict",
          "coloraxis": {
           "colorbar": {
            "outlinewidth": 0,
            "ticks": ""
           }
          },
          "colorscale": {
           "diverging": [
            [
             0,
             "#8e0152"
            ],
            [
             0.1,
             "#c51b7d"
            ],
            [
             0.2,
             "#de77ae"
            ],
            [
             0.3,
             "#f1b6da"
            ],
            [
             0.4,
             "#fde0ef"
            ],
            [
             0.5,
             "#f7f7f7"
            ],
            [
             0.6,
             "#e6f5d0"
            ],
            [
             0.7,
             "#b8e186"
            ],
            [
             0.8,
             "#7fbc41"
            ],
            [
             0.9,
             "#4d9221"
            ],
            [
             1,
             "#276419"
            ]
           ],
           "sequential": [
            [
             0,
             "#0d0887"
            ],
            [
             0.1111111111111111,
             "#46039f"
            ],
            [
             0.2222222222222222,
             "#7201a8"
            ],
            [
             0.3333333333333333,
             "#9c179e"
            ],
            [
             0.4444444444444444,
             "#bd3786"
            ],
            [
             0.5555555555555556,
             "#d8576b"
            ],
            [
             0.6666666666666666,
             "#ed7953"
            ],
            [
             0.7777777777777778,
             "#fb9f3a"
            ],
            [
             0.8888888888888888,
             "#fdca26"
            ],
            [
             1,
             "#f0f921"
            ]
           ],
           "sequentialminus": [
            [
             0,
             "#0d0887"
            ],
            [
             0.1111111111111111,
             "#46039f"
            ],
            [
             0.2222222222222222,
             "#7201a8"
            ],
            [
             0.3333333333333333,
             "#9c179e"
            ],
            [
             0.4444444444444444,
             "#bd3786"
            ],
            [
             0.5555555555555556,
             "#d8576b"
            ],
            [
             0.6666666666666666,
             "#ed7953"
            ],
            [
             0.7777777777777778,
             "#fb9f3a"
            ],
            [
             0.8888888888888888,
             "#fdca26"
            ],
            [
             1,
             "#f0f921"
            ]
           ]
          },
          "colorway": [
           "#636efa",
           "#EF553B",
           "#00cc96",
           "#ab63fa",
           "#FFA15A",
           "#19d3f3",
           "#FF6692",
           "#B6E880",
           "#FF97FF",
           "#FECB52"
          ],
          "font": {
           "color": "#2a3f5f"
          },
          "geo": {
           "bgcolor": "white",
           "lakecolor": "white",
           "landcolor": "white",
           "showlakes": true,
           "showland": true,
           "subunitcolor": "#C8D4E3"
          },
          "hoverlabel": {
           "align": "left"
          },
          "hovermode": "closest",
          "mapbox": {
           "style": "light"
          },
          "paper_bgcolor": "white",
          "plot_bgcolor": "white",
          "polar": {
           "angularaxis": {
            "gridcolor": "#EBF0F8",
            "linecolor": "#EBF0F8",
            "ticks": ""
           },
           "bgcolor": "white",
           "radialaxis": {
            "gridcolor": "#EBF0F8",
            "linecolor": "#EBF0F8",
            "ticks": ""
           }
          },
          "scene": {
           "xaxis": {
            "backgroundcolor": "white",
            "gridcolor": "#DFE8F3",
            "gridwidth": 2,
            "linecolor": "#EBF0F8",
            "showbackground": true,
            "ticks": "",
            "zerolinecolor": "#EBF0F8"
           },
           "yaxis": {
            "backgroundcolor": "white",
            "gridcolor": "#DFE8F3",
            "gridwidth": 2,
            "linecolor": "#EBF0F8",
            "showbackground": true,
            "ticks": "",
            "zerolinecolor": "#EBF0F8"
           },
           "zaxis": {
            "backgroundcolor": "white",
            "gridcolor": "#DFE8F3",
            "gridwidth": 2,
            "linecolor": "#EBF0F8",
            "showbackground": true,
            "ticks": "",
            "zerolinecolor": "#EBF0F8"
           }
          },
          "shapedefaults": {
           "line": {
            "color": "#2a3f5f"
           }
          },
          "ternary": {
           "aaxis": {
            "gridcolor": "#DFE8F3",
            "linecolor": "#A2B1C6",
            "ticks": ""
           },
           "baxis": {
            "gridcolor": "#DFE8F3",
            "linecolor": "#A2B1C6",
            "ticks": ""
           },
           "bgcolor": "white",
           "caxis": {
            "gridcolor": "#DFE8F3",
            "linecolor": "#A2B1C6",
            "ticks": ""
           }
          },
          "title": {
           "x": 0.05
          },
          "xaxis": {
           "automargin": true,
           "gridcolor": "#EBF0F8",
           "linecolor": "#EBF0F8",
           "ticks": "",
           "title": {
            "standoff": 15
           },
           "zerolinecolor": "#EBF0F8",
           "zerolinewidth": 2
          },
          "yaxis": {
           "automargin": true,
           "gridcolor": "#EBF0F8",
           "linecolor": "#EBF0F8",
           "ticks": "",
           "title": {
            "standoff": 15
           },
           "zerolinecolor": "#EBF0F8",
           "zerolinewidth": 2
          }
         }
        },
        "width": 800,
        "xaxis": {
         "anchor": "y",
         "domain": [
          0,
          0.45
         ],
         "title": {
          "text": "Fitted"
         }
        },
        "xaxis2": {
         "anchor": "y2",
         "domain": [
          0.55,
          1
         ],
         "title": {
          "text": "Theoretical Quantiles"
         }
        },
        "xaxis3": {
         "anchor": "y3",
         "domain": [
          0,
          0.45
         ],
         "title": {
          "text": "Fitted"
         }
        },
        "xaxis4": {
         "anchor": "y4",
         "domain": [
          0.55,
          1
         ],
         "title": {
          "text": "Residuals"
         }
        },
        "yaxis": {
         "anchor": "x",
         "domain": [
          0.575,
          1
         ],
         "title": {
          "text": "Residuals"
         }
        },
        "yaxis2": {
         "anchor": "x2",
         "domain": [
          0.575,
          1
         ],
         "title": {
          "text": "Sample Quantiles"
         }
        },
        "yaxis3": {
         "anchor": "x3",
         "domain": [
          0,
          0.425
         ],
         "title": {
          "text": "Sqrt( Abs( Residuals ) )"
         }
        },
        "yaxis4": {
         "anchor": "x4",
         "domain": [
          0,
          0.425
         ],
         "title": {
          "text": "Count"
         }
        }
       }
      }
     },
     "metadata": {},
     "output_type": "display_data"
    }
   ],
   "source": [
    "glmm_snr_s = glmer('SNR ~ Stain + (1|Experiment) + (1|ROI)', data=pl_df_measures, family='Gamma', link='log')\n",
    "glmm_snr_s.set_factors(['Stain'])\n",
    "\n",
    "# Convert estimates to odds\n",
    "display(glmm_snr_s.fit(exponentiate=True, summary=True, conf_method='boot'))\n",
    "display(glmm_snr_s.result_fit_stats)\n",
    "stat_diagnostics(glmm_snr_s.data['fitted'], glmm_snr_s.data['resid'], glmm_snr_s.data['Experiment'])"
   ]
  },
  {
   "cell_type": "code",
   "execution_count": 12,
   "id": "b20a0fd2",
   "metadata": {},
   "outputs": [
    {
     "data": {
      "text/html": [
       "<div><style>\n",
       ".dataframe > thead > tr,\n",
       ".dataframe > tbody > tr {\n",
       "  text-align: right;\n",
       "  white-space: pre-wrap;\n",
       "}\n",
       "</style>\n",
       "<small>shape: (3, 8)</small><table border=\"1\" class=\"dataframe\"><thead><tr><th>npar</th><th>AIC</th><th>BIC</th><th>logLik</th><th>-2*log(L)</th><th>Chisq</th><th>Df</th><th>Pr(&gt;Chisq)</th></tr><tr><td>f64</td><td>f64</td><td>f64</td><td>f64</td><td>f64</td><td>f64</td><td>f64</td><td>f64</td></tr></thead><tbody><tr><td>5.0</td><td>1230.436622</td><td>1248.24003</td><td>-610.218311</td><td>1220.436622</td><td>null</td><td>null</td><td>null</td></tr><tr><td>6.0</td><td>1230.749628</td><td>1252.113717</td><td>-609.374814</td><td>1218.749628</td><td>1.686994</td><td>1.0</td><td>0.193998</td></tr><tr><td>7.0</td><td>1232.691493</td><td>1257.616264</td><td>-609.345746</td><td>1218.691493</td><td>0.058135</td><td>1.0</td><td>0.809469</td></tr></tbody></table></div>"
      ],
      "text/plain": [
       "shape: (3, 8)\n",
       "┌──────┬─────────────┬─────────────┬─────────────┬─────────────┬──────────┬──────┬────────────┐\n",
       "│ npar ┆ AIC         ┆ BIC         ┆ logLik      ┆ -2*log(L)   ┆ Chisq    ┆ Df   ┆ Pr(>Chisq) │\n",
       "│ ---  ┆ ---         ┆ ---         ┆ ---         ┆ ---         ┆ ---      ┆ ---  ┆ ---        │\n",
       "│ f64  ┆ f64         ┆ f64         ┆ f64         ┆ f64         ┆ f64      ┆ f64  ┆ f64        │\n",
       "╞══════╪═════════════╪═════════════╪═════════════╪═════════════╪══════════╪══════╪════════════╡\n",
       "│ 5.0  ┆ 1230.436622 ┆ 1248.24003  ┆ -610.218311 ┆ 1220.436622 ┆ null     ┆ null ┆ null       │\n",
       "│ 6.0  ┆ 1230.749628 ┆ 1252.113717 ┆ -609.374814 ┆ 1218.749628 ┆ 1.686994 ┆ 1.0  ┆ 0.193998   │\n",
       "│ 7.0  ┆ 1232.691493 ┆ 1257.616264 ┆ -609.345746 ┆ 1218.691493 ┆ 0.058135 ┆ 1.0  ┆ 0.809469   │\n",
       "└──────┴─────────────┴─────────────┴─────────────┴─────────────┴──────────┴──────┴────────────┘"
      ]
     },
     "execution_count": 12,
     "metadata": {},
     "output_type": "execute_result"
    }
   ],
   "source": [
    "ts.stats.anova(glmm_snr_snt, glmm_snr_sot, glmm_snr_s)"
   ]
  },
  {
   "cell_type": "code",
   "execution_count": 13,
   "id": "09525ee7",
   "metadata": {},
   "outputs": [
    {
     "data": {
      "text/html": [
       "<div><style>\n",
       ".dataframe > thead > tr,\n",
       ".dataframe > tbody > tr {\n",
       "  text-align: right;\n",
       "  white-space: pre-wrap;\n",
       "}\n",
       "</style>\n",
       "<small>shape: (2, 6)</small><table border=\"1\" class=\"dataframe\"><thead><tr><th>Stain</th><th>response</th><th>SE</th><th>df</th><th>asymp_LCL</th><th>asymp_UCL</th></tr><tr><td>cat</td><td>f64</td><td>f64</td><td>f64</td><td>f64</td><td>f64</td></tr></thead><tbody><tr><td>&quot;Iodine-stained&quot;</td><td>10.109869</td><td>1.252779</td><td>inf</td><td>7.662789</td><td>13.338415</td></tr><tr><td>&quot;PTA-stained&quot;</td><td>13.648951</td><td>1.278348</td><td>inf</td><td>11.069531</td><td>16.829427</td></tr></tbody></table></div>"
      ],
      "text/plain": [
       "shape: (2, 6)\n",
       "┌────────────────┬───────────┬──────────┬─────┬───────────┬───────────┐\n",
       "│ Stain          ┆ response  ┆ SE       ┆ df  ┆ asymp_LCL ┆ asymp_UCL │\n",
       "│ ---            ┆ ---       ┆ ---      ┆ --- ┆ ---       ┆ ---       │\n",
       "│ cat            ┆ f64       ┆ f64      ┆ f64 ┆ f64       ┆ f64       │\n",
       "╞════════════════╪═══════════╪══════════╪═════╪═══════════╪═══════════╡\n",
       "│ Iodine-stained ┆ 10.109869 ┆ 1.252779 ┆ inf ┆ 7.662789  ┆ 13.338415 │\n",
       "│ PTA-stained    ┆ 13.648951 ┆ 1.278348 ┆ inf ┆ 11.069531 ┆ 16.829427 │\n",
       "└────────────────┴───────────┴──────────┴─────┴───────────┴───────────┘"
      ]
     },
     "metadata": {},
     "output_type": "display_data"
    },
    {
     "data": {
      "text/html": [
       "<div><style>\n",
       ".dataframe > thead > tr,\n",
       ".dataframe > tbody > tr {\n",
       "  text-align: right;\n",
       "  white-space: pre-wrap;\n",
       "}\n",
       "</style>\n",
       "<small>shape: (1, 9)</small><table border=\"1\" class=\"dataframe\"><thead><tr><th>contrast</th><th>ratio</th><th>SE</th><th>df</th><th>asymp_LCL</th><th>asymp_UCL</th><th>null</th><th>z_ratio</th><th>p_value</th></tr><tr><td>cat</td><td>f64</td><td>f64</td><td>f64</td><td>f64</td><td>f64</td><td>f64</td><td>f64</td><td>f64</td></tr></thead><tbody><tr><td>&quot;(Iodine-stained) / (PTA-staine…</td><td>0.740707</td><td>0.096764</td><td>inf</td><td>0.573386</td><td>0.956854</td><td>1.0</td><td>-2.297574</td><td>0.021586</td></tr></tbody></table></div>"
      ],
      "text/plain": [
       "shape: (1, 9)\n",
       "┌────────────────────┬──────────┬──────────┬─────┬───┬───────────┬──────┬───────────┬──────────┐\n",
       "│ contrast           ┆ ratio    ┆ SE       ┆ df  ┆ … ┆ asymp_UCL ┆ null ┆ z_ratio   ┆ p_value  │\n",
       "│ ---                ┆ ---      ┆ ---      ┆ --- ┆   ┆ ---       ┆ ---  ┆ ---       ┆ ---      │\n",
       "│ cat                ┆ f64      ┆ f64      ┆ f64 ┆   ┆ f64       ┆ f64  ┆ f64       ┆ f64      │\n",
       "╞════════════════════╪══════════╪══════════╪═════╪═══╪═══════════╪══════╪═══════════╪══════════╡\n",
       "│ (Iodine-stained) / ┆ 0.740707 ┆ 0.096764 ┆ inf ┆ … ┆ 0.956854  ┆ 1.0  ┆ -2.297574 ┆ 0.021586 │\n",
       "│ (PTA-staine…       ┆          ┆          ┆     ┆   ┆           ┆      ┆           ┆          │\n",
       "└────────────────────┴──────────┴──────────┴─────┴───┴───────────┴──────┴───────────┴──────────┘"
      ]
     },
     "metadata": {},
     "output_type": "display_data"
    },
    {
     "data": {
      "text/html": [
       "<div><style>\n",
       ".dataframe > thead > tr,\n",
       ".dataframe > tbody > tr {\n",
       "  text-align: right;\n",
       "  white-space: pre-wrap;\n",
       "}\n",
       "</style>\n",
       "<small>shape: (1, 9)</small><table border=\"1\" class=\"dataframe\"><thead><tr><th>contrast</th><th>ratio</th><th>SE</th><th>df</th><th>asymp_LCL</th><th>asymp_UCL</th><th>null</th><th>z_ratio</th><th>p_value</th></tr><tr><td>cat</td><td>f64</td><td>f64</td><td>f64</td><td>f64</td><td>f64</td><td>f64</td><td>f64</td><td>f64</td></tr></thead><tbody><tr><td>&quot;(Iodine-stained) / (PTA-staine…</td><td>0.740707</td><td>0.096764</td><td>inf</td><td>0.573386</td><td>0.956854</td><td>1.0</td><td>-2.297574</td><td>0.021586</td></tr></tbody></table></div>"
      ],
      "text/plain": [
       "shape: (1, 9)\n",
       "┌────────────────────┬──────────┬──────────┬─────┬───┬───────────┬──────┬───────────┬──────────┐\n",
       "│ contrast           ┆ ratio    ┆ SE       ┆ df  ┆ … ┆ asymp_UCL ┆ null ┆ z_ratio   ┆ p_value  │\n",
       "│ ---                ┆ ---      ┆ ---      ┆ --- ┆   ┆ ---       ┆ ---  ┆ ---       ┆ ---      │\n",
       "│ cat                ┆ f64      ┆ f64      ┆ f64 ┆   ┆ f64       ┆ f64  ┆ f64       ┆ f64      │\n",
       "╞════════════════════╪══════════╪══════════╪═════╪═══╪═══════════╪══════╪═══════════╪══════════╡\n",
       "│ (Iodine-stained) / ┆ 0.740707 ┆ 0.096764 ┆ inf ┆ … ┆ 0.956854  ┆ 1.0  ┆ -2.297574 ┆ 0.021586 │\n",
       "│ (PTA-staine…       ┆          ┆          ┆     ┆   ┆           ┆      ┆           ┆          │\n",
       "└────────────────────┴──────────┴──────────┴─────┴───┴───────────┴──────┴───────────┴──────────┘"
      ]
     },
     "metadata": {},
     "output_type": "display_data"
    },
    {
     "data": {
      "text/html": [
       "<div><style>\n",
       ".dataframe > thead > tr,\n",
       ".dataframe > tbody > tr {\n",
       "  text-align: right;\n",
       "  white-space: pre-wrap;\n",
       "}\n",
       "</style>\n",
       "<small>shape: (1, 9)</small><table border=\"1\" class=\"dataframe\"><thead><tr><th>contrast</th><th>ratio</th><th>SE</th><th>df</th><th>asymp_LCL</th><th>asymp_UCL</th><th>null</th><th>z_ratio</th><th>p_value</th></tr><tr><td>cat</td><td>f64</td><td>f64</td><td>f64</td><td>f64</td><td>f64</td><td>f64</td><td>f64</td><td>f64</td></tr></thead><tbody><tr><td>&quot;(Iodine-stained) / (PTA-staine…</td><td>0.740707</td><td>0.096764</td><td>inf</td><td>0.573386</td><td>0.956854</td><td>1.0</td><td>-2.297574</td><td>0.021586</td></tr></tbody></table></div>"
      ],
      "text/plain": [
       "shape: (1, 9)\n",
       "┌────────────────────┬──────────┬──────────┬─────┬───┬───────────┬──────┬───────────┬──────────┐\n",
       "│ contrast           ┆ ratio    ┆ SE       ┆ df  ┆ … ┆ asymp_UCL ┆ null ┆ z_ratio   ┆ p_value  │\n",
       "│ ---                ┆ ---      ┆ ---      ┆ --- ┆   ┆ ---       ┆ ---  ┆ ---       ┆ ---      │\n",
       "│ cat                ┆ f64      ┆ f64      ┆ f64 ┆   ┆ f64       ┆ f64  ┆ f64       ┆ f64      │\n",
       "╞════════════════════╪══════════╪══════════╪═════╪═══╪═══════════╪══════╪═══════════╪══════════╡\n",
       "│ (Iodine-stained) / ┆ 0.740707 ┆ 0.096764 ┆ inf ┆ … ┆ 0.956854  ┆ 1.0  ┆ -2.297574 ┆ 0.021586 │\n",
       "│ (PTA-staine…       ┆          ┆          ┆     ┆   ┆           ┆      ┆           ┆          │\n",
       "└────────────────────┴──────────┴──────────┴─────┴───┴───────────┴──────┴───────────┴──────────┘"
      ]
     },
     "metadata": {},
     "output_type": "display_data"
    }
   ],
   "source": [
    "display(glmm_snr_s.emmeans('Stain'))\n",
    "display(glmm_snr_s.emmeans('Stain', contrasts='pairwise'))\n",
    "display(glmm_snr_s.emmeans('Stain', contrasts='pairwise', p_adjust='bonf'))\n",
    "display(glmm_snr_s.emmeans('Stain', contrasts='pairwise', p_adjust='mvt'))"
   ]
  },
  {
   "cell_type": "code",
   "execution_count": 14,
   "id": "d4aa49c8",
   "metadata": {},
   "outputs": [
    {
     "data": {
      "text/html": [
       "<div id=\"dqmttqfcei\" style=\"padding-left:0px;padding-right:0px;padding-top:10px;padding-bottom:10px;overflow-x:auto;overflow-y:auto;width:auto;height:auto;\">\n",
       "<style>\n",
       "#dqmttqfcei table {\n",
       "          font-family: -apple-system, BlinkMacSystemFont, 'Segoe UI', Roboto, Oxygen, Ubuntu, Cantarell, 'Helvetica Neue', 'Fira Sans', 'Droid Sans', Arial, sans-serif;\n",
       "          -webkit-font-smoothing: antialiased;\n",
       "          -moz-osx-font-smoothing: grayscale;\n",
       "        }\n",
       "\n",
       "#dqmttqfcei thead, tbody, tfoot, tr, td, th { border-style: none !important; }\n",
       " tr { background-color: transparent !important; }\n",
       "#dqmttqfcei p { margin: 0 !important; padding: 0 !important; }\n",
       " #dqmttqfcei .gt_table { display: table !important; border-collapse: collapse !important; line-height: normal !important; margin-left: auto !important; margin-right: auto !important; color: #333333 !important; font-size: 16px !important; font-weight: normal !important; font-style: normal !important; background-color: #FFFFFF !important; width: auto !important; border-top-style: solid !important; border-top-width: 2px !important; border-top-color: #A8A8A8 !important; border-right-style: none !important; border-right-width: 2px !important; border-right-color: #D3D3D3 !important; border-bottom-style: solid !important; border-bottom-width: 2px !important; border-bottom-color: #A8A8A8 !important; border-left-style: none !important; border-left-width: 2px !important; border-left-color: #D3D3D3 !important; }\n",
       " #dqmttqfcei .gt_caption { padding-top: 4px !important; padding-bottom: 4px !important; }\n",
       " #dqmttqfcei .gt_title { color: #333333 !important; font-size: 125% !important; font-weight: initial !important; padding-top: 3px !important; padding-bottom: 3px !important; padding-left: 5px !important; padding-right: 5px !important; border-bottom-color: #FFFFFF !important; border-bottom-width: 0 !important; }\n",
       " #dqmttqfcei .gt_subtitle { color: #333333 !important; font-size: 85% !important; font-weight: initial !important; padding-top: 2px !important; padding-bottom: 4px !important; padding-left: 5px !important; padding-right: 5px !important; border-top-color: #FFFFFF !important; border-top-width: 0 !important; }\n",
       " #dqmttqfcei .gt_heading { background-color: #FFFFFF !important; text-align: left !important; border-bottom-color: #FFFFFF !important; border-left-style: none !important; border-left-width: 1px !important; border-left-color: #D3D3D3 !important; border-right-style: none !important; border-right-width: 1px !important; border-right-color: #D3D3D3 !important; }\n",
       " #dqmttqfcei .gt_bottom_border { border-bottom-style: solid !important; border-bottom-width: 2px !important; border-bottom-color: #D3D3D3 !important; }\n",
       " #dqmttqfcei .gt_col_headings { border-top-style: solid !important; border-top-width: 2px !important; border-top-color: #D3D3D3 !important; border-bottom-style: solid !important; border-bottom-width: 2px !important; border-bottom-color: #D3D3D3 !important; border-left-style: none !important; border-left-width: 1px !important; border-left-color: #D3D3D3 !important; border-right-style: none !important; border-right-width: 1px !important; border-right-color: #D3D3D3 !important; }\n",
       " #dqmttqfcei .gt_col_heading { color: #333333 !important; background-color: #FFFFFF !important; font-size: 100% !important; font-weight: normal !important; text-transform: inherit !important; border-left-style: none !important; border-left-width: 1px !important; border-left-color: #D3D3D3 !important; border-right-style: none !important; border-right-width: 1px !important; border-right-color: #D3D3D3 !important; vertical-align: bottom !important; padding-top: 3px !important; padding-bottom: 4px !important; padding-left: 5px !important; padding-right: 5px !important; overflow-x: hidden !important; }\n",
       " #dqmttqfcei .gt_column_spanner_outer { color: #333333 !important; background-color: #FFFFFF !important; font-size: 100% !important; font-weight: normal !important; text-transform: inherit !important; padding-top: 0 !important; padding-bottom: 0 !important; padding-left: 4px !important; padding-right: 4px !important; }\n",
       " #dqmttqfcei .gt_column_spanner_outer:first-child { padding-left: 0 !important; }\n",
       " #dqmttqfcei .gt_column_spanner_outer:last-child { padding-right: 0 !important; }\n",
       " #dqmttqfcei .gt_column_spanner { border-bottom-style: solid !important; border-bottom-width: 2px !important; border-bottom-color: #D3D3D3 !important; vertical-align: bottom !important; padding-top: 3px !important; padding-bottom: 3px !important; overflow-x: hidden !important; display: inline-block !important; width: 100% !important; }\n",
       " #dqmttqfcei .gt_spanner_row { border-bottom-style: hidden !important; }\n",
       " #dqmttqfcei .gt_group_heading { padding-top: 6px !important; padding-bottom: 6px !important; padding-left: 5px !important; padding-right: 5px !important; color: #333333 !important; background-color: #FFFFFF !important; font-size: 100% !important; font-weight: initial !important; text-transform: inherit !important; border-top-style: solid !important; border-top-width: 2px !important; border-top-color: #D3D3D3 !important; border-bottom-style: solid !important; border-bottom-width: 2px !important; border-bottom-color: #D3D3D3 !important; border-left-style: none !important; border-left-width: 1px !important; border-left-color: #D3D3D3 !important; border-right-style: none !important; border-right-width: 1px !important; border-right-color: #D3D3D3 !important; vertical-align: middle !important; text-align: left !important; }\n",
       " #dqmttqfcei .gt_empty_group_heading { padding: 0.5px !important; color: #333333 !important; background-color: #FFFFFF !important; font-size: 100% !important; font-weight: initial !important; border-top-style: solid !important; border-top-width: 2px !important; border-top-color: #D3D3D3 !important; border-bottom-style: solid !important; border-bottom-width: 2px !important; border-bottom-color: #D3D3D3 !important; vertical-align: middle !important; }\n",
       " #dqmttqfcei .gt_from_md> :first-child { margin-top: 0 !important; }\n",
       " #dqmttqfcei .gt_from_md> :last-child { margin-bottom: 0 !important; }\n",
       " #dqmttqfcei .gt_row { padding-top: 6px !important; padding-bottom: 6px !important; padding-left: 5px !important; padding-right: 5px !important; margin: 10px !important; border-top-style: solid !important; border-top-width: 1px !important; border-top-color: #D3D3D3 !important; border-left-style: none !important; border-left-width: 1px !important; border-left-color: #D3D3D3 !important; border-right-style: none !important; border-right-width: 1px !important; border-right-color: #D3D3D3 !important; vertical-align: middle !important; overflow-x: hidden !important; }\n",
       " #dqmttqfcei .gt_stub { color: #333333 !important; background-color: #FFFFFF !important; font-size: 100% !important; font-weight: initial !important; text-transform: inherit !important; border-right-style: solid !important; border-right-width: 2px !important; border-right-color: #D3D3D3 !important; padding-left: 5px !important; padding-right: 5px !important; }\n",
       " #dqmttqfcei .gt_stub_row_group { color: #333333 !important; background-color: #FFFFFF !important; font-size: 100% !important; font-weight: initial !important; text-transform: inherit !important; border-right-style: solid !important; border-right-width: 2px !important; border-right-color: #D3D3D3 !important; padding-left: 5px !important; padding-right: 5px !important; vertical-align: top !important; }\n",
       " #dqmttqfcei .gt_row_group_first td { border-top-width: 2px !important; }\n",
       " #dqmttqfcei .gt_row_group_first th { border-top-width: 2px !important; }\n",
       " #dqmttqfcei .gt_striped { background-color: rgba(128,128,128,0.05) !important; }\n",
       " #dqmttqfcei .gt_table_body { border-top-style: solid !important; border-top-width: 2px !important; border-top-color: #D3D3D3 !important; border-bottom-style: solid !important; border-bottom-width: 2px !important; border-bottom-color: #D3D3D3 !important; }\n",
       " #dqmttqfcei .gt_sourcenotes { color: #333333 !important; background-color: #FFFFFF !important; border-bottom-style: none !important; border-bottom-width: 2px !important; border-bottom-color: #D3D3D3 !important; border-left-style: none !important; border-left-width: 2px !important; border-left-color: #D3D3D3 !important; border-right-style: none !important; border-right-width: 2px !important; border-right-color: #D3D3D3 !important; }\n",
       " #dqmttqfcei .gt_sourcenote { font-size: small !important; padding-top: 3px !important; padding-bottom: 3px !important; padding-left: 5px !important; padding-right: 5px !important; text-align: left !important; }\n",
       " #dqmttqfcei .gt_left { text-align: left !important; }\n",
       " #dqmttqfcei .gt_center { text-align: center !important; }\n",
       " #dqmttqfcei .gt_right { text-align: right !important; font-variant-numeric: tabular-nums !important; }\n",
       " #dqmttqfcei .gt_font_normal { font-weight: normal !important; }\n",
       " #dqmttqfcei .gt_font_bold { font-weight: bold !important; }\n",
       " #dqmttqfcei .gt_font_italic { font-style: italic !important; }\n",
       " #dqmttqfcei .gt_super { font-size: 65% !important; }\n",
       " #dqmttqfcei .gt_footnote_marks { font-size: 75% !important; vertical-align: 0.4em !important; position: initial !important; }\n",
       " #dqmttqfcei .gt_asterisk { font-size: 100% !important; vertical-align: 0 !important; }\n",
       " \n",
       "</style>\n",
       "<table class=\"gt_table\" data-quarto-disable-processing=\"false\" data-quarto-bootstrap=\"false\">\n",
       "<thead>\n",
       "\n",
       "  <tr class=\"gt_heading\">\n",
       "    <td colspan=\"10\" class=\"gt_heading gt_title gt_font_normal\">Formula: glmer(Mean~Stain*Tissue+(1|Experiment)+(1|ROI))</td>\n",
       "  </tr>\n",
       "  <tr class=\"gt_heading\">\n",
       "    <td colspan=\"10\" class=\"gt_heading gt_subtitle gt_font_normal gt_bottom_border\">Family: <em>Gamma (link: <em>log</em>)</em><br />\n",
       "Number of observations: <em>260</em><br />\n",
       "Confidence intervals: <em>boot</em><br />\n",
       "Bootstrap Iterations: <em>1000</em><br />\n",
       "---------------------<br />\n",
       "Log-likelihood: <em>-1080</em><br />\n",
       "AIC: <em>2174</em> | BIC: <em>2199</em><br />\n",
       "Residual error: <em>0.125</em></td>\n",
       "  </tr>\n",
       "<tr class=\"gt_col_headings\">\n",
       "  <th class=\"gt_col_heading gt_columns_bottom_border gt_left\" rowspan=\"1\" colspan=\"1\" scope=\"col\" id=\"rfx\">Random Effects:</th>\n",
       "  <th class=\"gt_col_heading gt_columns_bottom_border gt_left\" rowspan=\"1\" colspan=\"1\" scope=\"col\" id=\"param\"></th>\n",
       "  <th class=\"gt_col_heading gt_columns_bottom_border gt_right\" rowspan=\"1\" colspan=\"1\" scope=\"col\" id=\"estimate\">Estimate</th>\n",
       "  <th class=\"gt_col_heading gt_columns_bottom_border gt_right\" rowspan=\"1\" colspan=\"1\" scope=\"col\" id=\"conf_low\">CI-low</th>\n",
       "  <th class=\"gt_col_heading gt_columns_bottom_border gt_right\" rowspan=\"1\" colspan=\"1\" scope=\"col\" id=\"conf_high\">CI-high</th>\n",
       "  <th class=\"gt_col_heading gt_columns_bottom_border gt_right\" rowspan=\"1\" colspan=\"1\" scope=\"col\" id=\"std_error\">SE</th>\n",
       "  <th class=\"gt_col_heading gt_columns_bottom_border gt_right\" rowspan=\"1\" colspan=\"1\" scope=\"col\" id=\"z_stat\">Z-stat</th>\n",
       "  <th class=\"gt_col_heading gt_columns_bottom_border gt_right\" rowspan=\"1\" colspan=\"1\" scope=\"col\" id=\"df\">df</th>\n",
       "  <th class=\"gt_col_heading gt_columns_bottom_border gt_left\" rowspan=\"1\" colspan=\"1\" scope=\"col\" id=\"p_value\">p</th>\n",
       "  <th class=\"gt_col_heading gt_columns_bottom_border gt_left\" rowspan=\"1\" colspan=\"1\" scope=\"col\" id=\"stars\"></th>\n",
       "</tr>\n",
       "</thead>\n",
       "<tbody class=\"gt_table_body\">\n",
       "  <tr>\n",
       "    <td class=\"gt_row gt_left\">Experiment-sd</td>\n",
       "    <td style=\"font-style: italic;\" class=\"gt_row gt_left\">(Intercept)</td>\n",
       "    <td class=\"gt_row gt_right\">0.059</td>\n",
       "    <td class=\"gt_row gt_right\">0.127</td>\n",
       "    <td class=\"gt_row gt_right\">0.233</td>\n",
       "    <td class=\"gt_row gt_right\"></td>\n",
       "    <td class=\"gt_row gt_right\"></td>\n",
       "    <td class=\"gt_row gt_right\"></td>\n",
       "    <td class=\"gt_row gt_left\"></td>\n",
       "    <td class=\"gt_row gt_left\"></td>\n",
       "  </tr>\n",
       "  <tr>\n",
       "    <td class=\"gt_row gt_left\">ROI-sd</td>\n",
       "    <td style=\"font-style: italic;\" class=\"gt_row gt_left\">(Intercept)</td>\n",
       "    <td class=\"gt_row gt_right\">0.047</td>\n",
       "    <td class=\"gt_row gt_right\">0.101</td>\n",
       "    <td class=\"gt_row gt_right\">0.199</td>\n",
       "    <td class=\"gt_row gt_right\"></td>\n",
       "    <td class=\"gt_row gt_right\"></td>\n",
       "    <td class=\"gt_row gt_right\"></td>\n",
       "    <td class=\"gt_row gt_left\"></td>\n",
       "    <td class=\"gt_row gt_left\"></td>\n",
       "  </tr>\n",
       "  <tr>\n",
       "    <td class=\"gt_row gt_left\">Residual-sd</td>\n",
       "    <td style=\"font-style: italic;\" class=\"gt_row gt_left\">Observation</td>\n",
       "    <td class=\"gt_row gt_right\">0.125</td>\n",
       "    <td class=\"gt_row gt_right\">0.149</td>\n",
       "    <td class=\"gt_row gt_right\">0.181</td>\n",
       "    <td class=\"gt_row gt_right\"></td>\n",
       "    <td class=\"gt_row gt_right\"></td>\n",
       "    <td class=\"gt_row gt_right\"></td>\n",
       "    <td class=\"gt_row gt_left\"></td>\n",
       "    <td class=\"gt_row gt_left\"></td>\n",
       "  </tr>\n",
       "  <tr>\n",
       "    <td class=\"gt_row gt_left\"></td>\n",
       "    <td style=\"font-style: italic;\" class=\"gt_row gt_left\"></td>\n",
       "    <td class=\"gt_row gt_right\"></td>\n",
       "    <td class=\"gt_row gt_right\"></td>\n",
       "    <td class=\"gt_row gt_right\"></td>\n",
       "    <td class=\"gt_row gt_right\"></td>\n",
       "    <td class=\"gt_row gt_right\"></td>\n",
       "    <td class=\"gt_row gt_right\"></td>\n",
       "    <td class=\"gt_row gt_left\"></td>\n",
       "    <td class=\"gt_row gt_left\"></td>\n",
       "  </tr>\n",
       "  <tr>\n",
       "    <td class=\"gt_row gt_left\">Fixed Effects:</td>\n",
       "    <td style=\"font-style: italic;\" class=\"gt_row gt_left\"></td>\n",
       "    <td class=\"gt_row gt_right\"></td>\n",
       "    <td class=\"gt_row gt_right\"></td>\n",
       "    <td class=\"gt_row gt_right\"></td>\n",
       "    <td class=\"gt_row gt_right\"></td>\n",
       "    <td class=\"gt_row gt_right\"></td>\n",
       "    <td class=\"gt_row gt_right\"></td>\n",
       "    <td class=\"gt_row gt_left\"></td>\n",
       "    <td class=\"gt_row gt_left\"></td>\n",
       "  </tr>\n",
       "  <tr>\n",
       "    <td class=\"gt_row gt_left\"></td>\n",
       "    <td style=\"font-style: italic;\" class=\"gt_row gt_left\">(Intercept)</td>\n",
       "    <td class=\"gt_row gt_right\">94.281</td>\n",
       "    <td class=\"gt_row gt_right\">3.988</td>\n",
       "    <td class=\"gt_row gt_right\">5.073</td>\n",
       "    <td class=\"gt_row gt_right\">8.193</td>\n",
       "    <td class=\"gt_row gt_right\">52.314</td>\n",
       "    <td class=\"gt_row gt_right\">253.000</td>\n",
       "    <td class=\"gt_row gt_left\"><.001</td>\n",
       "    <td class=\"gt_row gt_left\">***</td>\n",
       "  </tr>\n",
       "  <tr>\n",
       "    <td class=\"gt_row gt_left\"></td>\n",
       "    <td style=\"font-style: italic;\" class=\"gt_row gt_left\">StainPTA-stained</td>\n",
       "    <td class=\"gt_row gt_right\">1.297</td>\n",
       "    <td class=\"gt_row gt_right\">−0.313</td>\n",
       "    <td class=\"gt_row gt_right\">0.840</td>\n",
       "    <td class=\"gt_row gt_right\">0.111</td>\n",
       "    <td class=\"gt_row gt_right\">3.043</td>\n",
       "    <td class=\"gt_row gt_right\">253.000</td>\n",
       "    <td class=\"gt_row gt_left\">0.002591</td>\n",
       "    <td class=\"gt_row gt_left\">**</td>\n",
       "  </tr>\n",
       "  <tr>\n",
       "    <td class=\"gt_row gt_left\"></td>\n",
       "    <td style=\"font-style: italic;\" class=\"gt_row gt_left\">TissueMuscle-serosal</td>\n",
       "    <td class=\"gt_row gt_right\">1.140</td>\n",
       "    <td class=\"gt_row gt_right\">0.075</td>\n",
       "    <td class=\"gt_row gt_right\">0.187</td>\n",
       "    <td class=\"gt_row gt_right\">0.030</td>\n",
       "    <td class=\"gt_row gt_right\">5.027</td>\n",
       "    <td class=\"gt_row gt_right\">253.000</td>\n",
       "    <td class=\"gt_row gt_left\"><.001</td>\n",
       "    <td class=\"gt_row gt_left\">***</td>\n",
       "  </tr>\n",
       "  <tr>\n",
       "    <td class=\"gt_row gt_left\"></td>\n",
       "    <td style=\"font-style: italic;\" class=\"gt_row gt_left\">StainPTA-stained:TissueMuscle-serosal</td>\n",
       "    <td class=\"gt_row gt_right\">1.054</td>\n",
       "    <td class=\"gt_row gt_right\">−0.012</td>\n",
       "    <td class=\"gt_row gt_right\">0.120</td>\n",
       "    <td class=\"gt_row gt_right\">0.033</td>\n",
       "    <td class=\"gt_row gt_right\">1.663</td>\n",
       "    <td class=\"gt_row gt_right\">253.000</td>\n",
       "    <td class=\"gt_row gt_left\">0.09748</td>\n",
       "    <td class=\"gt_row gt_left\">.</td>\n",
       "  </tr>\n",
       "</tbody>\n",
       "  <tfoot class=\"gt_sourcenotes\">\n",
       "  \n",
       "  <tr>\n",
       "    <td class=\"gt_sourcenote\" colspan=\"10\">Signif. codes: <em>0 *** 0.001 ** 0.01 * 0.05 . 0.1</em></td>\n",
       "  </tr>\n",
       "\n",
       "</tfoot>\n",
       "\n",
       "</table>\n",
       "\n",
       "</div>\n",
       "        "
      ],
      "text/plain": [
       "GT(_tbl_data=shape: (9, 10)\n",
       "┌────────────────┬────────────────┬───────────┬───────────┬───┬──────────┬──────┬──────────┬───────┐\n",
       "│ rfx            ┆ param          ┆ estimate  ┆ conf_low  ┆ … ┆ z_stat   ┆ df   ┆ p_value  ┆ stars │\n",
       "│ ---            ┆ ---            ┆ ---       ┆ ---       ┆   ┆ ---      ┆ ---  ┆ ---      ┆ ---   │\n",
       "│ str            ┆ str            ┆ f64       ┆ f64       ┆   ┆ f64      ┆ i64  ┆ str      ┆ str   │\n",
       "╞════════════════╪════════════════╪═══════════╪═══════════╪═══╪══════════╪══════╪══════════╪═══════╡\n",
       "│ Experiment-sd  ┆ (Intercept)    ┆ 0.059344  ┆ 0.127053  ┆ … ┆ null     ┆ null ┆ null     ┆ null  │\n",
       "│ ROI-sd         ┆ (Intercept)    ┆ 0.047144  ┆ 0.10124   ┆ … ┆ null     ┆ null ┆ null     ┆ null  │\n",
       "│ Residual-sd    ┆ Observation    ┆ 0.124929  ┆ 0.148722  ┆ … ┆ null     ┆ null ┆ null     ┆ null  │\n",
       "│ null           ┆ null           ┆ null      ┆ null      ┆ … ┆ null     ┆ null ┆ null     ┆ null  │\n",
       "│ Fixed Effects: ┆ null           ┆ null      ┆ null      ┆ … ┆ null     ┆ null ┆ null     ┆ null  │\n",
       "│ null           ┆ (Intercept)    ┆ 94.281302 ┆ 3.98816   ┆ … ┆ 52.31388 ┆ 253  ┆ <.001    ┆ ***   │\n",
       "│ null           ┆ StainPTA-stain ┆ 1.296839  ┆ -0.312518 ┆ … ┆ 3.04274  ┆ 253  ┆ 0.002591 ┆ **    │\n",
       "│                ┆ ed             ┆           ┆           ┆   ┆          ┆      ┆          ┆       │\n",
       "│ null           ┆ TissueMuscle-s ┆ 1.140207  ┆ 0.074673  ┆ … ┆ 5.026837 ┆ 253  ┆ <.001    ┆ ***   │\n",
       "│                ┆ erosal         ┆           ┆           ┆   ┆          ┆      ┆          ┆       │\n",
       "│ null           ┆ StainPTA-stain ┆ 1.053568  ┆ -0.011919 ┆ … ┆ 1.66335  ┆ 253  ┆ 0.09748  ┆ .     │\n",
       "│                ┆ ed:TissueMuscl ┆           ┆           ┆   ┆          ┆      ┆          ┆       │\n",
       "│                ┆ e-…            ┆           ┆           ┆   ┆          ┆      ┆          ┆       │\n",
       "└────────────────┴────────────────┴───────────┴───────────┴───┴──────────┴──────┴──────────┴───────┘, _body=<great_tables._gt_data.Body object at 0x7e75b03c5b50>, _boxhead=Boxhead([ColInfo(var='rfx', type=<ColInfoTypeEnum.default: 1>, column_label='Random Effects:', column_align='left', column_width=None), ColInfo(var='param', type=<ColInfoTypeEnum.default: 1>, column_label='', column_align='left', column_width=None), ColInfo(var='estimate', type=<ColInfoTypeEnum.default: 1>, column_label='Estimate', column_align='right', column_width=None), ColInfo(var='conf_low', type=<ColInfoTypeEnum.default: 1>, column_label='CI-low', column_align='right', column_width=None), ColInfo(var='conf_high', type=<ColInfoTypeEnum.default: 1>, column_label='CI-high', column_align='right', column_width=None), ColInfo(var='std_error', type=<ColInfoTypeEnum.default: 1>, column_label='SE', column_align='right', column_width=None), ColInfo(var='z_stat', type=<ColInfoTypeEnum.default: 1>, column_label='Z-stat', column_align='right', column_width=None), ColInfo(var='df', type=<ColInfoTypeEnum.default: 1>, column_label='df', column_align='right', column_width=None), ColInfo(var='p_value', type=<ColInfoTypeEnum.default: 1>, column_label='p', column_align='left', column_width=None), ColInfo(var='stars', type=<ColInfoTypeEnum.default: 1>, column_label='', column_align='left', column_width=None)]), _stub=<great_tables._gt_data.Stub object at 0x7e75b044c770>, _spanners=Spanners([]), _heading=Heading(title='Formula: glmer(Mean~Stain*Tissue+(1|Experiment)+(1|ROI))', subtitle=Md(text='Family: *Gamma (link: *log*)*  \\n            Number of observations: *260*  \\n            Confidence intervals: *boot*   \\n            Bootstrap Iterations: *1000*  \\n            ---------------------  \\n            Log-likelihood: *-1080*  \\n            AIC: *2174* | BIC: *2199*  \\n            Residual error: *0.125*  \\n        '), preheader=None), _stubhead=None, _source_notes=[Md(text='Signif. codes: *0 *** 0.001 ** 0.01 * 0.05 . 0.1*')], _footnotes=[], _styles=[StyleInfo(locname=LocBody(columns=['param'], rows=None, mask=None), grpname=None, colname='param', rownum=0, colnum=None, styles=[CellStyleText(color=None, font=None, size=None, align=None, v_align=None, style='italic', weight=None, stretch=None, decorate=None, transform=None, whitespace=None)]), StyleInfo(locname=LocBody(columns=['param'], rows=None, mask=None), grpname=None, colname='param', rownum=1, colnum=None, styles=[CellStyleText(color=None, font=None, size=None, align=None, v_align=None, style='italic', weight=None, stretch=None, decorate=None, transform=None, whitespace=None)]), StyleInfo(locname=LocBody(columns=['param'], rows=None, mask=None), grpname=None, colname='param', rownum=2, colnum=None, styles=[CellStyleText(color=None, font=None, size=None, align=None, v_align=None, style='italic', weight=None, stretch=None, decorate=None, transform=None, whitespace=None)]), StyleInfo(locname=LocBody(columns=['param'], rows=None, mask=None), grpname=None, colname='param', rownum=3, colnum=None, styles=[CellStyleText(color=None, font=None, size=None, align=None, v_align=None, style='italic', weight=None, stretch=None, decorate=None, transform=None, whitespace=None)]), StyleInfo(locname=LocBody(columns=['param'], rows=None, mask=None), grpname=None, colname='param', rownum=4, colnum=None, styles=[CellStyleText(color=None, font=None, size=None, align=None, v_align=None, style='italic', weight=None, stretch=None, decorate=None, transform=None, whitespace=None)]), StyleInfo(locname=LocBody(columns=['param'], rows=None, mask=None), grpname=None, colname='param', rownum=5, colnum=None, styles=[CellStyleText(color=None, font=None, size=None, align=None, v_align=None, style='italic', weight=None, stretch=None, decorate=None, transform=None, whitespace=None)]), StyleInfo(locname=LocBody(columns=['param'], rows=None, mask=None), grpname=None, colname='param', rownum=6, colnum=None, styles=[CellStyleText(color=None, font=None, size=None, align=None, v_align=None, style='italic', weight=None, stretch=None, decorate=None, transform=None, whitespace=None)]), StyleInfo(locname=LocBody(columns=['param'], rows=None, mask=None), grpname=None, colname='param', rownum=7, colnum=None, styles=[CellStyleText(color=None, font=None, size=None, align=None, v_align=None, style='italic', weight=None, stretch=None, decorate=None, transform=None, whitespace=None)]), StyleInfo(locname=LocBody(columns=['param'], rows=None, mask=None), grpname=None, colname='param', rownum=8, colnum=None, styles=[CellStyleText(color=None, font=None, size=None, align=None, v_align=None, style='italic', weight=None, stretch=None, decorate=None, transform=None, whitespace=None)])], _locale=<great_tables._gt_data.Locale object at 0x7e75b044c860>, _formats=[<great_tables._gt_data.FormatInfo object at 0x7e75b0275d30>], _substitutions=[<great_tables._gt_data.FormatInfo object at 0x7e75b0277290>], _options=Options(table_id=OptionsInfo(scss=False, category='table', type='value', value=None), table_caption=OptionsInfo(scss=False, category='table', type='value', value=None), table_width=OptionsInfo(scss=True, category='table', type='px', value='auto'), table_layout=OptionsInfo(scss=True, category='table', type='value', value='fixed'), table_margin_left=OptionsInfo(scss=True, category='table', type='px', value='auto'), table_margin_right=OptionsInfo(scss=True, category='table', type='px', value='auto'), table_background_color=OptionsInfo(scss=True, category='table', type='value', value='#FFFFFF'), table_additional_css=OptionsInfo(scss=False, category='table', type='values', value=[]), table_font_names=OptionsInfo(scss=False, category='table', type='values', value=['-apple-system', 'BlinkMacSystemFont', 'Segoe UI', 'Roboto', 'Oxygen', 'Ubuntu', 'Cantarell', 'Helvetica Neue', 'Fira Sans', 'Droid Sans', 'Arial', 'sans-serif']), table_font_size=OptionsInfo(scss=True, category='table', type='px', value='16px'), table_font_weight=OptionsInfo(scss=True, category='table', type='value', value='normal'), table_font_style=OptionsInfo(scss=True, category='table', type='value', value='normal'), table_font_color=OptionsInfo(scss=True, category='table', type='value', value='#333333'), table_font_color_light=OptionsInfo(scss=True, category='table', type='value', value='#FFFFFF'), table_border_top_include=OptionsInfo(scss=False, category='table', type='boolean', value=True), table_border_top_style=OptionsInfo(scss=True, category='table', type='value', value='solid'), table_border_top_width=OptionsInfo(scss=True, category='table', type='px', value='2px'), table_border_top_color=OptionsInfo(scss=True, category='table', type='value', value='#A8A8A8'), table_border_right_style=OptionsInfo(scss=True, category='table', type='value', value='none'), table_border_right_width=OptionsInfo(scss=True, category='table', type='px', value='2px'), table_border_right_color=OptionsInfo(scss=True, category='table', type='value', value='#D3D3D3'), table_border_bottom_include=OptionsInfo(scss=False, category='table', type='boolean', value=True), table_border_bottom_style=OptionsInfo(scss=True, category='table', type='value', value='solid'), table_border_bottom_width=OptionsInfo(scss=True, category='table', type='px', value='2px'), table_border_bottom_color=OptionsInfo(scss=True, category='table', type='value', value='#A8A8A8'), table_border_left_style=OptionsInfo(scss=True, category='table', type='value', value='none'), table_border_left_width=OptionsInfo(scss=True, category='table', type='px', value='2px'), table_border_left_color=OptionsInfo(scss=True, category='table', type='value', value='#D3D3D3'), heading_background_color=OptionsInfo(scss=True, category='heading', type='value', value=None), heading_align=OptionsInfo(scss=True, category='heading', type='value', value='left'), heading_title_font_size=OptionsInfo(scss=True, category='heading', type='px', value='125%'), heading_title_font_weight=OptionsInfo(scss=True, category='heading', type='value', value='initial'), heading_subtitle_font_size=OptionsInfo(scss=True, category='heading', type='px', value='85%'), heading_subtitle_font_weight=OptionsInfo(scss=True, category='heading', type='value', value='initial'), heading_padding=OptionsInfo(scss=True, category='heading', type='px', value='3px'), heading_padding_horizontal=OptionsInfo(scss=True, category='heading', type='px', value='5px'), heading_border_bottom_style=OptionsInfo(scss=True, category='heading', type='value', value='solid'), heading_border_bottom_width=OptionsInfo(scss=True, category='heading', type='px', value='2px'), heading_border_bottom_color=OptionsInfo(scss=True, category='heading', type='value', value='#D3D3D3'), heading_border_lr_style=OptionsInfo(scss=True, category='heading', type='value', value='none'), heading_border_lr_width=OptionsInfo(scss=True, category='heading', type='px', value='1px'), heading_border_lr_color=OptionsInfo(scss=True, category='heading', type='value', value='#D3D3D3'), column_labels_background_color=OptionsInfo(scss=True, category='column_labels', type='value', value=None), column_labels_font_size=OptionsInfo(scss=True, category='column_labels', type='px', value='100%'), column_labels_font_weight=OptionsInfo(scss=True, category='column_labels', type='value', value='normal'), column_labels_text_transform=OptionsInfo(scss=True, category='column_labels', type='value', value='inherit'), column_labels_padding=OptionsInfo(scss=True, category='column_labels', type='px', value='3px'), column_labels_padding_horizontal=OptionsInfo(scss=True, category='column_labels', type='px', value='5px'), column_labels_vlines_style=OptionsInfo(scss=True, category='table_body', type='value', value='none'), column_labels_vlines_width=OptionsInfo(scss=True, category='table_body', type='px', value='1px'), column_labels_vlines_color=OptionsInfo(scss=True, category='table_body', type='value', value='#D3D3D3'), column_labels_border_top_style=OptionsInfo(scss=True, category='column_labels', type='value', value='solid'), column_labels_border_top_width=OptionsInfo(scss=True, category='column_labels', type='px', value='2px'), column_labels_border_top_color=OptionsInfo(scss=True, category='column_labels', type='value', value='#D3D3D3'), column_labels_border_bottom_style=OptionsInfo(scss=True, category='column_labels', type='value', value='solid'), column_labels_border_bottom_width=OptionsInfo(scss=True, category='column_labels', type='px', value='2px'), column_labels_border_bottom_color=OptionsInfo(scss=True, category='column_labels', type='value', value='#D3D3D3'), column_labels_border_lr_style=OptionsInfo(scss=True, category='column_labels', type='value', value='none'), column_labels_border_lr_width=OptionsInfo(scss=True, category='column_labels', type='px', value='1px'), column_labels_border_lr_color=OptionsInfo(scss=True, category='column_labels', type='value', value='#D3D3D3'), column_labels_hidden=OptionsInfo(scss=False, category='column_labels', type='boolean', value=False), row_group_background_color=OptionsInfo(scss=True, category='row_group', type='value', value=None), row_group_font_size=OptionsInfo(scss=True, category='row_group', type='px', value='100%'), row_group_font_weight=OptionsInfo(scss=True, category='row_group', type='value', value='initial'), row_group_text_transform=OptionsInfo(scss=True, category='row_group', type='value', value='inherit'), row_group_padding=OptionsInfo(scss=True, category='row_group', type='px', value='6px'), row_group_padding_horizontal=OptionsInfo(scss=True, category='row_group', type='px', value='5px'), row_group_border_top_style=OptionsInfo(scss=True, category='row_group', type='value', value='solid'), row_group_border_top_width=OptionsInfo(scss=True, category='row_group', type='px', value='2px'), row_group_border_top_color=OptionsInfo(scss=True, category='row_group', type='value', value='#D3D3D3'), row_group_border_right_style=OptionsInfo(scss=True, category='row_group', type='value', value='none'), row_group_border_right_width=OptionsInfo(scss=True, category='row_group', type='px', value='1px'), row_group_border_right_color=OptionsInfo(scss=True, category='row_group', type='value', value='#D3D3D3'), row_group_border_bottom_style=OptionsInfo(scss=True, category='row_group', type='value', value='solid'), row_group_border_bottom_width=OptionsInfo(scss=True, category='row_group', type='px', value='2px'), row_group_border_bottom_color=OptionsInfo(scss=True, category='row_group', type='value', value='#D3D3D3'), row_group_border_left_style=OptionsInfo(scss=True, category='row_group', type='value', value='none'), row_group_border_left_width=OptionsInfo(scss=True, category='row_group', type='px', value='1px'), row_group_border_left_color=OptionsInfo(scss=True, category='row_group', type='value', value='#D3D3D3'), row_group_as_column=OptionsInfo(scss=False, category='row_group', type='boolean', value=False), table_body_hlines_style=OptionsInfo(scss=True, category='table_body', type='value', value='solid'), table_body_hlines_width=OptionsInfo(scss=True, category='table_body', type='px', value='1px'), table_body_hlines_color=OptionsInfo(scss=True, category='table_body', type='value', value='#D3D3D3'), table_body_vlines_style=OptionsInfo(scss=True, category='table_body', type='value', value='none'), table_body_vlines_width=OptionsInfo(scss=True, category='table_body', type='px', value='1px'), table_body_vlines_color=OptionsInfo(scss=True, category='table_body', type='value', value='#D3D3D3'), table_body_border_top_style=OptionsInfo(scss=True, category='table_body', type='value', value='solid'), table_body_border_top_width=OptionsInfo(scss=True, category='table_body', type='px', value='2px'), table_body_border_top_color=OptionsInfo(scss=True, category='table_body', type='value', value='#D3D3D3'), table_body_border_bottom_style=OptionsInfo(scss=True, category='table_body', type='value', value='solid'), table_body_border_bottom_width=OptionsInfo(scss=True, category='table_body', type='px', value='2px'), table_body_border_bottom_color=OptionsInfo(scss=True, category='table_body', type='value', value='#D3D3D3'), data_row_padding=OptionsInfo(scss=True, category='data_row', type='px', value='6px'), data_row_padding_horizontal=OptionsInfo(scss=True, category='data_row', type='px', value='5px'), stub_background_color=OptionsInfo(scss=True, category='stub', type='value', value=None), stub_font_size=OptionsInfo(scss=True, category='stub', type='px', value='100%'), stub_font_weight=OptionsInfo(scss=True, category='stub', type='value', value='initial'), stub_text_transform=OptionsInfo(scss=True, category='stub', type='value', value='inherit'), stub_border_style=OptionsInfo(scss=True, category='stub', type='value', value='solid'), stub_border_width=OptionsInfo(scss=True, category='stub', type='px', value='2px'), stub_border_color=OptionsInfo(scss=True, category='stub', type='value', value='#D3D3D3'), stub_row_group_background_color=OptionsInfo(scss=True, category='stub', type='value', value=None), stub_row_group_font_size=OptionsInfo(scss=True, category='stub', type='px', value='100%'), stub_row_group_font_weight=OptionsInfo(scss=True, category='stub', type='value', value='initial'), stub_row_group_text_transform=OptionsInfo(scss=True, category='stub', type='value', value='inherit'), stub_row_group_border_style=OptionsInfo(scss=True, category='stub', type='value', value='solid'), stub_row_group_border_width=OptionsInfo(scss=True, category='stub', type='px', value='2px'), stub_row_group_border_color=OptionsInfo(scss=True, category='stub', type='value', value='#D3D3D3'), source_notes_padding=OptionsInfo(scss=True, category='source_notes', type='px', value='3px'), source_notes_padding_horizontal=OptionsInfo(scss=True, category='source_notes', type='px', value='5px'), source_notes_background_color=OptionsInfo(scss=True, category='source_notes', type='value', value=None), source_notes_font_size=OptionsInfo(scss=True, category='source_notes', type='px', value='small'), source_notes_border_bottom_style=OptionsInfo(scss=True, category='source_notes', type='value', value='none'), source_notes_border_bottom_width=OptionsInfo(scss=True, category='source_notes', type='px', value='2px'), source_notes_border_bottom_color=OptionsInfo(scss=True, category='source_notes', type='value', value='#D3D3D3'), source_notes_border_lr_style=OptionsInfo(scss=True, category='source_notes', type='value', value='none'), source_notes_border_lr_width=OptionsInfo(scss=True, category='source_notes', type='px', value='2px'), source_notes_border_lr_color=OptionsInfo(scss=True, category='source_notes', type='value', value='#D3D3D3'), source_notes_multiline=OptionsInfo(scss=False, category='source_notes', type='boolean', value=True), source_notes_sep=OptionsInfo(scss=False, category='source_notes', type='value', value=' '), row_striping_background_color=OptionsInfo(scss=True, category='row', type='value', value='rgba(128,128,128,0.05)'), row_striping_include_stub=OptionsInfo(scss=False, category='row', type='boolean', value=False), row_striping_include_table_body=OptionsInfo(scss=False, category='row', type='boolean', value=False), container_width=OptionsInfo(scss=False, category='container', type='px', value='auto'), container_height=OptionsInfo(scss=False, category='container', type='px', value='auto'), container_padding_x=OptionsInfo(scss=False, category='container', type='px', value='0px'), container_padding_y=OptionsInfo(scss=False, category='container', type='px', value='10px'), container_overflow_x=OptionsInfo(scss=False, category='container', type='overflow', value='auto'), container_overflow_y=OptionsInfo(scss=False, category='container', type='overflow', value='auto'), quarto_disable_processing=OptionsInfo(scss=False, category='quarto', type='logical', value=False), quarto_use_bootstrap=OptionsInfo(scss=False, category='quarto', type='logical', value=False)), _has_built=False)"
      ]
     },
     "metadata": {},
     "output_type": "display_data"
    },
    {
     "data": {
      "text/html": [
       "<div><style>\n",
       ".dataframe > thead > tr,\n",
       ".dataframe > tbody > tr {\n",
       "  text-align: right;\n",
       "  white-space: pre-wrap;\n",
       "}\n",
       "</style>\n",
       "<small>shape: (1, 13)</small><table border=\"1\" class=\"dataframe\"><thead><tr><th>AIC</th><th>AICc</th><th>BIC</th><th>ICC</th><th>R2_conditional</th><th>R2_marginal</th><th>RMSE</th><th>Sigma</th><th>deviance</th><th>df_residual</th><th>logLik</th><th>nobs</th><th>sigma</th></tr><tr><td>f64</td><td>f64</td><td>f64</td><td>f64</td><td>f64</td><td>f64</td><td>f64</td><td>f64</td><td>f64</td><td>i64</td><td>f64</td><td>i64</td><td>f64</td></tr></thead><tbody><tr><td>2174.624129</td><td>2175.068574</td><td>2199.548901</td><td>0.270563</td><td>0.662584</td><td>0.537429</td><td>14.642606</td><td>0.124929</td><td>3.546964</td><td>253</td><td>-1080.312065</td><td>260</td><td>0.124929</td></tr></tbody></table></div>"
      ],
      "text/plain": [
       "shape: (1, 13)\n",
       "┌─────────────┬────────────┬────────────┬──────────┬───┬────────────┬────────────┬──────┬──────────┐\n",
       "│ AIC         ┆ AICc       ┆ BIC        ┆ ICC      ┆ … ┆ df_residua ┆ logLik     ┆ nobs ┆ sigma    │\n",
       "│ ---         ┆ ---        ┆ ---        ┆ ---      ┆   ┆ l          ┆ ---        ┆ ---  ┆ ---      │\n",
       "│ f64         ┆ f64        ┆ f64        ┆ f64      ┆   ┆ ---        ┆ f64        ┆ i64  ┆ f64      │\n",
       "│             ┆            ┆            ┆          ┆   ┆ i64        ┆            ┆      ┆          │\n",
       "╞═════════════╪════════════╪════════════╪══════════╪═══╪════════════╪════════════╪══════╪══════════╡\n",
       "│ 2174.624129 ┆ 2175.06857 ┆ 2199.54890 ┆ 0.270563 ┆ … ┆ 253        ┆ -1080.3120 ┆ 260  ┆ 0.124929 │\n",
       "│             ┆ 4          ┆ 1          ┆          ┆   ┆            ┆ 65         ┆      ┆          │\n",
       "└─────────────┴────────────┴────────────┴──────────┴───┴────────────┴────────────┴──────┴──────────┘"
      ]
     },
     "metadata": {},
     "output_type": "display_data"
    },
    {
     "data": {
      "application/vnd.plotly.v1+json": {
       "config": {
        "plotlyServerURL": "https://plot.ly"
       },
       "data": [
        {
         "marker": {
          "color": "#6C8EBF",
          "size": 10
         },
         "mode": "markers",
         "text": [
          "RT01",
          "RT01",
          "RT01",
          "RT01",
          "RT01",
          "RT01",
          "RT01",
          "RT01",
          "RT01",
          "RT01",
          "RT01",
          "RT01",
          "RT01",
          "RT01",
          "RT01",
          "RT01",
          "RT01",
          "RT01",
          "RT01",
          "RT01",
          "RT02",
          "RT02",
          "RT02",
          "RT02",
          "RT02",
          "RT02",
          "RT02",
          "RT02",
          "RT02",
          "RT02",
          "RT02",
          "RT02",
          "RT02",
          "RT02",
          "RT02",
          "RT02",
          "RT02",
          "RT02",
          "RT02",
          "RT02",
          "RT03",
          "RT03",
          "RT03",
          "RT03",
          "RT03",
          "RT03",
          "RT03",
          "RT03",
          "RT03",
          "RT03",
          "RT03",
          "RT03",
          "RT03",
          "RT03",
          "RT03",
          "RT03",
          "RT03",
          "RT03",
          "RT03",
          "RT03",
          "RT04",
          "RT04",
          "RT04",
          "RT04",
          "RT04",
          "RT04",
          "RT04",
          "RT04",
          "RT04",
          "RT04",
          "RT04",
          "RT04",
          "RT04",
          "RT04",
          "RT04",
          "RT04",
          "RT04",
          "RT04",
          "RT04",
          "RT04",
          "RT05",
          "RT05",
          "RT05",
          "RT05",
          "RT05",
          "RT05",
          "RT05",
          "RT05",
          "RT05",
          "RT05",
          "RT05",
          "RT05",
          "RT05",
          "RT05",
          "RT05",
          "RT05",
          "RT05",
          "RT05",
          "RT05",
          "RT05",
          "RT06",
          "RT06",
          "RT06",
          "RT06",
          "RT06",
          "RT06",
          "RT06",
          "RT06",
          "RT06",
          "RT06",
          "RT06",
          "RT06",
          "RT06",
          "RT06",
          "RT06",
          "RT06",
          "RT06",
          "RT06",
          "RT06",
          "RT06",
          "RT09",
          "RT09",
          "RT09",
          "RT09",
          "RT09",
          "RT09",
          "RT09",
          "RT09",
          "RT09",
          "RT09",
          "RT09",
          "RT09",
          "RT09",
          "RT09",
          "RT09",
          "RT09",
          "RT09",
          "RT09",
          "RT09",
          "RT09",
          "RT10",
          "RT10",
          "RT10",
          "RT10",
          "RT10",
          "RT10",
          "RT10",
          "RT10",
          "RT10",
          "RT10",
          "RT10",
          "RT10",
          "RT10",
          "RT10",
          "RT10",
          "RT10",
          "RT10",
          "RT10",
          "RT10",
          "RT10",
          "RT11",
          "RT11",
          "RT11",
          "RT11",
          "RT11",
          "RT11",
          "RT11",
          "RT11",
          "RT11",
          "RT11",
          "RT11",
          "RT11",
          "RT11",
          "RT11",
          "RT11",
          "RT11",
          "RT11",
          "RT11",
          "RT11",
          "RT11",
          "RT12",
          "RT12",
          "RT12",
          "RT12",
          "RT12",
          "RT12",
          "RT12",
          "RT12",
          "RT12",
          "RT12",
          "RT12",
          "RT12",
          "RT12",
          "RT12",
          "RT12",
          "RT12",
          "RT12",
          "RT12",
          "RT12",
          "RT12",
          "RT13",
          "RT13",
          "RT13",
          "RT13",
          "RT13",
          "RT13",
          "RT13",
          "RT13",
          "RT13",
          "RT13",
          "RT13",
          "RT13",
          "RT13",
          "RT13",
          "RT13",
          "RT13",
          "RT13",
          "RT13",
          "RT13",
          "RT13",
          "RT14",
          "RT14",
          "RT14",
          "RT14",
          "RT14",
          "RT14",
          "RT14",
          "RT14",
          "RT14",
          "RT14",
          "RT14",
          "RT14",
          "RT14",
          "RT14",
          "RT14",
          "RT14",
          "RT14",
          "RT14",
          "RT14",
          "RT14",
          "RT15",
          "RT15",
          "RT15",
          "RT15",
          "RT15",
          "RT15",
          "RT15",
          "RT15",
          "RT15",
          "RT15",
          "RT15",
          "RT15",
          "RT15",
          "RT15",
          "RT15",
          "RT15",
          "RT15",
          "RT15",
          "RT15",
          "RT15"
         ],
         "type": "scatter",
         "x": {
          "bdata": "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",
          "dtype": "f8"
         },
         "xaxis": "x",
         "y": {
          "bdata": "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",
          "dtype": "f8"
         },
         "yaxis": "y"
        },
        {
         "marker": {
          "color": "#6C8EBF",
          "size": 10
         },
         "mode": "markers",
         "type": "scatter",
         "x": {
          "bdata": "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",
          "dtype": "f8"
         },
         "xaxis": "x2",
         "y": {
          "bdata": "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",
          "dtype": "f8"
         },
         "yaxis": "y2"
        },
        {
         "marker": {
          "color": "#B85450",
          "line": {
           "width": 2
          }
         },
         "mode": "lines",
         "type": "scatter",
         "x": {
          "bdata": "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",
          "dtype": "f8"
         },
         "xaxis": "x2",
         "y": {
          "bdata": "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",
          "dtype": "f8"
         },
         "yaxis": "y2"
        },
        {
         "marker": {
          "color": "#6C8EBF",
          "size": 10
         },
         "mode": "markers",
         "text": [
          "RT01",
          "RT01",
          "RT01",
          "RT01",
          "RT01",
          "RT01",
          "RT01",
          "RT01",
          "RT01",
          "RT01",
          "RT01",
          "RT01",
          "RT01",
          "RT01",
          "RT01",
          "RT01",
          "RT01",
          "RT01",
          "RT01",
          "RT01",
          "RT02",
          "RT02",
          "RT02",
          "RT02",
          "RT02",
          "RT02",
          "RT02",
          "RT02",
          "RT02",
          "RT02",
          "RT02",
          "RT02",
          "RT02",
          "RT02",
          "RT02",
          "RT02",
          "RT02",
          "RT02",
          "RT02",
          "RT02",
          "RT03",
          "RT03",
          "RT03",
          "RT03",
          "RT03",
          "RT03",
          "RT03",
          "RT03",
          "RT03",
          "RT03",
          "RT03",
          "RT03",
          "RT03",
          "RT03",
          "RT03",
          "RT03",
          "RT03",
          "RT03",
          "RT03",
          "RT03",
          "RT04",
          "RT04",
          "RT04",
          "RT04",
          "RT04",
          "RT04",
          "RT04",
          "RT04",
          "RT04",
          "RT04",
          "RT04",
          "RT04",
          "RT04",
          "RT04",
          "RT04",
          "RT04",
          "RT04",
          "RT04",
          "RT04",
          "RT04",
          "RT05",
          "RT05",
          "RT05",
          "RT05",
          "RT05",
          "RT05",
          "RT05",
          "RT05",
          "RT05",
          "RT05",
          "RT05",
          "RT05",
          "RT05",
          "RT05",
          "RT05",
          "RT05",
          "RT05",
          "RT05",
          "RT05",
          "RT05",
          "RT06",
          "RT06",
          "RT06",
          "RT06",
          "RT06",
          "RT06",
          "RT06",
          "RT06",
          "RT06",
          "RT06",
          "RT06",
          "RT06",
          "RT06",
          "RT06",
          "RT06",
          "RT06",
          "RT06",
          "RT06",
          "RT06",
          "RT06",
          "RT09",
          "RT09",
          "RT09",
          "RT09",
          "RT09",
          "RT09",
          "RT09",
          "RT09",
          "RT09",
          "RT09",
          "RT09",
          "RT09",
          "RT09",
          "RT09",
          "RT09",
          "RT09",
          "RT09",
          "RT09",
          "RT09",
          "RT09",
          "RT10",
          "RT10",
          "RT10",
          "RT10",
          "RT10",
          "RT10",
          "RT10",
          "RT10",
          "RT10",
          "RT10",
          "RT10",
          "RT10",
          "RT10",
          "RT10",
          "RT10",
          "RT10",
          "RT10",
          "RT10",
          "RT10",
          "RT10",
          "RT11",
          "RT11",
          "RT11",
          "RT11",
          "RT11",
          "RT11",
          "RT11",
          "RT11",
          "RT11",
          "RT11",
          "RT11",
          "RT11",
          "RT11",
          "RT11",
          "RT11",
          "RT11",
          "RT11",
          "RT11",
          "RT11",
          "RT11",
          "RT12",
          "RT12",
          "RT12",
          "RT12",
          "RT12",
          "RT12",
          "RT12",
          "RT12",
          "RT12",
          "RT12",
          "RT12",
          "RT12",
          "RT12",
          "RT12",
          "RT12",
          "RT12",
          "RT12",
          "RT12",
          "RT12",
          "RT12",
          "RT13",
          "RT13",
          "RT13",
          "RT13",
          "RT13",
          "RT13",
          "RT13",
          "RT13",
          "RT13",
          "RT13",
          "RT13",
          "RT13",
          "RT13",
          "RT13",
          "RT13",
          "RT13",
          "RT13",
          "RT13",
          "RT13",
          "RT13",
          "RT14",
          "RT14",
          "RT14",
          "RT14",
          "RT14",
          "RT14",
          "RT14",
          "RT14",
          "RT14",
          "RT14",
          "RT14",
          "RT14",
          "RT14",
          "RT14",
          "RT14",
          "RT14",
          "RT14",
          "RT14",
          "RT14",
          "RT14",
          "RT15",
          "RT15",
          "RT15",
          "RT15",
          "RT15",
          "RT15",
          "RT15",
          "RT15",
          "RT15",
          "RT15",
          "RT15",
          "RT15",
          "RT15",
          "RT15",
          "RT15",
          "RT15",
          "RT15",
          "RT15",
          "RT15",
          "RT15"
         ],
         "type": "scatter",
         "x": {
          "bdata": "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",
          "dtype": "f8"
         },
         "xaxis": "x3",
         "y": {
          "bdata": "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",
          "dtype": "f8"
         },
         "yaxis": "y3"
        },
        {
         "histnorm": "probability",
         "marker": {
          "color": "#6C8EBF"
         },
         "type": "histogram",
         "x": {
          "bdata": "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",
          "dtype": "f8"
         },
         "xaxis": "x4",
         "yaxis": "y4"
        }
       ],
       "layout": {
        "height": 500,
        "margin": {
         "b": 5,
         "l": 10,
         "r": 10,
         "t": 5
        },
        "showlegend": false,
        "template": {
         "data": {
          "bar": [
           {
            "error_x": {
             "color": "#2a3f5f"
            },
            "error_y": {
             "color": "#2a3f5f"
            },
            "marker": {
             "line": {
              "color": "white",
              "width": 0.5
             },
             "pattern": {
              "fillmode": "overlay",
              "size": 10,
              "solidity": 0.2
             }
            },
            "type": "bar"
           }
          ],
          "barpolar": [
           {
            "marker": {
             "line": {
              "color": "white",
              "width": 0.5
             },
             "pattern": {
              "fillmode": "overlay",
              "size": 10,
              "solidity": 0.2
             }
            },
            "type": "barpolar"
           }
          ],
          "carpet": [
           {
            "aaxis": {
             "endlinecolor": "#2a3f5f",
             "gridcolor": "#C8D4E3",
             "linecolor": "#C8D4E3",
             "minorgridcolor": "#C8D4E3",
             "startlinecolor": "#2a3f5f"
            },
            "baxis": {
             "endlinecolor": "#2a3f5f",
             "gridcolor": "#C8D4E3",
             "linecolor": "#C8D4E3",
             "minorgridcolor": "#C8D4E3",
             "startlinecolor": "#2a3f5f"
            },
            "type": "carpet"
           }
          ],
          "choropleth": [
           {
            "colorbar": {
             "outlinewidth": 0,
             "ticks": ""
            },
            "type": "choropleth"
           }
          ],
          "contour": [
           {
            "colorbar": {
             "outlinewidth": 0,
             "ticks": ""
            },
            "colorscale": [
             [
              0,
              "#0d0887"
             ],
             [
              0.1111111111111111,
              "#46039f"
             ],
             [
              0.2222222222222222,
              "#7201a8"
             ],
             [
              0.3333333333333333,
              "#9c179e"
             ],
             [
              0.4444444444444444,
              "#bd3786"
             ],
             [
              0.5555555555555556,
              "#d8576b"
             ],
             [
              0.6666666666666666,
              "#ed7953"
             ],
             [
              0.7777777777777778,
              "#fb9f3a"
             ],
             [
              0.8888888888888888,
              "#fdca26"
             ],
             [
              1,
              "#f0f921"
             ]
            ],
            "type": "contour"
           }
          ],
          "contourcarpet": [
           {
            "colorbar": {
             "outlinewidth": 0,
             "ticks": ""
            },
            "type": "contourcarpet"
           }
          ],
          "heatmap": [
           {
            "colorbar": {
             "outlinewidth": 0,
             "ticks": ""
            },
            "colorscale": [
             [
              0,
              "#0d0887"
             ],
             [
              0.1111111111111111,
              "#46039f"
             ],
             [
              0.2222222222222222,
              "#7201a8"
             ],
             [
              0.3333333333333333,
              "#9c179e"
             ],
             [
              0.4444444444444444,
              "#bd3786"
             ],
             [
              0.5555555555555556,
              "#d8576b"
             ],
             [
              0.6666666666666666,
              "#ed7953"
             ],
             [
              0.7777777777777778,
              "#fb9f3a"
             ],
             [
              0.8888888888888888,
              "#fdca26"
             ],
             [
              1,
              "#f0f921"
             ]
            ],
            "type": "heatmap"
           }
          ],
          "histogram": [
           {
            "marker": {
             "pattern": {
              "fillmode": "overlay",
              "size": 10,
              "solidity": 0.2
             }
            },
            "type": "histogram"
           }
          ],
          "histogram2d": [
           {
            "colorbar": {
             "outlinewidth": 0,
             "ticks": ""
            },
            "colorscale": [
             [
              0,
              "#0d0887"
             ],
             [
              0.1111111111111111,
              "#46039f"
             ],
             [
              0.2222222222222222,
              "#7201a8"
             ],
             [
              0.3333333333333333,
              "#9c179e"
             ],
             [
              0.4444444444444444,
              "#bd3786"
             ],
             [
              0.5555555555555556,
              "#d8576b"
             ],
             [
              0.6666666666666666,
              "#ed7953"
             ],
             [
              0.7777777777777778,
              "#fb9f3a"
             ],
             [
              0.8888888888888888,
              "#fdca26"
             ],
             [
              1,
              "#f0f921"
             ]
            ],
            "type": "histogram2d"
           }
          ],
          "histogram2dcontour": [
           {
            "colorbar": {
             "outlinewidth": 0,
             "ticks": ""
            },
            "colorscale": [
             [
              0,
              "#0d0887"
             ],
             [
              0.1111111111111111,
              "#46039f"
             ],
             [
              0.2222222222222222,
              "#7201a8"
             ],
             [
              0.3333333333333333,
              "#9c179e"
             ],
             [
              0.4444444444444444,
              "#bd3786"
             ],
             [
              0.5555555555555556,
              "#d8576b"
             ],
             [
              0.6666666666666666,
              "#ed7953"
             ],
             [
              0.7777777777777778,
              "#fb9f3a"
             ],
             [
              0.8888888888888888,
              "#fdca26"
             ],
             [
              1,
              "#f0f921"
             ]
            ],
            "type": "histogram2dcontour"
           }
          ],
          "mesh3d": [
           {
            "colorbar": {
             "outlinewidth": 0,
             "ticks": ""
            },
            "type": "mesh3d"
           }
          ],
          "parcoords": [
           {
            "line": {
             "colorbar": {
              "outlinewidth": 0,
              "ticks": ""
             }
            },
            "type": "parcoords"
           }
          ],
          "pie": [
           {
            "automargin": true,
            "type": "pie"
           }
          ],
          "scatter": [
           {
            "fillpattern": {
             "fillmode": "overlay",
             "size": 10,
             "solidity": 0.2
            },
            "type": "scatter"
           }
          ],
          "scatter3d": [
           {
            "line": {
             "colorbar": {
              "outlinewidth": 0,
              "ticks": ""
             }
            },
            "marker": {
             "colorbar": {
              "outlinewidth": 0,
              "ticks": ""
             }
            },
            "type": "scatter3d"
           }
          ],
          "scattercarpet": [
           {
            "marker": {
             "colorbar": {
              "outlinewidth": 0,
              "ticks": ""
             }
            },
            "type": "scattercarpet"
           }
          ],
          "scattergeo": [
           {
            "marker": {
             "colorbar": {
              "outlinewidth": 0,
              "ticks": ""
             }
            },
            "type": "scattergeo"
           }
          ],
          "scattergl": [
           {
            "marker": {
             "colorbar": {
              "outlinewidth": 0,
              "ticks": ""
             }
            },
            "type": "scattergl"
           }
          ],
          "scattermap": [
           {
            "marker": {
             "colorbar": {
              "outlinewidth": 0,
              "ticks": ""
             }
            },
            "type": "scattermap"
           }
          ],
          "scattermapbox": [
           {
            "marker": {
             "colorbar": {
              "outlinewidth": 0,
              "ticks": ""
             }
            },
            "type": "scattermapbox"
           }
          ],
          "scatterpolar": [
           {
            "marker": {
             "colorbar": {
              "outlinewidth": 0,
              "ticks": ""
             }
            },
            "type": "scatterpolar"
           }
          ],
          "scatterpolargl": [
           {
            "marker": {
             "colorbar": {
              "outlinewidth": 0,
              "ticks": ""
             }
            },
            "type": "scatterpolargl"
           }
          ],
          "scatterternary": [
           {
            "marker": {
             "colorbar": {
              "outlinewidth": 0,
              "ticks": ""
             }
            },
            "type": "scatterternary"
           }
          ],
          "surface": [
           {
            "colorbar": {
             "outlinewidth": 0,
             "ticks": ""
            },
            "colorscale": [
             [
              0,
              "#0d0887"
             ],
             [
              0.1111111111111111,
              "#46039f"
             ],
             [
              0.2222222222222222,
              "#7201a8"
             ],
             [
              0.3333333333333333,
              "#9c179e"
             ],
             [
              0.4444444444444444,
              "#bd3786"
             ],
             [
              0.5555555555555556,
              "#d8576b"
             ],
             [
              0.6666666666666666,
              "#ed7953"
             ],
             [
              0.7777777777777778,
              "#fb9f3a"
             ],
             [
              0.8888888888888888,
              "#fdca26"
             ],
             [
              1,
              "#f0f921"
             ]
            ],
            "type": "surface"
           }
          ],
          "table": [
           {
            "cells": {
             "fill": {
              "color": "#EBF0F8"
             },
             "line": {
              "color": "white"
             }
            },
            "header": {
             "fill": {
              "color": "#C8D4E3"
             },
             "line": {
              "color": "white"
             }
            },
            "type": "table"
           }
          ]
         },
         "layout": {
          "annotationdefaults": {
           "arrowcolor": "#2a3f5f",
           "arrowhead": 0,
           "arrowwidth": 1
          },
          "autotypenumbers": "strict",
          "coloraxis": {
           "colorbar": {
            "outlinewidth": 0,
            "ticks": ""
           }
          },
          "colorscale": {
           "diverging": [
            [
             0,
             "#8e0152"
            ],
            [
             0.1,
             "#c51b7d"
            ],
            [
             0.2,
             "#de77ae"
            ],
            [
             0.3,
             "#f1b6da"
            ],
            [
             0.4,
             "#fde0ef"
            ],
            [
             0.5,
             "#f7f7f7"
            ],
            [
             0.6,
             "#e6f5d0"
            ],
            [
             0.7,
             "#b8e186"
            ],
            [
             0.8,
             "#7fbc41"
            ],
            [
             0.9,
             "#4d9221"
            ],
            [
             1,
             "#276419"
            ]
           ],
           "sequential": [
            [
             0,
             "#0d0887"
            ],
            [
             0.1111111111111111,
             "#46039f"
            ],
            [
             0.2222222222222222,
             "#7201a8"
            ],
            [
             0.3333333333333333,
             "#9c179e"
            ],
            [
             0.4444444444444444,
             "#bd3786"
            ],
            [
             0.5555555555555556,
             "#d8576b"
            ],
            [
             0.6666666666666666,
             "#ed7953"
            ],
            [
             0.7777777777777778,
             "#fb9f3a"
            ],
            [
             0.8888888888888888,
             "#fdca26"
            ],
            [
             1,
             "#f0f921"
            ]
           ],
           "sequentialminus": [
            [
             0,
             "#0d0887"
            ],
            [
             0.1111111111111111,
             "#46039f"
            ],
            [
             0.2222222222222222,
             "#7201a8"
            ],
            [
             0.3333333333333333,
             "#9c179e"
            ],
            [
             0.4444444444444444,
             "#bd3786"
            ],
            [
             0.5555555555555556,
             "#d8576b"
            ],
            [
             0.6666666666666666,
             "#ed7953"
            ],
            [
             0.7777777777777778,
             "#fb9f3a"
            ],
            [
             0.8888888888888888,
             "#fdca26"
            ],
            [
             1,
             "#f0f921"
            ]
           ]
          },
          "colorway": [
           "#636efa",
           "#EF553B",
           "#00cc96",
           "#ab63fa",
           "#FFA15A",
           "#19d3f3",
           "#FF6692",
           "#B6E880",
           "#FF97FF",
           "#FECB52"
          ],
          "font": {
           "color": "#2a3f5f"
          },
          "geo": {
           "bgcolor": "white",
           "lakecolor": "white",
           "landcolor": "white",
           "showlakes": true,
           "showland": true,
           "subunitcolor": "#C8D4E3"
          },
          "hoverlabel": {
           "align": "left"
          },
          "hovermode": "closest",
          "mapbox": {
           "style": "light"
          },
          "paper_bgcolor": "white",
          "plot_bgcolor": "white",
          "polar": {
           "angularaxis": {
            "gridcolor": "#EBF0F8",
            "linecolor": "#EBF0F8",
            "ticks": ""
           },
           "bgcolor": "white",
           "radialaxis": {
            "gridcolor": "#EBF0F8",
            "linecolor": "#EBF0F8",
            "ticks": ""
           }
          },
          "scene": {
           "xaxis": {
            "backgroundcolor": "white",
            "gridcolor": "#DFE8F3",
            "gridwidth": 2,
            "linecolor": "#EBF0F8",
            "showbackground": true,
            "ticks": "",
            "zerolinecolor": "#EBF0F8"
           },
           "yaxis": {
            "backgroundcolor": "white",
            "gridcolor": "#DFE8F3",
            "gridwidth": 2,
            "linecolor": "#EBF0F8",
            "showbackground": true,
            "ticks": "",
            "zerolinecolor": "#EBF0F8"
           },
           "zaxis": {
            "backgroundcolor": "white",
            "gridcolor": "#DFE8F3",
            "gridwidth": 2,
            "linecolor": "#EBF0F8",
            "showbackground": true,
            "ticks": "",
            "zerolinecolor": "#EBF0F8"
           }
          },
          "shapedefaults": {
           "line": {
            "color": "#2a3f5f"
           }
          },
          "ternary": {
           "aaxis": {
            "gridcolor": "#DFE8F3",
            "linecolor": "#A2B1C6",
            "ticks": ""
           },
           "baxis": {
            "gridcolor": "#DFE8F3",
            "linecolor": "#A2B1C6",
            "ticks": ""
           },
           "bgcolor": "white",
           "caxis": {
            "gridcolor": "#DFE8F3",
            "linecolor": "#A2B1C6",
            "ticks": ""
           }
          },
          "title": {
           "x": 0.05
          },
          "xaxis": {
           "automargin": true,
           "gridcolor": "#EBF0F8",
           "linecolor": "#EBF0F8",
           "ticks": "",
           "title": {
            "standoff": 15
           },
           "zerolinecolor": "#EBF0F8",
           "zerolinewidth": 2
          },
          "yaxis": {
           "automargin": true,
           "gridcolor": "#EBF0F8",
           "linecolor": "#EBF0F8",
           "ticks": "",
           "title": {
            "standoff": 15
           },
           "zerolinecolor": "#EBF0F8",
           "zerolinewidth": 2
          }
         }
        },
        "width": 800,
        "xaxis": {
         "anchor": "y",
         "domain": [
          0,
          0.45
         ],
         "title": {
          "text": "Fitted"
         }
        },
        "xaxis2": {
         "anchor": "y2",
         "domain": [
          0.55,
          1
         ],
         "title": {
          "text": "Theoretical Quantiles"
         }
        },
        "xaxis3": {
         "anchor": "y3",
         "domain": [
          0,
          0.45
         ],
         "title": {
          "text": "Fitted"
         }
        },
        "xaxis4": {
         "anchor": "y4",
         "domain": [
          0.55,
          1
         ],
         "title": {
          "text": "Residuals"
         }
        },
        "yaxis": {
         "anchor": "x",
         "domain": [
          0.575,
          1
         ],
         "title": {
          "text": "Residuals"
         }
        },
        "yaxis2": {
         "anchor": "x2",
         "domain": [
          0.575,
          1
         ],
         "title": {
          "text": "Sample Quantiles"
         }
        },
        "yaxis3": {
         "anchor": "x3",
         "domain": [
          0,
          0.425
         ],
         "title": {
          "text": "Sqrt( Abs( Residuals ) )"
         }
        },
        "yaxis4": {
         "anchor": "x4",
         "domain": [
          0,
          0.425
         ],
         "title": {
          "text": "Count"
         }
        }
       }
      }
     },
     "metadata": {},
     "output_type": "display_data"
    }
   ],
   "source": [
    "glmm_mean_snt = glmer('Mean ~ Stain * Tissue + (1|Experiment) + (1|ROI)', data=pl_df_measures, family='Gamma', link='log')\n",
    "glmm_mean_snt.set_factors(['Stain', 'Tissue'])\n",
    "\n",
    "# Convert estimates to odds\n",
    "display(glmm_mean_snt.fit(exponentiate=True, summary=True, conf_method='boot'))\n",
    "display(glmm_mean_snt.result_fit_stats)\n",
    "stat_diagnostics(glmm_mean_snt.data['fitted'], glmm_mean_snt.data['resid'], glmm_mean_snt.data['Experiment'])"
   ]
  },
  {
   "cell_type": "code",
   "execution_count": 15,
   "id": "dc2e4d66",
   "metadata": {},
   "outputs": [
    {
     "data": {
      "text/html": [
       "<div id=\"zfnjnpnxei\" style=\"padding-left:0px;padding-right:0px;padding-top:10px;padding-bottom:10px;overflow-x:auto;overflow-y:auto;width:auto;height:auto;\">\n",
       "<style>\n",
       "#zfnjnpnxei table {\n",
       "          font-family: -apple-system, BlinkMacSystemFont, 'Segoe UI', Roboto, Oxygen, Ubuntu, Cantarell, 'Helvetica Neue', 'Fira Sans', 'Droid Sans', Arial, sans-serif;\n",
       "          -webkit-font-smoothing: antialiased;\n",
       "          -moz-osx-font-smoothing: grayscale;\n",
       "        }\n",
       "\n",
       "#zfnjnpnxei thead, tbody, tfoot, tr, td, th { border-style: none !important; }\n",
       " tr { background-color: transparent !important; }\n",
       "#zfnjnpnxei p { margin: 0 !important; padding: 0 !important; }\n",
       " #zfnjnpnxei .gt_table { display: table !important; border-collapse: collapse !important; line-height: normal !important; margin-left: auto !important; margin-right: auto !important; color: #333333 !important; font-size: 16px !important; font-weight: normal !important; font-style: normal !important; background-color: #FFFFFF !important; width: auto !important; border-top-style: solid !important; border-top-width: 2px !important; border-top-color: #A8A8A8 !important; border-right-style: none !important; border-right-width: 2px !important; border-right-color: #D3D3D3 !important; border-bottom-style: solid !important; border-bottom-width: 2px !important; border-bottom-color: #A8A8A8 !important; border-left-style: none !important; border-left-width: 2px !important; border-left-color: #D3D3D3 !important; }\n",
       " #zfnjnpnxei .gt_caption { padding-top: 4px !important; padding-bottom: 4px !important; }\n",
       " #zfnjnpnxei .gt_title { color: #333333 !important; font-size: 125% !important; font-weight: initial !important; padding-top: 3px !important; padding-bottom: 3px !important; padding-left: 5px !important; padding-right: 5px !important; border-bottom-color: #FFFFFF !important; border-bottom-width: 0 !important; }\n",
       " #zfnjnpnxei .gt_subtitle { color: #333333 !important; font-size: 85% !important; font-weight: initial !important; padding-top: 2px !important; padding-bottom: 4px !important; padding-left: 5px !important; padding-right: 5px !important; border-top-color: #FFFFFF !important; border-top-width: 0 !important; }\n",
       " #zfnjnpnxei .gt_heading { background-color: #FFFFFF !important; text-align: left !important; border-bottom-color: #FFFFFF !important; border-left-style: none !important; border-left-width: 1px !important; border-left-color: #D3D3D3 !important; border-right-style: none !important; border-right-width: 1px !important; border-right-color: #D3D3D3 !important; }\n",
       " #zfnjnpnxei .gt_bottom_border { border-bottom-style: solid !important; border-bottom-width: 2px !important; border-bottom-color: #D3D3D3 !important; }\n",
       " #zfnjnpnxei .gt_col_headings { border-top-style: solid !important; border-top-width: 2px !important; border-top-color: #D3D3D3 !important; border-bottom-style: solid !important; border-bottom-width: 2px !important; border-bottom-color: #D3D3D3 !important; border-left-style: none !important; border-left-width: 1px !important; border-left-color: #D3D3D3 !important; border-right-style: none !important; border-right-width: 1px !important; border-right-color: #D3D3D3 !important; }\n",
       " #zfnjnpnxei .gt_col_heading { color: #333333 !important; background-color: #FFFFFF !important; font-size: 100% !important; font-weight: normal !important; text-transform: inherit !important; border-left-style: none !important; border-left-width: 1px !important; border-left-color: #D3D3D3 !important; border-right-style: none !important; border-right-width: 1px !important; border-right-color: #D3D3D3 !important; vertical-align: bottom !important; padding-top: 3px !important; padding-bottom: 4px !important; padding-left: 5px !important; padding-right: 5px !important; overflow-x: hidden !important; }\n",
       " #zfnjnpnxei .gt_column_spanner_outer { color: #333333 !important; background-color: #FFFFFF !important; font-size: 100% !important; font-weight: normal !important; text-transform: inherit !important; padding-top: 0 !important; padding-bottom: 0 !important; padding-left: 4px !important; padding-right: 4px !important; }\n",
       " #zfnjnpnxei .gt_column_spanner_outer:first-child { padding-left: 0 !important; }\n",
       " #zfnjnpnxei .gt_column_spanner_outer:last-child { padding-right: 0 !important; }\n",
       " #zfnjnpnxei .gt_column_spanner { border-bottom-style: solid !important; border-bottom-width: 2px !important; border-bottom-color: #D3D3D3 !important; vertical-align: bottom !important; padding-top: 3px !important; padding-bottom: 3px !important; overflow-x: hidden !important; display: inline-block !important; width: 100% !important; }\n",
       " #zfnjnpnxei .gt_spanner_row { border-bottom-style: hidden !important; }\n",
       " #zfnjnpnxei .gt_group_heading { padding-top: 6px !important; padding-bottom: 6px !important; padding-left: 5px !important; padding-right: 5px !important; color: #333333 !important; background-color: #FFFFFF !important; font-size: 100% !important; font-weight: initial !important; text-transform: inherit !important; border-top-style: solid !important; border-top-width: 2px !important; border-top-color: #D3D3D3 !important; border-bottom-style: solid !important; border-bottom-width: 2px !important; border-bottom-color: #D3D3D3 !important; border-left-style: none !important; border-left-width: 1px !important; border-left-color: #D3D3D3 !important; border-right-style: none !important; border-right-width: 1px !important; border-right-color: #D3D3D3 !important; vertical-align: middle !important; text-align: left !important; }\n",
       " #zfnjnpnxei .gt_empty_group_heading { padding: 0.5px !important; color: #333333 !important; background-color: #FFFFFF !important; font-size: 100% !important; font-weight: initial !important; border-top-style: solid !important; border-top-width: 2px !important; border-top-color: #D3D3D3 !important; border-bottom-style: solid !important; border-bottom-width: 2px !important; border-bottom-color: #D3D3D3 !important; vertical-align: middle !important; }\n",
       " #zfnjnpnxei .gt_from_md> :first-child { margin-top: 0 !important; }\n",
       " #zfnjnpnxei .gt_from_md> :last-child { margin-bottom: 0 !important; }\n",
       " #zfnjnpnxei .gt_row { padding-top: 6px !important; padding-bottom: 6px !important; padding-left: 5px !important; padding-right: 5px !important; margin: 10px !important; border-top-style: solid !important; border-top-width: 1px !important; border-top-color: #D3D3D3 !important; border-left-style: none !important; border-left-width: 1px !important; border-left-color: #D3D3D3 !important; border-right-style: none !important; border-right-width: 1px !important; border-right-color: #D3D3D3 !important; vertical-align: middle !important; overflow-x: hidden !important; }\n",
       " #zfnjnpnxei .gt_stub { color: #333333 !important; background-color: #FFFFFF !important; font-size: 100% !important; font-weight: initial !important; text-transform: inherit !important; border-right-style: solid !important; border-right-width: 2px !important; border-right-color: #D3D3D3 !important; padding-left: 5px !important; padding-right: 5px !important; }\n",
       " #zfnjnpnxei .gt_stub_row_group { color: #333333 !important; background-color: #FFFFFF !important; font-size: 100% !important; font-weight: initial !important; text-transform: inherit !important; border-right-style: solid !important; border-right-width: 2px !important; border-right-color: #D3D3D3 !important; padding-left: 5px !important; padding-right: 5px !important; vertical-align: top !important; }\n",
       " #zfnjnpnxei .gt_row_group_first td { border-top-width: 2px !important; }\n",
       " #zfnjnpnxei .gt_row_group_first th { border-top-width: 2px !important; }\n",
       " #zfnjnpnxei .gt_striped { background-color: rgba(128,128,128,0.05) !important; }\n",
       " #zfnjnpnxei .gt_table_body { border-top-style: solid !important; border-top-width: 2px !important; border-top-color: #D3D3D3 !important; border-bottom-style: solid !important; border-bottom-width: 2px !important; border-bottom-color: #D3D3D3 !important; }\n",
       " #zfnjnpnxei .gt_sourcenotes { color: #333333 !important; background-color: #FFFFFF !important; border-bottom-style: none !important; border-bottom-width: 2px !important; border-bottom-color: #D3D3D3 !important; border-left-style: none !important; border-left-width: 2px !important; border-left-color: #D3D3D3 !important; border-right-style: none !important; border-right-width: 2px !important; border-right-color: #D3D3D3 !important; }\n",
       " #zfnjnpnxei .gt_sourcenote { font-size: small !important; padding-top: 3px !important; padding-bottom: 3px !important; padding-left: 5px !important; padding-right: 5px !important; text-align: left !important; }\n",
       " #zfnjnpnxei .gt_left { text-align: left !important; }\n",
       " #zfnjnpnxei .gt_center { text-align: center !important; }\n",
       " #zfnjnpnxei .gt_right { text-align: right !important; font-variant-numeric: tabular-nums !important; }\n",
       " #zfnjnpnxei .gt_font_normal { font-weight: normal !important; }\n",
       " #zfnjnpnxei .gt_font_bold { font-weight: bold !important; }\n",
       " #zfnjnpnxei .gt_font_italic { font-style: italic !important; }\n",
       " #zfnjnpnxei .gt_super { font-size: 65% !important; }\n",
       " #zfnjnpnxei .gt_footnote_marks { font-size: 75% !important; vertical-align: 0.4em !important; position: initial !important; }\n",
       " #zfnjnpnxei .gt_asterisk { font-size: 100% !important; vertical-align: 0 !important; }\n",
       " \n",
       "</style>\n",
       "<table class=\"gt_table\" data-quarto-disable-processing=\"false\" data-quarto-bootstrap=\"false\">\n",
       "<thead>\n",
       "\n",
       "  <tr class=\"gt_heading\">\n",
       "    <td colspan=\"10\" class=\"gt_heading gt_title gt_font_normal\">Formula: glmer(Mean~Stain+Tissue+(1|Experiment)+(1|ROI))</td>\n",
       "  </tr>\n",
       "  <tr class=\"gt_heading\">\n",
       "    <td colspan=\"10\" class=\"gt_heading gt_subtitle gt_font_normal gt_bottom_border\">Family: <em>Gamma (link: <em>log</em>)</em><br />\n",
       "Number of observations: <em>260</em><br />\n",
       "Confidence intervals: <em>boot</em><br />\n",
       "Bootstrap Iterations: <em>1000</em><br />\n",
       "---------------------<br />\n",
       "Log-likelihood: <em>-1081</em><br />\n",
       "AIC: <em>2175</em> | BIC: <em>2196</em><br />\n",
       "Residual error: <em>0.126</em></td>\n",
       "  </tr>\n",
       "<tr class=\"gt_col_headings\">\n",
       "  <th class=\"gt_col_heading gt_columns_bottom_border gt_left\" rowspan=\"1\" colspan=\"1\" scope=\"col\" id=\"rfx\">Random Effects:</th>\n",
       "  <th class=\"gt_col_heading gt_columns_bottom_border gt_left\" rowspan=\"1\" colspan=\"1\" scope=\"col\" id=\"param\"></th>\n",
       "  <th class=\"gt_col_heading gt_columns_bottom_border gt_right\" rowspan=\"1\" colspan=\"1\" scope=\"col\" id=\"estimate\">Estimate</th>\n",
       "  <th class=\"gt_col_heading gt_columns_bottom_border gt_right\" rowspan=\"1\" colspan=\"1\" scope=\"col\" id=\"conf_low\">CI-low</th>\n",
       "  <th class=\"gt_col_heading gt_columns_bottom_border gt_right\" rowspan=\"1\" colspan=\"1\" scope=\"col\" id=\"conf_high\">CI-high</th>\n",
       "  <th class=\"gt_col_heading gt_columns_bottom_border gt_right\" rowspan=\"1\" colspan=\"1\" scope=\"col\" id=\"std_error\">SE</th>\n",
       "  <th class=\"gt_col_heading gt_columns_bottom_border gt_right\" rowspan=\"1\" colspan=\"1\" scope=\"col\" id=\"z_stat\">Z-stat</th>\n",
       "  <th class=\"gt_col_heading gt_columns_bottom_border gt_right\" rowspan=\"1\" colspan=\"1\" scope=\"col\" id=\"df\">df</th>\n",
       "  <th class=\"gt_col_heading gt_columns_bottom_border gt_left\" rowspan=\"1\" colspan=\"1\" scope=\"col\" id=\"p_value\">p</th>\n",
       "  <th class=\"gt_col_heading gt_columns_bottom_border gt_left\" rowspan=\"1\" colspan=\"1\" scope=\"col\" id=\"stars\"></th>\n",
       "</tr>\n",
       "</thead>\n",
       "<tbody class=\"gt_table_body\">\n",
       "  <tr>\n",
       "    <td class=\"gt_row gt_left\">Experiment-sd</td>\n",
       "    <td style=\"font-style: italic;\" class=\"gt_row gt_left\">(Intercept)</td>\n",
       "    <td class=\"gt_row gt_right\">0.059</td>\n",
       "    <td class=\"gt_row gt_right\">0.124</td>\n",
       "    <td class=\"gt_row gt_right\">0.232</td>\n",
       "    <td class=\"gt_row gt_right\"></td>\n",
       "    <td class=\"gt_row gt_right\"></td>\n",
       "    <td class=\"gt_row gt_right\"></td>\n",
       "    <td class=\"gt_row gt_left\"></td>\n",
       "    <td class=\"gt_row gt_left\"></td>\n",
       "  </tr>\n",
       "  <tr>\n",
       "    <td class=\"gt_row gt_left\">ROI-sd</td>\n",
       "    <td style=\"font-style: italic;\" class=\"gt_row gt_left\">(Intercept)</td>\n",
       "    <td class=\"gt_row gt_right\">0.047</td>\n",
       "    <td class=\"gt_row gt_right\">0.102</td>\n",
       "    <td class=\"gt_row gt_right\">0.195</td>\n",
       "    <td class=\"gt_row gt_right\"></td>\n",
       "    <td class=\"gt_row gt_right\"></td>\n",
       "    <td class=\"gt_row gt_right\"></td>\n",
       "    <td class=\"gt_row gt_left\"></td>\n",
       "    <td class=\"gt_row gt_left\"></td>\n",
       "  </tr>\n",
       "  <tr>\n",
       "    <td class=\"gt_row gt_left\">Residual-sd</td>\n",
       "    <td style=\"font-style: italic;\" class=\"gt_row gt_left\">Observation</td>\n",
       "    <td class=\"gt_row gt_right\">0.126</td>\n",
       "    <td class=\"gt_row gt_right\">0.150</td>\n",
       "    <td class=\"gt_row gt_right\">0.180</td>\n",
       "    <td class=\"gt_row gt_right\"></td>\n",
       "    <td class=\"gt_row gt_right\"></td>\n",
       "    <td class=\"gt_row gt_right\"></td>\n",
       "    <td class=\"gt_row gt_left\"></td>\n",
       "    <td class=\"gt_row gt_left\"></td>\n",
       "  </tr>\n",
       "  <tr>\n",
       "    <td class=\"gt_row gt_left\"></td>\n",
       "    <td style=\"font-style: italic;\" class=\"gt_row gt_left\"></td>\n",
       "    <td class=\"gt_row gt_right\"></td>\n",
       "    <td class=\"gt_row gt_right\"></td>\n",
       "    <td class=\"gt_row gt_right\"></td>\n",
       "    <td class=\"gt_row gt_right\"></td>\n",
       "    <td class=\"gt_row gt_right\"></td>\n",
       "    <td class=\"gt_row gt_right\"></td>\n",
       "    <td class=\"gt_row gt_left\"></td>\n",
       "    <td class=\"gt_row gt_left\"></td>\n",
       "  </tr>\n",
       "  <tr>\n",
       "    <td class=\"gt_row gt_left\">Fixed Effects:</td>\n",
       "    <td style=\"font-style: italic;\" class=\"gt_row gt_left\"></td>\n",
       "    <td class=\"gt_row gt_right\"></td>\n",
       "    <td class=\"gt_row gt_right\"></td>\n",
       "    <td class=\"gt_row gt_right\"></td>\n",
       "    <td class=\"gt_row gt_right\"></td>\n",
       "    <td class=\"gt_row gt_right\"></td>\n",
       "    <td class=\"gt_row gt_right\"></td>\n",
       "    <td class=\"gt_row gt_left\"></td>\n",
       "    <td class=\"gt_row gt_left\"></td>\n",
       "  </tr>\n",
       "  <tr>\n",
       "    <td class=\"gt_row gt_left\"></td>\n",
       "    <td style=\"font-style: italic;\" class=\"gt_row gt_left\">(Intercept)</td>\n",
       "    <td class=\"gt_row gt_right\">92.611</td>\n",
       "    <td class=\"gt_row gt_right\">4.006</td>\n",
       "    <td class=\"gt_row gt_right\">5.053</td>\n",
       "    <td class=\"gt_row gt_right\">7.973</td>\n",
       "    <td class=\"gt_row gt_right\">52.603</td>\n",
       "    <td class=\"gt_row gt_right\">254.000</td>\n",
       "    <td class=\"gt_row gt_left\"><.001</td>\n",
       "    <td class=\"gt_row gt_left\">***</td>\n",
       "  </tr>\n",
       "  <tr>\n",
       "    <td class=\"gt_row gt_left\"></td>\n",
       "    <td style=\"font-style: italic;\" class=\"gt_row gt_left\">StainPTA-stained</td>\n",
       "    <td class=\"gt_row gt_right\">1.331</td>\n",
       "    <td class=\"gt_row gt_right\">−0.285</td>\n",
       "    <td class=\"gt_row gt_right\">0.790</td>\n",
       "    <td class=\"gt_row gt_right\">0.112</td>\n",
       "    <td class=\"gt_row gt_right\">3.411</td>\n",
       "    <td class=\"gt_row gt_right\">254.000</td>\n",
       "    <td class=\"gt_row gt_left\"><.001</td>\n",
       "    <td class=\"gt_row gt_left\">***</td>\n",
       "  </tr>\n",
       "  <tr>\n",
       "    <td class=\"gt_row gt_left\"></td>\n",
       "    <td style=\"font-style: italic;\" class=\"gt_row gt_left\">TissueMuscle-serosal</td>\n",
       "    <td class=\"gt_row gt_right\">1.182</td>\n",
       "    <td class=\"gt_row gt_right\">0.137</td>\n",
       "    <td class=\"gt_row gt_right\">0.198</td>\n",
       "    <td class=\"gt_row gt_right\">0.017</td>\n",
       "    <td class=\"gt_row gt_right\">11.483</td>\n",
       "    <td class=\"gt_row gt_right\">254.000</td>\n",
       "    <td class=\"gt_row gt_left\"><.001</td>\n",
       "    <td class=\"gt_row gt_left\">***</td>\n",
       "  </tr>\n",
       "</tbody>\n",
       "  <tfoot class=\"gt_sourcenotes\">\n",
       "  \n",
       "  <tr>\n",
       "    <td class=\"gt_sourcenote\" colspan=\"10\">Signif. codes: <em>0 *** 0.001 ** 0.01 * 0.05 . 0.1</em></td>\n",
       "  </tr>\n",
       "\n",
       "</tfoot>\n",
       "\n",
       "</table>\n",
       "\n",
       "</div>\n",
       "        "
      ],
      "text/plain": [
       "GT(_tbl_data=shape: (8, 10)\n",
       "┌────────────────┬────────────────┬───────────┬───────────┬───┬───────────┬──────┬─────────┬───────┐\n",
       "│ rfx            ┆ param          ┆ estimate  ┆ conf_low  ┆ … ┆ z_stat    ┆ df   ┆ p_value ┆ stars │\n",
       "│ ---            ┆ ---            ┆ ---       ┆ ---       ┆   ┆ ---       ┆ ---  ┆ ---     ┆ ---   │\n",
       "│ str            ┆ str            ┆ f64       ┆ f64       ┆   ┆ f64       ┆ i64  ┆ str     ┆ str   │\n",
       "╞════════════════╪════════════════╪═══════════╪═══════════╪═══╪═══════════╪══════╪═════════╪═══════╡\n",
       "│ Experiment-sd  ┆ (Intercept)    ┆ 0.05942   ┆ 0.124153  ┆ … ┆ null      ┆ null ┆ null    ┆ null  │\n",
       "│ ROI-sd         ┆ (Intercept)    ┆ 0.047301  ┆ 0.102232  ┆ … ┆ null      ┆ null ┆ null    ┆ null  │\n",
       "│ Residual-sd    ┆ Observation    ┆ 0.125662  ┆ 0.149556  ┆ … ┆ null      ┆ null ┆ null    ┆ null  │\n",
       "│ null           ┆ null           ┆ null      ┆ null      ┆ … ┆ null      ┆ null ┆ null    ┆ null  │\n",
       "│ Fixed Effects: ┆ null           ┆ null      ┆ null      ┆ … ┆ null      ┆ null ┆ null    ┆ null  │\n",
       "│ null           ┆ (Intercept)    ┆ 92.611105 ┆ 4.005765  ┆ … ┆ 52.602625 ┆ 254  ┆ <.001   ┆ ***   │\n",
       "│ null           ┆ StainPTA-stain ┆ 1.330895  ┆ -0.285428 ┆ … ┆ 3.410554  ┆ 254  ┆ <.001   ┆ ***   │\n",
       "│                ┆ ed             ┆           ┆           ┆   ┆           ┆      ┆         ┆       │\n",
       "│ null           ┆ TissueMuscle-s ┆ 1.182137  ┆ 0.137092  ┆ … ┆ 11.483145 ┆ 254  ┆ <.001   ┆ ***   │\n",
       "│                ┆ erosal         ┆           ┆           ┆   ┆           ┆      ┆         ┆       │\n",
       "└────────────────┴────────────────┴───────────┴───────────┴───┴───────────┴──────┴─────────┴───────┘, _body=<great_tables._gt_data.Body object at 0x7e75b0275580>, _boxhead=Boxhead([ColInfo(var='rfx', type=<ColInfoTypeEnum.default: 1>, column_label='Random Effects:', column_align='left', column_width=None), ColInfo(var='param', type=<ColInfoTypeEnum.default: 1>, column_label='', column_align='left', column_width=None), ColInfo(var='estimate', type=<ColInfoTypeEnum.default: 1>, column_label='Estimate', column_align='right', column_width=None), ColInfo(var='conf_low', type=<ColInfoTypeEnum.default: 1>, column_label='CI-low', column_align='right', column_width=None), ColInfo(var='conf_high', type=<ColInfoTypeEnum.default: 1>, column_label='CI-high', column_align='right', column_width=None), ColInfo(var='std_error', type=<ColInfoTypeEnum.default: 1>, column_label='SE', column_align='right', column_width=None), ColInfo(var='z_stat', type=<ColInfoTypeEnum.default: 1>, column_label='Z-stat', column_align='right', column_width=None), ColInfo(var='df', type=<ColInfoTypeEnum.default: 1>, column_label='df', column_align='right', column_width=None), ColInfo(var='p_value', type=<ColInfoTypeEnum.default: 1>, column_label='p', column_align='left', column_width=None), ColInfo(var='stars', type=<ColInfoTypeEnum.default: 1>, column_label='', column_align='left', column_width=None)]), _stub=<great_tables._gt_data.Stub object at 0x7e75b02ebfe0>, _spanners=Spanners([]), _heading=Heading(title='Formula: glmer(Mean~Stain+Tissue+(1|Experiment)+(1|ROI))', subtitle=Md(text='Family: *Gamma (link: *log*)*  \\n            Number of observations: *260*  \\n            Confidence intervals: *boot*   \\n            Bootstrap Iterations: *1000*  \\n            ---------------------  \\n            Log-likelihood: *-1081*  \\n            AIC: *2175* | BIC: *2196*  \\n            Residual error: *0.126*  \\n        '), preheader=None), _stubhead=None, _source_notes=[Md(text='Signif. codes: *0 *** 0.001 ** 0.01 * 0.05 . 0.1*')], _footnotes=[], _styles=[StyleInfo(locname=LocBody(columns=['param'], rows=None, mask=None), grpname=None, colname='param', rownum=0, colnum=None, styles=[CellStyleText(color=None, font=None, size=None, align=None, v_align=None, style='italic', weight=None, stretch=None, decorate=None, transform=None, whitespace=None)]), StyleInfo(locname=LocBody(columns=['param'], rows=None, mask=None), grpname=None, colname='param', rownum=1, colnum=None, styles=[CellStyleText(color=None, font=None, size=None, align=None, v_align=None, style='italic', weight=None, stretch=None, decorate=None, transform=None, whitespace=None)]), StyleInfo(locname=LocBody(columns=['param'], rows=None, mask=None), grpname=None, colname='param', rownum=2, colnum=None, styles=[CellStyleText(color=None, font=None, size=None, align=None, v_align=None, style='italic', weight=None, stretch=None, decorate=None, transform=None, whitespace=None)]), StyleInfo(locname=LocBody(columns=['param'], rows=None, mask=None), grpname=None, colname='param', rownum=3, colnum=None, styles=[CellStyleText(color=None, font=None, size=None, align=None, v_align=None, style='italic', weight=None, stretch=None, decorate=None, transform=None, whitespace=None)]), StyleInfo(locname=LocBody(columns=['param'], rows=None, mask=None), grpname=None, colname='param', rownum=4, colnum=None, styles=[CellStyleText(color=None, font=None, size=None, align=None, v_align=None, style='italic', weight=None, stretch=None, decorate=None, transform=None, whitespace=None)]), StyleInfo(locname=LocBody(columns=['param'], rows=None, mask=None), grpname=None, colname='param', rownum=5, colnum=None, styles=[CellStyleText(color=None, font=None, size=None, align=None, v_align=None, style='italic', weight=None, stretch=None, decorate=None, transform=None, whitespace=None)]), StyleInfo(locname=LocBody(columns=['param'], rows=None, mask=None), grpname=None, colname='param', rownum=6, colnum=None, styles=[CellStyleText(color=None, font=None, size=None, align=None, v_align=None, style='italic', weight=None, stretch=None, decorate=None, transform=None, whitespace=None)]), StyleInfo(locname=LocBody(columns=['param'], rows=None, mask=None), grpname=None, colname='param', rownum=7, colnum=None, styles=[CellStyleText(color=None, font=None, size=None, align=None, v_align=None, style='italic', weight=None, stretch=None, decorate=None, transform=None, whitespace=None)])], _locale=<great_tables._gt_data.Locale object at 0x7e75b0555f70>, _formats=[<great_tables._gt_data.FormatInfo object at 0x7e75b02b3440>], _substitutions=[<great_tables._gt_data.FormatInfo object at 0x7e75b02fc710>], _options=Options(table_id=OptionsInfo(scss=False, category='table', type='value', value=None), table_caption=OptionsInfo(scss=False, category='table', type='value', value=None), table_width=OptionsInfo(scss=True, category='table', type='px', value='auto'), table_layout=OptionsInfo(scss=True, category='table', type='value', value='fixed'), table_margin_left=OptionsInfo(scss=True, category='table', type='px', value='auto'), table_margin_right=OptionsInfo(scss=True, category='table', type='px', value='auto'), table_background_color=OptionsInfo(scss=True, category='table', type='value', value='#FFFFFF'), table_additional_css=OptionsInfo(scss=False, category='table', type='values', value=[]), table_font_names=OptionsInfo(scss=False, category='table', type='values', value=['-apple-system', 'BlinkMacSystemFont', 'Segoe UI', 'Roboto', 'Oxygen', 'Ubuntu', 'Cantarell', 'Helvetica Neue', 'Fira Sans', 'Droid Sans', 'Arial', 'sans-serif']), table_font_size=OptionsInfo(scss=True, category='table', type='px', value='16px'), table_font_weight=OptionsInfo(scss=True, category='table', type='value', value='normal'), table_font_style=OptionsInfo(scss=True, category='table', type='value', value='normal'), table_font_color=OptionsInfo(scss=True, category='table', type='value', value='#333333'), table_font_color_light=OptionsInfo(scss=True, category='table', type='value', value='#FFFFFF'), table_border_top_include=OptionsInfo(scss=False, category='table', type='boolean', value=True), table_border_top_style=OptionsInfo(scss=True, category='table', type='value', value='solid'), table_border_top_width=OptionsInfo(scss=True, category='table', type='px', value='2px'), table_border_top_color=OptionsInfo(scss=True, category='table', type='value', value='#A8A8A8'), table_border_right_style=OptionsInfo(scss=True, category='table', type='value', value='none'), table_border_right_width=OptionsInfo(scss=True, category='table', type='px', value='2px'), table_border_right_color=OptionsInfo(scss=True, category='table', type='value', value='#D3D3D3'), table_border_bottom_include=OptionsInfo(scss=False, category='table', type='boolean', value=True), table_border_bottom_style=OptionsInfo(scss=True, category='table', type='value', value='solid'), table_border_bottom_width=OptionsInfo(scss=True, category='table', type='px', value='2px'), table_border_bottom_color=OptionsInfo(scss=True, category='table', type='value', value='#A8A8A8'), table_border_left_style=OptionsInfo(scss=True, category='table', type='value', value='none'), table_border_left_width=OptionsInfo(scss=True, category='table', type='px', value='2px'), table_border_left_color=OptionsInfo(scss=True, category='table', type='value', value='#D3D3D3'), heading_background_color=OptionsInfo(scss=True, category='heading', type='value', value=None), heading_align=OptionsInfo(scss=True, category='heading', type='value', value='left'), heading_title_font_size=OptionsInfo(scss=True, category='heading', type='px', value='125%'), heading_title_font_weight=OptionsInfo(scss=True, category='heading', type='value', value='initial'), heading_subtitle_font_size=OptionsInfo(scss=True, category='heading', type='px', value='85%'), heading_subtitle_font_weight=OptionsInfo(scss=True, category='heading', type='value', value='initial'), heading_padding=OptionsInfo(scss=True, category='heading', type='px', value='3px'), heading_padding_horizontal=OptionsInfo(scss=True, category='heading', type='px', value='5px'), heading_border_bottom_style=OptionsInfo(scss=True, category='heading', type='value', value='solid'), heading_border_bottom_width=OptionsInfo(scss=True, category='heading', type='px', value='2px'), heading_border_bottom_color=OptionsInfo(scss=True, category='heading', type='value', value='#D3D3D3'), heading_border_lr_style=OptionsInfo(scss=True, category='heading', type='value', value='none'), heading_border_lr_width=OptionsInfo(scss=True, category='heading', type='px', value='1px'), heading_border_lr_color=OptionsInfo(scss=True, category='heading', type='value', value='#D3D3D3'), column_labels_background_color=OptionsInfo(scss=True, category='column_labels', type='value', value=None), column_labels_font_size=OptionsInfo(scss=True, category='column_labels', type='px', value='100%'), column_labels_font_weight=OptionsInfo(scss=True, category='column_labels', type='value', value='normal'), column_labels_text_transform=OptionsInfo(scss=True, category='column_labels', type='value', value='inherit'), column_labels_padding=OptionsInfo(scss=True, category='column_labels', type='px', value='3px'), column_labels_padding_horizontal=OptionsInfo(scss=True, category='column_labels', type='px', value='5px'), column_labels_vlines_style=OptionsInfo(scss=True, category='table_body', type='value', value='none'), column_labels_vlines_width=OptionsInfo(scss=True, category='table_body', type='px', value='1px'), column_labels_vlines_color=OptionsInfo(scss=True, category='table_body', type='value', value='#D3D3D3'), column_labels_border_top_style=OptionsInfo(scss=True, category='column_labels', type='value', value='solid'), column_labels_border_top_width=OptionsInfo(scss=True, category='column_labels', type='px', value='2px'), column_labels_border_top_color=OptionsInfo(scss=True, category='column_labels', type='value', value='#D3D3D3'), column_labels_border_bottom_style=OptionsInfo(scss=True, category='column_labels', type='value', value='solid'), column_labels_border_bottom_width=OptionsInfo(scss=True, category='column_labels', type='px', value='2px'), column_labels_border_bottom_color=OptionsInfo(scss=True, category='column_labels', type='value', value='#D3D3D3'), column_labels_border_lr_style=OptionsInfo(scss=True, category='column_labels', type='value', value='none'), column_labels_border_lr_width=OptionsInfo(scss=True, category='column_labels', type='px', value='1px'), column_labels_border_lr_color=OptionsInfo(scss=True, category='column_labels', type='value', value='#D3D3D3'), column_labels_hidden=OptionsInfo(scss=False, category='column_labels', type='boolean', value=False), row_group_background_color=OptionsInfo(scss=True, category='row_group', type='value', value=None), row_group_font_size=OptionsInfo(scss=True, category='row_group', type='px', value='100%'), row_group_font_weight=OptionsInfo(scss=True, category='row_group', type='value', value='initial'), row_group_text_transform=OptionsInfo(scss=True, category='row_group', type='value', value='inherit'), row_group_padding=OptionsInfo(scss=True, category='row_group', type='px', value='6px'), row_group_padding_horizontal=OptionsInfo(scss=True, category='row_group', type='px', value='5px'), row_group_border_top_style=OptionsInfo(scss=True, category='row_group', type='value', value='solid'), row_group_border_top_width=OptionsInfo(scss=True, category='row_group', type='px', value='2px'), row_group_border_top_color=OptionsInfo(scss=True, category='row_group', type='value', value='#D3D3D3'), row_group_border_right_style=OptionsInfo(scss=True, category='row_group', type='value', value='none'), row_group_border_right_width=OptionsInfo(scss=True, category='row_group', type='px', value='1px'), row_group_border_right_color=OptionsInfo(scss=True, category='row_group', type='value', value='#D3D3D3'), row_group_border_bottom_style=OptionsInfo(scss=True, category='row_group', type='value', value='solid'), row_group_border_bottom_width=OptionsInfo(scss=True, category='row_group', type='px', value='2px'), row_group_border_bottom_color=OptionsInfo(scss=True, category='row_group', type='value', value='#D3D3D3'), row_group_border_left_style=OptionsInfo(scss=True, category='row_group', type='value', value='none'), row_group_border_left_width=OptionsInfo(scss=True, category='row_group', type='px', value='1px'), row_group_border_left_color=OptionsInfo(scss=True, category='row_group', type='value', value='#D3D3D3'), row_group_as_column=OptionsInfo(scss=False, category='row_group', type='boolean', value=False), table_body_hlines_style=OptionsInfo(scss=True, category='table_body', type='value', value='solid'), table_body_hlines_width=OptionsInfo(scss=True, category='table_body', type='px', value='1px'), table_body_hlines_color=OptionsInfo(scss=True, category='table_body', type='value', value='#D3D3D3'), table_body_vlines_style=OptionsInfo(scss=True, category='table_body', type='value', value='none'), table_body_vlines_width=OptionsInfo(scss=True, category='table_body', type='px', value='1px'), table_body_vlines_color=OptionsInfo(scss=True, category='table_body', type='value', value='#D3D3D3'), table_body_border_top_style=OptionsInfo(scss=True, category='table_body', type='value', value='solid'), table_body_border_top_width=OptionsInfo(scss=True, category='table_body', type='px', value='2px'), table_body_border_top_color=OptionsInfo(scss=True, category='table_body', type='value', value='#D3D3D3'), table_body_border_bottom_style=OptionsInfo(scss=True, category='table_body', type='value', value='solid'), table_body_border_bottom_width=OptionsInfo(scss=True, category='table_body', type='px', value='2px'), table_body_border_bottom_color=OptionsInfo(scss=True, category='table_body', type='value', value='#D3D3D3'), data_row_padding=OptionsInfo(scss=True, category='data_row', type='px', value='6px'), data_row_padding_horizontal=OptionsInfo(scss=True, category='data_row', type='px', value='5px'), stub_background_color=OptionsInfo(scss=True, category='stub', type='value', value=None), stub_font_size=OptionsInfo(scss=True, category='stub', type='px', value='100%'), stub_font_weight=OptionsInfo(scss=True, category='stub', type='value', value='initial'), stub_text_transform=OptionsInfo(scss=True, category='stub', type='value', value='inherit'), stub_border_style=OptionsInfo(scss=True, category='stub', type='value', value='solid'), stub_border_width=OptionsInfo(scss=True, category='stub', type='px', value='2px'), stub_border_color=OptionsInfo(scss=True, category='stub', type='value', value='#D3D3D3'), stub_row_group_background_color=OptionsInfo(scss=True, category='stub', type='value', value=None), stub_row_group_font_size=OptionsInfo(scss=True, category='stub', type='px', value='100%'), stub_row_group_font_weight=OptionsInfo(scss=True, category='stub', type='value', value='initial'), stub_row_group_text_transform=OptionsInfo(scss=True, category='stub', type='value', value='inherit'), stub_row_group_border_style=OptionsInfo(scss=True, category='stub', type='value', value='solid'), stub_row_group_border_width=OptionsInfo(scss=True, category='stub', type='px', value='2px'), stub_row_group_border_color=OptionsInfo(scss=True, category='stub', type='value', value='#D3D3D3'), source_notes_padding=OptionsInfo(scss=True, category='source_notes', type='px', value='3px'), source_notes_padding_horizontal=OptionsInfo(scss=True, category='source_notes', type='px', value='5px'), source_notes_background_color=OptionsInfo(scss=True, category='source_notes', type='value', value=None), source_notes_font_size=OptionsInfo(scss=True, category='source_notes', type='px', value='small'), source_notes_border_bottom_style=OptionsInfo(scss=True, category='source_notes', type='value', value='none'), source_notes_border_bottom_width=OptionsInfo(scss=True, category='source_notes', type='px', value='2px'), source_notes_border_bottom_color=OptionsInfo(scss=True, category='source_notes', type='value', value='#D3D3D3'), source_notes_border_lr_style=OptionsInfo(scss=True, category='source_notes', type='value', value='none'), source_notes_border_lr_width=OptionsInfo(scss=True, category='source_notes', type='px', value='2px'), source_notes_border_lr_color=OptionsInfo(scss=True, category='source_notes', type='value', value='#D3D3D3'), source_notes_multiline=OptionsInfo(scss=False, category='source_notes', type='boolean', value=True), source_notes_sep=OptionsInfo(scss=False, category='source_notes', type='value', value=' '), row_striping_background_color=OptionsInfo(scss=True, category='row', type='value', value='rgba(128,128,128,0.05)'), row_striping_include_stub=OptionsInfo(scss=False, category='row', type='boolean', value=False), row_striping_include_table_body=OptionsInfo(scss=False, category='row', type='boolean', value=False), container_width=OptionsInfo(scss=False, category='container', type='px', value='auto'), container_height=OptionsInfo(scss=False, category='container', type='px', value='auto'), container_padding_x=OptionsInfo(scss=False, category='container', type='px', value='0px'), container_padding_y=OptionsInfo(scss=False, category='container', type='px', value='10px'), container_overflow_x=OptionsInfo(scss=False, category='container', type='overflow', value='auto'), container_overflow_y=OptionsInfo(scss=False, category='container', type='overflow', value='auto'), quarto_disable_processing=OptionsInfo(scss=False, category='quarto', type='logical', value=False), quarto_use_bootstrap=OptionsInfo(scss=False, category='quarto', type='logical', value=False)), _has_built=False)"
      ]
     },
     "metadata": {},
     "output_type": "display_data"
    },
    {
     "data": {
      "text/html": [
       "<div><style>\n",
       ".dataframe > thead > tr,\n",
       ".dataframe > tbody > tr {\n",
       "  text-align: right;\n",
       "  white-space: pre-wrap;\n",
       "}\n",
       "</style>\n",
       "<small>shape: (1, 13)</small><table border=\"1\" class=\"dataframe\"><thead><tr><th>AIC</th><th>AICc</th><th>BIC</th><th>ICC</th><th>R2_conditional</th><th>R2_marginal</th><th>RMSE</th><th>Sigma</th><th>deviance</th><th>df_residual</th><th>logLik</th><th>nobs</th><th>sigma</th></tr><tr><td>f64</td><td>f64</td><td>f64</td><td>f64</td><td>f64</td><td>f64</td><td>f64</td><td>f64</td><td>f64</td><td>i64</td><td>f64</td><td>i64</td><td>f64</td></tr></thead><tbody><tr><td>2175.375478</td><td>2175.707493</td><td>2196.739567</td><td>0.269086</td><td>0.658918</td><td>0.533349</td><td>14.697236</td><td>0.125662</td><td>3.586407</td><td>254</td><td>-1081.687739</td><td>260</td><td>0.125662</td></tr></tbody></table></div>"
      ],
      "text/plain": [
       "shape: (1, 13)\n",
       "┌─────────────┬────────────┬────────────┬──────────┬───┬────────────┬────────────┬──────┬──────────┐\n",
       "│ AIC         ┆ AICc       ┆ BIC        ┆ ICC      ┆ … ┆ df_residua ┆ logLik     ┆ nobs ┆ sigma    │\n",
       "│ ---         ┆ ---        ┆ ---        ┆ ---      ┆   ┆ l          ┆ ---        ┆ ---  ┆ ---      │\n",
       "│ f64         ┆ f64        ┆ f64        ┆ f64      ┆   ┆ ---        ┆ f64        ┆ i64  ┆ f64      │\n",
       "│             ┆            ┆            ┆          ┆   ┆ i64        ┆            ┆      ┆          │\n",
       "╞═════════════╪════════════╪════════════╪══════════╪═══╪════════════╪════════════╪══════╪══════════╡\n",
       "│ 2175.375478 ┆ 2175.70749 ┆ 2196.73956 ┆ 0.269086 ┆ … ┆ 254        ┆ -1081.6877 ┆ 260  ┆ 0.125662 │\n",
       "│             ┆ 3          ┆ 7          ┆          ┆   ┆            ┆ 39         ┆      ┆          │\n",
       "└─────────────┴────────────┴────────────┴──────────┴───┴────────────┴────────────┴──────┴──────────┘"
      ]
     },
     "metadata": {},
     "output_type": "display_data"
    },
    {
     "data": {
      "application/vnd.plotly.v1+json": {
       "config": {
        "plotlyServerURL": "https://plot.ly"
       },
       "data": [
        {
         "marker": {
          "color": "#6C8EBF",
          "size": 10
         },
         "mode": "markers",
         "text": [
          "RT01",
          "RT01",
          "RT01",
          "RT01",
          "RT01",
          "RT01",
          "RT01",
          "RT01",
          "RT01",
          "RT01",
          "RT01",
          "RT01",
          "RT01",
          "RT01",
          "RT01",
          "RT01",
          "RT01",
          "RT01",
          "RT01",
          "RT01",
          "RT02",
          "RT02",
          "RT02",
          "RT02",
          "RT02",
          "RT02",
          "RT02",
          "RT02",
          "RT02",
          "RT02",
          "RT02",
          "RT02",
          "RT02",
          "RT02",
          "RT02",
          "RT02",
          "RT02",
          "RT02",
          "RT02",
          "RT02",
          "RT03",
          "RT03",
          "RT03",
          "RT03",
          "RT03",
          "RT03",
          "RT03",
          "RT03",
          "RT03",
          "RT03",
          "RT03",
          "RT03",
          "RT03",
          "RT03",
          "RT03",
          "RT03",
          "RT03",
          "RT03",
          "RT03",
          "RT03",
          "RT04",
          "RT04",
          "RT04",
          "RT04",
          "RT04",
          "RT04",
          "RT04",
          "RT04",
          "RT04",
          "RT04",
          "RT04",
          "RT04",
          "RT04",
          "RT04",
          "RT04",
          "RT04",
          "RT04",
          "RT04",
          "RT04",
          "RT04",
          "RT05",
          "RT05",
          "RT05",
          "RT05",
          "RT05",
          "RT05",
          "RT05",
          "RT05",
          "RT05",
          "RT05",
          "RT05",
          "RT05",
          "RT05",
          "RT05",
          "RT05",
          "RT05",
          "RT05",
          "RT05",
          "RT05",
          "RT05",
          "RT06",
          "RT06",
          "RT06",
          "RT06",
          "RT06",
          "RT06",
          "RT06",
          "RT06",
          "RT06",
          "RT06",
          "RT06",
          "RT06",
          "RT06",
          "RT06",
          "RT06",
          "RT06",
          "RT06",
          "RT06",
          "RT06",
          "RT06",
          "RT09",
          "RT09",
          "RT09",
          "RT09",
          "RT09",
          "RT09",
          "RT09",
          "RT09",
          "RT09",
          "RT09",
          "RT09",
          "RT09",
          "RT09",
          "RT09",
          "RT09",
          "RT09",
          "RT09",
          "RT09",
          "RT09",
          "RT09",
          "RT10",
          "RT10",
          "RT10",
          "RT10",
          "RT10",
          "RT10",
          "RT10",
          "RT10",
          "RT10",
          "RT10",
          "RT10",
          "RT10",
          "RT10",
          "RT10",
          "RT10",
          "RT10",
          "RT10",
          "RT10",
          "RT10",
          "RT10",
          "RT11",
          "RT11",
          "RT11",
          "RT11",
          "RT11",
          "RT11",
          "RT11",
          "RT11",
          "RT11",
          "RT11",
          "RT11",
          "RT11",
          "RT11",
          "RT11",
          "RT11",
          "RT11",
          "RT11",
          "RT11",
          "RT11",
          "RT11",
          "RT12",
          "RT12",
          "RT12",
          "RT12",
          "RT12",
          "RT12",
          "RT12",
          "RT12",
          "RT12",
          "RT12",
          "RT12",
          "RT12",
          "RT12",
          "RT12",
          "RT12",
          "RT12",
          "RT12",
          "RT12",
          "RT12",
          "RT12",
          "RT13",
          "RT13",
          "RT13",
          "RT13",
          "RT13",
          "RT13",
          "RT13",
          "RT13",
          "RT13",
          "RT13",
          "RT13",
          "RT13",
          "RT13",
          "RT13",
          "RT13",
          "RT13",
          "RT13",
          "RT13",
          "RT13",
          "RT13",
          "RT14",
          "RT14",
          "RT14",
          "RT14",
          "RT14",
          "RT14",
          "RT14",
          "RT14",
          "RT14",
          "RT14",
          "RT14",
          "RT14",
          "RT14",
          "RT14",
          "RT14",
          "RT14",
          "RT14",
          "RT14",
          "RT14",
          "RT14",
          "RT15",
          "RT15",
          "RT15",
          "RT15",
          "RT15",
          "RT15",
          "RT15",
          "RT15",
          "RT15",
          "RT15",
          "RT15",
          "RT15",
          "RT15",
          "RT15",
          "RT15",
          "RT15",
          "RT15",
          "RT15",
          "RT15",
          "RT15"
         ],
         "type": "scatter",
         "x": {
          "bdata": "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",
          "dtype": "f8"
         },
         "xaxis": "x",
         "y": {
          "bdata": "d8ts56sTyb9ox7JLiwrTv8fo5t85DLO/WtObeBSTd78i7dXjCxmxP9CvbyNgQJe/9dNvMCWT0b+7/RJpRtaiv3a48PXCIro/lAEulccItr/GvzAFaCy+v9ZBfysl6se/RvolATsNn7/ZksfM+drBP3YougrTP80/cZNvL2PYwD+bzXnpJ5zFv07OoR7w760/dH12caWCuj+V7CWk2Rx3P6r91GI5+9E/GB2UzXaBsD/KHRpjnfW7P9RzjSg5jr0/2ohT8Q2csD8+o3rU/d65v/OGJseFmse/UfFWsnfbwz+giPHFFxLJv5QHMNfavbq/XuIlw7oKxT9LgsxX8Uuiv8CuZ/WwHLQ/SPmgvZpAuz+pIlX22US9PxQ1ndjfva2/B8KclwCXx795t7BqX2G/P5O70AszPde/f5MtIBGXpj++KuuOJFqrPzlHzUwCi9U/7WotlYZwuz9x6BpeyZbDvxZfRQ63q30/DEKcXDrGsD8X9jgv2Q+2vxrl4YOPn6m/mpxSNEVOrz/VOV4fhnWmvxkXNx9QAdC/wQoEotj1sD9VAjGyezi7v5UY8PVjQps/9JFlKa1PZr+VlwD8pMqoP8ARX4cajaE/TlA4QoJBz7/NtvFSZxamP+Tzh7UeX8q/+0cbjY0Xxb+KNVHEPsurPxRPPFG81cQ/7I9wPO8tk7/yoV23WAafv73Pg2uqVp6/BXSEtnBTsr+s4ZKp2o3EP8LrHLbKjsI/RzCnluFxwD8BK334n7zHv9y4U6wAe9a/J3Jwz2hKwr8qMOsu8L6lv+Rfgg0kmZK/H+5ZcjrCnr8MtWRwRQmhPz57QMaznHk/Xw7ArDSbx7/iB6Bfd7u6v73r9Lvs67A/xOFHZb1vwT/HPJ2s9krIv/w8SPrjHaO/LQORUy2ltj/0LEJSlJbLv5z879bZuNA/emi7Emne0b+CfroIGDXEP/qHXaAVR6y/cmbTII0zgr8zFzZu9gSZP+/5gNuCMsW/5TtAs15Gqj91AeHJtNoYP4xZiwQQxcI/wICz42xpzT8rhGFlFIGgvw1Iv7Or62O/6xNlNOacsL9hpNPWsAqlP/gA++7/esI/RPheI3PHir/l5kChhORbv3204956m4m/5nitYTYJmD81yX6cs/eav0Cgl2JZWM2/iLrOg9DWpz86GnGXXUC0P8iW3LWfu6E/FQopi+UewD97pmqdy9uyPzBRKXk5xa4/Avp5zXnitD+xFfo9AunEP6gV7iLxz8A/y4iEjZvPrb8N8usdsxK5v+D/iwIRlrI/gKO/okTFvz/VstrdhaZwP0TbOXfrzLg/WLvGheJTsT9p2ccU7XervymDRiCvls+/82pPvZkfi794xKKed+C4v7RDq+PhwsE/3FtJ2sJysj9fWp899KqyP4Oieox+2Vq/mTtCoa/6lz/DlBdH07/Ev9L1NzoxB7E/Vfeqo35lsr9uIuZ+duivPxX/8vLPGaA/uZFO1eLcm7+l94Y4/u5Cv+TwZLai9r6/gPz9z/kktr9kJu8w1ymdP5yvnjghZ32/V3uUkb0zoD8G01swZlTZvwjdxkiZM4g/iP1GDo0Fwb8/TZouUrLJP95ldeCWzr8/BKhRiy60w7+jBZ4SD0a6v0DgGc+hQ50/pJh7sW9mtj+i0US3v1qyPyPp5zU7RsO/XIf3k5+jqj/ogSwMRV2gvz4SnXUlAsE/wHlRhoB6sL/QKJoDdIizvzv7Mz9JSrk/igtP9PhRvj8dyQ1xuSWyv1cFcA3cbLi/hU6gVS180b+BqVwuE+anPxxSHUMGcs+/1pW2ar1Bsz/fHd2fNJayP+fWk7WK/Js/29k2SL9Usr+tJy4UFLGiPzvnYTznXbi/9hxmiv2bpz9VyjEVJRB5P06pusnwPW6/tm066oqepj+VbkaAWg2+vz01lckLpK4/FGZD2p1Owz8vqVdfIFvBP/QaU7RSG8C/d0XAxD6wer8kPaWdEISqv0P4kJ7Bzrq/qjmVd+poh7/X4i2Ka8zZP7TfI7ubf4g/L7wt1q0aaD+vccFpJUqCvzHH9m5IrL4/0kBtqrJ+jz/JDBzIz9exP8engfbdhKe/hku/laJ5pL9Ss/F1Ryubv8qZ6q2PXMW/+ic75Q9wuL/AaNs9K8Suv9JqeTJ+uJm/fVkTGexHjb9SISGYi6xhv4DC0V5XrKE/VG2DOnDynT8UQ1cKfQnHv/BpB7Pdw7u/W7QNkPrNsL/33n+rP8u1P1T8J0tKCLQ/EiN53Ombl7/Xq9BrWGK0v2kRVWlYOL4/zhOkf9YrwT9BBNS2keazP9NHzSsjBrQ/a4fIWrUGoz8QXwg2CFyeP2G6VazsfpO/1xU2sgfuqL9gnlEFuR2wP8DXTAITALe/7eA1kAD0q796t5+eYByJPyiqw/rlgZa/OeZt8KsOpz8ZNOmZWqfCv8OmFyk+07s/BV28YeRAgr+U3sy2kfaNv/NX1IygzH4/sgPIfgLOqj/2Jh6BXsirP28TP3ANrLw/tZH67wPspz9u1i+tMPekP9Qzikqh95Y/dVIPH3lZbz/lQJK0ICq5v4XCE9B7G7a/IX+/XjeQtj8rWzH7goqVP4zU8F/FxoE/uFeqXd/jwb8A6i67kWPBvykWmkBKy7G/F7LAvvnzwL/OTj1jEN/DP84F1CmuppG/TjiFhflqqD+UhFQbNOqMv8/SaKJ4/Js/N5aP5N4AkL8u4GPpcPaZP3UYFTR9lZQ/nheC8hZrvz9HigsgdVbDPwscCruEfaI/Ktxo3WVisL8zjUCeWHqnvw==",
          "dtype": "f8"
         },
         "yaxis": "y"
        },
        {
         "marker": {
          "color": "#6C8EBF",
          "size": 10
         },
         "mode": "markers",
         "type": "scatter",
         "x": {
          "bdata": "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",
          "dtype": "f8"
         },
         "xaxis": "x2",
         "y": {
          "bdata": "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",
          "dtype": "f8"
         },
         "yaxis": "y2"
        },
        {
         "marker": {
          "color": "#B85450",
          "line": {
           "width": 2
          }
         },
         "mode": "lines",
         "type": "scatter",
         "x": {
          "bdata": "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",
          "dtype": "f8"
         },
         "xaxis": "x2",
         "y": {
          "bdata": "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",
          "dtype": "f8"
         },
         "yaxis": "y2"
        },
        {
         "marker": {
          "color": "#6C8EBF",
          "size": 10
         },
         "mode": "markers",
         "text": [
          "RT01",
          "RT01",
          "RT01",
          "RT01",
          "RT01",
          "RT01",
          "RT01",
          "RT01",
          "RT01",
          "RT01",
          "RT01",
          "RT01",
          "RT01",
          "RT01",
          "RT01",
          "RT01",
          "RT01",
          "RT01",
          "RT01",
          "RT01",
          "RT02",
          "RT02",
          "RT02",
          "RT02",
          "RT02",
          "RT02",
          "RT02",
          "RT02",
          "RT02",
          "RT02",
          "RT02",
          "RT02",
          "RT02",
          "RT02",
          "RT02",
          "RT02",
          "RT02",
          "RT02",
          "RT02",
          "RT02",
          "RT03",
          "RT03",
          "RT03",
          "RT03",
          "RT03",
          "RT03",
          "RT03",
          "RT03",
          "RT03",
          "RT03",
          "RT03",
          "RT03",
          "RT03",
          "RT03",
          "RT03",
          "RT03",
          "RT03",
          "RT03",
          "RT03",
          "RT03",
          "RT04",
          "RT04",
          "RT04",
          "RT04",
          "RT04",
          "RT04",
          "RT04",
          "RT04",
          "RT04",
          "RT04",
          "RT04",
          "RT04",
          "RT04",
          "RT04",
          "RT04",
          "RT04",
          "RT04",
          "RT04",
          "RT04",
          "RT04",
          "RT05",
          "RT05",
          "RT05",
          "RT05",
          "RT05",
          "RT05",
          "RT05",
          "RT05",
          "RT05",
          "RT05",
          "RT05",
          "RT05",
          "RT05",
          "RT05",
          "RT05",
          "RT05",
          "RT05",
          "RT05",
          "RT05",
          "RT05",
          "RT06",
          "RT06",
          "RT06",
          "RT06",
          "RT06",
          "RT06",
          "RT06",
          "RT06",
          "RT06",
          "RT06",
          "RT06",
          "RT06",
          "RT06",
          "RT06",
          "RT06",
          "RT06",
          "RT06",
          "RT06",
          "RT06",
          "RT06",
          "RT09",
          "RT09",
          "RT09",
          "RT09",
          "RT09",
          "RT09",
          "RT09",
          "RT09",
          "RT09",
          "RT09",
          "RT09",
          "RT09",
          "RT09",
          "RT09",
          "RT09",
          "RT09",
          "RT09",
          "RT09",
          "RT09",
          "RT09",
          "RT10",
          "RT10",
          "RT10",
          "RT10",
          "RT10",
          "RT10",
          "RT10",
          "RT10",
          "RT10",
          "RT10",
          "RT10",
          "RT10",
          "RT10",
          "RT10",
          "RT10",
          "RT10",
          "RT10",
          "RT10",
          "RT10",
          "RT10",
          "RT11",
          "RT11",
          "RT11",
          "RT11",
          "RT11",
          "RT11",
          "RT11",
          "RT11",
          "RT11",
          "RT11",
          "RT11",
          "RT11",
          "RT11",
          "RT11",
          "RT11",
          "RT11",
          "RT11",
          "RT11",
          "RT11",
          "RT11",
          "RT12",
          "RT12",
          "RT12",
          "RT12",
          "RT12",
          "RT12",
          "RT12",
          "RT12",
          "RT12",
          "RT12",
          "RT12",
          "RT12",
          "RT12",
          "RT12",
          "RT12",
          "RT12",
          "RT12",
          "RT12",
          "RT12",
          "RT12",
          "RT13",
          "RT13",
          "RT13",
          "RT13",
          "RT13",
          "RT13",
          "RT13",
          "RT13",
          "RT13",
          "RT13",
          "RT13",
          "RT13",
          "RT13",
          "RT13",
          "RT13",
          "RT13",
          "RT13",
          "RT13",
          "RT13",
          "RT13",
          "RT14",
          "RT14",
          "RT14",
          "RT14",
          "RT14",
          "RT14",
          "RT14",
          "RT14",
          "RT14",
          "RT14",
          "RT14",
          "RT14",
          "RT14",
          "RT14",
          "RT14",
          "RT14",
          "RT14",
          "RT14",
          "RT14",
          "RT14",
          "RT15",
          "RT15",
          "RT15",
          "RT15",
          "RT15",
          "RT15",
          "RT15",
          "RT15",
          "RT15",
          "RT15",
          "RT15",
          "RT15",
          "RT15",
          "RT15",
          "RT15",
          "RT15",
          "RT15",
          "RT15",
          "RT15",
          "RT15"
         ],
         "type": "scatter",
         "x": {
          "bdata": "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",
          "dtype": "f8"
         },
         "xaxis": "x3",
         "y": {
          "bdata": "6/hjjeRT3D8QYlQOWXThP+QWaWMeddE/dgquxeNrsz87qpgpMYrQP9zx4He0ScM/Lv+dv9fE4D/tS9sVOo3IP1JjFUkDc9Q/XOIlWbrG0j/Z5Cba3vjVPyw/ctrZqds/98uSKSRKxj9Mu8d0ROfXP8xgfosAmN4/KU4VnKg31z/dqkpX+EvaP/1TIjeS884/EXQsAWSY1D/9R3C48jqzP49THU429uA/zHNtfDpA0D/E8BtwkibVP727XIT6vtU/s1X7QExN0D9esZLSbljUP85hLO2le9s/o26ZuTI12T9e1yRHAFPcPwTe1u9Wr9Q/Ky14yOXy2T/PWhDuazLIPxwtw8hH8NE/x3GsI6vh1D/8EV2n66PVP0dPKiKm2c4/tEERM5l52z9glxPqQmjWP+PZzy1jSOM/+Ni2B/Hiyj9wWhC3vZXNP905krzWkOI/Ugi7E//z1D8ymcbYdAnZP6JGjEzRybU/hnisZ/Fh0D+s83QfvcnSP6daUpd6osw/q0rz2qWmzz8rcWmF887KP9kLKQyoAOA/jZRbySF50D8b4n5ljt7UP4ffo0ta4sQ/lDQQVVO4qj8szngfhyrMPww77zzrssc/xdIXtjGg3z855Qyt8ZXKP/XRsbG+DN0/h80Cvsz62T8tKMjiqdLNP5K+Og8k0tk/K8aUCIqEwT/BKBKFq0fGPziG4208CMY/kkg3KZ8f0T9gaeS4cqXZP1v+r+J3Xtg/DpdLxZfw1j8nkV1NeY/bP53C0KQm9+I/bv2wWWgx2D+fyCGRGWHKP6UKUrgQQME/55Y3hygvxj+nxGFaQFnHP4c8k0VNPrQ/IOSkvgt82z9MW55taq7UPyQmCZxPdNA/zLN20w+f1z94opEOoeHbP/HxXcy5u8g/pCtHk+gI0z+8FiUdW7bdP+9so9NnW+A/4Kwv0Jno4D84K4Bq1m3ZP5tZmxzRFM4/k8uInUUiuD/OKeAS/AHEPwayjbphC9o/8RZuwBn/zD+aDS6JD/GDPwBTE+7/gdg/vnOcg7qt3j+tploTL/vGP8ZsGnh5P6k/dfZyYLZN0D+3zRuq3/LJPzyUP7Z1Udg/ojBPuvxFvT+v9mH9GSClPyxpqcoyoLw/wibahVCcwz9MNe5BqsXEP1wPBlPRpN4/kWFRY6meyz8a/HOYKQDSP7YzEdw+0sc/RrDvyGy21j9YPoWi3l7RPzDBWhISYc8/LX2Hg6dH0j9xhu+gEt7ZP0ddCu7VMdc/cvJtN9fizj93fzhzeQfUP1BVPamjPtE/P33ECNGL1j91/qqWblKwP5e5XeiG69M/GTF1W46m0D+bVaPN1KXNP6yN0vQry98/ZlaflwN2vT9CtY8PX/PTP1KmCnEe19c/q/H68zou0T//aYaVUUjRP73wPb8EuqQ/47/glmKWwz8qI7DRjMTZPwgbriiMgdA/U3sCbAwo0T9c56cUOfTPP6cScpbXssY/JCsS6DUdxT9dQMqQUJ2YP14Cx6IGQtY/+ClY+7nS0j+8ri4X7ZnFPzGXQf6TsLU/rWcRChfFxj9BokQrpiHkP2WMpVg11Ls/BOM+lLNW1z/zJjc69KzcP0Sd/X4fj9Y/46zX0zYc2T++CtKrzYDUP7LLi0B4o8U/2sQ0yHfu0j/wrADxCCPRP/Ub/MjE1dg/KYxmP2EyzT+3Mdf8MuLGP6fa4O5dVNc/30lBvsw80D8X5EZAsK3RP9xIxfOgHdQ/fIPNGogG1j8yfQ0VNgrRP6MbsTXNxNM/rprbCd+54D+BX3cWf6fLPy7l6rOzuN8/nLFzJ5ON0T+BMtUutD7RP2TiugMxKcU/JmVrdTsg0T/balx+8HTIPxKFK9e+vtM/eTeJrIB8yz98EhoxdAa0P4lkoqjKG68/LUgvjGPnyj9XrwOKje3VP1eYOaMiUM8/i664LCvb2D8zTUVHFZHXP7eCsS7os9Y/fvGayBKqtD/OMavMECHNPxPkNE/ftdQ/hwkGbrVeuz8HODwVIFHkP9bf2bPG/7s/4Wsg2N3Fqz+65dXGOzG4P5S+Iio9J9Y/1t3rgBe/vz8bgUlEeuXQP39sxYoHb8s/T2BdZ9KYyT9kEjEDftnEPw5i9ykqJdo/IFDC8BjG0z/Fci9HiGDPP5WDI9tFScQ/9gmIbDycvj/XZ/z7G8inP7k2MNn4x8c/xYOgjLnjxT+CnLIasybbP63F9ei4E9U/OgVR5rll0D87fEeJcKzSP1w+qlcs59E/ZgUV74Zvwz+V9KdKPQ/SP9kRBT83/dU/3qyFVeRw1z9Bk8F+FNjRP69f4gs25tE/BNWTILasyD+Lq40sLwrGP3xQ5dpfqcE//sWq2Jk+zD+hsSii1Q7QPxeR2GL2LtM/jUvjoH/ozT8fMtTxzli8PzygABAP+sI/oHJv3cApyz/TQQsDk27YP3A1yjmOGdU/plvlMxwruD+rQeeT//a+P3rY8TXoMrY/fbKkZZJJzT+oY0DXHtHNP8FB144ka9U/poPcve6qyz+cdfiz1ubJP3qK2JFwK8M/48zWHk+srz8WkHHO0hDUP8wrSsewztI/tlNCUBcA0z+qB6jfn5DCP7mUs2a62bc/VX+zOjjt1z+G3oH6z5bXPx0fxH2L39A/aHtu7aNK1z+XGqMBezfZP6Scq/4mzsA/c9dQt/nzyz8FBAdeGGu+P4oHZi4qKcU/QLPDcG8AwD/RxRIzpWHEP+ccx/vWJcI/LCbuwrpr1j+kKMLANuDYPyVcO+UdU8g//AiRL+gw0D/THx4I5GjLPw==",
          "dtype": "f8"
         },
         "yaxis": "y3"
        },
        {
         "histnorm": "probability",
         "marker": {
          "color": "#6C8EBF"
         },
         "type": "histogram",
         "x": {
          "bdata": "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",
          "dtype": "f8"
         },
         "xaxis": "x4",
         "yaxis": "y4"
        }
       ],
       "layout": {
        "height": 500,
        "margin": {
         "b": 5,
         "l": 10,
         "r": 10,
         "t": 5
        },
        "showlegend": false,
        "template": {
         "data": {
          "bar": [
           {
            "error_x": {
             "color": "#2a3f5f"
            },
            "error_y": {
             "color": "#2a3f5f"
            },
            "marker": {
             "line": {
              "color": "white",
              "width": 0.5
             },
             "pattern": {
              "fillmode": "overlay",
              "size": 10,
              "solidity": 0.2
             }
            },
            "type": "bar"
           }
          ],
          "barpolar": [
           {
            "marker": {
             "line": {
              "color": "white",
              "width": 0.5
             },
             "pattern": {
              "fillmode": "overlay",
              "size": 10,
              "solidity": 0.2
             }
            },
            "type": "barpolar"
           }
          ],
          "carpet": [
           {
            "aaxis": {
             "endlinecolor": "#2a3f5f",
             "gridcolor": "#C8D4E3",
             "linecolor": "#C8D4E3",
             "minorgridcolor": "#C8D4E3",
             "startlinecolor": "#2a3f5f"
            },
            "baxis": {
             "endlinecolor": "#2a3f5f",
             "gridcolor": "#C8D4E3",
             "linecolor": "#C8D4E3",
             "minorgridcolor": "#C8D4E3",
             "startlinecolor": "#2a3f5f"
            },
            "type": "carpet"
           }
          ],
          "choropleth": [
           {
            "colorbar": {
             "outlinewidth": 0,
             "ticks": ""
            },
            "type": "choropleth"
           }
          ],
          "contour": [
           {
            "colorbar": {
             "outlinewidth": 0,
             "ticks": ""
            },
            "colorscale": [
             [
              0,
              "#0d0887"
             ],
             [
              0.1111111111111111,
              "#46039f"
             ],
             [
              0.2222222222222222,
              "#7201a8"
             ],
             [
              0.3333333333333333,
              "#9c179e"
             ],
             [
              0.4444444444444444,
              "#bd3786"
             ],
             [
              0.5555555555555556,
              "#d8576b"
             ],
             [
              0.6666666666666666,
              "#ed7953"
             ],
             [
              0.7777777777777778,
              "#fb9f3a"
             ],
             [
              0.8888888888888888,
              "#fdca26"
             ],
             [
              1,
              "#f0f921"
             ]
            ],
            "type": "contour"
           }
          ],
          "contourcarpet": [
           {
            "colorbar": {
             "outlinewidth": 0,
             "ticks": ""
            },
            "type": "contourcarpet"
           }
          ],
          "heatmap": [
           {
            "colorbar": {
             "outlinewidth": 0,
             "ticks": ""
            },
            "colorscale": [
             [
              0,
              "#0d0887"
             ],
             [
              0.1111111111111111,
              "#46039f"
             ],
             [
              0.2222222222222222,
              "#7201a8"
             ],
             [
              0.3333333333333333,
              "#9c179e"
             ],
             [
              0.4444444444444444,
              "#bd3786"
             ],
             [
              0.5555555555555556,
              "#d8576b"
             ],
             [
              0.6666666666666666,
              "#ed7953"
             ],
             [
              0.7777777777777778,
              "#fb9f3a"
             ],
             [
              0.8888888888888888,
              "#fdca26"
             ],
             [
              1,
              "#f0f921"
             ]
            ],
            "type": "heatmap"
           }
          ],
          "histogram": [
           {
            "marker": {
             "pattern": {
              "fillmode": "overlay",
              "size": 10,
              "solidity": 0.2
             }
            },
            "type": "histogram"
           }
          ],
          "histogram2d": [
           {
            "colorbar": {
             "outlinewidth": 0,
             "ticks": ""
            },
            "colorscale": [
             [
              0,
              "#0d0887"
             ],
             [
              0.1111111111111111,
              "#46039f"
             ],
             [
              0.2222222222222222,
              "#7201a8"
             ],
             [
              0.3333333333333333,
              "#9c179e"
             ],
             [
              0.4444444444444444,
              "#bd3786"
             ],
             [
              0.5555555555555556,
              "#d8576b"
             ],
             [
              0.6666666666666666,
              "#ed7953"
             ],
             [
              0.7777777777777778,
              "#fb9f3a"
             ],
             [
              0.8888888888888888,
              "#fdca26"
             ],
             [
              1,
              "#f0f921"
             ]
            ],
            "type": "histogram2d"
           }
          ],
          "histogram2dcontour": [
           {
            "colorbar": {
             "outlinewidth": 0,
             "ticks": ""
            },
            "colorscale": [
             [
              0,
              "#0d0887"
             ],
             [
              0.1111111111111111,
              "#46039f"
             ],
             [
              0.2222222222222222,
              "#7201a8"
             ],
             [
              0.3333333333333333,
              "#9c179e"
             ],
             [
              0.4444444444444444,
              "#bd3786"
             ],
             [
              0.5555555555555556,
              "#d8576b"
             ],
             [
              0.6666666666666666,
              "#ed7953"
             ],
             [
              0.7777777777777778,
              "#fb9f3a"
             ],
             [
              0.8888888888888888,
              "#fdca26"
             ],
             [
              1,
              "#f0f921"
             ]
            ],
            "type": "histogram2dcontour"
           }
          ],
          "mesh3d": [
           {
            "colorbar": {
             "outlinewidth": 0,
             "ticks": ""
            },
            "type": "mesh3d"
           }
          ],
          "parcoords": [
           {
            "line": {
             "colorbar": {
              "outlinewidth": 0,
              "ticks": ""
             }
            },
            "type": "parcoords"
           }
          ],
          "pie": [
           {
            "automargin": true,
            "type": "pie"
           }
          ],
          "scatter": [
           {
            "fillpattern": {
             "fillmode": "overlay",
             "size": 10,
             "solidity": 0.2
            },
            "type": "scatter"
           }
          ],
          "scatter3d": [
           {
            "line": {
             "colorbar": {
              "outlinewidth": 0,
              "ticks": ""
             }
            },
            "marker": {
             "colorbar": {
              "outlinewidth": 0,
              "ticks": ""
             }
            },
            "type": "scatter3d"
           }
          ],
          "scattercarpet": [
           {
            "marker": {
             "colorbar": {
              "outlinewidth": 0,
              "ticks": ""
             }
            },
            "type": "scattercarpet"
           }
          ],
          "scattergeo": [
           {
            "marker": {
             "colorbar": {
              "outlinewidth": 0,
              "ticks": ""
             }
            },
            "type": "scattergeo"
           }
          ],
          "scattergl": [
           {
            "marker": {
             "colorbar": {
              "outlinewidth": 0,
              "ticks": ""
             }
            },
            "type": "scattergl"
           }
          ],
          "scattermap": [
           {
            "marker": {
             "colorbar": {
              "outlinewidth": 0,
              "ticks": ""
             }
            },
            "type": "scattermap"
           }
          ],
          "scattermapbox": [
           {
            "marker": {
             "colorbar": {
              "outlinewidth": 0,
              "ticks": ""
             }
            },
            "type": "scattermapbox"
           }
          ],
          "scatterpolar": [
           {
            "marker": {
             "colorbar": {
              "outlinewidth": 0,
              "ticks": ""
             }
            },
            "type": "scatterpolar"
           }
          ],
          "scatterpolargl": [
           {
            "marker": {
             "colorbar": {
              "outlinewidth": 0,
              "ticks": ""
             }
            },
            "type": "scatterpolargl"
           }
          ],
          "scatterternary": [
           {
            "marker": {
             "colorbar": {
              "outlinewidth": 0,
              "ticks": ""
             }
            },
            "type": "scatterternary"
           }
          ],
          "surface": [
           {
            "colorbar": {
             "outlinewidth": 0,
             "ticks": ""
            },
            "colorscale": [
             [
              0,
              "#0d0887"
             ],
             [
              0.1111111111111111,
              "#46039f"
             ],
             [
              0.2222222222222222,
              "#7201a8"
             ],
             [
              0.3333333333333333,
              "#9c179e"
             ],
             [
              0.4444444444444444,
              "#bd3786"
             ],
             [
              0.5555555555555556,
              "#d8576b"
             ],
             [
              0.6666666666666666,
              "#ed7953"
             ],
             [
              0.7777777777777778,
              "#fb9f3a"
             ],
             [
              0.8888888888888888,
              "#fdca26"
             ],
             [
              1,
              "#f0f921"
             ]
            ],
            "type": "surface"
           }
          ],
          "table": [
           {
            "cells": {
             "fill": {
              "color": "#EBF0F8"
             },
             "line": {
              "color": "white"
             }
            },
            "header": {
             "fill": {
              "color": "#C8D4E3"
             },
             "line": {
              "color": "white"
             }
            },
            "type": "table"
           }
          ]
         },
         "layout": {
          "annotationdefaults": {
           "arrowcolor": "#2a3f5f",
           "arrowhead": 0,
           "arrowwidth": 1
          },
          "autotypenumbers": "strict",
          "coloraxis": {
           "colorbar": {
            "outlinewidth": 0,
            "ticks": ""
           }
          },
          "colorscale": {
           "diverging": [
            [
             0,
             "#8e0152"
            ],
            [
             0.1,
             "#c51b7d"
            ],
            [
             0.2,
             "#de77ae"
            ],
            [
             0.3,
             "#f1b6da"
            ],
            [
             0.4,
             "#fde0ef"
            ],
            [
             0.5,
             "#f7f7f7"
            ],
            [
             0.6,
             "#e6f5d0"
            ],
            [
             0.7,
             "#b8e186"
            ],
            [
             0.8,
             "#7fbc41"
            ],
            [
             0.9,
             "#4d9221"
            ],
            [
             1,
             "#276419"
            ]
           ],
           "sequential": [
            [
             0,
             "#0d0887"
            ],
            [
             0.1111111111111111,
             "#46039f"
            ],
            [
             0.2222222222222222,
             "#7201a8"
            ],
            [
             0.3333333333333333,
             "#9c179e"
            ],
            [
             0.4444444444444444,
             "#bd3786"
            ],
            [
             0.5555555555555556,
             "#d8576b"
            ],
            [
             0.6666666666666666,
             "#ed7953"
            ],
            [
             0.7777777777777778,
             "#fb9f3a"
            ],
            [
             0.8888888888888888,
             "#fdca26"
            ],
            [
             1,
             "#f0f921"
            ]
           ],
           "sequentialminus": [
            [
             0,
             "#0d0887"
            ],
            [
             0.1111111111111111,
             "#46039f"
            ],
            [
             0.2222222222222222,
             "#7201a8"
            ],
            [
             0.3333333333333333,
             "#9c179e"
            ],
            [
             0.4444444444444444,
             "#bd3786"
            ],
            [
             0.5555555555555556,
             "#d8576b"
            ],
            [
             0.6666666666666666,
             "#ed7953"
            ],
            [
             0.7777777777777778,
             "#fb9f3a"
            ],
            [
             0.8888888888888888,
             "#fdca26"
            ],
            [
             1,
             "#f0f921"
            ]
           ]
          },
          "colorway": [
           "#636efa",
           "#EF553B",
           "#00cc96",
           "#ab63fa",
           "#FFA15A",
           "#19d3f3",
           "#FF6692",
           "#B6E880",
           "#FF97FF",
           "#FECB52"
          ],
          "font": {
           "color": "#2a3f5f"
          },
          "geo": {
           "bgcolor": "white",
           "lakecolor": "white",
           "landcolor": "white",
           "showlakes": true,
           "showland": true,
           "subunitcolor": "#C8D4E3"
          },
          "hoverlabel": {
           "align": "left"
          },
          "hovermode": "closest",
          "mapbox": {
           "style": "light"
          },
          "paper_bgcolor": "white",
          "plot_bgcolor": "white",
          "polar": {
           "angularaxis": {
            "gridcolor": "#EBF0F8",
            "linecolor": "#EBF0F8",
            "ticks": ""
           },
           "bgcolor": "white",
           "radialaxis": {
            "gridcolor": "#EBF0F8",
            "linecolor": "#EBF0F8",
            "ticks": ""
           }
          },
          "scene": {
           "xaxis": {
            "backgroundcolor": "white",
            "gridcolor": "#DFE8F3",
            "gridwidth": 2,
            "linecolor": "#EBF0F8",
            "showbackground": true,
            "ticks": "",
            "zerolinecolor": "#EBF0F8"
           },
           "yaxis": {
            "backgroundcolor": "white",
            "gridcolor": "#DFE8F3",
            "gridwidth": 2,
            "linecolor": "#EBF0F8",
            "showbackground": true,
            "ticks": "",
            "zerolinecolor": "#EBF0F8"
           },
           "zaxis": {
            "backgroundcolor": "white",
            "gridcolor": "#DFE8F3",
            "gridwidth": 2,
            "linecolor": "#EBF0F8",
            "showbackground": true,
            "ticks": "",
            "zerolinecolor": "#EBF0F8"
           }
          },
          "shapedefaults": {
           "line": {
            "color": "#2a3f5f"
           }
          },
          "ternary": {
           "aaxis": {
            "gridcolor": "#DFE8F3",
            "linecolor": "#A2B1C6",
            "ticks": ""
           },
           "baxis": {
            "gridcolor": "#DFE8F3",
            "linecolor": "#A2B1C6",
            "ticks": ""
           },
           "bgcolor": "white",
           "caxis": {
            "gridcolor": "#DFE8F3",
            "linecolor": "#A2B1C6",
            "ticks": ""
           }
          },
          "title": {
           "x": 0.05
          },
          "xaxis": {
           "automargin": true,
           "gridcolor": "#EBF0F8",
           "linecolor": "#EBF0F8",
           "ticks": "",
           "title": {
            "standoff": 15
           },
           "zerolinecolor": "#EBF0F8",
           "zerolinewidth": 2
          },
          "yaxis": {
           "automargin": true,
           "gridcolor": "#EBF0F8",
           "linecolor": "#EBF0F8",
           "ticks": "",
           "title": {
            "standoff": 15
           },
           "zerolinecolor": "#EBF0F8",
           "zerolinewidth": 2
          }
         }
        },
        "width": 800,
        "xaxis": {
         "anchor": "y",
         "domain": [
          0,
          0.45
         ],
         "title": {
          "text": "Fitted"
         }
        },
        "xaxis2": {
         "anchor": "y2",
         "domain": [
          0.55,
          1
         ],
         "title": {
          "text": "Theoretical Quantiles"
         }
        },
        "xaxis3": {
         "anchor": "y3",
         "domain": [
          0,
          0.45
         ],
         "title": {
          "text": "Fitted"
         }
        },
        "xaxis4": {
         "anchor": "y4",
         "domain": [
          0.55,
          1
         ],
         "title": {
          "text": "Residuals"
         }
        },
        "yaxis": {
         "anchor": "x",
         "domain": [
          0.575,
          1
         ],
         "title": {
          "text": "Residuals"
         }
        },
        "yaxis2": {
         "anchor": "x2",
         "domain": [
          0.575,
          1
         ],
         "title": {
          "text": "Sample Quantiles"
         }
        },
        "yaxis3": {
         "anchor": "x3",
         "domain": [
          0,
          0.425
         ],
         "title": {
          "text": "Sqrt( Abs( Residuals ) )"
         }
        },
        "yaxis4": {
         "anchor": "x4",
         "domain": [
          0,
          0.425
         ],
         "title": {
          "text": "Count"
         }
        }
       }
      }
     },
     "metadata": {},
     "output_type": "display_data"
    }
   ],
   "source": [
    "glmm_mean_sot = glmer('Mean ~ Stain + Tissue + (1|Experiment) + (1|ROI)', data=pl_df_measures, family='Gamma', link='log')\n",
    "glmm_mean_sot.set_factors(['Stain', 'Tissue'])\n",
    "\n",
    "# Convert estimates to odds\n",
    "display(glmm_mean_sot.fit(exponentiate=True, summary=True, conf_method='boot'))\n",
    "display(glmm_mean_sot.result_fit_stats)\n",
    "stat_diagnostics(glmm_mean_sot.data['fitted'], glmm_mean_sot.data['resid'], glmm_mean_sot.data['Experiment'])"
   ]
  },
  {
   "cell_type": "code",
   "execution_count": 16,
   "id": "219e5814",
   "metadata": {},
   "outputs": [
    {
     "data": {
      "text/html": [
       "<div><style>\n",
       ".dataframe > thead > tr,\n",
       ".dataframe > tbody > tr {\n",
       "  text-align: right;\n",
       "  white-space: pre-wrap;\n",
       "}\n",
       "</style>\n",
       "<small>shape: (2, 8)</small><table border=\"1\" class=\"dataframe\"><thead><tr><th>npar</th><th>AIC</th><th>BIC</th><th>logLik</th><th>-2*log(L)</th><th>Chisq</th><th>Df</th><th>Pr(&gt;Chisq)</th></tr><tr><td>f64</td><td>f64</td><td>f64</td><td>f64</td><td>f64</td><td>f64</td><td>f64</td><td>f64</td></tr></thead><tbody><tr><td>6.0</td><td>2175.375478</td><td>2196.739567</td><td>-1081.687739</td><td>2163.375478</td><td>null</td><td>null</td><td>null</td></tr><tr><td>7.0</td><td>2174.624129</td><td>2199.548901</td><td>-1080.312065</td><td>2160.624129</td><td>2.751348</td><td>1.0</td><td>0.097172</td></tr></tbody></table></div>"
      ],
      "text/plain": [
       "shape: (2, 8)\n",
       "┌──────┬─────────────┬─────────────┬──────────────┬─────────────┬──────────┬──────┬────────────┐\n",
       "│ npar ┆ AIC         ┆ BIC         ┆ logLik       ┆ -2*log(L)   ┆ Chisq    ┆ Df   ┆ Pr(>Chisq) │\n",
       "│ ---  ┆ ---         ┆ ---         ┆ ---          ┆ ---         ┆ ---      ┆ ---  ┆ ---        │\n",
       "│ f64  ┆ f64         ┆ f64         ┆ f64          ┆ f64         ┆ f64      ┆ f64  ┆ f64        │\n",
       "╞══════╪═════════════╪═════════════╪══════════════╪═════════════╪══════════╪══════╪════════════╡\n",
       "│ 6.0  ┆ 2175.375478 ┆ 2196.739567 ┆ -1081.687739 ┆ 2163.375478 ┆ null     ┆ null ┆ null       │\n",
       "│ 7.0  ┆ 2174.624129 ┆ 2199.548901 ┆ -1080.312065 ┆ 2160.624129 ┆ 2.751348 ┆ 1.0  ┆ 0.097172   │\n",
       "└──────┴─────────────┴─────────────┴──────────────┴─────────────┴──────────┴──────┴────────────┘"
      ]
     },
     "execution_count": 16,
     "metadata": {},
     "output_type": "execute_result"
    }
   ],
   "source": [
    "ts.stats.anova(glmm_mean_snt, glmm_mean_sot)"
   ]
  },
  {
   "cell_type": "code",
   "execution_count": 17,
   "id": "0a7f8f2c",
   "metadata": {},
   "outputs": [
    {
     "data": {
      "text/html": [
       "<div><style>\n",
       ".dataframe > thead > tr,\n",
       ".dataframe > tbody > tr {\n",
       "  text-align: right;\n",
       "  white-space: pre-wrap;\n",
       "}\n",
       "</style>\n",
       "<small>shape: (2, 6)</small><table border=\"1\" class=\"dataframe\"><thead><tr><th>Stain</th><th>response</th><th>SE</th><th>df</th><th>asymp_LCL</th><th>asymp_UCL</th></tr><tr><td>cat</td><td>f64</td><td>f64</td><td>f64</td><td>f64</td><td>f64</td></tr></thead><tbody><tr><td>&quot;Iodine-stained&quot;</td><td>100.692464</td><td>8.638442</td><td>inf</td><td>83.113141</td><td>121.990001</td></tr><tr><td>&quot;PTA-stained&quot;</td><td>134.011103</td><td>9.149692</td><td>inf</td><td>115.033779</td><td>156.11915</td></tr></tbody></table></div>"
      ],
      "text/plain": [
       "shape: (2, 6)\n",
       "┌────────────────┬────────────┬──────────┬─────┬────────────┬────────────┐\n",
       "│ Stain          ┆ response   ┆ SE       ┆ df  ┆ asymp_LCL  ┆ asymp_UCL  │\n",
       "│ ---            ┆ ---        ┆ ---      ┆ --- ┆ ---        ┆ ---        │\n",
       "│ cat            ┆ f64        ┆ f64      ┆ f64 ┆ f64        ┆ f64        │\n",
       "╞════════════════╪════════════╪══════════╪═════╪════════════╪════════════╡\n",
       "│ Iodine-stained ┆ 100.692464 ┆ 8.638442 ┆ inf ┆ 83.113141  ┆ 121.990001 │\n",
       "│ PTA-stained    ┆ 134.011103 ┆ 9.149692 ┆ inf ┆ 115.033779 ┆ 156.11915  │\n",
       "└────────────────┴────────────┴──────────┴─────┴────────────┴────────────┘"
      ]
     },
     "metadata": {},
     "output_type": "display_data"
    },
    {
     "data": {
      "text/html": [
       "<div><style>\n",
       ".dataframe > thead > tr,\n",
       ".dataframe > tbody > tr {\n",
       "  text-align: right;\n",
       "  white-space: pre-wrap;\n",
       "}\n",
       "</style>\n",
       "<small>shape: (1, 9)</small><table border=\"1\" class=\"dataframe\"><thead><tr><th>contrast</th><th>ratio</th><th>SE</th><th>df</th><th>asymp_LCL</th><th>asymp_UCL</th><th>null</th><th>z_ratio</th><th>p_value</th></tr><tr><td>cat</td><td>f64</td><td>f64</td><td>f64</td><td>f64</td><td>f64</td><td>f64</td><td>f64</td><td>f64</td></tr></thead><tbody><tr><td>&quot;(Iodine-stained) / (PTA-staine…</td><td>0.751374</td><td>0.062976</td><td>inf</td><td>0.637549</td><td>0.885521</td><td>1.0</td><td>-3.410554</td><td>0.000648</td></tr></tbody></table></div>"
      ],
      "text/plain": [
       "shape: (1, 9)\n",
       "┌────────────────────┬──────────┬──────────┬─────┬───┬───────────┬──────┬───────────┬──────────┐\n",
       "│ contrast           ┆ ratio    ┆ SE       ┆ df  ┆ … ┆ asymp_UCL ┆ null ┆ z_ratio   ┆ p_value  │\n",
       "│ ---                ┆ ---      ┆ ---      ┆ --- ┆   ┆ ---       ┆ ---  ┆ ---       ┆ ---      │\n",
       "│ cat                ┆ f64      ┆ f64      ┆ f64 ┆   ┆ f64       ┆ f64  ┆ f64       ┆ f64      │\n",
       "╞════════════════════╪══════════╪══════════╪═════╪═══╪═══════════╪══════╪═══════════╪══════════╡\n",
       "│ (Iodine-stained) / ┆ 0.751374 ┆ 0.062976 ┆ inf ┆ … ┆ 0.885521  ┆ 1.0  ┆ -3.410554 ┆ 0.000648 │\n",
       "│ (PTA-staine…       ┆          ┆          ┆     ┆   ┆           ┆      ┆           ┆          │\n",
       "└────────────────────┴──────────┴──────────┴─────┴───┴───────────┴──────┴───────────┴──────────┘"
      ]
     },
     "metadata": {},
     "output_type": "display_data"
    },
    {
     "data": {
      "text/html": [
       "<div><style>\n",
       ".dataframe > thead > tr,\n",
       ".dataframe > tbody > tr {\n",
       "  text-align: right;\n",
       "  white-space: pre-wrap;\n",
       "}\n",
       "</style>\n",
       "<small>shape: (2, 10)</small><table border=\"1\" class=\"dataframe\"><thead><tr><th>contrast</th><th>Tissue</th><th>ratio</th><th>SE</th><th>df</th><th>asymp_LCL</th><th>asymp_UCL</th><th>null</th><th>z_ratio</th><th>p_value</th></tr><tr><td>cat</td><td>cat</td><td>f64</td><td>f64</td><td>f64</td><td>f64</td><td>f64</td><td>f64</td><td>f64</td><td>f64</td></tr></thead><tbody><tr><td>&quot;(Iodine-stained) / (PTA-staine…</td><td>&quot;Mucosal-submucosal&quot;</td><td>0.751374</td><td>0.062976</td><td>inf</td><td>0.637549</td><td>0.885521</td><td>1.0</td><td>-3.410554</td><td>0.000648</td></tr><tr><td>&quot;(Iodine-stained) / (PTA-staine…</td><td>&quot;Muscle-serosal&quot;</td><td>0.751374</td><td>0.062976</td><td>inf</td><td>0.637549</td><td>0.885521</td><td>1.0</td><td>-3.410554</td><td>0.000648</td></tr></tbody></table></div>"
      ],
      "text/plain": [
       "shape: (2, 10)\n",
       "┌───────────────┬──────────────┬──────────┬──────────┬───┬───────────┬──────┬───────────┬──────────┐\n",
       "│ contrast      ┆ Tissue       ┆ ratio    ┆ SE       ┆ … ┆ asymp_UCL ┆ null ┆ z_ratio   ┆ p_value  │\n",
       "│ ---           ┆ ---          ┆ ---      ┆ ---      ┆   ┆ ---       ┆ ---  ┆ ---       ┆ ---      │\n",
       "│ cat           ┆ cat          ┆ f64      ┆ f64      ┆   ┆ f64       ┆ f64  ┆ f64       ┆ f64      │\n",
       "╞═══════════════╪══════════════╪══════════╪══════════╪═══╪═══════════╪══════╪═══════════╪══════════╡\n",
       "│ (Iodine-stain ┆ Mucosal-subm ┆ 0.751374 ┆ 0.062976 ┆ … ┆ 0.885521  ┆ 1.0  ┆ -3.410554 ┆ 0.000648 │\n",
       "│ ed) /         ┆ ucosal       ┆          ┆          ┆   ┆           ┆      ┆           ┆          │\n",
       "│ (PTA-staine…  ┆              ┆          ┆          ┆   ┆           ┆      ┆           ┆          │\n",
       "│ (Iodine-stain ┆ Muscle-seros ┆ 0.751374 ┆ 0.062976 ┆ … ┆ 0.885521  ┆ 1.0  ┆ -3.410554 ┆ 0.000648 │\n",
       "│ ed) /         ┆ al           ┆          ┆          ┆   ┆           ┆      ┆           ┆          │\n",
       "│ (PTA-staine…  ┆              ┆          ┆          ┆   ┆           ┆      ┆           ┆          │\n",
       "└───────────────┴──────────────┴──────────┴──────────┴───┴───────────┴──────┴───────────┴──────────┘"
      ]
     },
     "metadata": {},
     "output_type": "display_data"
    },
    {
     "data": {
      "text/html": [
       "<div><style>\n",
       ".dataframe > thead > tr,\n",
       ".dataframe > tbody > tr {\n",
       "  text-align: right;\n",
       "  white-space: pre-wrap;\n",
       "}\n",
       "</style>\n",
       "<small>shape: (2, 6)</small><table border=\"1\" class=\"dataframe\"><thead><tr><th>Tissue</th><th>response</th><th>SE</th><th>df</th><th>asymp_LCL</th><th>asymp_UCL</th></tr><tr><td>cat</td><td>f64</td><td>f64</td><td>f64</td><td>f64</td><td>f64</td></tr></thead><tbody><tr><td>&quot;Mucosal-submucosal&quot;</td><td>106.840269</td><td>7.011657</td><td>inf</td><td>92.255378</td><td>123.730923</td></tr><tr><td>&quot;Muscle-serosal&quot;</td><td>126.299833</td><td>8.29008</td><td>inf</td><td>109.055906</td><td>146.270371</td></tr></tbody></table></div>"
      ],
      "text/plain": [
       "shape: (2, 6)\n",
       "┌────────────────────┬────────────┬──────────┬─────┬────────────┬────────────┐\n",
       "│ Tissue             ┆ response   ┆ SE       ┆ df  ┆ asymp_LCL  ┆ asymp_UCL  │\n",
       "│ ---                ┆ ---        ┆ ---      ┆ --- ┆ ---        ┆ ---        │\n",
       "│ cat                ┆ f64        ┆ f64      ┆ f64 ┆ f64        ┆ f64        │\n",
       "╞════════════════════╪════════════╪══════════╪═════╪════════════╪════════════╡\n",
       "│ Mucosal-submucosal ┆ 106.840269 ┆ 7.011657 ┆ inf ┆ 92.255378  ┆ 123.730923 │\n",
       "│ Muscle-serosal     ┆ 126.299833 ┆ 8.29008  ┆ inf ┆ 109.055906 ┆ 146.270371 │\n",
       "└────────────────────┴────────────┴──────────┴─────┴────────────┴────────────┘"
      ]
     },
     "metadata": {},
     "output_type": "display_data"
    },
    {
     "data": {
      "text/html": [
       "<div><style>\n",
       ".dataframe > thead > tr,\n",
       ".dataframe > tbody > tr {\n",
       "  text-align: right;\n",
       "  white-space: pre-wrap;\n",
       "}\n",
       "</style>\n",
       "<small>shape: (1, 9)</small><table border=\"1\" class=\"dataframe\"><thead><tr><th>contrast</th><th>ratio</th><th>SE</th><th>df</th><th>asymp_LCL</th><th>asymp_UCL</th><th>null</th><th>z_ratio</th><th>p_value</th></tr><tr><td>cat</td><td>f64</td><td>f64</td><td>f64</td><td>f64</td><td>f64</td><td>f64</td><td>f64</td><td>f64</td></tr></thead><tbody><tr><td>&quot;(Mucosal-submucosal) / (Muscle…</td><td>0.845926</td><td>0.012326</td><td>inf</td><td>0.822108</td><td>0.870433</td><td>1.0</td><td>-11.483145</td><td>1.6034e-30</td></tr></tbody></table></div>"
      ],
      "text/plain": [
       "shape: (1, 9)\n",
       "┌─────────────────────┬──────────┬──────────┬─────┬───┬───────────┬──────┬────────────┬────────────┐\n",
       "│ contrast            ┆ ratio    ┆ SE       ┆ df  ┆ … ┆ asymp_UCL ┆ null ┆ z_ratio    ┆ p_value    │\n",
       "│ ---                 ┆ ---      ┆ ---      ┆ --- ┆   ┆ ---       ┆ ---  ┆ ---        ┆ ---        │\n",
       "│ cat                 ┆ f64      ┆ f64      ┆ f64 ┆   ┆ f64       ┆ f64  ┆ f64        ┆ f64        │\n",
       "╞═════════════════════╪══════════╪══════════╪═════╪═══╪═══════════╪══════╪════════════╪════════════╡\n",
       "│ (Mucosal-submucosal ┆ 0.845926 ┆ 0.012326 ┆ inf ┆ … ┆ 0.870433  ┆ 1.0  ┆ -11.483145 ┆ 1.6034e-30 │\n",
       "│ ) / (Muscle…        ┆          ┆          ┆     ┆   ┆           ┆      ┆            ┆            │\n",
       "└─────────────────────┴──────────┴──────────┴─────┴───┴───────────┴──────┴────────────┴────────────┘"
      ]
     },
     "metadata": {},
     "output_type": "display_data"
    },
    {
     "data": {
      "text/html": [
       "<div><style>\n",
       ".dataframe > thead > tr,\n",
       ".dataframe > tbody > tr {\n",
       "  text-align: right;\n",
       "  white-space: pre-wrap;\n",
       "}\n",
       "</style>\n",
       "<small>shape: (2, 10)</small><table border=\"1\" class=\"dataframe\"><thead><tr><th>contrast</th><th>Stain</th><th>ratio</th><th>SE</th><th>df</th><th>asymp_LCL</th><th>asymp_UCL</th><th>null</th><th>z_ratio</th><th>p_value</th></tr><tr><td>cat</td><td>cat</td><td>f64</td><td>f64</td><td>f64</td><td>f64</td><td>f64</td><td>f64</td><td>f64</td><td>f64</td></tr></thead><tbody><tr><td>&quot;(Mucosal-submucosal) / (Muscle…</td><td>&quot;Iodine-stained&quot;</td><td>0.845926</td><td>0.012326</td><td>inf</td><td>0.822108</td><td>0.870433</td><td>1.0</td><td>-11.483145</td><td>1.6034e-30</td></tr><tr><td>&quot;(Mucosal-submucosal) / (Muscle…</td><td>&quot;PTA-stained&quot;</td><td>0.845926</td><td>0.012326</td><td>inf</td><td>0.822108</td><td>0.870433</td><td>1.0</td><td>-11.483145</td><td>1.6034e-30</td></tr></tbody></table></div>"
      ],
      "text/plain": [
       "shape: (2, 10)\n",
       "┌─────────────┬─────────────┬──────────┬──────────┬───┬───────────┬──────┬────────────┬────────────┐\n",
       "│ contrast    ┆ Stain       ┆ ratio    ┆ SE       ┆ … ┆ asymp_UCL ┆ null ┆ z_ratio    ┆ p_value    │\n",
       "│ ---         ┆ ---         ┆ ---      ┆ ---      ┆   ┆ ---       ┆ ---  ┆ ---        ┆ ---        │\n",
       "│ cat         ┆ cat         ┆ f64      ┆ f64      ┆   ┆ f64       ┆ f64  ┆ f64        ┆ f64        │\n",
       "╞═════════════╪═════════════╪══════════╪══════════╪═══╪═══════════╪══════╪════════════╪════════════╡\n",
       "│ (Mucosal-su ┆ Iodine-stai ┆ 0.845926 ┆ 0.012326 ┆ … ┆ 0.870433  ┆ 1.0  ┆ -11.483145 ┆ 1.6034e-30 │\n",
       "│ bmucosal) / ┆ ned         ┆          ┆          ┆   ┆           ┆      ┆            ┆            │\n",
       "│ (Muscle…    ┆             ┆          ┆          ┆   ┆           ┆      ┆            ┆            │\n",
       "│ (Mucosal-su ┆ PTA-stained ┆ 0.845926 ┆ 0.012326 ┆ … ┆ 0.870433  ┆ 1.0  ┆ -11.483145 ┆ 1.6034e-30 │\n",
       "│ bmucosal) / ┆             ┆          ┆          ┆   ┆           ┆      ┆            ┆            │\n",
       "│ (Muscle…    ┆             ┆          ┆          ┆   ┆           ┆      ┆            ┆            │\n",
       "└─────────────┴─────────────┴──────────┴──────────┴───┴───────────┴──────┴────────────┴────────────┘"
      ]
     },
     "metadata": {},
     "output_type": "display_data"
    }
   ],
   "source": [
    "display(glmm_mean_sot.emmeans('Stain'))\n",
    "display(glmm_mean_sot.emmeans('Stain', contrasts='pairwise', p_adjust='bonf'))\n",
    "display(glmm_mean_sot.emmeans('Stain', by='Tissue', contrasts='pairwise', p_adjust='bonf'))\n",
    "\n",
    "display(glmm_mean_sot.emmeans('Tissue'))\n",
    "display(glmm_mean_sot.emmeans('Tissue', contrasts='pairwise', p_adjust='bonf'))\n",
    "display(glmm_mean_sot.emmeans('Tissue', by='Stain', contrasts='pairwise', p_adjust='bonf'))"
   ]
  },
  {
   "cell_type": "code",
   "execution_count": 18,
   "id": "96db1da5",
   "metadata": {},
   "outputs": [
    {
     "data": {
      "text/html": [
       "<div id=\"yftkaloqaz\" style=\"padding-left:0px;padding-right:0px;padding-top:10px;padding-bottom:10px;overflow-x:auto;overflow-y:auto;width:auto;height:auto;\">\n",
       "<style>\n",
       "#yftkaloqaz table {\n",
       "          font-family: -apple-system, BlinkMacSystemFont, 'Segoe UI', Roboto, Oxygen, Ubuntu, Cantarell, 'Helvetica Neue', 'Fira Sans', 'Droid Sans', Arial, sans-serif;\n",
       "          -webkit-font-smoothing: antialiased;\n",
       "          -moz-osx-font-smoothing: grayscale;\n",
       "        }\n",
       "\n",
       "#yftkaloqaz thead, tbody, tfoot, tr, td, th { border-style: none !important; }\n",
       " tr { background-color: transparent !important; }\n",
       "#yftkaloqaz p { margin: 0 !important; padding: 0 !important; }\n",
       " #yftkaloqaz .gt_table { display: table !important; border-collapse: collapse !important; line-height: normal !important; margin-left: auto !important; margin-right: auto !important; color: #333333 !important; font-size: 16px !important; font-weight: normal !important; font-style: normal !important; background-color: #FFFFFF !important; width: auto !important; border-top-style: solid !important; border-top-width: 2px !important; border-top-color: #A8A8A8 !important; border-right-style: none !important; border-right-width: 2px !important; border-right-color: #D3D3D3 !important; border-bottom-style: solid !important; border-bottom-width: 2px !important; border-bottom-color: #A8A8A8 !important; border-left-style: none !important; border-left-width: 2px !important; border-left-color: #D3D3D3 !important; }\n",
       " #yftkaloqaz .gt_caption { padding-top: 4px !important; padding-bottom: 4px !important; }\n",
       " #yftkaloqaz .gt_title { color: #333333 !important; font-size: 125% !important; font-weight: initial !important; padding-top: 3px !important; padding-bottom: 3px !important; padding-left: 5px !important; padding-right: 5px !important; border-bottom-color: #FFFFFF !important; border-bottom-width: 0 !important; }\n",
       " #yftkaloqaz .gt_subtitle { color: #333333 !important; font-size: 85% !important; font-weight: initial !important; padding-top: 2px !important; padding-bottom: 4px !important; padding-left: 5px !important; padding-right: 5px !important; border-top-color: #FFFFFF !important; border-top-width: 0 !important; }\n",
       " #yftkaloqaz .gt_heading { background-color: #FFFFFF !important; text-align: left !important; border-bottom-color: #FFFFFF !important; border-left-style: none !important; border-left-width: 1px !important; border-left-color: #D3D3D3 !important; border-right-style: none !important; border-right-width: 1px !important; border-right-color: #D3D3D3 !important; }\n",
       " #yftkaloqaz .gt_bottom_border { border-bottom-style: solid !important; border-bottom-width: 2px !important; border-bottom-color: #D3D3D3 !important; }\n",
       " #yftkaloqaz .gt_col_headings { border-top-style: solid !important; border-top-width: 2px !important; border-top-color: #D3D3D3 !important; border-bottom-style: solid !important; border-bottom-width: 2px !important; border-bottom-color: #D3D3D3 !important; border-left-style: none !important; border-left-width: 1px !important; border-left-color: #D3D3D3 !important; border-right-style: none !important; border-right-width: 1px !important; border-right-color: #D3D3D3 !important; }\n",
       " #yftkaloqaz .gt_col_heading { color: #333333 !important; background-color: #FFFFFF !important; font-size: 100% !important; font-weight: normal !important; text-transform: inherit !important; border-left-style: none !important; border-left-width: 1px !important; border-left-color: #D3D3D3 !important; border-right-style: none !important; border-right-width: 1px !important; border-right-color: #D3D3D3 !important; vertical-align: bottom !important; padding-top: 3px !important; padding-bottom: 4px !important; padding-left: 5px !important; padding-right: 5px !important; overflow-x: hidden !important; }\n",
       " #yftkaloqaz .gt_column_spanner_outer { color: #333333 !important; background-color: #FFFFFF !important; font-size: 100% !important; font-weight: normal !important; text-transform: inherit !important; padding-top: 0 !important; padding-bottom: 0 !important; padding-left: 4px !important; padding-right: 4px !important; }\n",
       " #yftkaloqaz .gt_column_spanner_outer:first-child { padding-left: 0 !important; }\n",
       " #yftkaloqaz .gt_column_spanner_outer:last-child { padding-right: 0 !important; }\n",
       " #yftkaloqaz .gt_column_spanner { border-bottom-style: solid !important; border-bottom-width: 2px !important; border-bottom-color: #D3D3D3 !important; vertical-align: bottom !important; padding-top: 3px !important; padding-bottom: 3px !important; overflow-x: hidden !important; display: inline-block !important; width: 100% !important; }\n",
       " #yftkaloqaz .gt_spanner_row { border-bottom-style: hidden !important; }\n",
       " #yftkaloqaz .gt_group_heading { padding-top: 6px !important; padding-bottom: 6px !important; padding-left: 5px !important; padding-right: 5px !important; color: #333333 !important; background-color: #FFFFFF !important; font-size: 100% !important; font-weight: initial !important; text-transform: inherit !important; border-top-style: solid !important; border-top-width: 2px !important; border-top-color: #D3D3D3 !important; border-bottom-style: solid !important; border-bottom-width: 2px !important; border-bottom-color: #D3D3D3 !important; border-left-style: none !important; border-left-width: 1px !important; border-left-color: #D3D3D3 !important; border-right-style: none !important; border-right-width: 1px !important; border-right-color: #D3D3D3 !important; vertical-align: middle !important; text-align: left !important; }\n",
       " #yftkaloqaz .gt_empty_group_heading { padding: 0.5px !important; color: #333333 !important; background-color: #FFFFFF !important; font-size: 100% !important; font-weight: initial !important; border-top-style: solid !important; border-top-width: 2px !important; border-top-color: #D3D3D3 !important; border-bottom-style: solid !important; border-bottom-width: 2px !important; border-bottom-color: #D3D3D3 !important; vertical-align: middle !important; }\n",
       " #yftkaloqaz .gt_from_md> :first-child { margin-top: 0 !important; }\n",
       " #yftkaloqaz .gt_from_md> :last-child { margin-bottom: 0 !important; }\n",
       " #yftkaloqaz .gt_row { padding-top: 6px !important; padding-bottom: 6px !important; padding-left: 5px !important; padding-right: 5px !important; margin: 10px !important; border-top-style: solid !important; border-top-width: 1px !important; border-top-color: #D3D3D3 !important; border-left-style: none !important; border-left-width: 1px !important; border-left-color: #D3D3D3 !important; border-right-style: none !important; border-right-width: 1px !important; border-right-color: #D3D3D3 !important; vertical-align: middle !important; overflow-x: hidden !important; }\n",
       " #yftkaloqaz .gt_stub { color: #333333 !important; background-color: #FFFFFF !important; font-size: 100% !important; font-weight: initial !important; text-transform: inherit !important; border-right-style: solid !important; border-right-width: 2px !important; border-right-color: #D3D3D3 !important; padding-left: 5px !important; padding-right: 5px !important; }\n",
       " #yftkaloqaz .gt_stub_row_group { color: #333333 !important; background-color: #FFFFFF !important; font-size: 100% !important; font-weight: initial !important; text-transform: inherit !important; border-right-style: solid !important; border-right-width: 2px !important; border-right-color: #D3D3D3 !important; padding-left: 5px !important; padding-right: 5px !important; vertical-align: top !important; }\n",
       " #yftkaloqaz .gt_row_group_first td { border-top-width: 2px !important; }\n",
       " #yftkaloqaz .gt_row_group_first th { border-top-width: 2px !important; }\n",
       " #yftkaloqaz .gt_striped { background-color: rgba(128,128,128,0.05) !important; }\n",
       " #yftkaloqaz .gt_table_body { border-top-style: solid !important; border-top-width: 2px !important; border-top-color: #D3D3D3 !important; border-bottom-style: solid !important; border-bottom-width: 2px !important; border-bottom-color: #D3D3D3 !important; }\n",
       " #yftkaloqaz .gt_sourcenotes { color: #333333 !important; background-color: #FFFFFF !important; border-bottom-style: none !important; border-bottom-width: 2px !important; border-bottom-color: #D3D3D3 !important; border-left-style: none !important; border-left-width: 2px !important; border-left-color: #D3D3D3 !important; border-right-style: none !important; border-right-width: 2px !important; border-right-color: #D3D3D3 !important; }\n",
       " #yftkaloqaz .gt_sourcenote { font-size: small !important; padding-top: 3px !important; padding-bottom: 3px !important; padding-left: 5px !important; padding-right: 5px !important; text-align: left !important; }\n",
       " #yftkaloqaz .gt_left { text-align: left !important; }\n",
       " #yftkaloqaz .gt_center { text-align: center !important; }\n",
       " #yftkaloqaz .gt_right { text-align: right !important; font-variant-numeric: tabular-nums !important; }\n",
       " #yftkaloqaz .gt_font_normal { font-weight: normal !important; }\n",
       " #yftkaloqaz .gt_font_bold { font-weight: bold !important; }\n",
       " #yftkaloqaz .gt_font_italic { font-style: italic !important; }\n",
       " #yftkaloqaz .gt_super { font-size: 65% !important; }\n",
       " #yftkaloqaz .gt_footnote_marks { font-size: 75% !important; vertical-align: 0.4em !important; position: initial !important; }\n",
       " #yftkaloqaz .gt_asterisk { font-size: 100% !important; vertical-align: 0 !important; }\n",
       " \n",
       "</style>\n",
       "<table class=\"gt_table\" data-quarto-disable-processing=\"false\" data-quarto-bootstrap=\"false\">\n",
       "<thead>\n",
       "\n",
       "  <tr class=\"gt_heading\">\n",
       "    <td colspan=\"10\" class=\"gt_heading gt_title gt_font_normal\">Formula: glmer(CNR~Stain+(1|Experiment)+(1|ROI))</td>\n",
       "  </tr>\n",
       "  <tr class=\"gt_heading\">\n",
       "    <td colspan=\"10\" class=\"gt_heading gt_subtitle gt_font_normal gt_bottom_border\">Family: <em>Gamma (link: <em>log</em>)</em><br />\n",
       "Number of observations: <em>130</em><br />\n",
       "Confidence intervals: <em>boot</em><br />\n",
       "Bootstrap Iterations: <em>1000</em><br />\n",
       "---------------------<br />\n",
       "Log-likelihood: <em>-175</em><br />\n",
       "AIC: <em>361</em> | BIC: <em>376</em><br />\n",
       "Residual error: <em>0.652</em></td>\n",
       "  </tr>\n",
       "<tr class=\"gt_col_headings\">\n",
       "  <th class=\"gt_col_heading gt_columns_bottom_border gt_left\" rowspan=\"1\" colspan=\"1\" scope=\"col\" id=\"rfx\">Random Effects:</th>\n",
       "  <th class=\"gt_col_heading gt_columns_bottom_border gt_left\" rowspan=\"1\" colspan=\"1\" scope=\"col\" id=\"param\"></th>\n",
       "  <th class=\"gt_col_heading gt_columns_bottom_border gt_right\" rowspan=\"1\" colspan=\"1\" scope=\"col\" id=\"estimate\">Estimate</th>\n",
       "  <th class=\"gt_col_heading gt_columns_bottom_border gt_right\" rowspan=\"1\" colspan=\"1\" scope=\"col\" id=\"conf_low\">CI-low</th>\n",
       "  <th class=\"gt_col_heading gt_columns_bottom_border gt_right\" rowspan=\"1\" colspan=\"1\" scope=\"col\" id=\"conf_high\">CI-high</th>\n",
       "  <th class=\"gt_col_heading gt_columns_bottom_border gt_right\" rowspan=\"1\" colspan=\"1\" scope=\"col\" id=\"std_error\">SE</th>\n",
       "  <th class=\"gt_col_heading gt_columns_bottom_border gt_right\" rowspan=\"1\" colspan=\"1\" scope=\"col\" id=\"z_stat\">Z-stat</th>\n",
       "  <th class=\"gt_col_heading gt_columns_bottom_border gt_right\" rowspan=\"1\" colspan=\"1\" scope=\"col\" id=\"df\">df</th>\n",
       "  <th class=\"gt_col_heading gt_columns_bottom_border gt_left\" rowspan=\"1\" colspan=\"1\" scope=\"col\" id=\"p_value\">p</th>\n",
       "  <th class=\"gt_col_heading gt_columns_bottom_border gt_left\" rowspan=\"1\" colspan=\"1\" scope=\"col\" id=\"stars\"></th>\n",
       "</tr>\n",
       "</thead>\n",
       "<tbody class=\"gt_table_body\">\n",
       "  <tr>\n",
       "    <td class=\"gt_row gt_left\">Experiment-sd</td>\n",
       "    <td style=\"font-style: italic;\" class=\"gt_row gt_left\">(Intercept)</td>\n",
       "    <td class=\"gt_row gt_right\">0.234</td>\n",
       "    <td class=\"gt_row gt_right\">0.146</td>\n",
       "    <td class=\"gt_row gt_right\">0.418</td>\n",
       "    <td class=\"gt_row gt_right\"></td>\n",
       "    <td class=\"gt_row gt_right\"></td>\n",
       "    <td class=\"gt_row gt_right\"></td>\n",
       "    <td class=\"gt_row gt_left\"></td>\n",
       "    <td class=\"gt_row gt_left\"></td>\n",
       "  </tr>\n",
       "  <tr>\n",
       "    <td class=\"gt_row gt_left\">ROI-sd</td>\n",
       "    <td style=\"font-style: italic;\" class=\"gt_row gt_left\">(Intercept)</td>\n",
       "    <td class=\"gt_row gt_right\">0.290</td>\n",
       "    <td class=\"gt_row gt_right\">0.183</td>\n",
       "    <td class=\"gt_row gt_right\">0.507</td>\n",
       "    <td class=\"gt_row gt_right\"></td>\n",
       "    <td class=\"gt_row gt_right\"></td>\n",
       "    <td class=\"gt_row gt_right\"></td>\n",
       "    <td class=\"gt_row gt_left\"></td>\n",
       "    <td class=\"gt_row gt_left\"></td>\n",
       "  </tr>\n",
       "  <tr>\n",
       "    <td class=\"gt_row gt_left\">Residual-sd</td>\n",
       "    <td style=\"font-style: italic;\" class=\"gt_row gt_left\">Observation</td>\n",
       "    <td class=\"gt_row gt_right\">0.652</td>\n",
       "    <td class=\"gt_row gt_right\">0.572</td>\n",
       "    <td class=\"gt_row gt_right\">0.746</td>\n",
       "    <td class=\"gt_row gt_right\"></td>\n",
       "    <td class=\"gt_row gt_right\"></td>\n",
       "    <td class=\"gt_row gt_right\"></td>\n",
       "    <td class=\"gt_row gt_left\"></td>\n",
       "    <td class=\"gt_row gt_left\"></td>\n",
       "  </tr>\n",
       "  <tr>\n",
       "    <td class=\"gt_row gt_left\"></td>\n",
       "    <td style=\"font-style: italic;\" class=\"gt_row gt_left\"></td>\n",
       "    <td class=\"gt_row gt_right\"></td>\n",
       "    <td class=\"gt_row gt_right\"></td>\n",
       "    <td class=\"gt_row gt_right\"></td>\n",
       "    <td class=\"gt_row gt_right\"></td>\n",
       "    <td class=\"gt_row gt_right\"></td>\n",
       "    <td class=\"gt_row gt_right\"></td>\n",
       "    <td class=\"gt_row gt_left\"></td>\n",
       "    <td class=\"gt_row gt_left\"></td>\n",
       "  </tr>\n",
       "  <tr>\n",
       "    <td class=\"gt_row gt_left\">Fixed Effects:</td>\n",
       "    <td style=\"font-style: italic;\" class=\"gt_row gt_left\"></td>\n",
       "    <td class=\"gt_row gt_right\"></td>\n",
       "    <td class=\"gt_row gt_right\"></td>\n",
       "    <td class=\"gt_row gt_right\"></td>\n",
       "    <td class=\"gt_row gt_right\"></td>\n",
       "    <td class=\"gt_row gt_right\"></td>\n",
       "    <td class=\"gt_row gt_right\"></td>\n",
       "    <td class=\"gt_row gt_left\"></td>\n",
       "    <td class=\"gt_row gt_left\"></td>\n",
       "  </tr>\n",
       "  <tr>\n",
       "    <td class=\"gt_row gt_left\"></td>\n",
       "    <td style=\"font-style: italic;\" class=\"gt_row gt_left\">(Intercept)</td>\n",
       "    <td class=\"gt_row gt_right\">0.836</td>\n",
       "    <td class=\"gt_row gt_right\">−0.726</td>\n",
       "    <td class=\"gt_row gt_right\">0.275</td>\n",
       "    <td class=\"gt_row gt_right\">0.204</td>\n",
       "    <td class=\"gt_row gt_right\">−0.733</td>\n",
       "    <td class=\"gt_row gt_right\">125.000</td>\n",
       "    <td class=\"gt_row gt_left\">0.4647</td>\n",
       "    <td class=\"gt_row gt_left\"></td>\n",
       "  </tr>\n",
       "  <tr>\n",
       "    <td class=\"gt_row gt_left\"></td>\n",
       "    <td style=\"font-style: italic;\" class=\"gt_row gt_left\">StainPTA-stained</td>\n",
       "    <td class=\"gt_row gt_right\">2.034</td>\n",
       "    <td class=\"gt_row gt_right\">0.216</td>\n",
       "    <td class=\"gt_row gt_right\">1.201</td>\n",
       "    <td class=\"gt_row gt_right\">0.494</td>\n",
       "    <td class=\"gt_row gt_right\">2.922</td>\n",
       "    <td class=\"gt_row gt_right\">125.000</td>\n",
       "    <td class=\"gt_row gt_left\">0.004131</td>\n",
       "    <td class=\"gt_row gt_left\">**</td>\n",
       "  </tr>\n",
       "</tbody>\n",
       "  <tfoot class=\"gt_sourcenotes\">\n",
       "  \n",
       "  <tr>\n",
       "    <td class=\"gt_sourcenote\" colspan=\"10\">Signif. codes: <em>0 *** 0.001 ** 0.01 * 0.05 . 0.1</em></td>\n",
       "  </tr>\n",
       "\n",
       "</tfoot>\n",
       "\n",
       "</table>\n",
       "\n",
       "</div>\n",
       "        "
      ],
      "text/plain": [
       "GT(_tbl_data=shape: (7, 10)\n",
       "┌────────────────┬────────────────┬──────────┬───────────┬───┬───────────┬──────┬──────────┬───────┐\n",
       "│ rfx            ┆ param          ┆ estimate ┆ conf_low  ┆ … ┆ z_stat    ┆ df   ┆ p_value  ┆ stars │\n",
       "│ ---            ┆ ---            ┆ ---      ┆ ---       ┆   ┆ ---       ┆ ---  ┆ ---      ┆ ---   │\n",
       "│ str            ┆ str            ┆ f64      ┆ f64       ┆   ┆ f64       ┆ i64  ┆ str      ┆ str   │\n",
       "╞════════════════╪════════════════╪══════════╪═══════════╪═══╪═══════════╪══════╪══════════╪═══════╡\n",
       "│ Experiment-sd  ┆ (Intercept)    ┆ 0.233652 ┆ 0.145577  ┆ … ┆ null      ┆ null ┆ null     ┆ null  │\n",
       "│ ROI-sd         ┆ (Intercept)    ┆ 0.290188 ┆ 0.182995  ┆ … ┆ null      ┆ null ┆ null     ┆ null  │\n",
       "│ Residual-sd    ┆ Observation    ┆ 0.652098 ┆ 0.572074  ┆ … ┆ null      ┆ null ┆ null     ┆ null  │\n",
       "│ null           ┆ null           ┆ null     ┆ null      ┆ … ┆ null      ┆ null ┆ null     ┆ null  │\n",
       "│ Fixed Effects: ┆ null           ┆ null     ┆ null      ┆ … ┆ null      ┆ null ┆ null     ┆ null  │\n",
       "│ null           ┆ (Intercept)    ┆ 0.835821 ┆ -0.725737 ┆ … ┆ -0.733458 ┆ 125  ┆ 0.4647   ┆       │\n",
       "│ null           ┆ StainPTA-stain ┆ 2.033532 ┆ 0.216377  ┆ … ┆ 2.921804  ┆ 125  ┆ 0.004131 ┆ **    │\n",
       "│                ┆ ed             ┆          ┆           ┆   ┆           ┆      ┆          ┆       │\n",
       "└────────────────┴────────────────┴──────────┴───────────┴───┴───────────┴──────┴──────────┴───────┘, _body=<great_tables._gt_data.Body object at 0x7e75b02ebb90>, _boxhead=Boxhead([ColInfo(var='rfx', type=<ColInfoTypeEnum.default: 1>, column_label='Random Effects:', column_align='left', column_width=None), ColInfo(var='param', type=<ColInfoTypeEnum.default: 1>, column_label='', column_align='left', column_width=None), ColInfo(var='estimate', type=<ColInfoTypeEnum.default: 1>, column_label='Estimate', column_align='right', column_width=None), ColInfo(var='conf_low', type=<ColInfoTypeEnum.default: 1>, column_label='CI-low', column_align='right', column_width=None), ColInfo(var='conf_high', type=<ColInfoTypeEnum.default: 1>, column_label='CI-high', column_align='right', column_width=None), ColInfo(var='std_error', type=<ColInfoTypeEnum.default: 1>, column_label='SE', column_align='right', column_width=None), ColInfo(var='z_stat', type=<ColInfoTypeEnum.default: 1>, column_label='Z-stat', column_align='right', column_width=None), ColInfo(var='df', type=<ColInfoTypeEnum.default: 1>, column_label='df', column_align='right', column_width=None), ColInfo(var='p_value', type=<ColInfoTypeEnum.default: 1>, column_label='p', column_align='left', column_width=None), ColInfo(var='stars', type=<ColInfoTypeEnum.default: 1>, column_label='', column_align='left', column_width=None)]), _stub=<great_tables._gt_data.Stub object at 0x7e75b02e89e0>, _spanners=Spanners([]), _heading=Heading(title='Formula: glmer(CNR~Stain+(1|Experiment)+(1|ROI))', subtitle=Md(text='Family: *Gamma (link: *log*)*  \\n            Number of observations: *130*  \\n            Confidence intervals: *boot*   \\n            Bootstrap Iterations: *1000*  \\n            ---------------------  \\n            Log-likelihood: *-175*  \\n            AIC: *361* | BIC: *376*  \\n            Residual error: *0.652*  \\n        '), preheader=None), _stubhead=None, _source_notes=[Md(text='Signif. codes: *0 *** 0.001 ** 0.01 * 0.05 . 0.1*')], _footnotes=[], _styles=[StyleInfo(locname=LocBody(columns=['param'], rows=None, mask=None), grpname=None, colname='param', rownum=0, colnum=None, styles=[CellStyleText(color=None, font=None, size=None, align=None, v_align=None, style='italic', weight=None, stretch=None, decorate=None, transform=None, whitespace=None)]), StyleInfo(locname=LocBody(columns=['param'], rows=None, mask=None), grpname=None, colname='param', rownum=1, colnum=None, styles=[CellStyleText(color=None, font=None, size=None, align=None, v_align=None, style='italic', weight=None, stretch=None, decorate=None, transform=None, whitespace=None)]), StyleInfo(locname=LocBody(columns=['param'], rows=None, mask=None), grpname=None, colname='param', rownum=2, colnum=None, styles=[CellStyleText(color=None, font=None, size=None, align=None, v_align=None, style='italic', weight=None, stretch=None, decorate=None, transform=None, whitespace=None)]), StyleInfo(locname=LocBody(columns=['param'], rows=None, mask=None), grpname=None, colname='param', rownum=3, colnum=None, styles=[CellStyleText(color=None, font=None, size=None, align=None, v_align=None, style='italic', weight=None, stretch=None, decorate=None, transform=None, whitespace=None)]), StyleInfo(locname=LocBody(columns=['param'], rows=None, mask=None), grpname=None, colname='param', rownum=4, colnum=None, styles=[CellStyleText(color=None, font=None, size=None, align=None, v_align=None, style='italic', weight=None, stretch=None, decorate=None, transform=None, whitespace=None)]), StyleInfo(locname=LocBody(columns=['param'], rows=None, mask=None), grpname=None, colname='param', rownum=5, colnum=None, styles=[CellStyleText(color=None, font=None, size=None, align=None, v_align=None, style='italic', weight=None, stretch=None, decorate=None, transform=None, whitespace=None)]), StyleInfo(locname=LocBody(columns=['param'], rows=None, mask=None), grpname=None, colname='param', rownum=6, colnum=None, styles=[CellStyleText(color=None, font=None, size=None, align=None, v_align=None, style='italic', weight=None, stretch=None, decorate=None, transform=None, whitespace=None)])], _locale=<great_tables._gt_data.Locale object at 0x7e75b02eb9b0>, _formats=[<great_tables._gt_data.FormatInfo object at 0x7e75b02ea960>], _substitutions=[<great_tables._gt_data.FormatInfo object at 0x7e75b0468bf0>], _options=Options(table_id=OptionsInfo(scss=False, category='table', type='value', value=None), table_caption=OptionsInfo(scss=False, category='table', type='value', value=None), table_width=OptionsInfo(scss=True, category='table', type='px', value='auto'), table_layout=OptionsInfo(scss=True, category='table', type='value', value='fixed'), table_margin_left=OptionsInfo(scss=True, category='table', type='px', value='auto'), table_margin_right=OptionsInfo(scss=True, category='table', type='px', value='auto'), table_background_color=OptionsInfo(scss=True, category='table', type='value', value='#FFFFFF'), table_additional_css=OptionsInfo(scss=False, category='table', type='values', value=[]), table_font_names=OptionsInfo(scss=False, category='table', type='values', value=['-apple-system', 'BlinkMacSystemFont', 'Segoe UI', 'Roboto', 'Oxygen', 'Ubuntu', 'Cantarell', 'Helvetica Neue', 'Fira Sans', 'Droid Sans', 'Arial', 'sans-serif']), table_font_size=OptionsInfo(scss=True, category='table', type='px', value='16px'), table_font_weight=OptionsInfo(scss=True, category='table', type='value', value='normal'), table_font_style=OptionsInfo(scss=True, category='table', type='value', value='normal'), table_font_color=OptionsInfo(scss=True, category='table', type='value', value='#333333'), table_font_color_light=OptionsInfo(scss=True, category='table', type='value', value='#FFFFFF'), table_border_top_include=OptionsInfo(scss=False, category='table', type='boolean', value=True), table_border_top_style=OptionsInfo(scss=True, category='table', type='value', value='solid'), table_border_top_width=OptionsInfo(scss=True, category='table', type='px', value='2px'), table_border_top_color=OptionsInfo(scss=True, category='table', type='value', value='#A8A8A8'), table_border_right_style=OptionsInfo(scss=True, category='table', type='value', value='none'), table_border_right_width=OptionsInfo(scss=True, category='table', type='px', value='2px'), table_border_right_color=OptionsInfo(scss=True, category='table', type='value', value='#D3D3D3'), table_border_bottom_include=OptionsInfo(scss=False, category='table', type='boolean', value=True), table_border_bottom_style=OptionsInfo(scss=True, category='table', type='value', value='solid'), table_border_bottom_width=OptionsInfo(scss=True, category='table', type='px', value='2px'), table_border_bottom_color=OptionsInfo(scss=True, category='table', type='value', value='#A8A8A8'), table_border_left_style=OptionsInfo(scss=True, category='table', type='value', value='none'), table_border_left_width=OptionsInfo(scss=True, category='table', type='px', value='2px'), table_border_left_color=OptionsInfo(scss=True, category='table', type='value', value='#D3D3D3'), heading_background_color=OptionsInfo(scss=True, category='heading', type='value', value=None), heading_align=OptionsInfo(scss=True, category='heading', type='value', value='left'), heading_title_font_size=OptionsInfo(scss=True, category='heading', type='px', value='125%'), heading_title_font_weight=OptionsInfo(scss=True, category='heading', type='value', value='initial'), heading_subtitle_font_size=OptionsInfo(scss=True, category='heading', type='px', value='85%'), heading_subtitle_font_weight=OptionsInfo(scss=True, category='heading', type='value', value='initial'), heading_padding=OptionsInfo(scss=True, category='heading', type='px', value='3px'), heading_padding_horizontal=OptionsInfo(scss=True, category='heading', type='px', value='5px'), heading_border_bottom_style=OptionsInfo(scss=True, category='heading', type='value', value='solid'), heading_border_bottom_width=OptionsInfo(scss=True, category='heading', type='px', value='2px'), heading_border_bottom_color=OptionsInfo(scss=True, category='heading', type='value', value='#D3D3D3'), heading_border_lr_style=OptionsInfo(scss=True, category='heading', type='value', value='none'), heading_border_lr_width=OptionsInfo(scss=True, category='heading', type='px', value='1px'), heading_border_lr_color=OptionsInfo(scss=True, category='heading', type='value', value='#D3D3D3'), column_labels_background_color=OptionsInfo(scss=True, category='column_labels', type='value', value=None), column_labels_font_size=OptionsInfo(scss=True, category='column_labels', type='px', value='100%'), column_labels_font_weight=OptionsInfo(scss=True, category='column_labels', type='value', value='normal'), column_labels_text_transform=OptionsInfo(scss=True, category='column_labels', type='value', value='inherit'), column_labels_padding=OptionsInfo(scss=True, category='column_labels', type='px', value='3px'), column_labels_padding_horizontal=OptionsInfo(scss=True, category='column_labels', type='px', value='5px'), column_labels_vlines_style=OptionsInfo(scss=True, category='table_body', type='value', value='none'), column_labels_vlines_width=OptionsInfo(scss=True, category='table_body', type='px', value='1px'), column_labels_vlines_color=OptionsInfo(scss=True, category='table_body', type='value', value='#D3D3D3'), column_labels_border_top_style=OptionsInfo(scss=True, category='column_labels', type='value', value='solid'), column_labels_border_top_width=OptionsInfo(scss=True, category='column_labels', type='px', value='2px'), column_labels_border_top_color=OptionsInfo(scss=True, category='column_labels', type='value', value='#D3D3D3'), column_labels_border_bottom_style=OptionsInfo(scss=True, category='column_labels', type='value', value='solid'), column_labels_border_bottom_width=OptionsInfo(scss=True, category='column_labels', type='px', value='2px'), column_labels_border_bottom_color=OptionsInfo(scss=True, category='column_labels', type='value', value='#D3D3D3'), column_labels_border_lr_style=OptionsInfo(scss=True, category='column_labels', type='value', value='none'), column_labels_border_lr_width=OptionsInfo(scss=True, category='column_labels', type='px', value='1px'), column_labels_border_lr_color=OptionsInfo(scss=True, category='column_labels', type='value', value='#D3D3D3'), column_labels_hidden=OptionsInfo(scss=False, category='column_labels', type='boolean', value=False), row_group_background_color=OptionsInfo(scss=True, category='row_group', type='value', value=None), row_group_font_size=OptionsInfo(scss=True, category='row_group', type='px', value='100%'), row_group_font_weight=OptionsInfo(scss=True, category='row_group', type='value', value='initial'), row_group_text_transform=OptionsInfo(scss=True, category='row_group', type='value', value='inherit'), row_group_padding=OptionsInfo(scss=True, category='row_group', type='px', value='6px'), row_group_padding_horizontal=OptionsInfo(scss=True, category='row_group', type='px', value='5px'), row_group_border_top_style=OptionsInfo(scss=True, category='row_group', type='value', value='solid'), row_group_border_top_width=OptionsInfo(scss=True, category='row_group', type='px', value='2px'), row_group_border_top_color=OptionsInfo(scss=True, category='row_group', type='value', value='#D3D3D3'), row_group_border_right_style=OptionsInfo(scss=True, category='row_group', type='value', value='none'), row_group_border_right_width=OptionsInfo(scss=True, category='row_group', type='px', value='1px'), row_group_border_right_color=OptionsInfo(scss=True, category='row_group', type='value', value='#D3D3D3'), row_group_border_bottom_style=OptionsInfo(scss=True, category='row_group', type='value', value='solid'), row_group_border_bottom_width=OptionsInfo(scss=True, category='row_group', type='px', value='2px'), row_group_border_bottom_color=OptionsInfo(scss=True, category='row_group', type='value', value='#D3D3D3'), row_group_border_left_style=OptionsInfo(scss=True, category='row_group', type='value', value='none'), row_group_border_left_width=OptionsInfo(scss=True, category='row_group', type='px', value='1px'), row_group_border_left_color=OptionsInfo(scss=True, category='row_group', type='value', value='#D3D3D3'), row_group_as_column=OptionsInfo(scss=False, category='row_group', type='boolean', value=False), table_body_hlines_style=OptionsInfo(scss=True, category='table_body', type='value', value='solid'), table_body_hlines_width=OptionsInfo(scss=True, category='table_body', type='px', value='1px'), table_body_hlines_color=OptionsInfo(scss=True, category='table_body', type='value', value='#D3D3D3'), table_body_vlines_style=OptionsInfo(scss=True, category='table_body', type='value', value='none'), table_body_vlines_width=OptionsInfo(scss=True, category='table_body', type='px', value='1px'), table_body_vlines_color=OptionsInfo(scss=True, category='table_body', type='value', value='#D3D3D3'), table_body_border_top_style=OptionsInfo(scss=True, category='table_body', type='value', value='solid'), table_body_border_top_width=OptionsInfo(scss=True, category='table_body', type='px', value='2px'), table_body_border_top_color=OptionsInfo(scss=True, category='table_body', type='value', value='#D3D3D3'), table_body_border_bottom_style=OptionsInfo(scss=True, category='table_body', type='value', value='solid'), table_body_border_bottom_width=OptionsInfo(scss=True, category='table_body', type='px', value='2px'), table_body_border_bottom_color=OptionsInfo(scss=True, category='table_body', type='value', value='#D3D3D3'), data_row_padding=OptionsInfo(scss=True, category='data_row', type='px', value='6px'), data_row_padding_horizontal=OptionsInfo(scss=True, category='data_row', type='px', value='5px'), stub_background_color=OptionsInfo(scss=True, category='stub', type='value', value=None), stub_font_size=OptionsInfo(scss=True, category='stub', type='px', value='100%'), stub_font_weight=OptionsInfo(scss=True, category='stub', type='value', value='initial'), stub_text_transform=OptionsInfo(scss=True, category='stub', type='value', value='inherit'), stub_border_style=OptionsInfo(scss=True, category='stub', type='value', value='solid'), stub_border_width=OptionsInfo(scss=True, category='stub', type='px', value='2px'), stub_border_color=OptionsInfo(scss=True, category='stub', type='value', value='#D3D3D3'), stub_row_group_background_color=OptionsInfo(scss=True, category='stub', type='value', value=None), stub_row_group_font_size=OptionsInfo(scss=True, category='stub', type='px', value='100%'), stub_row_group_font_weight=OptionsInfo(scss=True, category='stub', type='value', value='initial'), stub_row_group_text_transform=OptionsInfo(scss=True, category='stub', type='value', value='inherit'), stub_row_group_border_style=OptionsInfo(scss=True, category='stub', type='value', value='solid'), stub_row_group_border_width=OptionsInfo(scss=True, category='stub', type='px', value='2px'), stub_row_group_border_color=OptionsInfo(scss=True, category='stub', type='value', value='#D3D3D3'), source_notes_padding=OptionsInfo(scss=True, category='source_notes', type='px', value='3px'), source_notes_padding_horizontal=OptionsInfo(scss=True, category='source_notes', type='px', value='5px'), source_notes_background_color=OptionsInfo(scss=True, category='source_notes', type='value', value=None), source_notes_font_size=OptionsInfo(scss=True, category='source_notes', type='px', value='small'), source_notes_border_bottom_style=OptionsInfo(scss=True, category='source_notes', type='value', value='none'), source_notes_border_bottom_width=OptionsInfo(scss=True, category='source_notes', type='px', value='2px'), source_notes_border_bottom_color=OptionsInfo(scss=True, category='source_notes', type='value', value='#D3D3D3'), source_notes_border_lr_style=OptionsInfo(scss=True, category='source_notes', type='value', value='none'), source_notes_border_lr_width=OptionsInfo(scss=True, category='source_notes', type='px', value='2px'), source_notes_border_lr_color=OptionsInfo(scss=True, category='source_notes', type='value', value='#D3D3D3'), source_notes_multiline=OptionsInfo(scss=False, category='source_notes', type='boolean', value=True), source_notes_sep=OptionsInfo(scss=False, category='source_notes', type='value', value=' '), row_striping_background_color=OptionsInfo(scss=True, category='row', type='value', value='rgba(128,128,128,0.05)'), row_striping_include_stub=OptionsInfo(scss=False, category='row', type='boolean', value=False), row_striping_include_table_body=OptionsInfo(scss=False, category='row', type='boolean', value=False), container_width=OptionsInfo(scss=False, category='container', type='px', value='auto'), container_height=OptionsInfo(scss=False, category='container', type='px', value='auto'), container_padding_x=OptionsInfo(scss=False, category='container', type='px', value='0px'), container_padding_y=OptionsInfo(scss=False, category='container', type='px', value='10px'), container_overflow_x=OptionsInfo(scss=False, category='container', type='overflow', value='auto'), container_overflow_y=OptionsInfo(scss=False, category='container', type='overflow', value='auto'), quarto_disable_processing=OptionsInfo(scss=False, category='quarto', type='logical', value=False), quarto_use_bootstrap=OptionsInfo(scss=False, category='quarto', type='logical', value=False)), _has_built=False)"
      ]
     },
     "metadata": {},
     "output_type": "display_data"
    },
    {
     "data": {
      "text/html": [
       "<div><style>\n",
       ".dataframe > thead > tr,\n",
       ".dataframe > tbody > tr {\n",
       "  text-align: right;\n",
       "  white-space: pre-wrap;\n",
       "}\n",
       "</style>\n",
       "<small>shape: (1, 13)</small><table border=\"1\" class=\"dataframe\"><thead><tr><th>AIC</th><th>AICc</th><th>BIC</th><th>ICC</th><th>R2_conditional</th><th>R2_marginal</th><th>RMSE</th><th>Sigma</th><th>deviance</th><th>df_residual</th><th>logLik</th><th>nobs</th><th>sigma</th></tr><tr><td>f64</td><td>f64</td><td>f64</td><td>f64</td><td>f64</td><td>f64</td><td>f64</td><td>f64</td><td>f64</td><td>i64</td><td>f64</td><td>i64</td><td>f64</td></tr></thead><tbody><tr><td>361.796806</td><td>362.280677</td><td>376.134479</td><td>0.281468</td><td>0.410702</td><td>0.179858</td><td>1.012601</td><td>0.652098</td><td>72.863983</td><td>125</td><td>-175.898403</td><td>130</td><td>0.652098</td></tr></tbody></table></div>"
      ],
      "text/plain": [
       "shape: (1, 13)\n",
       "┌────────────┬────────────┬────────────┬──────────┬───┬─────────────┬────────────┬──────┬──────────┐\n",
       "│ AIC        ┆ AICc       ┆ BIC        ┆ ICC      ┆ … ┆ df_residual ┆ logLik     ┆ nobs ┆ sigma    │\n",
       "│ ---        ┆ ---        ┆ ---        ┆ ---      ┆   ┆ ---         ┆ ---        ┆ ---  ┆ ---      │\n",
       "│ f64        ┆ f64        ┆ f64        ┆ f64      ┆   ┆ i64         ┆ f64        ┆ i64  ┆ f64      │\n",
       "╞════════════╪════════════╪════════════╪══════════╪═══╪═════════════╪════════════╪══════╪══════════╡\n",
       "│ 361.796806 ┆ 362.280677 ┆ 376.134479 ┆ 0.281468 ┆ … ┆ 125         ┆ -175.89840 ┆ 130  ┆ 0.652098 │\n",
       "│            ┆            ┆            ┆          ┆   ┆             ┆ 3          ┆      ┆          │\n",
       "└────────────┴────────────┴────────────┴──────────┴───┴─────────────┴────────────┴──────┴──────────┘"
      ]
     },
     "metadata": {},
     "output_type": "display_data"
    },
    {
     "data": {
      "application/vnd.plotly.v1+json": {
       "config": {
        "plotlyServerURL": "https://plot.ly"
       },
       "data": [
        {
         "marker": {
          "color": "#6C8EBF",
          "size": 10
         },
         "mode": "markers",
         "text": [
          "RT01",
          "RT01",
          "RT01",
          "RT01",
          "RT01",
          "RT01",
          "RT01",
          "RT01",
          "RT01",
          "RT01",
          "RT02",
          "RT02",
          "RT02",
          "RT02",
          "RT02",
          "RT02",
          "RT02",
          "RT02",
          "RT02",
          "RT02",
          "RT03",
          "RT03",
          "RT03",
          "RT03",
          "RT03",
          "RT03",
          "RT03",
          "RT03",
          "RT03",
          "RT03",
          "RT04",
          "RT04",
          "RT04",
          "RT04",
          "RT04",
          "RT04",
          "RT04",
          "RT04",
          "RT04",
          "RT04",
          "RT05",
          "RT05",
          "RT05",
          "RT05",
          "RT05",
          "RT05",
          "RT05",
          "RT05",
          "RT05",
          "RT05",
          "RT06",
          "RT06",
          "RT06",
          "RT06",
          "RT06",
          "RT06",
          "RT06",
          "RT06",
          "RT06",
          "RT06",
          "RT09",
          "RT09",
          "RT09",
          "RT09",
          "RT09",
          "RT09",
          "RT09",
          "RT09",
          "RT09",
          "RT09",
          "RT10",
          "RT10",
          "RT10",
          "RT10",
          "RT10",
          "RT10",
          "RT10",
          "RT10",
          "RT10",
          "RT10",
          "RT11",
          "RT11",
          "RT11",
          "RT11",
          "RT11",
          "RT11",
          "RT11",
          "RT11",
          "RT11",
          "RT11",
          "RT12",
          "RT12",
          "RT12",
          "RT12",
          "RT12",
          "RT12",
          "RT12",
          "RT12",
          "RT12",
          "RT12",
          "RT13",
          "RT13",
          "RT13",
          "RT13",
          "RT13",
          "RT13",
          "RT13",
          "RT13",
          "RT13",
          "RT13",
          "RT14",
          "RT14",
          "RT14",
          "RT14",
          "RT14",
          "RT14",
          "RT14",
          "RT14",
          "RT14",
          "RT14",
          "RT15",
          "RT15",
          "RT15",
          "RT15",
          "RT15",
          "RT15",
          "RT15",
          "RT15",
          "RT15",
          "RT15"
         ],
         "type": "scatter",
         "x": {
          "bdata": "5rMoWztG5z9PK4sp9xnmPyD0EXQQddU/7N34D8vh2T/Mkl81n1nbP00M2D5PhOc/DpN8sPn85T8kP/5PEJbqP06Jd5cR29w/roM577xP5D8uqQ9P8qPyP201Fpd2s/E/bQrw1mQv4T9Wo/ejmLrkP3F0Eu2Y5+U/y1CPHqrV8j9wGvm7PpzxP1+acJD5SvU/RAV8N00c5z+4SjgPeETwP5fsvC1NkgRAF1Izs+eIA0DTVklkJ/fyP2oHiL1W4PY/DRJSwYUs+D/Da16KK8kEQO74ehVIbwNAwt3Cq6x/B0B4fSsRNYH5PzgaL0Pk8wFA0dS2zlq1BECSb9EZMaoDQNEuyW94F/M/cI+wxlEH9z/jPI7StlX4P9XM8qmW7ARAMZmy0mWQA0CB0c41t6cHQBSS1KaqrPk/S90niHsSAkBFN+aOJGsBQOZdBmBsigBA4PBJ3wIP8D/jpun2vl7zPyXhEisEePQ/nDbEDZqZAUA4VGckunQAQLC9UhSp5QNAwidxHHyY9T/QdNm0+Gb+PzdK86MRsvg/FihlhXdz9z+scuT8fsTmP8cAVwZldus/Ga++UywF7T+QITL27/P4P2Aj4tu0VPc/ZABBXKw1/D97N9s4KJ7uP3VQCwlCjfU/yaUaB6fZA0DBIhK9j9kCQL4aObDrTPI/3OnwbgAT9j9bHkzHiVP3P3YvDOSYDgRAkWhAHtbAAkCiZxQswKwGQC5wVx1HnPg/J1Y4sL9SAUBF1wSjuo0AQN+UGedVcP8/ldWOYMSF7j+MNf1jhmjyP/RXoUHUc/M/lxv6kuG5AEBhkPEDGUf/P4+Yz4296AJAmCSyXPmF9D8pM99JhOT8P4SrBFVLjgFAVFJip82rAEDQx18Zay/wPxWybvbVhfM/Jgy1yFKh9D81Y46VHr0BQGfMCqPvlQBAUtd9V9ANBEAe3+3eEMT1P7yEKCJTpP4/9Ex1TTt+BEAhmY+/2HUDQBsxDKOm5PI/7zQ5NwXK9j8o/8cl8BT4P0zyQyLktARAfw9+IVJcA0D7iTyyv2gHQIN4LBVTaPk/Su2HcmDiAUAxyTNV6Y/+P1pH8K2fBf0/ThBybhYt7D9QODB/QP7wP+lUv9kB9fE/HwZfZG3h/j/BgfxYjt/8P38iUWWcdAFA/QmN0RPy8j8N+9bG6av6P7//yYa2efU/QZw8kadk9D9CTgyvf8zjPzFK03+t4ec/kbsoS3U86T9VEN8c/rL1P8DIfrXnSfQ/wZ+U0QOI+D+liAQEHaDqP5iSARTYvfI/OryjpBHU8z9EF1ljQtTyPy/K1+XFR+I/nnZ15soM5j++lXEV+kznPxYkG530CPQ/CjPyuI+78j/b7FpkX6b2P/5/bPNaleg/yRlbROBN8T8=",
          "dtype": "f8"
         },
         "xaxis": "x",
         "y": {
          "bdata": "emUYpoHD1r/+E+cg8W3XvxrDwPa+Ue6/NXY6TfQ/xj9juHjY5C71vwyTx25NUe6/PalVH/bj3b+m/y5KQMTWP0geIyQnPe2/bZrF+S8Zxz+oUgHTYdazPwf+N62QUnW/3MXCGniPsL9zsAle/L2WP043B6pkKMQ/Pb4c2UMT0T+yX5UKDg3/vxGemX28qrW/rHMJUsaI3z/Nt2Bfp87dP7UYnCB7w+U/5kRBAJPx1z8+t8wfmxDUP0o1e2kQkPC/Pjl2kS8Q0j8gsKFFVhvmP1+zw4XZ+5G/Qe6s3Avl3r8Rq0VTmUz8vx0Ty1Xzzds/TnHEaNvV379EFmtdhazKP/l0Yz0I48m/PG6ZKTUi6r8ntvx58Fyxv/jwM6mDLug/xi3uOfhSyD/nOPl/9iPSP7zKQ1wEsJe/f3i5XpDG5j/MpJrH7Oe5P9HVUT2vaeu/9rN6Q+17uT/GtJ1kxkrpP7mnc7uvBdo/cAs/Hk9dxz/aijbXUfbiv5zgxBZaSKg/XMowMb0e5b95Ghua3JTav3COY6xhHa4/K2I4VWL//r+/7VFCZWLxv85fw0C2mfq/YVsI/Aohzr+FhYla+YXDP/vl28oNz6q/4FOYvAwD1z+NSSqQmIy2v1ng9vgecuG/5BCrjFiy2z8SMwXchgT0v0gbd4O63fi/OHE8wk5q178UzZUI5Ojnv4JzODU/0Mi/kC822tBWoD/WWoLR5APAP4MF8rIUYvk/HqCQ5nad3D+OuQ8WngiMvxK+5h6MQe6/pDq26neWyL8ie5E+FgOyP7XpYLIdfMk/4WbEGSa5w78Vy4q7VSniP6Nom4U6fbE/Z1N1bpWU378UtEVcqF6zvzKoUVXa4vC/7jbp0MAq2L9ZciG7fRy/vxPwLmcu+tw/tOHsAiUK9b+jcu1EKWDdP4Yz2P2FnLK/0iRMHWCl0j/GoWUOLfPSPxq8TFZDutM/AXq1Hzb7zT/0W9uRU/X3P/O+RJfG7Ne/fWXwEx9p1j9qwgljNfHEPzE/EBGrI8+/NdkJHdirs7+Vt+r9nOi0v7XHT9ozKti/KkWZRoVi+7/JpTWXGV+5v5HLvNrPxOm/Wlw0aHJDyb/WOMh0Hhj3v34G9+TFfco/R0pgY5TBzT+MRS0MOHPnP3T1DEfnldM/ooEbYaNV3r8RJalfwDfvvxiMqh4z6tc/46xGMP1p7T8Lp5pXkCDoPz5ijwoudwDAQGnbtlTI2T8MaWPTaDf0vxHoJcCaPOE/n0yFTkiy2D8cRySMx7rJv2/mL1ngGeS/hTEah6Rq4D8vn7j9BCfsPxK69eLKB+6/qiWE86am2j8cmiSt9UL7v5pFH5AmFMA/VL2/FPI23z9ecvxYmH60P+mg9QB4vAXAw8vVRnCr4D8=",
          "dtype": "f8"
         },
         "yaxis": "y"
        },
        {
         "marker": {
          "color": "#6C8EBF",
          "size": 10
         },
         "mode": "markers",
         "type": "scatter",
         "x": {
          "bdata": "MV2xZ2doA8CbENd+AU4BwOIApaqa9P+/IwlJcMz3/b/45o10j1v8v/C6BFf1/fq/y5bPlXrM+b9g7Pfw27v4v+CZwsG2xPe/HjoCEe3h9r+KdUATzA/2vwJIXi2QS/W/6YgW8RmT9L+ISBR/vuTzv1htfhUoP/O/irHTmUCh8r+HGt6HIgryv4QBfRsOefG/wKmzWmHt8L9L+YsgkmbwvyobrClTyO+/QQzfWIHL7r+eXi7Z+tXtv5uziIAh5+y/v5ieeGn+6793t4RxVhvrv7SAt1h5Peq/VNoXeG5k6b+DaFrn24/ov9+abD9wv+e/yskNg+Hy5r9MDqYy7CnmvyjVgYNSZOW/h8Y2tNuh5L8bczV5U+Ljv8oTg32JJeO/NtxY9FBr4r+kp/84gLPhv0uauHrw/eC/BMXkcn1K4L8Dk9hHCjLfv9H7ST/P0t2/pn5YqA133L+o3KO8jB7bv/qtqsEWydm/Qv+iv3h22L+VW5w/gibXvzaV/Q8F2dW/FNCRDtWN1L/NK3T3x0TTv/XbQDi1/dG/kUgGx3W40L9EIgP5x+nOv+ADgOK2Zcy/XTyWunHkyb/STB70s2XHv3KAacw66cS/jKZbFsVuwr9wAvAQJuy/v97J8RrM/bq/5hMlLgEStr8DNRLlSyixvxsYIXtogKi/M5R9HQ1lnb8ke7qkFpiDv9R6uqQWmIM/CpR9HQ1lnT8bGCF7aICoPwM1EuVLKLE/5hMlLgEStj/eyfEazP26P3AC8BAm7L8/kaZbFsVuwj93gGnMOunEP81MHvSzZcc/WDyWunHkyT/gA4DitmXMP0QiA/nH6c4/kUgGx3W40D/120A4tf3RP9ArdPfHRNM/F9CRDtWN1D8zlf0PBdnVP5NbnD+CJtc/Pv+iv3h22D/6rarBFsnZP6jco7yMHts/pn5YqA133D/R+0k/z9LdPwWT2EcKMt8/BcXkcn1K4D9Kmrh68P3gP6Kn/ziAs+E/NtxY9FBr4j/KE4N9iSXjPxtzNXlT4uM/h8Y2tNuh5D8o1YGDUmTlP0wOpjLsKeY/y8kNg+Hy5j/dmmw/cL/nP4NoWufbj+g/VNoXeG5k6T+0gLdYeT3qP3e3hHFWG+s/v5ieeGn+6z+bs4iAIefsP55eLtn61e0/RAzfWIHL7j8mG6wpU8jvP0v5iyCSZvA/wKmzWmHt8D+EAX0bDnnxP4ca3ociCvI/irHTmUCh8j9YbX4VKD/zP4hIFH++5PM/6YgW8RmT9D8ASF4tkEv1P4h1QBPMD/Y/HjoCEe3h9j/gmcLBtsT3P2Ds9/Dbu/g/y5bPlXrM+T/wugRX9f36P/rmjXSPW/w/IAlJcMz3/T/eAKWqmvT/P5oQ134BTgFAMF2xZ2doA0A=",
          "dtype": "f8"
         },
         "xaxis": "x2",
         "y": {
          "bdata": "6aD1AHi8BcA+Yo8KLncAwLJflQoODf+/K2I4VWL//r8Rq0VTmUz8vypFmUaFYvu/HJokrfVC+7/OX8NAtpn6v0gbd4O63fi/1jjIdB4Y979juHjY5C71v7Th7AIlCvW/DGlj02g39L8SMwXchgT0v7/tUUJlYvG/MqhRVdri8L9KNXtpEJDwvxElqV/AN++/GsPA9r5R7r8Mk8duTVHuvxK+5h6MQe6/Err14soH7r9IHiMkJz3tv9HVUT2vaeu/PG6ZKTUi6r+Ry7zaz8TpvxTNlQjk6Oe/XMowMb0e5b9v5i9Z4Bnkv9qKNtdR9uK/WeD2+B5y4b9OccRo29Xfv2dTdW6VlN+/Qe6s3Avl3r+igRtho1Xevz2pVR/2492/eRobmtyU2r/uNunQwCrYv7XHT9ozKti/875El8bs17/+E+cg8W3XvzhxPMJOate/emUYpoHD1r8xPxARqyPPv2FbCPwKIc6/+XRjPQjjyb8cRySMx7rJv1pcNGhyQ8m/gnM4NT/QyL+kOrbqd5bIv+FmxBkmucO/WXIhu30cv7/JpTWXGV+5v41JKpCYjLa/EZ6Zfbyqtb+Vt+r9nOi0vzXZCR3Yq7O/FLRFXKhes7+GM9j9hZyyvye2/HnwXLG/3MXCGniPsL/75dvKDc+qv7zKQ1wEsJe/X7PDhdn7kb+OuQ8WngiMvwf+N62QUnW/c7AJXvy9lj+QLzba0FagP5zgxBZaSKg/cI5jrGEdrj+jaJuFOn2xPyJ7kT4WA7I/qFIB02HWsz9ecvxYmH60P/azekPte7k/zKSax+znuT/WWoLR5APAP5pFH5AmFMA/hYWJWvmFwz9ONweqZCjEP2rCCWM18cQ/NXY6TfQ/xj9tmsX5LxnHP3ALPx5PXcc/xi3uOfhSyD+16WCyHXzJP34G9+TFfco/RBZrXYWsyj9HSmBjlMHNPwF6tR82+80/Pb4c2UMT0T8+OXaRLxDSP+c4+X/2I9I/0iRMHWCl0j/GoWUOLfPSP3T1DEfnldM/GrxMVkO60z8+t8wfmxDUP31l8BMfadY/pv8uSkDE1j/gU5i8DAPXPxiMqh4z6tc/5kRBAJPx1z+fTIVOSLLYP0Bp27ZUyNk/uadzu68F2j+qJYTzpqbaP+QQq4xYsts/HRPLVfPN2z8eoJDmdp3cPxPwLmcu+tw/o3LtRClg3T/Nt2Bfp87dP1S9vxTyNt8/rHMJUsaI3z+FMRqHpGrgP8PL1UZwq+A/EeglwJo84T8Vy4q7VSniP7UYnCB7w+U/ILChRVYb5j9/eLlekMbmP4xFLQw4c+c/C6eaV5Ag6D/48DOpgy7oP8a0nWTGSuk/L5+4/QQn7D/jrEYw/WntP/Rb25FT9fc/gwXyshRi+T8=",
          "dtype": "f8"
         },
         "yaxis": "y2"
        },
        {
         "marker": {
          "color": "#B85450",
          "line": {
           "width": 2
          }
         },
         "mode": "lines",
         "type": "scatter",
         "x": {
          "bdata": "MV2xZ2doA8CbENd+AU4BwOIApaqa9P+/IwlJcMz3/b/45o10j1v8v/C6BFf1/fq/y5bPlXrM+b9g7Pfw27v4v+CZwsG2xPe/HjoCEe3h9r+KdUATzA/2vwJIXi2QS/W/6YgW8RmT9L+ISBR/vuTzv1htfhUoP/O/irHTmUCh8r+HGt6HIgryv4QBfRsOefG/wKmzWmHt8L9L+YsgkmbwvyobrClTyO+/QQzfWIHL7r+eXi7Z+tXtv5uziIAh5+y/v5ieeGn+6793t4RxVhvrv7SAt1h5Peq/VNoXeG5k6b+DaFrn24/ov9+abD9wv+e/yskNg+Hy5r9MDqYy7CnmvyjVgYNSZOW/h8Y2tNuh5L8bczV5U+Ljv8oTg32JJeO/NtxY9FBr4r+kp/84gLPhv0uauHrw/eC/BMXkcn1K4L8Dk9hHCjLfv9H7ST/P0t2/pn5YqA133L+o3KO8jB7bv/qtqsEWydm/Qv+iv3h22L+VW5w/gibXvzaV/Q8F2dW/FNCRDtWN1L/NK3T3x0TTv/XbQDi1/dG/kUgGx3W40L9EIgP5x+nOv+ADgOK2Zcy/XTyWunHkyb/STB70s2XHv3KAacw66cS/jKZbFsVuwr9wAvAQJuy/v97J8RrM/bq/5hMlLgEStr8DNRLlSyixvxsYIXtogKi/M5R9HQ1lnb8ke7qkFpiDv9R6uqQWmIM/CpR9HQ1lnT8bGCF7aICoPwM1EuVLKLE/5hMlLgEStj/eyfEazP26P3AC8BAm7L8/kaZbFsVuwj93gGnMOunEP81MHvSzZcc/WDyWunHkyT/gA4DitmXMP0QiA/nH6c4/kUgGx3W40D/120A4tf3RP9ArdPfHRNM/F9CRDtWN1D8zlf0PBdnVP5NbnD+CJtc/Pv+iv3h22D/6rarBFsnZP6jco7yMHts/pn5YqA133D/R+0k/z9LdPwWT2EcKMt8/BcXkcn1K4D9Kmrh68P3gP6Kn/ziAs+E/NtxY9FBr4j/KE4N9iSXjPxtzNXlT4uM/h8Y2tNuh5D8o1YGDUmTlP0wOpjLsKeY/y8kNg+Hy5j/dmmw/cL/nP4NoWufbj+g/VNoXeG5k6T+0gLdYeT3qP3e3hHFWG+s/v5ieeGn+6z+bs4iAIefsP55eLtn61e0/RAzfWIHL7j8mG6wpU8jvP0v5iyCSZvA/wKmzWmHt8D+EAX0bDnnxP4ca3ociCvI/irHTmUCh8j9YbX4VKD/zP4hIFH++5PM/6YgW8RmT9D8ASF4tkEv1P4h1QBPMD/Y/HjoCEe3h9j/gmcLBtsT3P2Ds9/Dbu/g/y5bPlXrM+T/wugRX9f36P/rmjXSPW/w/IAlJcMz3/T/eAKWqmvT/P5oQ134BTgFAMF2xZ2doA0A=",
          "dtype": "f8"
         },
         "xaxis": "x2",
         "y": {
          "bdata": "n5yJf4D1/r+yWm9tT+L7v19XuCah8fm/9Dgc0ap9+L9/bNnxTFD3v61TSVy5UPa/zuF+P2dx9b/RZ9XOGqr0v/kEQOFt9fO/68pQ0KJP878sPY90Bbbyv/zAZ4KQJvK/CDN2s7af8b/q1Rb3PyDxv3jY2HUyp/C/JbUA4cIz8L+Agqzdkorvv2QcHd1ztu6/bMvq7Dvq7b/1CvwRISXtv/DsHol1Zuy/AsFmqaKt678w2LfjJPrqvycY0JeIS+q/kQNWi2eh6b9Fe2rdZvvov39mAVs1Wei/+rY8H4q657/haA1wIx/nv7fYDMvFhua/Mws7GTvx5b80e1kCUl7lv0vAJVrdzeS/p7zlorM/5L/nF6ChrrPjvxb/EAGrKeO/Zhr5AIih4r8ct9QvJxviv+kyYi1sluG/N/SldDwT4b+EklMsf5Hgv1A+svwcEeC/9INw1P8j37+GwHBoJijev+yCKm6GLt2/7j8Io/o23L9SofKYX0HbvzqNz4qTTdq/PqYRNXZb2b+GI9ex6GrYvw4DKFjNe9e/whDynQeO1r8QfG38e6HVv6IYn9YPttS/nzq2YanL07+WoAuPL+LSv/ZAjfeJ+dG/LkBoyKAR0b+/8sawXCrQv5hu+aBNh86/UIH5TtG6zL+2UvcLGO/Kv83jO/r1I8m/VMouoD9Zx7/fqkHLyY7Fv1OBVXNpxMO/3mFonvP5wb9hSFtEPS/Av/CyP2U2yLy/vVU738Mwub8tezs7y5e1v2CNErrz/LG/Oq8at8a/rL/6qPI9fYClvyhY/wOhdpy/QG+rsge+i78AFgWnbuxIPzC/PKRL/I4/uKpn6t9Gnj+4Z+PGnZGmP4xrXJR4Cq4/pkAYV3LHsj+C3A+u54+2P+YsnOYXX7o/UqfyDoQ1vj+r2b2d2QnBP91USpIZ/cI/udtJasz0xD8TzTG0QPHGP+Mdt3LJ8sg/saQAlL75yj9zn/F2fQbNPz2wu4BpGc8/tp6mYnaZ0D8UaNZivKnRP7iZ9KPDvdI/NuN/ps3V0z9+6v8UIfLUP1BgZ2UKE9Y/UIAqk9w41z9SG8728WPYP6o7z0CtlNk/3Nctn3rL2j/mNrcW0QjcP3JgiRs0Td0/CnFgdzWZ3j82mlSQd+3fPyQNEhRYpeA/+PXA2dVY4T/hIXm5qBHiP+k/VkJU0OI/YABFHW+V4z9YUXcNp2HkP3S3Bg7GNeU/P59b8rgS5j/k5QscmPnmP8jghx6z6+c/BZtGl6Dq6D/ptik1VPjpP0qveBk+F+s/ysr70HhK7D/mPtryDpbtP5YEBc5o/+4/SPyr1wBH8D8nbnb0UibxP/uGBormJfI/bFNJaURT8z/XceW+Osf0Pyp1nAXpt/Y/GLe2FxrL+T8=",
          "dtype": "f8"
         },
         "yaxis": "y2"
        },
        {
         "marker": {
          "color": "#6C8EBF",
          "size": 10
         },
         "mode": "markers",
         "text": [
          "RT01",
          "RT01",
          "RT01",
          "RT01",
          "RT01",
          "RT01",
          "RT01",
          "RT01",
          "RT01",
          "RT01",
          "RT02",
          "RT02",
          "RT02",
          "RT02",
          "RT02",
          "RT02",
          "RT02",
          "RT02",
          "RT02",
          "RT02",
          "RT03",
          "RT03",
          "RT03",
          "RT03",
          "RT03",
          "RT03",
          "RT03",
          "RT03",
          "RT03",
          "RT03",
          "RT04",
          "RT04",
          "RT04",
          "RT04",
          "RT04",
          "RT04",
          "RT04",
          "RT04",
          "RT04",
          "RT04",
          "RT05",
          "RT05",
          "RT05",
          "RT05",
          "RT05",
          "RT05",
          "RT05",
          "RT05",
          "RT05",
          "RT05",
          "RT06",
          "RT06",
          "RT06",
          "RT06",
          "RT06",
          "RT06",
          "RT06",
          "RT06",
          "RT06",
          "RT06",
          "RT09",
          "RT09",
          "RT09",
          "RT09",
          "RT09",
          "RT09",
          "RT09",
          "RT09",
          "RT09",
          "RT09",
          "RT10",
          "RT10",
          "RT10",
          "RT10",
          "RT10",
          "RT10",
          "RT10",
          "RT10",
          "RT10",
          "RT10",
          "RT11",
          "RT11",
          "RT11",
          "RT11",
          "RT11",
          "RT11",
          "RT11",
          "RT11",
          "RT11",
          "RT11",
          "RT12",
          "RT12",
          "RT12",
          "RT12",
          "RT12",
          "RT12",
          "RT12",
          "RT12",
          "RT12",
          "RT12",
          "RT13",
          "RT13",
          "RT13",
          "RT13",
          "RT13",
          "RT13",
          "RT13",
          "RT13",
          "RT13",
          "RT13",
          "RT14",
          "RT14",
          "RT14",
          "RT14",
          "RT14",
          "RT14",
          "RT14",
          "RT14",
          "RT14",
          "RT14",
          "RT15",
          "RT15",
          "RT15",
          "RT15",
          "RT15",
          "RT15",
          "RT15",
          "RT15",
          "RT15",
          "RT15"
         ],
         "type": "scatter",
         "x": {
          "bdata": "5rMoWztG5z9PK4sp9xnmPyD0EXQQddU/7N34D8vh2T/Mkl81n1nbP00M2D5PhOc/DpN8sPn85T8kP/5PEJbqP06Jd5cR29w/roM577xP5D8uqQ9P8qPyP201Fpd2s/E/bQrw1mQv4T9Wo/ejmLrkP3F0Eu2Y5+U/y1CPHqrV8j9wGvm7PpzxP1+acJD5SvU/RAV8N00c5z+4SjgPeETwP5fsvC1NkgRAF1Izs+eIA0DTVklkJ/fyP2oHiL1W4PY/DRJSwYUs+D/Da16KK8kEQO74ehVIbwNAwt3Cq6x/B0B4fSsRNYH5PzgaL0Pk8wFA0dS2zlq1BECSb9EZMaoDQNEuyW94F/M/cI+wxlEH9z/jPI7StlX4P9XM8qmW7ARAMZmy0mWQA0CB0c41t6cHQBSS1KaqrPk/S90niHsSAkBFN+aOJGsBQOZdBmBsigBA4PBJ3wIP8D/jpun2vl7zPyXhEisEePQ/nDbEDZqZAUA4VGckunQAQLC9UhSp5QNAwidxHHyY9T/QdNm0+Gb+PzdK86MRsvg/FihlhXdz9z+scuT8fsTmP8cAVwZldus/Ga++UywF7T+QITL27/P4P2Aj4tu0VPc/ZABBXKw1/D97N9s4KJ7uP3VQCwlCjfU/yaUaB6fZA0DBIhK9j9kCQL4aObDrTPI/3OnwbgAT9j9bHkzHiVP3P3YvDOSYDgRAkWhAHtbAAkCiZxQswKwGQC5wVx1HnPg/J1Y4sL9SAUBF1wSjuo0AQN+UGedVcP8/ldWOYMSF7j+MNf1jhmjyP/RXoUHUc/M/lxv6kuG5AEBhkPEDGUf/P4+Yz4296AJAmCSyXPmF9D8pM99JhOT8P4SrBFVLjgFAVFJip82rAEDQx18Zay/wPxWybvbVhfM/Jgy1yFKh9D81Y46VHr0BQGfMCqPvlQBAUtd9V9ANBEAe3+3eEMT1P7yEKCJTpP4/9Ex1TTt+BEAhmY+/2HUDQBsxDKOm5PI/7zQ5NwXK9j8o/8cl8BT4P0zyQyLktARAfw9+IVJcA0D7iTyyv2gHQIN4LBVTaPk/Su2HcmDiAUAxyTNV6Y/+P1pH8K2fBf0/ThBybhYt7D9QODB/QP7wP+lUv9kB9fE/HwZfZG3h/j/BgfxYjt/8P38iUWWcdAFA/QmN0RPy8j8N+9bG6av6P7//yYa2efU/QZw8kadk9D9CTgyvf8zjPzFK03+t4ec/kbsoS3U86T9VEN8c/rL1P8DIfrXnSfQ/wZ+U0QOI+D+liAQEHaDqP5iSARTYvfI/OryjpBHU8z9EF1ljQtTyPy/K1+XFR+I/nnZ15soM5j++lXEV+kznPxYkG530CPQ/CjPyuI+78j/b7FpkX6b2P/5/bPNaleg/yRlbROBN8T8=",
          "dtype": "f8"
         },
         "xaxis": "x3",
         "y": {
          "bdata": "+Yq0h6MV4z8uwwaBkVzjP7Zw0bn4Je8/fKrck+eu2j+2wvOw+mjyP0jzRmi+Je8/MiMqb27e5T/K2yBx8xXjP9qsSdialu4/NIKK3PEv2z+GN4wx0dDRP7zaH2B0eLI/I6AkAB5H0D9BuZz1UhPDP3xzSmTXZdk/ZLWjDmWH4D/Yo0YGFEr2P9wKiJJ9ntI/7KxOzk925j/GJLOaodblP1jRdcraY+o/EKQeiKmS4z8xJLM64+rhP00lHtpoR/A//D+DYhYA4T941BeW6ZjqP4wyrdSB9sA/Bj9sT7M75j/dep6YX0f1P3gVvXKMF+U/RQymI7OR5j89hoQUQTfdP3rAD0IVyNw/9dA/pB7r7D8jSfl656rQP76ZAdZI0es/HRmn1Tjm2z+b6d1ZYgnhP5zSxozLd8M/H4e8ISb/6j/xu33E8VvUP7c7uUEknu0/e539QlUx1D8CZaMg83LsPxOmEDygZ+Q/quPJlutX2z+TGSlNE6LoPzg0nFch4Ms/5x9iVjn/6T/j40Akdp/kP+f4AikHC88/sq9jYitF9j8eCGyxha3wPw1EDLdXofQ/00l7NOoM3z/mzl8ItP7YP9+nLWskSs0/1fmjATQw4z/5vG8Gkf7SP2hckKusoOc/YZP6eREN5T/bw0DAfeXxPyUJCeVF8vM//JTwBhFb4z8S198aIKnrP7i7bqq1Ldw/hI6qV6/dxj+ChgkXX6PWPyZj0EoVJ/Q/XVGf+7Bl5T9s8JzqhPO9P2LnyX+lHe8/u4ML39MM3D+efUBD6/nQP1p8I5yljtw/eJ042mAf2T/qxSO9fhvoP5B9N8hfutA/VAN6G4R65j/FSjAzvJrRP++eaeHlb/A/Bz3ciPqp4z84lcqonU/WP6i/9U8/iOU/7wYUnvtY8j9QRybaAa7lP0to0TyiQdE/ytghUbxF4T9ZVIDkn2nhPyb690csxOE/1Z3fjWX53j9jHVkVMpTzP7xD6VizkOM/I6ZbOJrv4j/N8A2IJOPZPwoEaU4Vkd8/rR0o+Ky90T924zTuVkrSP2SROy/BqeM/NmejgaXu9D/CV5lT5iXUP3rKtplDt+w/wPSowdNu3D9Mb+jA+jjzP9EjatybHd0/bltkBZLb3j+kYLqmumTrPzFlk2DFs+E/3YQk6twH5j9TYKGaQZvvP5IHN6ulj+M/i3kUxQWu7j8teFmJQcnrP4KfcZFJ9PY/u9L00YNP5D/X1xcvLvzxPwqknUlTfOc/Z3UwatHg4z+1GuoJrLHcP0BIM46wXOk/U5E0v4rr5j8pCGopvgPuPwUgIJbk/+4/V9A9tFum5D8ileUckuL0P3sCe5TZrtY/GkO2/RdZ5j84ffWPvBvSP7bZphWaX/o/wlfh/ZkY5z8=",
          "dtype": "f8"
         },
         "yaxis": "y3"
        },
        {
         "histnorm": "probability",
         "marker": {
          "color": "#6C8EBF"
         },
         "type": "histogram",
         "x": {
          "bdata": "emUYpoHD1r/+E+cg8W3XvxrDwPa+Ue6/NXY6TfQ/xj9juHjY5C71vwyTx25NUe6/PalVH/bj3b+m/y5KQMTWP0geIyQnPe2/bZrF+S8Zxz+oUgHTYdazPwf+N62QUnW/3MXCGniPsL9zsAle/L2WP043B6pkKMQ/Pb4c2UMT0T+yX5UKDg3/vxGemX28qrW/rHMJUsaI3z/Nt2Bfp87dP7UYnCB7w+U/5kRBAJPx1z8+t8wfmxDUP0o1e2kQkPC/Pjl2kS8Q0j8gsKFFVhvmP1+zw4XZ+5G/Qe6s3Avl3r8Rq0VTmUz8vx0Ty1Xzzds/TnHEaNvV379EFmtdhazKP/l0Yz0I48m/PG6ZKTUi6r8ntvx58Fyxv/jwM6mDLug/xi3uOfhSyD/nOPl/9iPSP7zKQ1wEsJe/f3i5XpDG5j/MpJrH7Oe5P9HVUT2vaeu/9rN6Q+17uT/GtJ1kxkrpP7mnc7uvBdo/cAs/Hk9dxz/aijbXUfbiv5zgxBZaSKg/XMowMb0e5b95Ghua3JTav3COY6xhHa4/K2I4VWL//r+/7VFCZWLxv85fw0C2mfq/YVsI/Aohzr+FhYla+YXDP/vl28oNz6q/4FOYvAwD1z+NSSqQmIy2v1ng9vgecuG/5BCrjFiy2z8SMwXchgT0v0gbd4O63fi/OHE8wk5q178UzZUI5Ojnv4JzODU/0Mi/kC822tBWoD/WWoLR5APAP4MF8rIUYvk/HqCQ5nad3D+OuQ8WngiMvxK+5h6MQe6/pDq26neWyL8ie5E+FgOyP7XpYLIdfMk/4WbEGSa5w78Vy4q7VSniP6Nom4U6fbE/Z1N1bpWU378UtEVcqF6zvzKoUVXa4vC/7jbp0MAq2L9ZciG7fRy/vxPwLmcu+tw/tOHsAiUK9b+jcu1EKWDdP4Yz2P2FnLK/0iRMHWCl0j/GoWUOLfPSPxq8TFZDutM/AXq1Hzb7zT/0W9uRU/X3P/O+RJfG7Ne/fWXwEx9p1j9qwgljNfHEPzE/EBGrI8+/NdkJHdirs7+Vt+r9nOi0v7XHT9ozKti/KkWZRoVi+7/JpTWXGV+5v5HLvNrPxOm/Wlw0aHJDyb/WOMh0Hhj3v34G9+TFfco/R0pgY5TBzT+MRS0MOHPnP3T1DEfnldM/ooEbYaNV3r8RJalfwDfvvxiMqh4z6tc/46xGMP1p7T8Lp5pXkCDoPz5ijwoudwDAQGnbtlTI2T8MaWPTaDf0vxHoJcCaPOE/n0yFTkiy2D8cRySMx7rJv2/mL1ngGeS/hTEah6Rq4D8vn7j9BCfsPxK69eLKB+6/qiWE86am2j8cmiSt9UL7v5pFH5AmFMA/VL2/FPI23z9ecvxYmH60P+mg9QB4vAXAw8vVRnCr4D8=",
          "dtype": "f8"
         },
         "xaxis": "x4",
         "yaxis": "y4"
        }
       ],
       "layout": {
        "height": 500,
        "margin": {
         "b": 5,
         "l": 10,
         "r": 10,
         "t": 5
        },
        "showlegend": false,
        "template": {
         "data": {
          "bar": [
           {
            "error_x": {
             "color": "#2a3f5f"
            },
            "error_y": {
             "color": "#2a3f5f"
            },
            "marker": {
             "line": {
              "color": "white",
              "width": 0.5
             },
             "pattern": {
              "fillmode": "overlay",
              "size": 10,
              "solidity": 0.2
             }
            },
            "type": "bar"
           }
          ],
          "barpolar": [
           {
            "marker": {
             "line": {
              "color": "white",
              "width": 0.5
             },
             "pattern": {
              "fillmode": "overlay",
              "size": 10,
              "solidity": 0.2
             }
            },
            "type": "barpolar"
           }
          ],
          "carpet": [
           {
            "aaxis": {
             "endlinecolor": "#2a3f5f",
             "gridcolor": "#C8D4E3",
             "linecolor": "#C8D4E3",
             "minorgridcolor": "#C8D4E3",
             "startlinecolor": "#2a3f5f"
            },
            "baxis": {
             "endlinecolor": "#2a3f5f",
             "gridcolor": "#C8D4E3",
             "linecolor": "#C8D4E3",
             "minorgridcolor": "#C8D4E3",
             "startlinecolor": "#2a3f5f"
            },
            "type": "carpet"
           }
          ],
          "choropleth": [
           {
            "colorbar": {
             "outlinewidth": 0,
             "ticks": ""
            },
            "type": "choropleth"
           }
          ],
          "contour": [
           {
            "colorbar": {
             "outlinewidth": 0,
             "ticks": ""
            },
            "colorscale": [
             [
              0,
              "#0d0887"
             ],
             [
              0.1111111111111111,
              "#46039f"
             ],
             [
              0.2222222222222222,
              "#7201a8"
             ],
             [
              0.3333333333333333,
              "#9c179e"
             ],
             [
              0.4444444444444444,
              "#bd3786"
             ],
             [
              0.5555555555555556,
              "#d8576b"
             ],
             [
              0.6666666666666666,
              "#ed7953"
             ],
             [
              0.7777777777777778,
              "#fb9f3a"
             ],
             [
              0.8888888888888888,
              "#fdca26"
             ],
             [
              1,
              "#f0f921"
             ]
            ],
            "type": "contour"
           }
          ],
          "contourcarpet": [
           {
            "colorbar": {
             "outlinewidth": 0,
             "ticks": ""
            },
            "type": "contourcarpet"
           }
          ],
          "heatmap": [
           {
            "colorbar": {
             "outlinewidth": 0,
             "ticks": ""
            },
            "colorscale": [
             [
              0,
              "#0d0887"
             ],
             [
              0.1111111111111111,
              "#46039f"
             ],
             [
              0.2222222222222222,
              "#7201a8"
             ],
             [
              0.3333333333333333,
              "#9c179e"
             ],
             [
              0.4444444444444444,
              "#bd3786"
             ],
             [
              0.5555555555555556,
              "#d8576b"
             ],
             [
              0.6666666666666666,
              "#ed7953"
             ],
             [
              0.7777777777777778,
              "#fb9f3a"
             ],
             [
              0.8888888888888888,
              "#fdca26"
             ],
             [
              1,
              "#f0f921"
             ]
            ],
            "type": "heatmap"
           }
          ],
          "histogram": [
           {
            "marker": {
             "pattern": {
              "fillmode": "overlay",
              "size": 10,
              "solidity": 0.2
             }
            },
            "type": "histogram"
           }
          ],
          "histogram2d": [
           {
            "colorbar": {
             "outlinewidth": 0,
             "ticks": ""
            },
            "colorscale": [
             [
              0,
              "#0d0887"
             ],
             [
              0.1111111111111111,
              "#46039f"
             ],
             [
              0.2222222222222222,
              "#7201a8"
             ],
             [
              0.3333333333333333,
              "#9c179e"
             ],
             [
              0.4444444444444444,
              "#bd3786"
             ],
             [
              0.5555555555555556,
              "#d8576b"
             ],
             [
              0.6666666666666666,
              "#ed7953"
             ],
             [
              0.7777777777777778,
              "#fb9f3a"
             ],
             [
              0.8888888888888888,
              "#fdca26"
             ],
             [
              1,
              "#f0f921"
             ]
            ],
            "type": "histogram2d"
           }
          ],
          "histogram2dcontour": [
           {
            "colorbar": {
             "outlinewidth": 0,
             "ticks": ""
            },
            "colorscale": [
             [
              0,
              "#0d0887"
             ],
             [
              0.1111111111111111,
              "#46039f"
             ],
             [
              0.2222222222222222,
              "#7201a8"
             ],
             [
              0.3333333333333333,
              "#9c179e"
             ],
             [
              0.4444444444444444,
              "#bd3786"
             ],
             [
              0.5555555555555556,
              "#d8576b"
             ],
             [
              0.6666666666666666,
              "#ed7953"
             ],
             [
              0.7777777777777778,
              "#fb9f3a"
             ],
             [
              0.8888888888888888,
              "#fdca26"
             ],
             [
              1,
              "#f0f921"
             ]
            ],
            "type": "histogram2dcontour"
           }
          ],
          "mesh3d": [
           {
            "colorbar": {
             "outlinewidth": 0,
             "ticks": ""
            },
            "type": "mesh3d"
           }
          ],
          "parcoords": [
           {
            "line": {
             "colorbar": {
              "outlinewidth": 0,
              "ticks": ""
             }
            },
            "type": "parcoords"
           }
          ],
          "pie": [
           {
            "automargin": true,
            "type": "pie"
           }
          ],
          "scatter": [
           {
            "fillpattern": {
             "fillmode": "overlay",
             "size": 10,
             "solidity": 0.2
            },
            "type": "scatter"
           }
          ],
          "scatter3d": [
           {
            "line": {
             "colorbar": {
              "outlinewidth": 0,
              "ticks": ""
             }
            },
            "marker": {
             "colorbar": {
              "outlinewidth": 0,
              "ticks": ""
             }
            },
            "type": "scatter3d"
           }
          ],
          "scattercarpet": [
           {
            "marker": {
             "colorbar": {
              "outlinewidth": 0,
              "ticks": ""
             }
            },
            "type": "scattercarpet"
           }
          ],
          "scattergeo": [
           {
            "marker": {
             "colorbar": {
              "outlinewidth": 0,
              "ticks": ""
             }
            },
            "type": "scattergeo"
           }
          ],
          "scattergl": [
           {
            "marker": {
             "colorbar": {
              "outlinewidth": 0,
              "ticks": ""
             }
            },
            "type": "scattergl"
           }
          ],
          "scattermap": [
           {
            "marker": {
             "colorbar": {
              "outlinewidth": 0,
              "ticks": ""
             }
            },
            "type": "scattermap"
           }
          ],
          "scattermapbox": [
           {
            "marker": {
             "colorbar": {
              "outlinewidth": 0,
              "ticks": ""
             }
            },
            "type": "scattermapbox"
           }
          ],
          "scatterpolar": [
           {
            "marker": {
             "colorbar": {
              "outlinewidth": 0,
              "ticks": ""
             }
            },
            "type": "scatterpolar"
           }
          ],
          "scatterpolargl": [
           {
            "marker": {
             "colorbar": {
              "outlinewidth": 0,
              "ticks": ""
             }
            },
            "type": "scatterpolargl"
           }
          ],
          "scatterternary": [
           {
            "marker": {
             "colorbar": {
              "outlinewidth": 0,
              "ticks": ""
             }
            },
            "type": "scatterternary"
           }
          ],
          "surface": [
           {
            "colorbar": {
             "outlinewidth": 0,
             "ticks": ""
            },
            "colorscale": [
             [
              0,
              "#0d0887"
             ],
             [
              0.1111111111111111,
              "#46039f"
             ],
             [
              0.2222222222222222,
              "#7201a8"
             ],
             [
              0.3333333333333333,
              "#9c179e"
             ],
             [
              0.4444444444444444,
              "#bd3786"
             ],
             [
              0.5555555555555556,
              "#d8576b"
             ],
             [
              0.6666666666666666,
              "#ed7953"
             ],
             [
              0.7777777777777778,
              "#fb9f3a"
             ],
             [
              0.8888888888888888,
              "#fdca26"
             ],
             [
              1,
              "#f0f921"
             ]
            ],
            "type": "surface"
           }
          ],
          "table": [
           {
            "cells": {
             "fill": {
              "color": "#EBF0F8"
             },
             "line": {
              "color": "white"
             }
            },
            "header": {
             "fill": {
              "color": "#C8D4E3"
             },
             "line": {
              "color": "white"
             }
            },
            "type": "table"
           }
          ]
         },
         "layout": {
          "annotationdefaults": {
           "arrowcolor": "#2a3f5f",
           "arrowhead": 0,
           "arrowwidth": 1
          },
          "autotypenumbers": "strict",
          "coloraxis": {
           "colorbar": {
            "outlinewidth": 0,
            "ticks": ""
           }
          },
          "colorscale": {
           "diverging": [
            [
             0,
             "#8e0152"
            ],
            [
             0.1,
             "#c51b7d"
            ],
            [
             0.2,
             "#de77ae"
            ],
            [
             0.3,
             "#f1b6da"
            ],
            [
             0.4,
             "#fde0ef"
            ],
            [
             0.5,
             "#f7f7f7"
            ],
            [
             0.6,
             "#e6f5d0"
            ],
            [
             0.7,
             "#b8e186"
            ],
            [
             0.8,
             "#7fbc41"
            ],
            [
             0.9,
             "#4d9221"
            ],
            [
             1,
             "#276419"
            ]
           ],
           "sequential": [
            [
             0,
             "#0d0887"
            ],
            [
             0.1111111111111111,
             "#46039f"
            ],
            [
             0.2222222222222222,
             "#7201a8"
            ],
            [
             0.3333333333333333,
             "#9c179e"
            ],
            [
             0.4444444444444444,
             "#bd3786"
            ],
            [
             0.5555555555555556,
             "#d8576b"
            ],
            [
             0.6666666666666666,
             "#ed7953"
            ],
            [
             0.7777777777777778,
             "#fb9f3a"
            ],
            [
             0.8888888888888888,
             "#fdca26"
            ],
            [
             1,
             "#f0f921"
            ]
           ],
           "sequentialminus": [
            [
             0,
             "#0d0887"
            ],
            [
             0.1111111111111111,
             "#46039f"
            ],
            [
             0.2222222222222222,
             "#7201a8"
            ],
            [
             0.3333333333333333,
             "#9c179e"
            ],
            [
             0.4444444444444444,
             "#bd3786"
            ],
            [
             0.5555555555555556,
             "#d8576b"
            ],
            [
             0.6666666666666666,
             "#ed7953"
            ],
            [
             0.7777777777777778,
             "#fb9f3a"
            ],
            [
             0.8888888888888888,
             "#fdca26"
            ],
            [
             1,
             "#f0f921"
            ]
           ]
          },
          "colorway": [
           "#636efa",
           "#EF553B",
           "#00cc96",
           "#ab63fa",
           "#FFA15A",
           "#19d3f3",
           "#FF6692",
           "#B6E880",
           "#FF97FF",
           "#FECB52"
          ],
          "font": {
           "color": "#2a3f5f"
          },
          "geo": {
           "bgcolor": "white",
           "lakecolor": "white",
           "landcolor": "white",
           "showlakes": true,
           "showland": true,
           "subunitcolor": "#C8D4E3"
          },
          "hoverlabel": {
           "align": "left"
          },
          "hovermode": "closest",
          "mapbox": {
           "style": "light"
          },
          "paper_bgcolor": "white",
          "plot_bgcolor": "white",
          "polar": {
           "angularaxis": {
            "gridcolor": "#EBF0F8",
            "linecolor": "#EBF0F8",
            "ticks": ""
           },
           "bgcolor": "white",
           "radialaxis": {
            "gridcolor": "#EBF0F8",
            "linecolor": "#EBF0F8",
            "ticks": ""
           }
          },
          "scene": {
           "xaxis": {
            "backgroundcolor": "white",
            "gridcolor": "#DFE8F3",
            "gridwidth": 2,
            "linecolor": "#EBF0F8",
            "showbackground": true,
            "ticks": "",
            "zerolinecolor": "#EBF0F8"
           },
           "yaxis": {
            "backgroundcolor": "white",
            "gridcolor": "#DFE8F3",
            "gridwidth": 2,
            "linecolor": "#EBF0F8",
            "showbackground": true,
            "ticks": "",
            "zerolinecolor": "#EBF0F8"
           },
           "zaxis": {
            "backgroundcolor": "white",
            "gridcolor": "#DFE8F3",
            "gridwidth": 2,
            "linecolor": "#EBF0F8",
            "showbackground": true,
            "ticks": "",
            "zerolinecolor": "#EBF0F8"
           }
          },
          "shapedefaults": {
           "line": {
            "color": "#2a3f5f"
           }
          },
          "ternary": {
           "aaxis": {
            "gridcolor": "#DFE8F3",
            "linecolor": "#A2B1C6",
            "ticks": ""
           },
           "baxis": {
            "gridcolor": "#DFE8F3",
            "linecolor": "#A2B1C6",
            "ticks": ""
           },
           "bgcolor": "white",
           "caxis": {
            "gridcolor": "#DFE8F3",
            "linecolor": "#A2B1C6",
            "ticks": ""
           }
          },
          "title": {
           "x": 0.05
          },
          "xaxis": {
           "automargin": true,
           "gridcolor": "#EBF0F8",
           "linecolor": "#EBF0F8",
           "ticks": "",
           "title": {
            "standoff": 15
           },
           "zerolinecolor": "#EBF0F8",
           "zerolinewidth": 2
          },
          "yaxis": {
           "automargin": true,
           "gridcolor": "#EBF0F8",
           "linecolor": "#EBF0F8",
           "ticks": "",
           "title": {
            "standoff": 15
           },
           "zerolinecolor": "#EBF0F8",
           "zerolinewidth": 2
          }
         }
        },
        "width": 800,
        "xaxis": {
         "anchor": "y",
         "domain": [
          0,
          0.45
         ],
         "title": {
          "text": "Fitted"
         }
        },
        "xaxis2": {
         "anchor": "y2",
         "domain": [
          0.55,
          1
         ],
         "title": {
          "text": "Theoretical Quantiles"
         }
        },
        "xaxis3": {
         "anchor": "y3",
         "domain": [
          0,
          0.45
         ],
         "title": {
          "text": "Fitted"
         }
        },
        "xaxis4": {
         "anchor": "y4",
         "domain": [
          0.55,
          1
         ],
         "title": {
          "text": "Residuals"
         }
        },
        "yaxis": {
         "anchor": "x",
         "domain": [
          0.575,
          1
         ],
         "title": {
          "text": "Residuals"
         }
        },
        "yaxis2": {
         "anchor": "x2",
         "domain": [
          0.575,
          1
         ],
         "title": {
          "text": "Sample Quantiles"
         }
        },
        "yaxis3": {
         "anchor": "x3",
         "domain": [
          0,
          0.425
         ],
         "title": {
          "text": "Sqrt( Abs( Residuals ) )"
         }
        },
        "yaxis4": {
         "anchor": "x4",
         "domain": [
          0,
          0.425
         ],
         "title": {
          "text": "Count"
         }
        }
       }
      }
     },
     "metadata": {},
     "output_type": "display_data"
    }
   ],
   "source": [
    "pl_df_cnr = pl.DataFrame(df_cnr)\n",
    "glmm_cnr_s_lg = glmer('CNR ~ Stain + (1|Experiment) + (1|ROI)', data=pl_df_cnr, family='Gamma', link='log')\n",
    "glmm_cnr_s_lg.set_factors(['Stain'])\n",
    "\n",
    "# Convert estimates to odds\n",
    "display(glmm_cnr_s_lg.fit(exponentiate=True, summary=True, conf_method='boot'))\n",
    "display(glmm_cnr_s_lg.result_fit_stats)\n",
    "stat_diagnostics(glmm_cnr_s_lg.data['fitted'], glmm_cnr_s_lg.data['resid'], glmm_cnr_s_lg.data['Experiment'])"
   ]
  },
  {
   "cell_type": "code",
   "execution_count": 19,
   "id": "225deed6",
   "metadata": {},
   "outputs": [
    {
     "data": {
      "text/html": [
       "<div><style>\n",
       ".dataframe > thead > tr,\n",
       ".dataframe > tbody > tr {\n",
       "  text-align: right;\n",
       "  white-space: pre-wrap;\n",
       "}\n",
       "</style>\n",
       "<small>shape: (2, 6)</small><table border=\"1\" class=\"dataframe\"><thead><tr><th>Stain</th><th>response</th><th>SE</th><th>df</th><th>asymp_LCL</th><th>asymp_UCL</th></tr><tr><td>cat</td><td>f64</td><td>f64</td><td>f64</td><td>f64</td><td>f64</td></tr></thead><tbody><tr><td>&quot;Iodine-stained&quot;</td><td>0.835821</td><td>0.20437</td><td>inf</td><td>0.483747</td><td>1.444134</td></tr><tr><td>&quot;PTA-stained&quot;</td><td>1.699668</td><td>0.326601</td><td>inf</td><td>1.105923</td><td>2.612181</td></tr></tbody></table></div>"
      ],
      "text/plain": [
       "shape: (2, 6)\n",
       "┌────────────────┬──────────┬──────────┬─────┬───────────┬───────────┐\n",
       "│ Stain          ┆ response ┆ SE       ┆ df  ┆ asymp_LCL ┆ asymp_UCL │\n",
       "│ ---            ┆ ---      ┆ ---      ┆ --- ┆ ---       ┆ ---       │\n",
       "│ cat            ┆ f64      ┆ f64      ┆ f64 ┆ f64       ┆ f64       │\n",
       "╞════════════════╪══════════╪══════════╪═════╪═══════════╪═══════════╡\n",
       "│ Iodine-stained ┆ 0.835821 ┆ 0.20437  ┆ inf ┆ 0.483747  ┆ 1.444134  │\n",
       "│ PTA-stained    ┆ 1.699668 ┆ 0.326601 ┆ inf ┆ 1.105923  ┆ 2.612181  │\n",
       "└────────────────┴──────────┴──────────┴─────┴───────────┴───────────┘"
      ]
     },
     "metadata": {},
     "output_type": "display_data"
    },
    {
     "data": {
      "text/html": [
       "<div><style>\n",
       ".dataframe > thead > tr,\n",
       ".dataframe > tbody > tr {\n",
       "  text-align: right;\n",
       "  white-space: pre-wrap;\n",
       "}\n",
       "</style>\n",
       "<small>shape: (1, 9)</small><table border=\"1\" class=\"dataframe\"><thead><tr><th>contrast</th><th>ratio</th><th>SE</th><th>df</th><th>asymp_LCL</th><th>asymp_UCL</th><th>null</th><th>z_ratio</th><th>p_value</th></tr><tr><td>cat</td><td>f64</td><td>f64</td><td>f64</td><td>f64</td><td>f64</td><td>f64</td><td>f64</td><td>f64</td></tr></thead><tbody><tr><td>&quot;(Iodine-stained) / (PTA-staine…</td><td>0.491755</td><td>0.119459</td><td>inf</td><td>0.305473</td><td>0.791636</td><td>1.0</td><td>-2.921804</td><td>0.00348</td></tr></tbody></table></div>"
      ],
      "text/plain": [
       "shape: (1, 9)\n",
       "┌────────────────────┬──────────┬──────────┬─────┬───┬───────────┬──────┬───────────┬─────────┐\n",
       "│ contrast           ┆ ratio    ┆ SE       ┆ df  ┆ … ┆ asymp_UCL ┆ null ┆ z_ratio   ┆ p_value │\n",
       "│ ---                ┆ ---      ┆ ---      ┆ --- ┆   ┆ ---       ┆ ---  ┆ ---       ┆ ---     │\n",
       "│ cat                ┆ f64      ┆ f64      ┆ f64 ┆   ┆ f64       ┆ f64  ┆ f64       ┆ f64     │\n",
       "╞════════════════════╪══════════╪══════════╪═════╪═══╪═══════════╪══════╪═══════════╪═════════╡\n",
       "│ (Iodine-stained) / ┆ 0.491755 ┆ 0.119459 ┆ inf ┆ … ┆ 0.791636  ┆ 1.0  ┆ -2.921804 ┆ 0.00348 │\n",
       "│ (PTA-staine…       ┆          ┆          ┆     ┆   ┆           ┆      ┆           ┆         │\n",
       "└────────────────────┴──────────┴──────────┴─────┴───┴───────────┴──────┴───────────┴─────────┘"
      ]
     },
     "metadata": {},
     "output_type": "display_data"
    }
   ],
   "source": [
    "display(glmm_cnr_s_lg.emmeans('Stain'))\n",
    "display(glmm_cnr_s_lg.emmeans('Stain', contrasts='pairwise', p_adjust='bonf'))"
   ]
  },
  {
   "cell_type": "code",
   "execution_count": 20,
   "id": "1391aa86",
   "metadata": {},
   "outputs": [
    {
     "data": {
      "text/html": [
       "<div id=\"dimcowmhtg\" style=\"padding-left:0px;padding-right:0px;padding-top:10px;padding-bottom:10px;overflow-x:auto;overflow-y:auto;width:auto;height:auto;\">\n",
       "<style>\n",
       "#dimcowmhtg table {\n",
       "          font-family: -apple-system, BlinkMacSystemFont, 'Segoe UI', Roboto, Oxygen, Ubuntu, Cantarell, 'Helvetica Neue', 'Fira Sans', 'Droid Sans', Arial, sans-serif;\n",
       "          -webkit-font-smoothing: antialiased;\n",
       "          -moz-osx-font-smoothing: grayscale;\n",
       "        }\n",
       "\n",
       "#dimcowmhtg thead, tbody, tfoot, tr, td, th { border-style: none !important; }\n",
       " tr { background-color: transparent !important; }\n",
       "#dimcowmhtg p { margin: 0 !important; padding: 0 !important; }\n",
       " #dimcowmhtg .gt_table { display: table !important; border-collapse: collapse !important; line-height: normal !important; margin-left: auto !important; margin-right: auto !important; color: #333333 !important; font-size: 16px !important; font-weight: normal !important; font-style: normal !important; background-color: #FFFFFF !important; width: auto !important; border-top-style: solid !important; border-top-width: 2px !important; border-top-color: #A8A8A8 !important; border-right-style: none !important; border-right-width: 2px !important; border-right-color: #D3D3D3 !important; border-bottom-style: solid !important; border-bottom-width: 2px !important; border-bottom-color: #A8A8A8 !important; border-left-style: none !important; border-left-width: 2px !important; border-left-color: #D3D3D3 !important; }\n",
       " #dimcowmhtg .gt_caption { padding-top: 4px !important; padding-bottom: 4px !important; }\n",
       " #dimcowmhtg .gt_title { color: #333333 !important; font-size: 125% !important; font-weight: initial !important; padding-top: 3px !important; padding-bottom: 3px !important; padding-left: 5px !important; padding-right: 5px !important; border-bottom-color: #FFFFFF !important; border-bottom-width: 0 !important; }\n",
       " #dimcowmhtg .gt_subtitle { color: #333333 !important; font-size: 85% !important; font-weight: initial !important; padding-top: 2px !important; padding-bottom: 4px !important; padding-left: 5px !important; padding-right: 5px !important; border-top-color: #FFFFFF !important; border-top-width: 0 !important; }\n",
       " #dimcowmhtg .gt_heading { background-color: #FFFFFF !important; text-align: left !important; border-bottom-color: #FFFFFF !important; border-left-style: none !important; border-left-width: 1px !important; border-left-color: #D3D3D3 !important; border-right-style: none !important; border-right-width: 1px !important; border-right-color: #D3D3D3 !important; }\n",
       " #dimcowmhtg .gt_bottom_border { border-bottom-style: solid !important; border-bottom-width: 2px !important; border-bottom-color: #D3D3D3 !important; }\n",
       " #dimcowmhtg .gt_col_headings { border-top-style: solid !important; border-top-width: 2px !important; border-top-color: #D3D3D3 !important; border-bottom-style: solid !important; border-bottom-width: 2px !important; border-bottom-color: #D3D3D3 !important; border-left-style: none !important; border-left-width: 1px !important; border-left-color: #D3D3D3 !important; border-right-style: none !important; border-right-width: 1px !important; border-right-color: #D3D3D3 !important; }\n",
       " #dimcowmhtg .gt_col_heading { color: #333333 !important; background-color: #FFFFFF !important; font-size: 100% !important; font-weight: normal !important; text-transform: inherit !important; border-left-style: none !important; border-left-width: 1px !important; border-left-color: #D3D3D3 !important; border-right-style: none !important; border-right-width: 1px !important; border-right-color: #D3D3D3 !important; vertical-align: bottom !important; padding-top: 3px !important; padding-bottom: 4px !important; padding-left: 5px !important; padding-right: 5px !important; overflow-x: hidden !important; }\n",
       " #dimcowmhtg .gt_column_spanner_outer { color: #333333 !important; background-color: #FFFFFF !important; font-size: 100% !important; font-weight: normal !important; text-transform: inherit !important; padding-top: 0 !important; padding-bottom: 0 !important; padding-left: 4px !important; padding-right: 4px !important; }\n",
       " #dimcowmhtg .gt_column_spanner_outer:first-child { padding-left: 0 !important; }\n",
       " #dimcowmhtg .gt_column_spanner_outer:last-child { padding-right: 0 !important; }\n",
       " #dimcowmhtg .gt_column_spanner { border-bottom-style: solid !important; border-bottom-width: 2px !important; border-bottom-color: #D3D3D3 !important; vertical-align: bottom !important; padding-top: 3px !important; padding-bottom: 3px !important; overflow-x: hidden !important; display: inline-block !important; width: 100% !important; }\n",
       " #dimcowmhtg .gt_spanner_row { border-bottom-style: hidden !important; }\n",
       " #dimcowmhtg .gt_group_heading { padding-top: 6px !important; padding-bottom: 6px !important; padding-left: 5px !important; padding-right: 5px !important; color: #333333 !important; background-color: #FFFFFF !important; font-size: 100% !important; font-weight: initial !important; text-transform: inherit !important; border-top-style: solid !important; border-top-width: 2px !important; border-top-color: #D3D3D3 !important; border-bottom-style: solid !important; border-bottom-width: 2px !important; border-bottom-color: #D3D3D3 !important; border-left-style: none !important; border-left-width: 1px !important; border-left-color: #D3D3D3 !important; border-right-style: none !important; border-right-width: 1px !important; border-right-color: #D3D3D3 !important; vertical-align: middle !important; text-align: left !important; }\n",
       " #dimcowmhtg .gt_empty_group_heading { padding: 0.5px !important; color: #333333 !important; background-color: #FFFFFF !important; font-size: 100% !important; font-weight: initial !important; border-top-style: solid !important; border-top-width: 2px !important; border-top-color: #D3D3D3 !important; border-bottom-style: solid !important; border-bottom-width: 2px !important; border-bottom-color: #D3D3D3 !important; vertical-align: middle !important; }\n",
       " #dimcowmhtg .gt_from_md> :first-child { margin-top: 0 !important; }\n",
       " #dimcowmhtg .gt_from_md> :last-child { margin-bottom: 0 !important; }\n",
       " #dimcowmhtg .gt_row { padding-top: 6px !important; padding-bottom: 6px !important; padding-left: 5px !important; padding-right: 5px !important; margin: 10px !important; border-top-style: solid !important; border-top-width: 1px !important; border-top-color: #D3D3D3 !important; border-left-style: none !important; border-left-width: 1px !important; border-left-color: #D3D3D3 !important; border-right-style: none !important; border-right-width: 1px !important; border-right-color: #D3D3D3 !important; vertical-align: middle !important; overflow-x: hidden !important; }\n",
       " #dimcowmhtg .gt_stub { color: #333333 !important; background-color: #FFFFFF !important; font-size: 100% !important; font-weight: initial !important; text-transform: inherit !important; border-right-style: solid !important; border-right-width: 2px !important; border-right-color: #D3D3D3 !important; padding-left: 5px !important; padding-right: 5px !important; }\n",
       " #dimcowmhtg .gt_stub_row_group { color: #333333 !important; background-color: #FFFFFF !important; font-size: 100% !important; font-weight: initial !important; text-transform: inherit !important; border-right-style: solid !important; border-right-width: 2px !important; border-right-color: #D3D3D3 !important; padding-left: 5px !important; padding-right: 5px !important; vertical-align: top !important; }\n",
       " #dimcowmhtg .gt_row_group_first td { border-top-width: 2px !important; }\n",
       " #dimcowmhtg .gt_row_group_first th { border-top-width: 2px !important; }\n",
       " #dimcowmhtg .gt_striped { background-color: rgba(128,128,128,0.05) !important; }\n",
       " #dimcowmhtg .gt_table_body { border-top-style: solid !important; border-top-width: 2px !important; border-top-color: #D3D3D3 !important; border-bottom-style: solid !important; border-bottom-width: 2px !important; border-bottom-color: #D3D3D3 !important; }\n",
       " #dimcowmhtg .gt_sourcenotes { color: #333333 !important; background-color: #FFFFFF !important; border-bottom-style: none !important; border-bottom-width: 2px !important; border-bottom-color: #D3D3D3 !important; border-left-style: none !important; border-left-width: 2px !important; border-left-color: #D3D3D3 !important; border-right-style: none !important; border-right-width: 2px !important; border-right-color: #D3D3D3 !important; }\n",
       " #dimcowmhtg .gt_sourcenote { font-size: small !important; padding-top: 3px !important; padding-bottom: 3px !important; padding-left: 5px !important; padding-right: 5px !important; text-align: left !important; }\n",
       " #dimcowmhtg .gt_left { text-align: left !important; }\n",
       " #dimcowmhtg .gt_center { text-align: center !important; }\n",
       " #dimcowmhtg .gt_right { text-align: right !important; font-variant-numeric: tabular-nums !important; }\n",
       " #dimcowmhtg .gt_font_normal { font-weight: normal !important; }\n",
       " #dimcowmhtg .gt_font_bold { font-weight: bold !important; }\n",
       " #dimcowmhtg .gt_font_italic { font-style: italic !important; }\n",
       " #dimcowmhtg .gt_super { font-size: 65% !important; }\n",
       " #dimcowmhtg .gt_footnote_marks { font-size: 75% !important; vertical-align: 0.4em !important; position: initial !important; }\n",
       " #dimcowmhtg .gt_asterisk { font-size: 100% !important; vertical-align: 0 !important; }\n",
       " \n",
       "</style>\n",
       "<table class=\"gt_table\" data-quarto-disable-processing=\"false\" data-quarto-bootstrap=\"false\">\n",
       "<thead>\n",
       "\n",
       "  <tr class=\"gt_heading\">\n",
       "    <td colspan=\"10\" class=\"gt_heading gt_title gt_font_normal\">Formula: glmer(CNR~Stain+(1|Experiment)+(1|ROI))</td>\n",
       "  </tr>\n",
       "  <tr class=\"gt_heading\">\n",
       "    <td colspan=\"10\" class=\"gt_heading gt_subtitle gt_font_normal gt_bottom_border\">Family: <em>Gamma (link: <em>log</em>)</em><br />\n",
       "Number of observations: <em>130</em><br />\n",
       "Confidence intervals: <em>boot</em><br />\n",
       "Bootstrap Iterations: <em>1000</em><br />\n",
       "---------------------<br />\n",
       "Log-likelihood: <em>-176</em><br />\n",
       "AIC: <em>363</em> | BIC: <em>378</em><br />\n",
       "Residual error: <em>0.276</em></td>\n",
       "  </tr>\n",
       "<tr class=\"gt_col_headings\">\n",
       "  <th class=\"gt_col_heading gt_columns_bottom_border gt_left\" rowspan=\"1\" colspan=\"1\" scope=\"col\" id=\"rfx\">Random Effects:</th>\n",
       "  <th class=\"gt_col_heading gt_columns_bottom_border gt_left\" rowspan=\"1\" colspan=\"1\" scope=\"col\" id=\"param\"></th>\n",
       "  <th class=\"gt_col_heading gt_columns_bottom_border gt_right\" rowspan=\"1\" colspan=\"1\" scope=\"col\" id=\"estimate\">Estimate</th>\n",
       "  <th class=\"gt_col_heading gt_columns_bottom_border gt_right\" rowspan=\"1\" colspan=\"1\" scope=\"col\" id=\"conf_low\">CI-low</th>\n",
       "  <th class=\"gt_col_heading gt_columns_bottom_border gt_right\" rowspan=\"1\" colspan=\"1\" scope=\"col\" id=\"conf_high\">CI-high</th>\n",
       "  <th class=\"gt_col_heading gt_columns_bottom_border gt_right\" rowspan=\"1\" colspan=\"1\" scope=\"col\" id=\"std_error\">SE</th>\n",
       "  <th class=\"gt_col_heading gt_columns_bottom_border gt_right\" rowspan=\"1\" colspan=\"1\" scope=\"col\" id=\"z_stat\">Z-stat</th>\n",
       "  <th class=\"gt_col_heading gt_columns_bottom_border gt_right\" rowspan=\"1\" colspan=\"1\" scope=\"col\" id=\"df\">df</th>\n",
       "  <th class=\"gt_col_heading gt_columns_bottom_border gt_left\" rowspan=\"1\" colspan=\"1\" scope=\"col\" id=\"p_value\">p</th>\n",
       "  <th class=\"gt_col_heading gt_columns_bottom_border gt_left\" rowspan=\"1\" colspan=\"1\" scope=\"col\" id=\"stars\"></th>\n",
       "</tr>\n",
       "</thead>\n",
       "<tbody class=\"gt_table_body\">\n",
       "  <tr>\n",
       "    <td class=\"gt_row gt_left\">Experiment-sd</td>\n",
       "    <td style=\"font-style: italic;\" class=\"gt_row gt_left\">(Intercept)</td>\n",
       "    <td class=\"gt_row gt_right\">0.100</td>\n",
       "    <td class=\"gt_row gt_right\">0.159</td>\n",
       "    <td class=\"gt_row gt_right\">0.301</td>\n",
       "    <td class=\"gt_row gt_right\"></td>\n",
       "    <td class=\"gt_row gt_right\"></td>\n",
       "    <td class=\"gt_row gt_right\"></td>\n",
       "    <td class=\"gt_row gt_left\"></td>\n",
       "    <td class=\"gt_row gt_left\"></td>\n",
       "  </tr>\n",
       "  <tr>\n",
       "    <td class=\"gt_row gt_left\">ROI-sd</td>\n",
       "    <td style=\"font-style: italic;\" class=\"gt_row gt_left\">(Intercept)</td>\n",
       "    <td class=\"gt_row gt_right\">0.120</td>\n",
       "    <td class=\"gt_row gt_right\">0.163</td>\n",
       "    <td class=\"gt_row gt_right\">0.338</td>\n",
       "    <td class=\"gt_row gt_right\"></td>\n",
       "    <td class=\"gt_row gt_right\"></td>\n",
       "    <td class=\"gt_row gt_right\"></td>\n",
       "    <td class=\"gt_row gt_left\"></td>\n",
       "    <td class=\"gt_row gt_left\"></td>\n",
       "  </tr>\n",
       "  <tr>\n",
       "    <td class=\"gt_row gt_left\">Residual-sd</td>\n",
       "    <td style=\"font-style: italic;\" class=\"gt_row gt_left\">Observation</td>\n",
       "    <td class=\"gt_row gt_right\">0.276</td>\n",
       "    <td class=\"gt_row gt_right\">0.279</td>\n",
       "    <td class=\"gt_row gt_right\">0.354</td>\n",
       "    <td class=\"gt_row gt_right\"></td>\n",
       "    <td class=\"gt_row gt_right\"></td>\n",
       "    <td class=\"gt_row gt_right\"></td>\n",
       "    <td class=\"gt_row gt_left\"></td>\n",
       "    <td class=\"gt_row gt_left\"></td>\n",
       "  </tr>\n",
       "  <tr>\n",
       "    <td class=\"gt_row gt_left\"></td>\n",
       "    <td style=\"font-style: italic;\" class=\"gt_row gt_left\"></td>\n",
       "    <td class=\"gt_row gt_right\"></td>\n",
       "    <td class=\"gt_row gt_right\"></td>\n",
       "    <td class=\"gt_row gt_right\"></td>\n",
       "    <td class=\"gt_row gt_right\"></td>\n",
       "    <td class=\"gt_row gt_right\"></td>\n",
       "    <td class=\"gt_row gt_right\"></td>\n",
       "    <td class=\"gt_row gt_left\"></td>\n",
       "    <td class=\"gt_row gt_left\"></td>\n",
       "  </tr>\n",
       "  <tr>\n",
       "    <td class=\"gt_row gt_left\">Fixed Effects:</td>\n",
       "    <td style=\"font-style: italic;\" class=\"gt_row gt_left\"></td>\n",
       "    <td class=\"gt_row gt_right\"></td>\n",
       "    <td class=\"gt_row gt_right\"></td>\n",
       "    <td class=\"gt_row gt_right\"></td>\n",
       "    <td class=\"gt_row gt_right\"></td>\n",
       "    <td class=\"gt_row gt_right\"></td>\n",
       "    <td class=\"gt_row gt_right\"></td>\n",
       "    <td class=\"gt_row gt_left\"></td>\n",
       "    <td class=\"gt_row gt_left\"></td>\n",
       "  </tr>\n",
       "  <tr>\n",
       "    <td class=\"gt_row gt_left\"></td>\n",
       "    <td style=\"font-style: italic;\" class=\"gt_row gt_left\">(Intercept)</td>\n",
       "    <td class=\"gt_row gt_right\">2.923</td>\n",
       "    <td class=\"gt_row gt_right\">0.552</td>\n",
       "    <td class=\"gt_row gt_right\">1.484</td>\n",
       "    <td class=\"gt_row gt_right\">0.344</td>\n",
       "    <td class=\"gt_row gt_right\">9.109</td>\n",
       "    <td class=\"gt_row gt_right\">125.000</td>\n",
       "    <td class=\"gt_row gt_left\"><.001</td>\n",
       "    <td class=\"gt_row gt_left\">***</td>\n",
       "  </tr>\n",
       "  <tr>\n",
       "    <td class=\"gt_row gt_left\"></td>\n",
       "    <td style=\"font-style: italic;\" class=\"gt_row gt_left\">StainPTA-stained</td>\n",
       "    <td class=\"gt_row gt_right\">1.293</td>\n",
       "    <td class=\"gt_row gt_right\">−0.179</td>\n",
       "    <td class=\"gt_row gt_right\">0.701</td>\n",
       "    <td class=\"gt_row gt_right\">0.135</td>\n",
       "    <td class=\"gt_row gt_right\">2.469</td>\n",
       "    <td class=\"gt_row gt_right\">125.000</td>\n",
       "    <td class=\"gt_row gt_left\">0.01489</td>\n",
       "    <td class=\"gt_row gt_left\">*</td>\n",
       "  </tr>\n",
       "</tbody>\n",
       "  <tfoot class=\"gt_sourcenotes\">\n",
       "  \n",
       "  <tr>\n",
       "    <td class=\"gt_sourcenote\" colspan=\"10\">Signif. codes: <em>0 *** 0.001 ** 0.01 * 0.05 . 0.1</em></td>\n",
       "  </tr>\n",
       "\n",
       "</tfoot>\n",
       "\n",
       "</table>\n",
       "\n",
       "</div>\n",
       "        "
      ],
      "text/plain": [
       "GT(_tbl_data=shape: (7, 10)\n",
       "┌────────────────┬──────────────────┬──────────┬───────────┬───┬──────────┬──────┬─────────┬───────┐\n",
       "│ rfx            ┆ param            ┆ estimate ┆ conf_low  ┆ … ┆ z_stat   ┆ df   ┆ p_value ┆ stars │\n",
       "│ ---            ┆ ---              ┆ ---      ┆ ---       ┆   ┆ ---      ┆ ---  ┆ ---     ┆ ---   │\n",
       "│ str            ┆ str              ┆ f64      ┆ f64       ┆   ┆ f64      ┆ i64  ┆ str     ┆ str   │\n",
       "╞════════════════╪══════════════════╪══════════╪═══════════╪═══╪══════════╪══════╪═════════╪═══════╡\n",
       "│ Experiment-sd  ┆ (Intercept)      ┆ 0.100032 ┆ 0.159401  ┆ … ┆ null     ┆ null ┆ null    ┆ null  │\n",
       "│ ROI-sd         ┆ (Intercept)      ┆ 0.1204   ┆ 0.163251  ┆ … ┆ null     ┆ null ┆ null    ┆ null  │\n",
       "│ Residual-sd    ┆ Observation      ┆ 0.276477 ┆ 0.279062  ┆ … ┆ null     ┆ null ┆ null    ┆ null  │\n",
       "│ null           ┆ null             ┆ null     ┆ null      ┆ … ┆ null     ┆ null ┆ null    ┆ null  │\n",
       "│ Fixed Effects: ┆ null             ┆ null     ┆ null      ┆ … ┆ null     ┆ null ┆ null    ┆ null  │\n",
       "│ null           ┆ (Intercept)      ┆ 2.92331  ┆ 0.551869  ┆ … ┆ 9.108996 ┆ 125  ┆ <.001   ┆ ***   │\n",
       "│ null           ┆ StainPTA-stained ┆ 1.293474 ┆ -0.179195 ┆ … ┆ 2.469149 ┆ 125  ┆ 0.01489 ┆ *     │\n",
       "└────────────────┴──────────────────┴──────────┴───────────┴───┴──────────┴──────┴─────────┴───────┘, _body=<great_tables._gt_data.Body object at 0x7e75b015ce90>, _boxhead=Boxhead([ColInfo(var='rfx', type=<ColInfoTypeEnum.default: 1>, column_label='Random Effects:', column_align='left', column_width=None), ColInfo(var='param', type=<ColInfoTypeEnum.default: 1>, column_label='', column_align='left', column_width=None), ColInfo(var='estimate', type=<ColInfoTypeEnum.default: 1>, column_label='Estimate', column_align='right', column_width=None), ColInfo(var='conf_low', type=<ColInfoTypeEnum.default: 1>, column_label='CI-low', column_align='right', column_width=None), ColInfo(var='conf_high', type=<ColInfoTypeEnum.default: 1>, column_label='CI-high', column_align='right', column_width=None), ColInfo(var='std_error', type=<ColInfoTypeEnum.default: 1>, column_label='SE', column_align='right', column_width=None), ColInfo(var='z_stat', type=<ColInfoTypeEnum.default: 1>, column_label='Z-stat', column_align='right', column_width=None), ColInfo(var='df', type=<ColInfoTypeEnum.default: 1>, column_label='df', column_align='right', column_width=None), ColInfo(var='p_value', type=<ColInfoTypeEnum.default: 1>, column_label='p', column_align='left', column_width=None), ColInfo(var='stars', type=<ColInfoTypeEnum.default: 1>, column_label='', column_align='left', column_width=None)]), _stub=<great_tables._gt_data.Stub object at 0x7e75b015d5e0>, _spanners=Spanners([]), _heading=Heading(title='Formula: glmer(CNR~Stain+(1|Experiment)+(1|ROI))', subtitle=Md(text='Family: *Gamma (link: *log*)*  \\n            Number of observations: *130*  \\n            Confidence intervals: *boot*   \\n            Bootstrap Iterations: *1000*  \\n            ---------------------  \\n            Log-likelihood: *-176*  \\n            AIC: *363* | BIC: *378*  \\n            Residual error: *0.276*  \\n        '), preheader=None), _stubhead=None, _source_notes=[Md(text='Signif. codes: *0 *** 0.001 ** 0.01 * 0.05 . 0.1*')], _footnotes=[], _styles=[StyleInfo(locname=LocBody(columns=['param'], rows=None, mask=None), grpname=None, colname='param', rownum=0, colnum=None, styles=[CellStyleText(color=None, font=None, size=None, align=None, v_align=None, style='italic', weight=None, stretch=None, decorate=None, transform=None, whitespace=None)]), StyleInfo(locname=LocBody(columns=['param'], rows=None, mask=None), grpname=None, colname='param', rownum=1, colnum=None, styles=[CellStyleText(color=None, font=None, size=None, align=None, v_align=None, style='italic', weight=None, stretch=None, decorate=None, transform=None, whitespace=None)]), StyleInfo(locname=LocBody(columns=['param'], rows=None, mask=None), grpname=None, colname='param', rownum=2, colnum=None, styles=[CellStyleText(color=None, font=None, size=None, align=None, v_align=None, style='italic', weight=None, stretch=None, decorate=None, transform=None, whitespace=None)]), StyleInfo(locname=LocBody(columns=['param'], rows=None, mask=None), grpname=None, colname='param', rownum=3, colnum=None, styles=[CellStyleText(color=None, font=None, size=None, align=None, v_align=None, style='italic', weight=None, stretch=None, decorate=None, transform=None, whitespace=None)]), StyleInfo(locname=LocBody(columns=['param'], rows=None, mask=None), grpname=None, colname='param', rownum=4, colnum=None, styles=[CellStyleText(color=None, font=None, size=None, align=None, v_align=None, style='italic', weight=None, stretch=None, decorate=None, transform=None, whitespace=None)]), StyleInfo(locname=LocBody(columns=['param'], rows=None, mask=None), grpname=None, colname='param', rownum=5, colnum=None, styles=[CellStyleText(color=None, font=None, size=None, align=None, v_align=None, style='italic', weight=None, stretch=None, decorate=None, transform=None, whitespace=None)]), StyleInfo(locname=LocBody(columns=['param'], rows=None, mask=None), grpname=None, colname='param', rownum=6, colnum=None, styles=[CellStyleText(color=None, font=None, size=None, align=None, v_align=None, style='italic', weight=None, stretch=None, decorate=None, transform=None, whitespace=None)])], _locale=<great_tables._gt_data.Locale object at 0x7e75b01f2a80>, _formats=[<great_tables._gt_data.FormatInfo object at 0x7e75b01f18e0>], _substitutions=[<great_tables._gt_data.FormatInfo object at 0x7e75b01f3ef0>], _options=Options(table_id=OptionsInfo(scss=False, category='table', type='value', value=None), table_caption=OptionsInfo(scss=False, category='table', type='value', value=None), table_width=OptionsInfo(scss=True, category='table', type='px', value='auto'), table_layout=OptionsInfo(scss=True, category='table', type='value', value='fixed'), table_margin_left=OptionsInfo(scss=True, category='table', type='px', value='auto'), table_margin_right=OptionsInfo(scss=True, category='table', type='px', value='auto'), table_background_color=OptionsInfo(scss=True, category='table', type='value', value='#FFFFFF'), table_additional_css=OptionsInfo(scss=False, category='table', type='values', value=[]), table_font_names=OptionsInfo(scss=False, category='table', type='values', value=['-apple-system', 'BlinkMacSystemFont', 'Segoe UI', 'Roboto', 'Oxygen', 'Ubuntu', 'Cantarell', 'Helvetica Neue', 'Fira Sans', 'Droid Sans', 'Arial', 'sans-serif']), table_font_size=OptionsInfo(scss=True, category='table', type='px', value='16px'), table_font_weight=OptionsInfo(scss=True, category='table', type='value', value='normal'), table_font_style=OptionsInfo(scss=True, category='table', type='value', value='normal'), table_font_color=OptionsInfo(scss=True, category='table', type='value', value='#333333'), table_font_color_light=OptionsInfo(scss=True, category='table', type='value', value='#FFFFFF'), table_border_top_include=OptionsInfo(scss=False, category='table', type='boolean', value=True), table_border_top_style=OptionsInfo(scss=True, category='table', type='value', value='solid'), table_border_top_width=OptionsInfo(scss=True, category='table', type='px', value='2px'), table_border_top_color=OptionsInfo(scss=True, category='table', type='value', value='#A8A8A8'), table_border_right_style=OptionsInfo(scss=True, category='table', type='value', value='none'), table_border_right_width=OptionsInfo(scss=True, category='table', type='px', value='2px'), table_border_right_color=OptionsInfo(scss=True, category='table', type='value', value='#D3D3D3'), table_border_bottom_include=OptionsInfo(scss=False, category='table', type='boolean', value=True), table_border_bottom_style=OptionsInfo(scss=True, category='table', type='value', value='solid'), table_border_bottom_width=OptionsInfo(scss=True, category='table', type='px', value='2px'), table_border_bottom_color=OptionsInfo(scss=True, category='table', type='value', value='#A8A8A8'), table_border_left_style=OptionsInfo(scss=True, category='table', type='value', value='none'), table_border_left_width=OptionsInfo(scss=True, category='table', type='px', value='2px'), table_border_left_color=OptionsInfo(scss=True, category='table', type='value', value='#D3D3D3'), heading_background_color=OptionsInfo(scss=True, category='heading', type='value', value=None), heading_align=OptionsInfo(scss=True, category='heading', type='value', value='left'), heading_title_font_size=OptionsInfo(scss=True, category='heading', type='px', value='125%'), heading_title_font_weight=OptionsInfo(scss=True, category='heading', type='value', value='initial'), heading_subtitle_font_size=OptionsInfo(scss=True, category='heading', type='px', value='85%'), heading_subtitle_font_weight=OptionsInfo(scss=True, category='heading', type='value', value='initial'), heading_padding=OptionsInfo(scss=True, category='heading', type='px', value='3px'), heading_padding_horizontal=OptionsInfo(scss=True, category='heading', type='px', value='5px'), heading_border_bottom_style=OptionsInfo(scss=True, category='heading', type='value', value='solid'), heading_border_bottom_width=OptionsInfo(scss=True, category='heading', type='px', value='2px'), heading_border_bottom_color=OptionsInfo(scss=True, category='heading', type='value', value='#D3D3D3'), heading_border_lr_style=OptionsInfo(scss=True, category='heading', type='value', value='none'), heading_border_lr_width=OptionsInfo(scss=True, category='heading', type='px', value='1px'), heading_border_lr_color=OptionsInfo(scss=True, category='heading', type='value', value='#D3D3D3'), column_labels_background_color=OptionsInfo(scss=True, category='column_labels', type='value', value=None), column_labels_font_size=OptionsInfo(scss=True, category='column_labels', type='px', value='100%'), column_labels_font_weight=OptionsInfo(scss=True, category='column_labels', type='value', value='normal'), column_labels_text_transform=OptionsInfo(scss=True, category='column_labels', type='value', value='inherit'), column_labels_padding=OptionsInfo(scss=True, category='column_labels', type='px', value='3px'), column_labels_padding_horizontal=OptionsInfo(scss=True, category='column_labels', type='px', value='5px'), column_labels_vlines_style=OptionsInfo(scss=True, category='table_body', type='value', value='none'), column_labels_vlines_width=OptionsInfo(scss=True, category='table_body', type='px', value='1px'), column_labels_vlines_color=OptionsInfo(scss=True, category='table_body', type='value', value='#D3D3D3'), column_labels_border_top_style=OptionsInfo(scss=True, category='column_labels', type='value', value='solid'), column_labels_border_top_width=OptionsInfo(scss=True, category='column_labels', type='px', value='2px'), column_labels_border_top_color=OptionsInfo(scss=True, category='column_labels', type='value', value='#D3D3D3'), column_labels_border_bottom_style=OptionsInfo(scss=True, category='column_labels', type='value', value='solid'), column_labels_border_bottom_width=OptionsInfo(scss=True, category='column_labels', type='px', value='2px'), column_labels_border_bottom_color=OptionsInfo(scss=True, category='column_labels', type='value', value='#D3D3D3'), column_labels_border_lr_style=OptionsInfo(scss=True, category='column_labels', type='value', value='none'), column_labels_border_lr_width=OptionsInfo(scss=True, category='column_labels', type='px', value='1px'), column_labels_border_lr_color=OptionsInfo(scss=True, category='column_labels', type='value', value='#D3D3D3'), column_labels_hidden=OptionsInfo(scss=False, category='column_labels', type='boolean', value=False), row_group_background_color=OptionsInfo(scss=True, category='row_group', type='value', value=None), row_group_font_size=OptionsInfo(scss=True, category='row_group', type='px', value='100%'), row_group_font_weight=OptionsInfo(scss=True, category='row_group', type='value', value='initial'), row_group_text_transform=OptionsInfo(scss=True, category='row_group', type='value', value='inherit'), row_group_padding=OptionsInfo(scss=True, category='row_group', type='px', value='6px'), row_group_padding_horizontal=OptionsInfo(scss=True, category='row_group', type='px', value='5px'), row_group_border_top_style=OptionsInfo(scss=True, category='row_group', type='value', value='solid'), row_group_border_top_width=OptionsInfo(scss=True, category='row_group', type='px', value='2px'), row_group_border_top_color=OptionsInfo(scss=True, category='row_group', type='value', value='#D3D3D3'), row_group_border_right_style=OptionsInfo(scss=True, category='row_group', type='value', value='none'), row_group_border_right_width=OptionsInfo(scss=True, category='row_group', type='px', value='1px'), row_group_border_right_color=OptionsInfo(scss=True, category='row_group', type='value', value='#D3D3D3'), row_group_border_bottom_style=OptionsInfo(scss=True, category='row_group', type='value', value='solid'), row_group_border_bottom_width=OptionsInfo(scss=True, category='row_group', type='px', value='2px'), row_group_border_bottom_color=OptionsInfo(scss=True, category='row_group', type='value', value='#D3D3D3'), row_group_border_left_style=OptionsInfo(scss=True, category='row_group', type='value', value='none'), row_group_border_left_width=OptionsInfo(scss=True, category='row_group', type='px', value='1px'), row_group_border_left_color=OptionsInfo(scss=True, category='row_group', type='value', value='#D3D3D3'), row_group_as_column=OptionsInfo(scss=False, category='row_group', type='boolean', value=False), table_body_hlines_style=OptionsInfo(scss=True, category='table_body', type='value', value='solid'), table_body_hlines_width=OptionsInfo(scss=True, category='table_body', type='px', value='1px'), table_body_hlines_color=OptionsInfo(scss=True, category='table_body', type='value', value='#D3D3D3'), table_body_vlines_style=OptionsInfo(scss=True, category='table_body', type='value', value='none'), table_body_vlines_width=OptionsInfo(scss=True, category='table_body', type='px', value='1px'), table_body_vlines_color=OptionsInfo(scss=True, category='table_body', type='value', value='#D3D3D3'), table_body_border_top_style=OptionsInfo(scss=True, category='table_body', type='value', value='solid'), table_body_border_top_width=OptionsInfo(scss=True, category='table_body', type='px', value='2px'), table_body_border_top_color=OptionsInfo(scss=True, category='table_body', type='value', value='#D3D3D3'), table_body_border_bottom_style=OptionsInfo(scss=True, category='table_body', type='value', value='solid'), table_body_border_bottom_width=OptionsInfo(scss=True, category='table_body', type='px', value='2px'), table_body_border_bottom_color=OptionsInfo(scss=True, category='table_body', type='value', value='#D3D3D3'), data_row_padding=OptionsInfo(scss=True, category='data_row', type='px', value='6px'), data_row_padding_horizontal=OptionsInfo(scss=True, category='data_row', type='px', value='5px'), stub_background_color=OptionsInfo(scss=True, category='stub', type='value', value=None), stub_font_size=OptionsInfo(scss=True, category='stub', type='px', value='100%'), stub_font_weight=OptionsInfo(scss=True, category='stub', type='value', value='initial'), stub_text_transform=OptionsInfo(scss=True, category='stub', type='value', value='inherit'), stub_border_style=OptionsInfo(scss=True, category='stub', type='value', value='solid'), stub_border_width=OptionsInfo(scss=True, category='stub', type='px', value='2px'), stub_border_color=OptionsInfo(scss=True, category='stub', type='value', value='#D3D3D3'), stub_row_group_background_color=OptionsInfo(scss=True, category='stub', type='value', value=None), stub_row_group_font_size=OptionsInfo(scss=True, category='stub', type='px', value='100%'), stub_row_group_font_weight=OptionsInfo(scss=True, category='stub', type='value', value='initial'), stub_row_group_text_transform=OptionsInfo(scss=True, category='stub', type='value', value='inherit'), stub_row_group_border_style=OptionsInfo(scss=True, category='stub', type='value', value='solid'), stub_row_group_border_width=OptionsInfo(scss=True, category='stub', type='px', value='2px'), stub_row_group_border_color=OptionsInfo(scss=True, category='stub', type='value', value='#D3D3D3'), source_notes_padding=OptionsInfo(scss=True, category='source_notes', type='px', value='3px'), source_notes_padding_horizontal=OptionsInfo(scss=True, category='source_notes', type='px', value='5px'), source_notes_background_color=OptionsInfo(scss=True, category='source_notes', type='value', value=None), source_notes_font_size=OptionsInfo(scss=True, category='source_notes', type='px', value='small'), source_notes_border_bottom_style=OptionsInfo(scss=True, category='source_notes', type='value', value='none'), source_notes_border_bottom_width=OptionsInfo(scss=True, category='source_notes', type='px', value='2px'), source_notes_border_bottom_color=OptionsInfo(scss=True, category='source_notes', type='value', value='#D3D3D3'), source_notes_border_lr_style=OptionsInfo(scss=True, category='source_notes', type='value', value='none'), source_notes_border_lr_width=OptionsInfo(scss=True, category='source_notes', type='px', value='2px'), source_notes_border_lr_color=OptionsInfo(scss=True, category='source_notes', type='value', value='#D3D3D3'), source_notes_multiline=OptionsInfo(scss=False, category='source_notes', type='boolean', value=True), source_notes_sep=OptionsInfo(scss=False, category='source_notes', type='value', value=' '), row_striping_background_color=OptionsInfo(scss=True, category='row', type='value', value='rgba(128,128,128,0.05)'), row_striping_include_stub=OptionsInfo(scss=False, category='row', type='boolean', value=False), row_striping_include_table_body=OptionsInfo(scss=False, category='row', type='boolean', value=False), container_width=OptionsInfo(scss=False, category='container', type='px', value='auto'), container_height=OptionsInfo(scss=False, category='container', type='px', value='auto'), container_padding_x=OptionsInfo(scss=False, category='container', type='px', value='0px'), container_padding_y=OptionsInfo(scss=False, category='container', type='px', value='10px'), container_overflow_x=OptionsInfo(scss=False, category='container', type='overflow', value='auto'), container_overflow_y=OptionsInfo(scss=False, category='container', type='overflow', value='auto'), quarto_disable_processing=OptionsInfo(scss=False, category='quarto', type='logical', value=False), quarto_use_bootstrap=OptionsInfo(scss=False, category='quarto', type='logical', value=False)), _has_built=False)"
      ]
     },
     "metadata": {},
     "output_type": "display_data"
    },
    {
     "data": {
      "text/html": [
       "<div><style>\n",
       ".dataframe > thead > tr,\n",
       ".dataframe > tbody > tr {\n",
       "  text-align: right;\n",
       "  white-space: pre-wrap;\n",
       "}\n",
       "</style>\n",
       "<small>shape: (1, 13)</small><table border=\"1\" class=\"dataframe\"><thead><tr><th>AIC</th><th>AICc</th><th>BIC</th><th>ICC</th><th>R2_conditional</th><th>R2_marginal</th><th>RMSE</th><th>Sigma</th><th>deviance</th><th>df_residual</th><th>logLik</th><th>nobs</th><th>sigma</th></tr><tr><td>f64</td><td>f64</td><td>f64</td><td>f64</td><td>f64</td><td>f64</td><td>f64</td><td>f64</td><td>f64</td><td>i64</td><td>f64</td><td>i64</td><td>f64</td></tr></thead><tbody><tr><td>363.858411</td><td>364.342282</td><td>378.196083</td><td>0.249615</td><td>0.344536</td><td>0.126497</td><td>1.01738</td><td>0.276477</td><td>7.989181</td><td>125</td><td>-176.929206</td><td>130</td><td>0.276477</td></tr></tbody></table></div>"
      ],
      "text/plain": [
       "shape: (1, 13)\n",
       "┌────────────┬────────────┬────────────┬──────────┬───┬─────────────┬────────────┬──────┬──────────┐\n",
       "│ AIC        ┆ AICc       ┆ BIC        ┆ ICC      ┆ … ┆ df_residual ┆ logLik     ┆ nobs ┆ sigma    │\n",
       "│ ---        ┆ ---        ┆ ---        ┆ ---      ┆   ┆ ---         ┆ ---        ┆ ---  ┆ ---      │\n",
       "│ f64        ┆ f64        ┆ f64        ┆ f64      ┆   ┆ i64         ┆ f64        ┆ i64  ┆ f64      │\n",
       "╞════════════╪════════════╪════════════╪══════════╪═══╪═════════════╪════════════╪══════╪══════════╡\n",
       "│ 363.858411 ┆ 364.342282 ┆ 378.196083 ┆ 0.249615 ┆ … ┆ 125         ┆ -176.92920 ┆ 130  ┆ 0.276477 │\n",
       "│            ┆            ┆            ┆          ┆   ┆             ┆ 6          ┆      ┆          │\n",
       "└────────────┴────────────┴────────────┴──────────┴───┴─────────────┴────────────┴──────┴──────────┘"
      ]
     },
     "metadata": {},
     "output_type": "display_data"
    },
    {
     "data": {
      "application/vnd.plotly.v1+json": {
       "config": {
        "plotlyServerURL": "https://plot.ly"
       },
       "data": [
        {
         "marker": {
          "color": "#6C8EBF",
          "size": 10
         },
         "mode": "markers",
         "text": [
          "RT01",
          "RT01",
          "RT01",
          "RT01",
          "RT01",
          "RT01",
          "RT01",
          "RT01",
          "RT01",
          "RT01",
          "RT02",
          "RT02",
          "RT02",
          "RT02",
          "RT02",
          "RT02",
          "RT02",
          "RT02",
          "RT02",
          "RT02",
          "RT03",
          "RT03",
          "RT03",
          "RT03",
          "RT03",
          "RT03",
          "RT03",
          "RT03",
          "RT03",
          "RT03",
          "RT04",
          "RT04",
          "RT04",
          "RT04",
          "RT04",
          "RT04",
          "RT04",
          "RT04",
          "RT04",
          "RT04",
          "RT05",
          "RT05",
          "RT05",
          "RT05",
          "RT05",
          "RT05",
          "RT05",
          "RT05",
          "RT05",
          "RT05",
          "RT06",
          "RT06",
          "RT06",
          "RT06",
          "RT06",
          "RT06",
          "RT06",
          "RT06",
          "RT06",
          "RT06",
          "RT09",
          "RT09",
          "RT09",
          "RT09",
          "RT09",
          "RT09",
          "RT09",
          "RT09",
          "RT09",
          "RT09",
          "RT10",
          "RT10",
          "RT10",
          "RT10",
          "RT10",
          "RT10",
          "RT10",
          "RT10",
          "RT10",
          "RT10",
          "RT11",
          "RT11",
          "RT11",
          "RT11",
          "RT11",
          "RT11",
          "RT11",
          "RT11",
          "RT11",
          "RT11",
          "RT12",
          "RT12",
          "RT12",
          "RT12",
          "RT12",
          "RT12",
          "RT12",
          "RT12",
          "RT12",
          "RT12",
          "RT13",
          "RT13",
          "RT13",
          "RT13",
          "RT13",
          "RT13",
          "RT13",
          "RT13",
          "RT13",
          "RT13",
          "RT14",
          "RT14",
          "RT14",
          "RT14",
          "RT14",
          "RT14",
          "RT14",
          "RT14",
          "RT14",
          "RT14",
          "RT15",
          "RT15",
          "RT15",
          "RT15",
          "RT15",
          "RT15",
          "RT15",
          "RT15",
          "RT15",
          "RT15"
         ],
         "type": "scatter",
         "x": {
          "bdata": "ot/ahtJBB0Bq2cmfYKwGQNlX1MsrggFA9+OzZbBmAkBQG1CseeUCQPmWLt/yvwdAxQkJoXy4BkCXbWzkq6oIQN0DIDk4SgNALuToqQnDBUBm6y2h8A8KQCCkdER4aAlAcprEPsmeA0Byvaje3Z4EQFj1F/fxLAVA3yIza0edCkCht44tCnYJQAadmQxQpAtAKeQTO9edBUA0Bthm/GIIQP3lJsh/HxJAILeIawurEUDvUEQpcEkLQBXq4gOVrQxAVMKyfi1zDUAVxANiyIESQExmDBd7tBFAq1bHlLA4E0C/5qLrLxAOQM5aPB839RBANCK4PoM8EkAdcetyVMcRQClCdkgfdQtAdaZzS37bDEDpYe0bU6INQDSzqzBpnxJAcPq5OdPQEUARDjE1dlcTQPpW5ORQQA5APPeODl0QEUDrVcbkC2YQQHgreWlY+Q9AM5z7Y8SwCEB3jOYPBvMJQOJ1mGHRpQpAgkSfcPq+EEDb/tAFNgUQQLYjnEV7ZBFAad8AReMzC0DBt1ELSrAOQHtyZKzPFQ1AxlVal+paDEBA8DSvX+UFQEZuDycoAwdAL8lJArehB0ClIBpEi7MNQHSW3m8PagxAbTp7MxbZDkC+uHKAtB8IQDxs93AaNwtAbhaweparEUAWP+/vCjoRQCwog7TqmgpAgU7puyn2C0DM45Ju0rYMQJVRaXpqCxJAxl9PQT5DEUDubAfXwL0SQIW0DqjoTw1AhhwulcGIEEB1CM7/1C4QQMM7vTawjQ9A/4xZQqJdCECBXDHjppsJQCRLEjQYTApA7e1MHJiGEECLrohZip4PQL5ZtLDrKRFAfRVxvUvYCkD/Jp3I9UgOQJZZfcn7nhBArP4WPC40EEA6HoSCfgYJQByBxhMfTQpA3DOALlcCC0AoeUgcH/kQQMANeLLVPBBAL2WklN6gEUCOjo1YVpILQKxD35jXGg9A/JGLAmoIEkCbisX8iZQRQEcZtiSuJgtAM7TIVw2JDEAZo1Mgqk0NQK9M9Go1ahJAEJY3o+2dEUA9E0ehNCATQAQOzI3k6Q1ALzp5TZ3fEEAAJ6zI+noPQN28IZ+xsA5ADUYED/uyB0AXCk1ZTOgIQB+E4uTpkwlAG3511dkSEEDnE4q6FcEOQHmOg4G1sRBA0vXCfEccCkCJCbmG2XQNQA7ztgFSeQtAB0cpf8fICkBOmTFk164EQKTCxdbKvAVAeTgWAJFSBkAQtK+bUA4MQBAXpJEV1wpACJtneZgjDUDhlyKuk8kGQK+TyeIhtQlAS4WNPgkJC0C/yUY/UFsKQPhqdLBPWgRAyE0A3fNjBUDlEC7oVfcFQKyC+ummmwtAobUV22NpCkCNhtqMgawMQHC+tzJybAZAuZNcMBFMCUA=",
          "dtype": "f8"
         },
         "xaxis": "x",
         "y": {
          "bdata": "tjtiRWPrwr8Kjujf5lLBv1Aj43Zj2aK/O4DrIiplsz9aI4I0cwTAv7DMzbBEP9G/MesHCYdAxL8v5ZLtVwmaP4LcWAVBZLy/iZ0RKnICiz+WTfTXNVYFv1VY4uMuhZi/lzX6uQHylD8sMeRcwqSgP2bS3226sKw//2WSSnUkrT9LUBRTvNDZv9DY887MvLG/EjOC2neqwz8A4PcgzKHEP2orDVOQMNs/WAR/gEtyzD8H7aXQWGqrP/mdkFa+1de/IgEuy+0gtD8BawVHzqLaPy+kQk9tQIK/IbcQE+rdzr93zt6MfY7gv7j+8/W/Xs8/SSFBYDEf0L8vf4fFSRe/Pwmp+ssFKsK/Jsi1CRDF1L/feEGgNSq0v8p9YjpZPd0/WSjJeQn9uj/UpgWsLsnJP8s3K/dwe62/64TA7J5S2j9tS91hLp+yP4roYbiFSNa/8RTfGM9Jez+PVXKDJB3VP2/mBRe8xMM/3ERTxW8Cuj8gG95hJl/QvyLmdhj+5K0//iIMMSDyzr/FDHbDgOrFv3ccDBEskxw/VAUJWHki37+JVoYaqI7Lvw4Ph5CNeNO/uL9NVDPFtb/sKNVXhoaaPwK4kEtZtKi/TydfDgKMwz96JFesZDyovyUEFlhRwMq/AnG5p9k40T+6xwWNiBjgv4ZQVr7VONq/ezCXdbO/xb8wMlINOh3Tv+duHJ4v/7q/nuPI2vKAmD/w+GwqmFq7PxKLK+upguk/P2zSFhFf0D8uQk+ABiVTvw1vS6/6Eti/JGpw3dPTtr9hXFtgIaWEPww+f1Lpl6w/cgP4HDoatr9vWF3vDIXTP4WwWcM84Ks/ng9Z0l+wyL9hSin0LeOevyaLvCyZmdu/l6hMLlILxr9TPswjfbOzv789dIFSEsU/wufw6niO2L/3gExV/QbQPxzC4V7R/6C/rlLUsJecyD8NfZ7clK65P2jafZNLL8U/L0L3x9X1wj8ovGxFSc7uP3xNCdm0LMi/Bk2hdKDEvD8HJpFNyEScP2jQO4Q8UcG/x/x8ebB4o7+/lbvpSu2Sv9/aTuKyxsi/zSP0naax4r+nPWoh8Y6rv6P7kNUR5tS/2IFc1927tb+IRfLALQzWv9xV8id/Uqs/kQlyAl9tuD/ASh6AIfTXPzEXmwLbo8U/i2QSFuwux7/uGhsHf8/WvwaeIjqL6MA/rv7OfXz42D+2Ii+QkrLMPx9Q4KgGqtG/F+J4FZO1vz/tQTMDodXZv5nTx9W12Mk/uziRR/LHwj8+Z1vCia2vv4QMYVVHEsu/YDrmKePMxT98pr/cC5zVPzgWQZ5I08K/loEUPdaPvz+99AUfEUzRv9u1X69Bw4S/QH2OJCjHwz/QBEqqzP6NvzNuH2l9P9S/PjgTD+tXxj8=",
          "dtype": "f8"
         },
         "yaxis": "y"
        },
        {
         "marker": {
          "color": "#6C8EBF",
          "size": 10
         },
         "mode": "markers",
         "type": "scatter",
         "x": {
          "bdata": "MV2xZ2doA8CbENd+AU4BwOIApaqa9P+/IwlJcMz3/b/45o10j1v8v/C6BFf1/fq/y5bPlXrM+b9g7Pfw27v4v+CZwsG2xPe/HjoCEe3h9r+KdUATzA/2vwJIXi2QS/W/6YgW8RmT9L+ISBR/vuTzv1htfhUoP/O/irHTmUCh8r+HGt6HIgryv4QBfRsOefG/wKmzWmHt8L9L+YsgkmbwvyobrClTyO+/QQzfWIHL7r+eXi7Z+tXtv5uziIAh5+y/v5ieeGn+6793t4RxVhvrv7SAt1h5Peq/VNoXeG5k6b+DaFrn24/ov9+abD9wv+e/yskNg+Hy5r9MDqYy7CnmvyjVgYNSZOW/h8Y2tNuh5L8bczV5U+Ljv8oTg32JJeO/NtxY9FBr4r+kp/84gLPhv0uauHrw/eC/BMXkcn1K4L8Dk9hHCjLfv9H7ST/P0t2/pn5YqA133L+o3KO8jB7bv/qtqsEWydm/Qv+iv3h22L+VW5w/gibXvzaV/Q8F2dW/FNCRDtWN1L/NK3T3x0TTv/XbQDi1/dG/kUgGx3W40L9EIgP5x+nOv+ADgOK2Zcy/XTyWunHkyb/STB70s2XHv3KAacw66cS/jKZbFsVuwr9wAvAQJuy/v97J8RrM/bq/5hMlLgEStr8DNRLlSyixvxsYIXtogKi/M5R9HQ1lnb8ke7qkFpiDv9R6uqQWmIM/CpR9HQ1lnT8bGCF7aICoPwM1EuVLKLE/5hMlLgEStj/eyfEazP26P3AC8BAm7L8/kaZbFsVuwj93gGnMOunEP81MHvSzZcc/WDyWunHkyT/gA4DitmXMP0QiA/nH6c4/kUgGx3W40D/120A4tf3RP9ArdPfHRNM/F9CRDtWN1D8zlf0PBdnVP5NbnD+CJtc/Pv+iv3h22D/6rarBFsnZP6jco7yMHts/pn5YqA133D/R+0k/z9LdPwWT2EcKMt8/BcXkcn1K4D9Kmrh68P3gP6Kn/ziAs+E/NtxY9FBr4j/KE4N9iSXjPxtzNXlT4uM/h8Y2tNuh5D8o1YGDUmTlP0wOpjLsKeY/y8kNg+Hy5j/dmmw/cL/nP4NoWufbj+g/VNoXeG5k6T+0gLdYeT3qP3e3hHFWG+s/v5ieeGn+6z+bs4iAIefsP55eLtn61e0/RAzfWIHL7j8mG6wpU8jvP0v5iyCSZvA/wKmzWmHt8D+EAX0bDnnxP4ca3ociCvI/irHTmUCh8j9YbX4VKD/zP4hIFH++5PM/6YgW8RmT9D8ASF4tkEv1P4h1QBPMD/Y/HjoCEe3h9j/gmcLBtsT3P2Ds9/Dbu/g/y5bPlXrM+T/wugRX9f36P/rmjXSPW/w/IAlJcMz3/T/eAKWqmvT/P5oQ134BTgFAMF2xZ2doA0A=",
          "dtype": "f8"
         },
         "xaxis": "x2",
         "y": {
          "bdata": "zSP0naax4r93zt6MfY7gv7rHBY2IGOC/VAUJWHki378mi7wsmZnbv4ZQVr7VONq/7UEzA6HV2b9LUBRTvNDZv8Ln8Op4jti/DW9Lr/oS2L/5nZBWvtXXv+4aGwd/z9a/iuhhuIVI1r+IRfLALQzWv6P7kNUR5tS/Jsi1CRDF1L8zbh9pfT/Uvw4Ph5CNeNO/MDJSDTod078fUOCoBqrRv730BR8RTNG/sMzNsEQ/0b8gG95hJl/Qv0khQWAxH9C//iIMMSDyzr8htxAT6t3Ov4lWhhqojsu/hAxhVUcSy78lBBZYUcDKv9/aTuKyxsi/ng9Z0l+wyL98TQnZtCzIv4tkEhbsLse/l6hMLlILxr/FDHbDgOrFv3swl3Wzv8W/MesHCYdAxL+2O2JFY+vCvzgWQZ5I08K/Can6ywUqwr8Kjujf5lLBv2jQO4Q8UcG/WiOCNHMEwL+C3FgFQWS8v+duHJ4v/7q/JGpw3dPTtr9yA/gcOhq2v7i/TVQzxbW/2IFc1927tb/feEGgNSq0v1M+zCN9s7O/0Njzzsy8sb8+Z1vCia2vv8s3K/dwe62/pz1qIfGOq78CuJBLWbSov3okV6xkPKi/x/x8ebB4o79QI+N2Y9mivxzC4V7R/6C/YUop9C3jnr9VWOLjLoWYv7+Vu+lK7ZK/0ARKqsz+jb/btV+vQcOEvy+kQk9tQIK/LkJPgAYlU7+WTfTXNVYFv3ccDBEskxw/8RTfGM9Jez9hXFtgIaWEP4mdESpyAos/lzX6uQHylD+e48ja8oCYPy/lku1XCZo/7CjVV4aGmj8HJpFNyEScPywx5FzCpKA/3FXyJ39Sqz8H7aXQWGqrP4WwWcM84Ks/DD5/UumXrD9m0t9turCsP/9lkkp1JK0/IuZ2GP7krT9tS91hLp+yPzuA6yIqZbM/IgEuy+0gtD+RCXICX224Pw19ntyUrrk/3ERTxW8Cuj9ZKMl5Cf26P/D4bCqYWrs/Bk2hdKDEvD8vf4fFSRe/P5aBFD3Wj78/F+J4FZO1vz8GniI6i+jAP7s4kUfyx8I/L0L3x9X1wj9PJ18OAozDPxIzgtp3qsM/b+YFF7zEwz9AfY4kKMfDPwDg9yDMocQ/vz10gVISxT9o2n2TSy/FPzEXmwLbo8U/YDrmKePMxT8+OBMP61fGP65S1LCXnMg/1KYFrC7JyT+Z08fVtdjJP1gEf4BLcsw/tiIvkJKyzD+4/vP1v17PP/eATFX9BtA/P2zSFhFf0D8Ccbmn2TjRP29YXe8MhdM/j1VygyQd1T98pr/cC5zVP8BKHoAh9Nc/rv7OfXz42D/rhMDsnlLaPwFrBUfOoto/aisNU5Aw2z/KfWI6WT3dPxKLK+upguk/KLxsRUnO7j8=",
          "dtype": "f8"
         },
         "yaxis": "y2"
        },
        {
         "marker": {
          "color": "#B85450",
          "line": {
           "width": 2
          }
         },
         "mode": "lines",
         "type": "scatter",
         "x": {
          "bdata": "MV2xZ2doA8CbENd+AU4BwOIApaqa9P+/IwlJcMz3/b/45o10j1v8v/C6BFf1/fq/y5bPlXrM+b9g7Pfw27v4v+CZwsG2xPe/HjoCEe3h9r+KdUATzA/2vwJIXi2QS/W/6YgW8RmT9L+ISBR/vuTzv1htfhUoP/O/irHTmUCh8r+HGt6HIgryv4QBfRsOefG/wKmzWmHt8L9L+YsgkmbwvyobrClTyO+/QQzfWIHL7r+eXi7Z+tXtv5uziIAh5+y/v5ieeGn+6793t4RxVhvrv7SAt1h5Peq/VNoXeG5k6b+DaFrn24/ov9+abD9wv+e/yskNg+Hy5r9MDqYy7CnmvyjVgYNSZOW/h8Y2tNuh5L8bczV5U+Ljv8oTg32JJeO/NtxY9FBr4r+kp/84gLPhv0uauHrw/eC/BMXkcn1K4L8Dk9hHCjLfv9H7ST/P0t2/pn5YqA133L+o3KO8jB7bv/qtqsEWydm/Qv+iv3h22L+VW5w/gibXvzaV/Q8F2dW/FNCRDtWN1L/NK3T3x0TTv/XbQDi1/dG/kUgGx3W40L9EIgP5x+nOv+ADgOK2Zcy/XTyWunHkyb/STB70s2XHv3KAacw66cS/jKZbFsVuwr9wAvAQJuy/v97J8RrM/bq/5hMlLgEStr8DNRLlSyixvxsYIXtogKi/M5R9HQ1lnb8ke7qkFpiDv9R6uqQWmIM/CpR9HQ1lnT8bGCF7aICoPwM1EuVLKLE/5hMlLgEStj/eyfEazP26P3AC8BAm7L8/kaZbFsVuwj93gGnMOunEP81MHvSzZcc/WDyWunHkyT/gA4DitmXMP0QiA/nH6c4/kUgGx3W40D/120A4tf3RP9ArdPfHRNM/F9CRDtWN1D8zlf0PBdnVP5NbnD+CJtc/Pv+iv3h22D/6rarBFsnZP6jco7yMHts/pn5YqA133D/R+0k/z9LdPwWT2EcKMt8/BcXkcn1K4D9Kmrh68P3gP6Kn/ziAs+E/NtxY9FBr4j/KE4N9iSXjPxtzNXlT4uM/h8Y2tNuh5D8o1YGDUmTlP0wOpjLsKeY/y8kNg+Hy5j/dmmw/cL/nP4NoWufbj+g/VNoXeG5k6T+0gLdYeT3qP3e3hHFWG+s/v5ieeGn+6z+bs4iAIefsP55eLtn61e0/RAzfWIHL7j8mG6wpU8jvP0v5iyCSZvA/wKmzWmHt8D+EAX0bDnnxP4ca3ociCvI/irHTmUCh8j9YbX4VKD/zP4hIFH++5PM/6YgW8RmT9D8ASF4tkEv1P4h1QBPMD/Y/HjoCEe3h9j/gmcLBtsT3P2Ds9/Dbu/g/y5bPlXrM+T/wugRX9f36P/rmjXSPW/w/IAlJcMz3/T/eAKWqmvT/P5oQ134BTgFAMF2xZ2doA0A=",
          "dtype": "f8"
         },
         "xaxis": "x2",
         "y": {
          "bdata": "X0dTfwLG47/hx3xNj7Hhv2571OabYeC/AgmHmAjM3r/mLJmEWTTdv6oLiCic2tu/h0vjXoGs2r8HiDTC5Z7Zvw8j9I57qti/acfXRjPK17/IjyqUZPrWv+qfE61TONa/d5tAJOeB1b9H66fReNXUvxoVArq2MdS/Cm5Y1Y2V07+AM5UoGwDTv7Cw8w2hcNK/n5uSVX/m0b+hLjBhLWHRvwMzu6g14NC/uJp/RDJj0L+hq29wlNPPvzu8CZ1e586/ouX7wzgBzr+/QfD0pyDNv06rhlc+Rcy/6dWhT5luy7+i0z3zX5zKv3/RgcFBzsm/fGtvjvUDyb9Gb1WZOD3Iv2RAQ8bNece/LxdT9Hy5xr8QptxrEvzFv1DPlmBeQcW/GiRvhDSJxL+8enWoa9PDv2NksmndH8O/tKof6GVuwr8akEeG477Bv7ZaTrA2EcG/NtBcqUFlwL8jOhi90HW/v9IKLH0gJL6/+kxRK0DVvL/UQKnZ/4i7v/RCQNkxP7q/ZmuzhKr3uL+JBqcPQLK3v7pndlrKbra/AimZySIttb8HfEogJO2zv6s9DV6qrrK/im6znpJxsb9F2pn8ujWwv964oukE9q2/0RftmZGCq78yqf303BCpv/mijhapoKa/9lxsHrkxpL/QJ4YF0cOhv27N+OhqrZ6/czvANlfUmb9dO7gU8vuUv23uBRbHI5C/rtz758OWhr9IcRUHOcl5vwCiHftxgVm/YIHUkMgdaj9kOL4EMkOAP0ZRen4BBIo/7AUcCWrlkT8GSIeoUMyWP0o/qccyt5s/L8gHqEhToD92ZrsmeM2iPy7jNatrSqU/JD3T/WjKpz+Uuo0fuE2qPzj47omj1Kw/8sEHdHhfrz+CuJCOQ/ewP2K2+Y4RQbI/hsKh4FGNsz9igHwyMty0P7OvaHLiLbY//BUKCJWCtz/8Ku0Vf9q4P8eV38HYNbo/+sqPhd2Uuz9UPrWIzPe8PwRrOwbpXr4/xL0uvnrKvz8YCj87Z53AP9jghEYbWME/91H7zoUVwj8se+ug1tXCPw6q/XNBmcM/RaYXaf5fxD9FDCqcSirFP2oO5s1o+MU/sRBKKqLKxj8W5i4yR6HHP4d8mM+wfMg/aiCknkFdyT8D97F3Z0PKP2nmF0udL8s/PHCnY20izD/KoB4sdBzNPwqYCJ1jHs4/BnLNhQcpzz8Uzkd7pR7QP+RQ6ZUfrtA/bousQpJD0T9+MlYnu9/RP6sI/D59g9I/27iUkesv0z9MvWcaWObTPyqtfgFpqNQ/zeQrtDd41T9zQEj8f1jWP2uliC/qTNc/62g3zIVa2D8OKdyVoIjZP0xK7fFd4to/YybbBQ163D87FP06PHHeP5LWJoSRiOA/EFb9tQSd4j8=",
          "dtype": "f8"
         },
         "yaxis": "y2"
        },
        {
         "marker": {
          "color": "#6C8EBF",
          "size": 10
         },
         "mode": "markers",
         "text": [
          "RT01",
          "RT01",
          "RT01",
          "RT01",
          "RT01",
          "RT01",
          "RT01",
          "RT01",
          "RT01",
          "RT01",
          "RT02",
          "RT02",
          "RT02",
          "RT02",
          "RT02",
          "RT02",
          "RT02",
          "RT02",
          "RT02",
          "RT02",
          "RT03",
          "RT03",
          "RT03",
          "RT03",
          "RT03",
          "RT03",
          "RT03",
          "RT03",
          "RT03",
          "RT03",
          "RT04",
          "RT04",
          "RT04",
          "RT04",
          "RT04",
          "RT04",
          "RT04",
          "RT04",
          "RT04",
          "RT04",
          "RT05",
          "RT05",
          "RT05",
          "RT05",
          "RT05",
          "RT05",
          "RT05",
          "RT05",
          "RT05",
          "RT05",
          "RT06",
          "RT06",
          "RT06",
          "RT06",
          "RT06",
          "RT06",
          "RT06",
          "RT06",
          "RT06",
          "RT06",
          "RT09",
          "RT09",
          "RT09",
          "RT09",
          "RT09",
          "RT09",
          "RT09",
          "RT09",
          "RT09",
          "RT09",
          "RT10",
          "RT10",
          "RT10",
          "RT10",
          "RT10",
          "RT10",
          "RT10",
          "RT10",
          "RT10",
          "RT10",
          "RT11",
          "RT11",
          "RT11",
          "RT11",
          "RT11",
          "RT11",
          "RT11",
          "RT11",
          "RT11",
          "RT11",
          "RT12",
          "RT12",
          "RT12",
          "RT12",
          "RT12",
          "RT12",
          "RT12",
          "RT12",
          "RT12",
          "RT12",
          "RT13",
          "RT13",
          "RT13",
          "RT13",
          "RT13",
          "RT13",
          "RT13",
          "RT13",
          "RT13",
          "RT13",
          "RT14",
          "RT14",
          "RT14",
          "RT14",
          "RT14",
          "RT14",
          "RT14",
          "RT14",
          "RT14",
          "RT14",
          "RT15",
          "RT15",
          "RT15",
          "RT15",
          "RT15",
          "RT15",
          "RT15",
          "RT15",
          "RT15",
          "RT15"
         ],
         "type": "scatter",
         "x": {
          "bdata": "ot/ahtJBB0Bq2cmfYKwGQNlX1MsrggFA9+OzZbBmAkBQG1CseeUCQPmWLt/yvwdAxQkJoXy4BkCXbWzkq6oIQN0DIDk4SgNALuToqQnDBUBm6y2h8A8KQCCkdER4aAlAcprEPsmeA0Byvaje3Z4EQFj1F/fxLAVA3yIza0edCkCht44tCnYJQAadmQxQpAtAKeQTO9edBUA0Bthm/GIIQP3lJsh/HxJAILeIawurEUDvUEQpcEkLQBXq4gOVrQxAVMKyfi1zDUAVxANiyIESQExmDBd7tBFAq1bHlLA4E0C/5qLrLxAOQM5aPB839RBANCK4PoM8EkAdcetyVMcRQClCdkgfdQtAdaZzS37bDEDpYe0bU6INQDSzqzBpnxJAcPq5OdPQEUARDjE1dlcTQPpW5ORQQA5APPeODl0QEUDrVcbkC2YQQHgreWlY+Q9AM5z7Y8SwCEB3jOYPBvMJQOJ1mGHRpQpAgkSfcPq+EEDb/tAFNgUQQLYjnEV7ZBFAad8AReMzC0DBt1ELSrAOQHtyZKzPFQ1AxlVal+paDEBA8DSvX+UFQEZuDycoAwdAL8lJArehB0ClIBpEi7MNQHSW3m8PagxAbTp7MxbZDkC+uHKAtB8IQDxs93AaNwtAbhaweparEUAWP+/vCjoRQCwog7TqmgpAgU7puyn2C0DM45Ju0rYMQJVRaXpqCxJAxl9PQT5DEUDubAfXwL0SQIW0DqjoTw1AhhwulcGIEEB1CM7/1C4QQMM7vTawjQ9A/4xZQqJdCECBXDHjppsJQCRLEjQYTApA7e1MHJiGEECLrohZip4PQL5ZtLDrKRFAfRVxvUvYCkD/Jp3I9UgOQJZZfcn7nhBArP4WPC40EEA6HoSCfgYJQByBxhMfTQpA3DOALlcCC0AoeUgcH/kQQMANeLLVPBBAL2WklN6gEUCOjo1YVpILQKxD35jXGg9A/JGLAmoIEkCbisX8iZQRQEcZtiSuJgtAM7TIVw2JDEAZo1Mgqk0NQK9M9Go1ahJAEJY3o+2dEUA9E0ehNCATQAQOzI3k6Q1ALzp5TZ3fEEAAJ6zI+noPQN28IZ+xsA5ADUYED/uyB0AXCk1ZTOgIQB+E4uTpkwlAG3511dkSEEDnE4q6FcEOQHmOg4G1sRBA0vXCfEccCkCJCbmG2XQNQA7ztgFSeQtAB0cpf8fICkBOmTFk164EQKTCxdbKvAVAeTgWAJFSBkAQtK+bUA4MQBAXpJEV1wpACJtneZgjDUDhlyKuk8kGQK+TyeIhtQlAS4WNPgkJC0C/yUY/UFsKQPhqdLBPWgRAyE0A3fNjBUDlEC7oVfcFQKyC+ummmwtAobUV22NpCkCNhtqMgawMQHC+tzJybAZAuZNcMBFMCUA=",
          "dtype": "f8"
         },
         "xaxis": "x3",
         "y": {
          "bdata": "elHsg/ia2D+pNx8lf4vXPx3fYW5Bj8g//RCV7rCd0T8BcKu4w6PWP6DLBJqjnOA/dsjAEgd12T8Xc9Q7D2nEP8BlNnJCUNU/zGWN7SlmvT/EIoLqRiF6P20uW6KizsM/9+qdRXJOwj9UcND4+BPHP0Kf7OnNTM4/03hiTq2Jzj+rhHII01LkP38SnVqr2NA/HBsvkQUW2T87NDTe4LHZP5UuPwKF2+Q/i86mE8Qr3j90j7Lcf57NP/k2pypGh+M/O/jqeyvy0T/+vfIs3qTkP/3gVl/NKrg/9nEhYKZt3z+v7BBrgwTnP6stRGb5rt8/ctKCHZEP4D+huOL7v03WP+tddJbzG9g/7XcupsM64j8D9p8cTvbRP15uDGsloeU/pWB6MbjH1D/iaSjisrncP2OYe3Aet84/tBFF3LOF5D8iatOe3ULRP0lGCnrP4eI/a7E/mDHltD8WSnZbQmHiPwqn573AJtk/ntsTA1pm1D8JIDlFTS/gP33oLDnp7c4/yhxzz+533z/8XzDUeHvaP0ZrRobXYYU/VvMuvsJR5j8F+0CeFrLdP6r688p8puE/n5smB9mp0j8bK1Ch5ZnEP42WZfjZHcw/D7Bci5AC2T9wT59NQ9nLP5SLgYoWQt0/thAwDoyZ4D8vG1TK8LHmP7bwkR6ke+Q/0rw/AZBh2j9hwl8Q53zhP8TZz/iLyNQ/vI6GuezMwz9nuxzKnevUP18DnoZQkuw/7YLNvkIv4D/Y14j+d4ChPyuuORlMoOM/e6I4w3kc0z8vFH0Y9LO5P3JvE02wP84/uO9g7ifO0j/NoBn/JazhP7Ih3Onq3c0/WAGN4JYb3D/jY45WBzvGP8unmr+nA+U/+xyZXkWP2j9mXU0gH8HRPzjqvt6T99k/JoQmwGLS4z+bLwZJfgPgP5cP0hDFUsc/Wtae7FEQ3D/c5GvdXEXUP4QdTeJnCdo/WrD8t8Kh2D+jmByUsGXvP5uj8p0+0Ns/IjOnV1B01T+FQTcWb0TFP9TslmJditc/X7SXlDH2yD9tezW062bBP3sB5DxJKNw/0YmyW1B16D/UMfL2PbLNP6NXhxY6SeI/zIhdW9il0j/8Y7ELLcjiP+g/49Sakc0/TrhHNALF0z+0wi8EtZPjPw9eDzinUNo/NnQfZbk82z/0CtyDqRrjPyC0dD/IQtc/oPbgXv784z9KKa01x03ePwsIg6W+z+A/O6O4zj6G1j97N08KwFTkP596Qr5Xwtw/8KqM1eGD2D+aj8YuqtbPP2LXzorGbt0/avYUJI5p2j+Gu6evLJjiPxA9gPNGi9g/2y1BkNN41j/kM4hVzKLgP2rhOymuxrk/9N7ZI0so2T9YCrr6P/u+P86Ad/XF/+E/ZPqMSUK92j8=",
          "dtype": "f8"
         },
         "yaxis": "y3"
        },
        {
         "histnorm": "probability",
         "marker": {
          "color": "#6C8EBF"
         },
         "type": "histogram",
         "x": {
          "bdata": "tjtiRWPrwr8Kjujf5lLBv1Aj43Zj2aK/O4DrIiplsz9aI4I0cwTAv7DMzbBEP9G/MesHCYdAxL8v5ZLtVwmaP4LcWAVBZLy/iZ0RKnICiz+WTfTXNVYFv1VY4uMuhZi/lzX6uQHylD8sMeRcwqSgP2bS3226sKw//2WSSnUkrT9LUBRTvNDZv9DY887MvLG/EjOC2neqwz8A4PcgzKHEP2orDVOQMNs/WAR/gEtyzD8H7aXQWGqrP/mdkFa+1de/IgEuy+0gtD8BawVHzqLaPy+kQk9tQIK/IbcQE+rdzr93zt6MfY7gv7j+8/W/Xs8/SSFBYDEf0L8vf4fFSRe/Pwmp+ssFKsK/Jsi1CRDF1L/feEGgNSq0v8p9YjpZPd0/WSjJeQn9uj/UpgWsLsnJP8s3K/dwe62/64TA7J5S2j9tS91hLp+yP4roYbiFSNa/8RTfGM9Jez+PVXKDJB3VP2/mBRe8xMM/3ERTxW8Cuj8gG95hJl/QvyLmdhj+5K0//iIMMSDyzr/FDHbDgOrFv3ccDBEskxw/VAUJWHki37+JVoYaqI7Lvw4Ph5CNeNO/uL9NVDPFtb/sKNVXhoaaPwK4kEtZtKi/TydfDgKMwz96JFesZDyovyUEFlhRwMq/AnG5p9k40T+6xwWNiBjgv4ZQVr7VONq/ezCXdbO/xb8wMlINOh3Tv+duHJ4v/7q/nuPI2vKAmD/w+GwqmFq7PxKLK+upguk/P2zSFhFf0D8uQk+ABiVTvw1vS6/6Eti/JGpw3dPTtr9hXFtgIaWEPww+f1Lpl6w/cgP4HDoatr9vWF3vDIXTP4WwWcM84Ks/ng9Z0l+wyL9hSin0LeOevyaLvCyZmdu/l6hMLlILxr9TPswjfbOzv789dIFSEsU/wufw6niO2L/3gExV/QbQPxzC4V7R/6C/rlLUsJecyD8NfZ7clK65P2jafZNLL8U/L0L3x9X1wj8ovGxFSc7uP3xNCdm0LMi/Bk2hdKDEvD8HJpFNyEScP2jQO4Q8UcG/x/x8ebB4o7+/lbvpSu2Sv9/aTuKyxsi/zSP0naax4r+nPWoh8Y6rv6P7kNUR5tS/2IFc1927tb+IRfLALQzWv9xV8id/Uqs/kQlyAl9tuD/ASh6AIfTXPzEXmwLbo8U/i2QSFuwux7/uGhsHf8/WvwaeIjqL6MA/rv7OfXz42D+2Ii+QkrLMPx9Q4KgGqtG/F+J4FZO1vz/tQTMDodXZv5nTx9W12Mk/uziRR/LHwj8+Z1vCia2vv4QMYVVHEsu/YDrmKePMxT98pr/cC5zVPzgWQZ5I08K/loEUPdaPvz+99AUfEUzRv9u1X69Bw4S/QH2OJCjHwz/QBEqqzP6NvzNuH2l9P9S/PjgTD+tXxj8=",
          "dtype": "f8"
         },
         "xaxis": "x4",
         "yaxis": "y4"
        }
       ],
       "layout": {
        "height": 500,
        "margin": {
         "b": 5,
         "l": 10,
         "r": 10,
         "t": 5
        },
        "showlegend": false,
        "template": {
         "data": {
          "bar": [
           {
            "error_x": {
             "color": "#2a3f5f"
            },
            "error_y": {
             "color": "#2a3f5f"
            },
            "marker": {
             "line": {
              "color": "white",
              "width": 0.5
             },
             "pattern": {
              "fillmode": "overlay",
              "size": 10,
              "solidity": 0.2
             }
            },
            "type": "bar"
           }
          ],
          "barpolar": [
           {
            "marker": {
             "line": {
              "color": "white",
              "width": 0.5
             },
             "pattern": {
              "fillmode": "overlay",
              "size": 10,
              "solidity": 0.2
             }
            },
            "type": "barpolar"
           }
          ],
          "carpet": [
           {
            "aaxis": {
             "endlinecolor": "#2a3f5f",
             "gridcolor": "#C8D4E3",
             "linecolor": "#C8D4E3",
             "minorgridcolor": "#C8D4E3",
             "startlinecolor": "#2a3f5f"
            },
            "baxis": {
             "endlinecolor": "#2a3f5f",
             "gridcolor": "#C8D4E3",
             "linecolor": "#C8D4E3",
             "minorgridcolor": "#C8D4E3",
             "startlinecolor": "#2a3f5f"
            },
            "type": "carpet"
           }
          ],
          "choropleth": [
           {
            "colorbar": {
             "outlinewidth": 0,
             "ticks": ""
            },
            "type": "choropleth"
           }
          ],
          "contour": [
           {
            "colorbar": {
             "outlinewidth": 0,
             "ticks": ""
            },
            "colorscale": [
             [
              0,
              "#0d0887"
             ],
             [
              0.1111111111111111,
              "#46039f"
             ],
             [
              0.2222222222222222,
              "#7201a8"
             ],
             [
              0.3333333333333333,
              "#9c179e"
             ],
             [
              0.4444444444444444,
              "#bd3786"
             ],
             [
              0.5555555555555556,
              "#d8576b"
             ],
             [
              0.6666666666666666,
              "#ed7953"
             ],
             [
              0.7777777777777778,
              "#fb9f3a"
             ],
             [
              0.8888888888888888,
              "#fdca26"
             ],
             [
              1,
              "#f0f921"
             ]
            ],
            "type": "contour"
           }
          ],
          "contourcarpet": [
           {
            "colorbar": {
             "outlinewidth": 0,
             "ticks": ""
            },
            "type": "contourcarpet"
           }
          ],
          "heatmap": [
           {
            "colorbar": {
             "outlinewidth": 0,
             "ticks": ""
            },
            "colorscale": [
             [
              0,
              "#0d0887"
             ],
             [
              0.1111111111111111,
              "#46039f"
             ],
             [
              0.2222222222222222,
              "#7201a8"
             ],
             [
              0.3333333333333333,
              "#9c179e"
             ],
             [
              0.4444444444444444,
              "#bd3786"
             ],
             [
              0.5555555555555556,
              "#d8576b"
             ],
             [
              0.6666666666666666,
              "#ed7953"
             ],
             [
              0.7777777777777778,
              "#fb9f3a"
             ],
             [
              0.8888888888888888,
              "#fdca26"
             ],
             [
              1,
              "#f0f921"
             ]
            ],
            "type": "heatmap"
           }
          ],
          "histogram": [
           {
            "marker": {
             "pattern": {
              "fillmode": "overlay",
              "size": 10,
              "solidity": 0.2
             }
            },
            "type": "histogram"
           }
          ],
          "histogram2d": [
           {
            "colorbar": {
             "outlinewidth": 0,
             "ticks": ""
            },
            "colorscale": [
             [
              0,
              "#0d0887"
             ],
             [
              0.1111111111111111,
              "#46039f"
             ],
             [
              0.2222222222222222,
              "#7201a8"
             ],
             [
              0.3333333333333333,
              "#9c179e"
             ],
             [
              0.4444444444444444,
              "#bd3786"
             ],
             [
              0.5555555555555556,
              "#d8576b"
             ],
             [
              0.6666666666666666,
              "#ed7953"
             ],
             [
              0.7777777777777778,
              "#fb9f3a"
             ],
             [
              0.8888888888888888,
              "#fdca26"
             ],
             [
              1,
              "#f0f921"
             ]
            ],
            "type": "histogram2d"
           }
          ],
          "histogram2dcontour": [
           {
            "colorbar": {
             "outlinewidth": 0,
             "ticks": ""
            },
            "colorscale": [
             [
              0,
              "#0d0887"
             ],
             [
              0.1111111111111111,
              "#46039f"
             ],
             [
              0.2222222222222222,
              "#7201a8"
             ],
             [
              0.3333333333333333,
              "#9c179e"
             ],
             [
              0.4444444444444444,
              "#bd3786"
             ],
             [
              0.5555555555555556,
              "#d8576b"
             ],
             [
              0.6666666666666666,
              "#ed7953"
             ],
             [
              0.7777777777777778,
              "#fb9f3a"
             ],
             [
              0.8888888888888888,
              "#fdca26"
             ],
             [
              1,
              "#f0f921"
             ]
            ],
            "type": "histogram2dcontour"
           }
          ],
          "mesh3d": [
           {
            "colorbar": {
             "outlinewidth": 0,
             "ticks": ""
            },
            "type": "mesh3d"
           }
          ],
          "parcoords": [
           {
            "line": {
             "colorbar": {
              "outlinewidth": 0,
              "ticks": ""
             }
            },
            "type": "parcoords"
           }
          ],
          "pie": [
           {
            "automargin": true,
            "type": "pie"
           }
          ],
          "scatter": [
           {
            "fillpattern": {
             "fillmode": "overlay",
             "size": 10,
             "solidity": 0.2
            },
            "type": "scatter"
           }
          ],
          "scatter3d": [
           {
            "line": {
             "colorbar": {
              "outlinewidth": 0,
              "ticks": ""
             }
            },
            "marker": {
             "colorbar": {
              "outlinewidth": 0,
              "ticks": ""
             }
            },
            "type": "scatter3d"
           }
          ],
          "scattercarpet": [
           {
            "marker": {
             "colorbar": {
              "outlinewidth": 0,
              "ticks": ""
             }
            },
            "type": "scattercarpet"
           }
          ],
          "scattergeo": [
           {
            "marker": {
             "colorbar": {
              "outlinewidth": 0,
              "ticks": ""
             }
            },
            "type": "scattergeo"
           }
          ],
          "scattergl": [
           {
            "marker": {
             "colorbar": {
              "outlinewidth": 0,
              "ticks": ""
             }
            },
            "type": "scattergl"
           }
          ],
          "scattermap": [
           {
            "marker": {
             "colorbar": {
              "outlinewidth": 0,
              "ticks": ""
             }
            },
            "type": "scattermap"
           }
          ],
          "scattermapbox": [
           {
            "marker": {
             "colorbar": {
              "outlinewidth": 0,
              "ticks": ""
             }
            },
            "type": "scattermapbox"
           }
          ],
          "scatterpolar": [
           {
            "marker": {
             "colorbar": {
              "outlinewidth": 0,
              "ticks": ""
             }
            },
            "type": "scatterpolar"
           }
          ],
          "scatterpolargl": [
           {
            "marker": {
             "colorbar": {
              "outlinewidth": 0,
              "ticks": ""
             }
            },
            "type": "scatterpolargl"
           }
          ],
          "scatterternary": [
           {
            "marker": {
             "colorbar": {
              "outlinewidth": 0,
              "ticks": ""
             }
            },
            "type": "scatterternary"
           }
          ],
          "surface": [
           {
            "colorbar": {
             "outlinewidth": 0,
             "ticks": ""
            },
            "colorscale": [
             [
              0,
              "#0d0887"
             ],
             [
              0.1111111111111111,
              "#46039f"
             ],
             [
              0.2222222222222222,
              "#7201a8"
             ],
             [
              0.3333333333333333,
              "#9c179e"
             ],
             [
              0.4444444444444444,
              "#bd3786"
             ],
             [
              0.5555555555555556,
              "#d8576b"
             ],
             [
              0.6666666666666666,
              "#ed7953"
             ],
             [
              0.7777777777777778,
              "#fb9f3a"
             ],
             [
              0.8888888888888888,
              "#fdca26"
             ],
             [
              1,
              "#f0f921"
             ]
            ],
            "type": "surface"
           }
          ],
          "table": [
           {
            "cells": {
             "fill": {
              "color": "#EBF0F8"
             },
             "line": {
              "color": "white"
             }
            },
            "header": {
             "fill": {
              "color": "#C8D4E3"
             },
             "line": {
              "color": "white"
             }
            },
            "type": "table"
           }
          ]
         },
         "layout": {
          "annotationdefaults": {
           "arrowcolor": "#2a3f5f",
           "arrowhead": 0,
           "arrowwidth": 1
          },
          "autotypenumbers": "strict",
          "coloraxis": {
           "colorbar": {
            "outlinewidth": 0,
            "ticks": ""
           }
          },
          "colorscale": {
           "diverging": [
            [
             0,
             "#8e0152"
            ],
            [
             0.1,
             "#c51b7d"
            ],
            [
             0.2,
             "#de77ae"
            ],
            [
             0.3,
             "#f1b6da"
            ],
            [
             0.4,
             "#fde0ef"
            ],
            [
             0.5,
             "#f7f7f7"
            ],
            [
             0.6,
             "#e6f5d0"
            ],
            [
             0.7,
             "#b8e186"
            ],
            [
             0.8,
             "#7fbc41"
            ],
            [
             0.9,
             "#4d9221"
            ],
            [
             1,
             "#276419"
            ]
           ],
           "sequential": [
            [
             0,
             "#0d0887"
            ],
            [
             0.1111111111111111,
             "#46039f"
            ],
            [
             0.2222222222222222,
             "#7201a8"
            ],
            [
             0.3333333333333333,
             "#9c179e"
            ],
            [
             0.4444444444444444,
             "#bd3786"
            ],
            [
             0.5555555555555556,
             "#d8576b"
            ],
            [
             0.6666666666666666,
             "#ed7953"
            ],
            [
             0.7777777777777778,
             "#fb9f3a"
            ],
            [
             0.8888888888888888,
             "#fdca26"
            ],
            [
             1,
             "#f0f921"
            ]
           ],
           "sequentialminus": [
            [
             0,
             "#0d0887"
            ],
            [
             0.1111111111111111,
             "#46039f"
            ],
            [
             0.2222222222222222,
             "#7201a8"
            ],
            [
             0.3333333333333333,
             "#9c179e"
            ],
            [
             0.4444444444444444,
             "#bd3786"
            ],
            [
             0.5555555555555556,
             "#d8576b"
            ],
            [
             0.6666666666666666,
             "#ed7953"
            ],
            [
             0.7777777777777778,
             "#fb9f3a"
            ],
            [
             0.8888888888888888,
             "#fdca26"
            ],
            [
             1,
             "#f0f921"
            ]
           ]
          },
          "colorway": [
           "#636efa",
           "#EF553B",
           "#00cc96",
           "#ab63fa",
           "#FFA15A",
           "#19d3f3",
           "#FF6692",
           "#B6E880",
           "#FF97FF",
           "#FECB52"
          ],
          "font": {
           "color": "#2a3f5f"
          },
          "geo": {
           "bgcolor": "white",
           "lakecolor": "white",
           "landcolor": "white",
           "showlakes": true,
           "showland": true,
           "subunitcolor": "#C8D4E3"
          },
          "hoverlabel": {
           "align": "left"
          },
          "hovermode": "closest",
          "mapbox": {
           "style": "light"
          },
          "paper_bgcolor": "white",
          "plot_bgcolor": "white",
          "polar": {
           "angularaxis": {
            "gridcolor": "#EBF0F8",
            "linecolor": "#EBF0F8",
            "ticks": ""
           },
           "bgcolor": "white",
           "radialaxis": {
            "gridcolor": "#EBF0F8",
            "linecolor": "#EBF0F8",
            "ticks": ""
           }
          },
          "scene": {
           "xaxis": {
            "backgroundcolor": "white",
            "gridcolor": "#DFE8F3",
            "gridwidth": 2,
            "linecolor": "#EBF0F8",
            "showbackground": true,
            "ticks": "",
            "zerolinecolor": "#EBF0F8"
           },
           "yaxis": {
            "backgroundcolor": "white",
            "gridcolor": "#DFE8F3",
            "gridwidth": 2,
            "linecolor": "#EBF0F8",
            "showbackground": true,
            "ticks": "",
            "zerolinecolor": "#EBF0F8"
           },
           "zaxis": {
            "backgroundcolor": "white",
            "gridcolor": "#DFE8F3",
            "gridwidth": 2,
            "linecolor": "#EBF0F8",
            "showbackground": true,
            "ticks": "",
            "zerolinecolor": "#EBF0F8"
           }
          },
          "shapedefaults": {
           "line": {
            "color": "#2a3f5f"
           }
          },
          "ternary": {
           "aaxis": {
            "gridcolor": "#DFE8F3",
            "linecolor": "#A2B1C6",
            "ticks": ""
           },
           "baxis": {
            "gridcolor": "#DFE8F3",
            "linecolor": "#A2B1C6",
            "ticks": ""
           },
           "bgcolor": "white",
           "caxis": {
            "gridcolor": "#DFE8F3",
            "linecolor": "#A2B1C6",
            "ticks": ""
           }
          },
          "title": {
           "x": 0.05
          },
          "xaxis": {
           "automargin": true,
           "gridcolor": "#EBF0F8",
           "linecolor": "#EBF0F8",
           "ticks": "",
           "title": {
            "standoff": 15
           },
           "zerolinecolor": "#EBF0F8",
           "zerolinewidth": 2
          },
          "yaxis": {
           "automargin": true,
           "gridcolor": "#EBF0F8",
           "linecolor": "#EBF0F8",
           "ticks": "",
           "title": {
            "standoff": 15
           },
           "zerolinecolor": "#EBF0F8",
           "zerolinewidth": 2
          }
         }
        },
        "width": 800,
        "xaxis": {
         "anchor": "y",
         "domain": [
          0,
          0.45
         ],
         "title": {
          "text": "Fitted"
         }
        },
        "xaxis2": {
         "anchor": "y2",
         "domain": [
          0.55,
          1
         ],
         "title": {
          "text": "Theoretical Quantiles"
         }
        },
        "xaxis3": {
         "anchor": "y3",
         "domain": [
          0,
          0.45
         ],
         "title": {
          "text": "Fitted"
         }
        },
        "xaxis4": {
         "anchor": "y4",
         "domain": [
          0.55,
          1
         ],
         "title": {
          "text": "Residuals"
         }
        },
        "yaxis": {
         "anchor": "x",
         "domain": [
          0.575,
          1
         ],
         "title": {
          "text": "Residuals"
         }
        },
        "yaxis2": {
         "anchor": "x2",
         "domain": [
          0.575,
          1
         ],
         "title": {
          "text": "Sample Quantiles"
         }
        },
        "yaxis3": {
         "anchor": "x3",
         "domain": [
          0,
          0.425
         ],
         "title": {
          "text": "Sqrt( Abs( Residuals ) )"
         }
        },
        "yaxis4": {
         "anchor": "x4",
         "domain": [
          0,
          0.425
         ],
         "title": {
          "text": "Count"
         }
        }
       }
      }
     },
     "metadata": {},
     "output_type": "display_data"
    }
   ],
   "source": [
    "OFFSET = 2\n",
    "df_cnr['CNR'] = df_cnr['CNR'] + OFFSET\n",
    "pl_df_cnr = pl.DataFrame(df_cnr)\n",
    "glmm_cnr_s = glmer('CNR ~ Stain + (1|Experiment) + (1|ROI)', data=pl_df_cnr, family='Gamma', link='log')\n",
    "glmm_cnr_s.set_factors(['Stain'])\n",
    "\n",
    "# Convert estimates to odds\n",
    "display(glmm_cnr_s.fit(exponentiate=True, summary=True, conf_method='boot'))\n",
    "display(glmm_cnr_s.result_fit_stats)\n",
    "stat_diagnostics(glmm_cnr_s.data['fitted'], glmm_cnr_s.data['resid'], glmm_cnr_s.data['Experiment'])"
   ]
  },
  {
   "cell_type": "code",
   "execution_count": 21,
   "id": "2957e1c1",
   "metadata": {},
   "outputs": [
    {
     "data": {
      "text/html": [
       "<div><style>\n",
       ".dataframe > thead > tr,\n",
       ".dataframe > tbody > tr {\n",
       "  text-align: right;\n",
       "  white-space: pre-wrap;\n",
       "}\n",
       "</style>\n",
       "<small>shape: (2, 6)</small><table border=\"1\" class=\"dataframe\"><thead><tr><th>Stain</th><th>response</th><th>SE</th><th>df</th><th>asymp_LCL</th><th>asymp_UCL</th></tr><tr><td>cat</td><td>f64</td><td>f64</td><td>f64</td><td>f64</td><td>f64</td></tr></thead><tbody><tr><td>&quot;Iodine-stained&quot;</td><td>2.92331</td><td>0.344262</td><td>inf</td><td>2.246423</td><td>3.804156</td></tr><tr><td>&quot;PTA-stained&quot;</td><td>3.781226</td><td>0.372421</td><td>inf</td><td>3.033669</td><td>4.712996</td></tr></tbody></table></div>"
      ],
      "text/plain": [
       "shape: (2, 6)\n",
       "┌────────────────┬──────────┬──────────┬─────┬───────────┬───────────┐\n",
       "│ Stain          ┆ response ┆ SE       ┆ df  ┆ asymp_LCL ┆ asymp_UCL │\n",
       "│ ---            ┆ ---      ┆ ---      ┆ --- ┆ ---       ┆ ---       │\n",
       "│ cat            ┆ f64      ┆ f64      ┆ f64 ┆ f64       ┆ f64       │\n",
       "╞════════════════╪══════════╪══════════╪═════╪═══════════╪═══════════╡\n",
       "│ Iodine-stained ┆ 2.92331  ┆ 0.344262 ┆ inf ┆ 2.246423  ┆ 3.804156  │\n",
       "│ PTA-stained    ┆ 3.781226 ┆ 0.372421 ┆ inf ┆ 3.033669  ┆ 4.712996  │\n",
       "└────────────────┴──────────┴──────────┴─────┴───────────┴───────────┘"
      ]
     },
     "metadata": {},
     "output_type": "display_data"
    },
    {
     "data": {
      "text/html": [
       "<div><style>\n",
       ".dataframe > thead > tr,\n",
       ".dataframe > tbody > tr {\n",
       "  text-align: right;\n",
       "  white-space: pre-wrap;\n",
       "}\n",
       "</style>\n",
       "<small>shape: (1, 9)</small><table border=\"1\" class=\"dataframe\"><thead><tr><th>contrast</th><th>ratio</th><th>SE</th><th>df</th><th>asymp_LCL</th><th>asymp_UCL</th><th>null</th><th>z_ratio</th><th>p_value</th></tr><tr><td>cat</td><td>f64</td><td>f64</td><td>f64</td><td>f64</td><td>f64</td><td>f64</td><td>f64</td><td>f64</td></tr></thead><tbody><tr><td>&quot;(Iodine-stained) / (PTA-staine…</td><td>0.773112</td><td>0.080573</td><td>inf</td><td>0.630276</td><td>0.948317</td><td>1.0</td><td>-2.469149</td><td>0.013543</td></tr></tbody></table></div>"
      ],
      "text/plain": [
       "shape: (1, 9)\n",
       "┌────────────────────┬──────────┬──────────┬─────┬───┬───────────┬──────┬───────────┬──────────┐\n",
       "│ contrast           ┆ ratio    ┆ SE       ┆ df  ┆ … ┆ asymp_UCL ┆ null ┆ z_ratio   ┆ p_value  │\n",
       "│ ---                ┆ ---      ┆ ---      ┆ --- ┆   ┆ ---       ┆ ---  ┆ ---       ┆ ---      │\n",
       "│ cat                ┆ f64      ┆ f64      ┆ f64 ┆   ┆ f64       ┆ f64  ┆ f64       ┆ f64      │\n",
       "╞════════════════════╪══════════╪══════════╪═════╪═══╪═══════════╪══════╪═══════════╪══════════╡\n",
       "│ (Iodine-stained) / ┆ 0.773112 ┆ 0.080573 ┆ inf ┆ … ┆ 0.948317  ┆ 1.0  ┆ -2.469149 ┆ 0.013543 │\n",
       "│ (PTA-staine…       ┆          ┆          ┆     ┆   ┆           ┆      ┆           ┆          │\n",
       "└────────────────────┴──────────┴──────────┴─────┴───┴───────────┴──────┴───────────┴──────────┘"
      ]
     },
     "metadata": {},
     "output_type": "display_data"
    }
   ],
   "source": [
    "display(glmm_cnr_s.emmeans('Stain'))\n",
    "display(glmm_cnr_s.emmeans('Stain', contrasts='pairwise', p_adjust='bonf'))"
   ]
  },
  {
   "cell_type": "code",
   "execution_count": 22,
   "id": "bdc49c34",
   "metadata": {},
   "outputs": [],
   "source": [
    "def add_pvalue_annotation(fig, df, y_field, x_field, x_field_values, group_field=None, group_values=None, y_range=[1.01,1.04], \n",
    "                          text_offset=0.12, subplot=None, pvalue_th=0.05, color='dimgrey', text_size=14, pbar_offset=[0.0, 0.0]):\n",
    "    # pbar_offset is [length of the bar, height of the bar]\n",
    "    \n",
    "    bar_xcoord_map = {x: idx for idx, x in enumerate(x_field_values)}\n",
    "    \n",
    "    # Using one-way ANOVA\n",
    "    if group_field:\n",
    "        ## for bars, there is a direct mapping from the bar number to 0, 1, 2...\n",
    "        for x_field_value in x_field_values:\n",
    "            pvalue = 0.1\n",
    "            # print(f\"P-value of {y_field} between two {group_field}s in {x_field_value}: {pvalue:.4f} - {'Not significant' if pvalue > pvalue_th else 'Significant'}\")\n",
    "            x_coord = bar_xcoord_map[x_field_value]\n",
    "            fig = draw_statistical_significance(fig, y_range, pvalue_th, color, pvalue, \n",
    "                                                x_range=[x_coord-0.2, x_coord+0.2], \n",
    "                                                subplot=subplot, \n",
    "                                                text_offset=text_offset, text_size=text_size,\n",
    "                                                pbar_offset=pbar_offset\n",
    "                                               )\n",
    "    else:\n",
    "        pvalue = 0.1\n",
    "        # print(f\"P-value of {y_field} between two {x_field}s: {pvalue:.4f} - {'Not significant' if pvalue > pvalue_th else 'Significant'}\")\n",
    "        x_start = bar_xcoord_map[x_field_values[0]]\n",
    "        x_end = bar_xcoord_map[x_field_values[1]]\n",
    "        fig = draw_statistical_significance(fig, y_range, pvalue_th, color, pvalue, \n",
    "                                            x_range=[x_start, x_end], \n",
    "                                            subplot=subplot, \n",
    "                                            text_offset=text_offset, text_size=text_size,\n",
    "                                            pbar_offset=pbar_offset\n",
    "                                           )\n",
    "\n",
    "    return fig\n",
    "\n",
    "def draw_statistical_significance(fig, y_range, pvalue_th, color, pvalue, x_range, subplot, text_offset, text_size, pbar_offset):\n",
    "    subplot_str = '' if (subplot==None or subplot==1 or subplot==0) else str(subplot)\n",
    "\n",
    "    if pvalue >= pvalue_th:\n",
    "        symbol = f'ns<br>p={round(pvalue, 3)}'\n",
    "    elif pvalue >= 0.01: \n",
    "        symbol = '*'\n",
    "    elif pvalue >= 0.001:\n",
    "        symbol = '**'\n",
    "    else:\n",
    "        symbol = '***'\n",
    "\n",
    "    x0 = x_range[0] - pbar_offset[0]\n",
    "    x1 = x_range[1] + pbar_offset[0]\n",
    "    y0 = y_range[0] - pbar_offset[1]\n",
    "    y1 = y_range[1] + pbar_offset[1]\n",
    "\n",
    "    # 1st vertical line\n",
    "    fig.add_shape(type=\"line\",\n",
    "        xref=f\"x{subplot_str}\", yref=f\"y{subplot_str} domain\",\n",
    "        # xref=\"x\", yref=\"paper\",\n",
    "        x0=x0, y0=y0, x1=x0, y1=y1,\n",
    "        line=dict(\n",
    "            color=color,\n",
    "            width=2,\n",
    "        )\n",
    "    )\n",
    "    #  Horizontal line (long line)\n",
    "    fig.add_shape(type=\"line\",\n",
    "        xref=f\"x{subplot_str}\", yref=f\"y{subplot_str} domain\",\n",
    "        x0=x0, y0=y1, x1=x1, y1=y1,\n",
    "        line=dict(\n",
    "            color=color,\n",
    "            width=2,\n",
    "        )\n",
    "    )\n",
    "    # 2nd vertical line\n",
    "    fig.add_shape(type=\"line\",\n",
    "        xref=f\"x{subplot_str}\", yref=f\"y{subplot_str} domain\",\n",
    "        x0=x1, y0=y1, x1=x1, y1=y0,\n",
    "        line=dict(\n",
    "            color=color,\n",
    "            width=2,\n",
    "        )\n",
    "    )\n",
    "    # add text at the correct x, y coordinates\n",
    "    # fig.add_annotation(dict(\n",
    "    #     xref=f\"x{subplot_str}\", yref=f\"y{subplot_str} domain\",\n",
    "    #     x=x_range[0]+((x_range[1]-x_range[0])/2),\n",
    "    #     y=y_range[1]+text_offset,\n",
    "    #     text=symbol,\n",
    "    #     font=dict(color=\"dimgrey\",size=text_size),\n",
    "    #     textangle=0,\n",
    "    #     showarrow=False,\n",
    "    # ))\n",
    "\n",
    "    return fig"
   ]
  },
  {
   "cell_type": "code",
   "execution_count": 27,
   "id": "5399c569",
   "metadata": {},
   "outputs": [
    {
     "data": {
      "application/vnd.plotly.v1+json": {
       "config": {
        "plotlyServerURL": "https://plot.ly"
       },
       "data": [
        {
         "box": {
          "visible": true
         },
         "line": {
          "color": "#6C8EBF"
         },
         "meanline": {
          "visible": true
         },
         "scalemode": "count",
         "showlegend": false,
         "type": "violin",
         "width": 0.85,
         "x": [
          "Iodine-stained",
          "Iodine-stained",
          "Iodine-stained",
          "Iodine-stained",
          "Iodine-stained",
          "Iodine-stained",
          "Iodine-stained",
          "Iodine-stained",
          "Iodine-stained",
          "Iodine-stained",
          "Iodine-stained",
          "Iodine-stained",
          "Iodine-stained",
          "Iodine-stained",
          "Iodine-stained",
          "Iodine-stained",
          "Iodine-stained",
          "Iodine-stained",
          "Iodine-stained",
          "Iodine-stained",
          "Iodine-stained",
          "Iodine-stained",
          "Iodine-stained",
          "Iodine-stained",
          "Iodine-stained",
          "Iodine-stained",
          "Iodine-stained",
          "Iodine-stained",
          "Iodine-stained",
          "Iodine-stained",
          "Iodine-stained",
          "Iodine-stained",
          "Iodine-stained",
          "Iodine-stained",
          "Iodine-stained",
          "Iodine-stained",
          "Iodine-stained",
          "Iodine-stained",
          "Iodine-stained",
          "Iodine-stained",
          "Iodine-stained",
          "Iodine-stained",
          "Iodine-stained",
          "Iodine-stained",
          "Iodine-stained",
          "Iodine-stained",
          "Iodine-stained",
          "Iodine-stained",
          "Iodine-stained",
          "Iodine-stained",
          "Iodine-stained",
          "Iodine-stained",
          "Iodine-stained",
          "Iodine-stained",
          "Iodine-stained",
          "Iodine-stained",
          "Iodine-stained",
          "Iodine-stained",
          "Iodine-stained",
          "Iodine-stained",
          "Iodine-stained",
          "Iodine-stained",
          "Iodine-stained",
          "Iodine-stained",
          "Iodine-stained",
          "Iodine-stained",
          "Iodine-stained",
          "Iodine-stained",
          "Iodine-stained",
          "Iodine-stained",
          "Iodine-stained",
          "Iodine-stained",
          "Iodine-stained",
          "Iodine-stained",
          "Iodine-stained",
          "Iodine-stained",
          "Iodine-stained",
          "Iodine-stained",
          "Iodine-stained",
          "Iodine-stained"
         ],
         "xaxis": "x",
         "y": {
          "bdata": "FCA7rs0vIEDtnccgo88bQMdFIGL90SNAa4pZ+1XkIkBbSh5Kqp0hQHYsYgYJ5SFALPs1Q1iqKkCw08YWfXUhQCsH+oTmXyVAUjjrfMdQIEDKEmIiviMhQMcyHFKwwB1AQ7ovLu77HkBIUdZ3h7ofQKGhhA1TECBAlj6z2lHoJUCNVw1Q4EEoQNWj+vV9ayNACNB3pthUIkCqS4NqxGUeQPxbZPpfbRdAM7x9T2VOHkBwFOaKJUgnQAfmQecQjyRATHyqSJDpJEBmrHorDF8aQBbyRoJBVxdAQ2xM/JFJHUDOb32GDQwVQAagrvXG1hNAbl8FA+p1IUAOnWniNTIjQGidB9yE1iVATygK44NGIEAMhTRDrCUhQIUfWQm8YxRADoow5L6JFUA+LKaYGDwiQB9fqYwerRJAHLsEMLSxF0DmqoT+YcAmQE5WKScKsjJAv7CUXOyLMEDEvnXZguAtQJP4FarZnTFAEzxmbZNJIkB/OskDZOcmQM+kDobbhS9AuWSpGOVLMkCCEe3u4vcmQCXFHA3acyxAGGRpg6N3LECfGcQdq44oQB1bvwMwVylABfo9wii3LkDWdLY+itMnQDLrhSCwyyVAA7KvhUD2K0BzSke5aJ0hQNIkBAUh1yxAHaqJxv7RJEAkWPrqWtQoQPwaeaLTXStAOSyh5BK1JEBcM8GaVeYlQKh+Cd/XXyVA+zm6nYfMJkCCs/D8mB4qQKxXr169uiZAXIj2QniDJUC7kexXBRsmQLRv2mjXPSlAZ3HiCWNEKEDrJvOe6MQiQBAKJ984nylAVN0hRNWdKEBad0YBNT8rQHPoVg50OClATdxVFH7aIUD7aexAVXgiQA==",
          "dtype": "f8"
         },
         "yaxis": "y"
        },
        {
         "box": {
          "visible": true
         },
         "line": {
          "color": "#82B366"
         },
         "meanline": {
          "visible": true
         },
         "scalemode": "count",
         "showlegend": false,
         "type": "violin",
         "width": 0.85,
         "x": [
          "PTA-stained",
          "PTA-stained",
          "PTA-stained",
          "PTA-stained",
          "PTA-stained",
          "PTA-stained",
          "PTA-stained",
          "PTA-stained",
          "PTA-stained",
          "PTA-stained",
          "PTA-stained",
          "PTA-stained",
          "PTA-stained",
          "PTA-stained",
          "PTA-stained",
          "PTA-stained",
          "PTA-stained",
          "PTA-stained",
          "PTA-stained",
          "PTA-stained",
          "PTA-stained",
          "PTA-stained",
          "PTA-stained",
          "PTA-stained",
          "PTA-stained",
          "PTA-stained",
          "PTA-stained",
          "PTA-stained",
          "PTA-stained",
          "PTA-stained",
          "PTA-stained",
          "PTA-stained",
          "PTA-stained",
          "PTA-stained",
          "PTA-stained",
          "PTA-stained",
          "PTA-stained",
          "PTA-stained",
          "PTA-stained",
          "PTA-stained",
          "PTA-stained",
          "PTA-stained",
          "PTA-stained",
          "PTA-stained",
          "PTA-stained",
          "PTA-stained",
          "PTA-stained",
          "PTA-stained",
          "PTA-stained",
          "PTA-stained",
          "PTA-stained",
          "PTA-stained",
          "PTA-stained",
          "PTA-stained",
          "PTA-stained",
          "PTA-stained",
          "PTA-stained",
          "PTA-stained",
          "PTA-stained",
          "PTA-stained",
          "PTA-stained",
          "PTA-stained",
          "PTA-stained",
          "PTA-stained",
          "PTA-stained",
          "PTA-stained",
          "PTA-stained",
          "PTA-stained",
          "PTA-stained",
          "PTA-stained",
          "PTA-stained",
          "PTA-stained",
          "PTA-stained",
          "PTA-stained",
          "PTA-stained",
          "PTA-stained",
          "PTA-stained",
          "PTA-stained",
          "PTA-stained",
          "PTA-stained",
          "PTA-stained",
          "PTA-stained",
          "PTA-stained",
          "PTA-stained",
          "PTA-stained",
          "PTA-stained",
          "PTA-stained",
          "PTA-stained",
          "PTA-stained",
          "PTA-stained",
          "PTA-stained",
          "PTA-stained",
          "PTA-stained",
          "PTA-stained",
          "PTA-stained",
          "PTA-stained",
          "PTA-stained",
          "PTA-stained",
          "PTA-stained",
          "PTA-stained",
          "PTA-stained",
          "PTA-stained",
          "PTA-stained",
          "PTA-stained",
          "PTA-stained",
          "PTA-stained",
          "PTA-stained",
          "PTA-stained",
          "PTA-stained",
          "PTA-stained",
          "PTA-stained",
          "PTA-stained",
          "PTA-stained",
          "PTA-stained",
          "PTA-stained",
          "PTA-stained",
          "PTA-stained",
          "PTA-stained",
          "PTA-stained",
          "PTA-stained",
          "PTA-stained",
          "PTA-stained",
          "PTA-stained",
          "PTA-stained",
          "PTA-stained",
          "PTA-stained",
          "PTA-stained",
          "PTA-stained",
          "PTA-stained",
          "PTA-stained",
          "PTA-stained",
          "PTA-stained",
          "PTA-stained",
          "PTA-stained",
          "PTA-stained",
          "PTA-stained",
          "PTA-stained",
          "PTA-stained",
          "PTA-stained",
          "PTA-stained",
          "PTA-stained",
          "PTA-stained",
          "PTA-stained",
          "PTA-stained",
          "PTA-stained",
          "PTA-stained",
          "PTA-stained",
          "PTA-stained",
          "PTA-stained",
          "PTA-stained",
          "PTA-stained",
          "PTA-stained",
          "PTA-stained",
          "PTA-stained",
          "PTA-stained",
          "PTA-stained",
          "PTA-stained",
          "PTA-stained",
          "PTA-stained",
          "PTA-stained",
          "PTA-stained",
          "PTA-stained",
          "PTA-stained",
          "PTA-stained",
          "PTA-stained",
          "PTA-stained",
          "PTA-stained",
          "PTA-stained",
          "PTA-stained",
          "PTA-stained",
          "PTA-stained",
          "PTA-stained",
          "PTA-stained",
          "PTA-stained",
          "PTA-stained",
          "PTA-stained",
          "PTA-stained",
          "PTA-stained",
          "PTA-stained",
          "PTA-stained"
         ],
         "xaxis": "x",
         "y": {
          "bdata": "L22LFAuQMED5CBLOy1wxQEFZbo962CtAmjUSR199JUCW6SIFdeQtQIDDP20w1ypAscE2D92zJUBDWTlQj6otQFBl1KkSsSxA/sTw0BtpJ0Co9/8k9SAnQAEAAAAAgC9AKuICM2F2JkABwTkHPnspQMuYd/smlzFAI4vDbGhbJkCGW6UxPFAwQBxd+WgmiSdAxQTdVYqJKEAvBLFFhgkhQO2eXucEdCdA30VPfoc+LUBSIJSR8GMtQH4Fbxr6VipA5jHqR5XYK0BPgzAU4useQMtp7rSc5i5AjSVyFkDPKkDhvZ22DvwnQEMEBPVh1yZAmuVlFXWiJUBruSL3hDUkQBTVyv5yQCZAHxtz4iZhJECASIhqQAooQOrYhZLqGyJA/FAbTK8LJkCqO1EwZnEsQKLqsKQEDiVA3cT07Jw2I0ATiKO+JtItQPC88WyMADFAY2XNSYXDLUCdrBWfkpQpQGM5iugrpSRAuZlhir+LGUDM0Uy2OTgyQBc6FWZqUCNAy5vWY0ojKEAldGCa69gdQMM9B4d7ripAO/tLNDZ+JUA/cIHYe1kkQNS528EE8CRAGcQuzyjpJUAWMWkomMojQD4UcT4U8TBA9IosMKYhLUCYxdPrBt4lQKjWGytTIydAYOvG10AFK0C0R2BC9bouQKgM1Li5MyhAPjrIYpAxKEBWgQIZP3ouQIF4FloGIhtArcU41hp6IEA93K8Oil4gQBC6lQShWyhAHNwhsC/IJkC/pNilHIMqQGHew+E33ChA/ReXzl3uK0Aa7xnkoXgmQNsWFwrVOihAlzQAWStbKkBSRPPj35csQFvUjWA9Hi1A35bXRm2SJEDmyP6fX4ImQMNLrOIP4jpA8+U7V7kfMUA1a7mm1TA1QJWJv0zRfDhADbVnfAOQMEABi0GwC7YlQI8XlR8ZBClAzFwGpuJAL0AyVCmKtVstQIWQB8+oyC5Acih+Xca/NUAYN4IcLIswQCCNxcF5tDFAu7LZuhV/LUAAneVsA9U1QMuiwsJmKClAlc+w5n4mMkD6OQjiWpA4QBSRnx0u9SlAcew7xl6aKkD5mK+xvcIqQPB8gaKuBixAjshpHyhvMEATKvMduk0vQGb3jMcukzJA+DhVukf7I0ARtJrghz8tQJGMeB4J6ShAc9QV7zfhMUCudPokgY0tQO1kTlttjjBAFM5uarsYK0BvMzncD30oQEdC8CatYypA3WiB3Q/HLEBzv72V6ZsnQG3pXVAijClAMemGO4bTMUDX1kZ5npwqQAuK5n9bLCdAQOluIEtHJkDvYnx6tisuQCf2TRpTmzBAcpoT4GSWMUAJujIm7BotQGzBFmzBFiBAc185W8suJkCpAGhSFeclQMZoCjZHOCxA9K+bQG4LLUDbtm3btrM1QIrS+MgEeitA+2UvrHLbKUB+cQBTlwAlQNAH02YvZCpAl3VR0ImRK0AmrAplkdEtQNJONQlWRzlA32Cgwhn+J0C6LLicU4QwQORqF6vCtitAXK1YSjAYL0AWxSPhWwEoQF8F7IyyUTFA+ha3lGYvMEBYsrLkbZsiQKdWo8MdFTRARbnLU1+0NEBR33wy+0ItQN2rANReeSxAH79nCtzSLkCY/K+nZL0vQHg4uA0qlypAbqrDguDKLkAaOf8115ItQEc/XD1rIjBAim73LxGSKEDTL/6v9dgnQLPvPpVrLSpA35nJ9oGjKkAr80S3ho4sQDyLAYl0UjFA6As39vRaLUDjrCN5t9wwQFh4hVd4NTJA2tQSUBIqIUCRU05cjGEqQKCo2XHFQixAIuc7nsj5LkCAfGBkh8IyQEkVvY74oC9AHuv1A2OrKEA/xWwvg2QuQPyYH7+rqChABzGQUoj1LECUUe4+TbUsQCKf8cBqNSRA3WaYBf6BLEC8ShTsXA0vQE2oAl23kS1A",
          "dtype": "f8"
         },
         "yaxis": "y"
        },
        {
         "box": {
          "visible": true
         },
         "line": {
          "color": "#6C8EBF"
         },
         "meanline": {
          "visible": true
         },
         "scalemode": "count",
         "showlegend": false,
         "type": "violin",
         "width": 0.85,
         "x": [
          "Iodine-stained",
          "Iodine-stained",
          "Iodine-stained",
          "Iodine-stained",
          "Iodine-stained",
          "Iodine-stained",
          "Iodine-stained",
          "Iodine-stained",
          "Iodine-stained",
          "Iodine-stained",
          "Iodine-stained",
          "Iodine-stained",
          "Iodine-stained",
          "Iodine-stained",
          "Iodine-stained",
          "Iodine-stained",
          "Iodine-stained",
          "Iodine-stained",
          "Iodine-stained",
          "Iodine-stained",
          "Iodine-stained",
          "Iodine-stained",
          "Iodine-stained",
          "Iodine-stained",
          "Iodine-stained",
          "Iodine-stained",
          "Iodine-stained",
          "Iodine-stained",
          "Iodine-stained",
          "Iodine-stained",
          "Iodine-stained",
          "Iodine-stained",
          "Iodine-stained",
          "Iodine-stained",
          "Iodine-stained",
          "Iodine-stained",
          "Iodine-stained",
          "Iodine-stained",
          "Iodine-stained",
          "Iodine-stained"
         ],
         "xaxis": "x2",
         "y": {
          "bdata": "0Ge1WZz8A0DaC8AZ1b0DQH4Cn/gt3wBAcQ2lyabUA0AWjUC8HaEAQLUuQlU96QFA3tzcrBZQA0BP0cH5l0wJQLj0NqqaOgFAQk6RWNUMBkCIVLkeqw8KQMYghxb1zQhAU6L83DkGBEBzBiXPVEwFQBrV/55pYgZAwGYmk3koDEC7Ev4p24UAQOf79fBFxQlAjdEBvSUcCUCl+WduDogMQCo7qxvAQw9A6q9Ro15RE0CqokBrRKwJQGVg5uPTRgBA0HJBU+szCUDbpsLkVTMCQEHk29K5UBBABnN1dSXQEEBjU0KqDWgFQLzCl6OZpQRAnmYJX6TnD0B6zmPZbCQSQK4mnQkdgQFAMnZqnRkjCECJIXM9QI0AQBYWUOM9VAtAqPZGwZ20DkA2YGYohUEMQNBWS2+SDgBAmGq7Wzr5DUA=",
          "dtype": "f8"
         },
         "yaxis": "y2"
        },
        {
         "box": {
          "visible": true
         },
         "line": {
          "color": "#82B366"
         },
         "meanline": {
          "visible": true
         },
         "scalemode": "count",
         "showlegend": false,
         "type": "violin",
         "width": 0.85,
         "x": [
          "PTA-stained",
          "PTA-stained",
          "PTA-stained",
          "PTA-stained",
          "PTA-stained",
          "PTA-stained",
          "PTA-stained",
          "PTA-stained",
          "PTA-stained",
          "PTA-stained",
          "PTA-stained",
          "PTA-stained",
          "PTA-stained",
          "PTA-stained",
          "PTA-stained",
          "PTA-stained",
          "PTA-stained",
          "PTA-stained",
          "PTA-stained",
          "PTA-stained",
          "PTA-stained",
          "PTA-stained",
          "PTA-stained",
          "PTA-stained",
          "PTA-stained",
          "PTA-stained",
          "PTA-stained",
          "PTA-stained",
          "PTA-stained",
          "PTA-stained",
          "PTA-stained",
          "PTA-stained",
          "PTA-stained",
          "PTA-stained",
          "PTA-stained",
          "PTA-stained",
          "PTA-stained",
          "PTA-stained",
          "PTA-stained",
          "PTA-stained",
          "PTA-stained",
          "PTA-stained",
          "PTA-stained",
          "PTA-stained",
          "PTA-stained",
          "PTA-stained",
          "PTA-stained",
          "PTA-stained",
          "PTA-stained",
          "PTA-stained",
          "PTA-stained",
          "PTA-stained",
          "PTA-stained",
          "PTA-stained",
          "PTA-stained",
          "PTA-stained",
          "PTA-stained",
          "PTA-stained",
          "PTA-stained",
          "PTA-stained",
          "PTA-stained",
          "PTA-stained",
          "PTA-stained",
          "PTA-stained",
          "PTA-stained",
          "PTA-stained",
          "PTA-stained",
          "PTA-stained",
          "PTA-stained",
          "PTA-stained",
          "PTA-stained",
          "PTA-stained",
          "PTA-stained",
          "PTA-stained",
          "PTA-stained",
          "PTA-stained",
          "PTA-stained",
          "PTA-stained",
          "PTA-stained",
          "PTA-stained",
          "PTA-stained",
          "PTA-stained",
          "PTA-stained",
          "PTA-stained",
          "PTA-stained",
          "PTA-stained",
          "PTA-stained",
          "PTA-stained",
          "PTA-stained",
          "PTA-stained"
         ],
         "xaxis": "x2",
         "y": {
          "bdata": "+56b0ADzGkCuLRAwCuQVQBVUEiovxgxAi4TabsZHA0DCnYPqmdMPQPMLwYgbUBtAwphrHjWMEUD/Elbg9uYNQA5SFUREEQFAQkHmb8p1FUDzFONsMwoMQMaCnFCvBhRAIZQBnkC+B0CibanmEXoEQBSYtcJXXAtAtkstHRR5HEDcuRWyr8ITQCbF4DgFgRdAbYfFyeWKDEBicKkuWhMZQDQZPfzdnhFA1swpcxwYBkChVXyJ+NoIQDAtBTn2vBFA5KDfl0/6DkBn4NNqaIESQCg8DHomhwhAoLEgKoltEkCWbLdXICUFQAwlkFvLuglA1twidZ8WDUCu6DB0e7MAQPtWSXKXgwFAYmXB8NSzAECSDT1xua0FQFgb4YA1eg5Ak9IYwbMQC0DYo+FTmuYRQLCXJLf3/wZAJaRMH6TqBUCgfnRiadwWQP6skC8k5gNAqqQCM7sjAUA+wYTRyXkHQFgtTtlU+ARAmMlqqz01EECfpdyU1q0RQFH+HVfR0BRAKE0t0lihHUAmkEsUuyEVQDK9aDf+KRBAq/Ji6KAfBUDPBupr1UEGQJV3kH713QlACy8L6RbLC0DtcEonikcOQE6Ptog6IhVA+UO3c4IdEkAkpjHLkf4FQI5lSvdyYQ1A+pqld4XjBED8EmFcYCQLQCyQrxoIJgdAUuX5rC3fDkBs0KlxPO0BQLZcRebrlRVAK6r3CLBoD0AUepwkFT0VQGv8BwVObg5ARJD/lTZFEkD08S9UZ9YUQD7JUxvSKCRAep/e+kBXBkAY4K82/twPQD79GqOqHg5AoI8lIdkIEECGP7YPlfQQQI0QfJ5DxhJAa4rKgqh9CEBad8pgaasBQCbKq/nz0A1AgBlNsHe6BUA4Ztj/YL4FQEVuhulcSAFAl7Z49ZP3CkClQ3tWEqgRQLrXOFUp3xVA1v6JZoOtE0DZFK9KlqkFQPAZfa6LKgRA",
          "dtype": "f8"
         },
         "yaxis": "y2"
        },
        {
         "box": {
          "visible": true
         },
         "line": {
          "color": "#6C8EBF"
         },
         "meanline": {
          "visible": true
         },
         "scalemode": "count",
         "showlegend": false,
         "type": "violin",
         "width": 0.85,
         "x": [
          "Iodine-stained",
          "Iodine-stained",
          "Iodine-stained",
          "Iodine-stained",
          "Iodine-stained",
          "Iodine-stained",
          "Iodine-stained",
          "Iodine-stained",
          "Iodine-stained",
          "Iodine-stained",
          "Iodine-stained",
          "Iodine-stained",
          "Iodine-stained",
          "Iodine-stained",
          "Iodine-stained",
          "Iodine-stained",
          "Iodine-stained",
          "Iodine-stained",
          "Iodine-stained",
          "Iodine-stained",
          "Iodine-stained",
          "Iodine-stained",
          "Iodine-stained",
          "Iodine-stained",
          "Iodine-stained",
          "Iodine-stained",
          "Iodine-stained",
          "Iodine-stained",
          "Iodine-stained",
          "Iodine-stained",
          "Iodine-stained",
          "Iodine-stained",
          "Iodine-stained",
          "Iodine-stained",
          "Iodine-stained",
          "Iodine-stained",
          "Iodine-stained",
          "Iodine-stained",
          "Iodine-stained",
          "Iodine-stained",
          "Iodine-stained",
          "Iodine-stained",
          "Iodine-stained",
          "Iodine-stained",
          "Iodine-stained",
          "Iodine-stained",
          "Iodine-stained",
          "Iodine-stained",
          "Iodine-stained",
          "Iodine-stained",
          "Iodine-stained",
          "Iodine-stained",
          "Iodine-stained",
          "Iodine-stained",
          "Iodine-stained",
          "Iodine-stained",
          "Iodine-stained",
          "Iodine-stained",
          "Iodine-stained",
          "Iodine-stained",
          "Iodine-stained",
          "Iodine-stained",
          "Iodine-stained",
          "Iodine-stained",
          "Iodine-stained",
          "Iodine-stained",
          "Iodine-stained",
          "Iodine-stained",
          "Iodine-stained",
          "Iodine-stained",
          "Iodine-stained",
          "Iodine-stained",
          "Iodine-stained",
          "Iodine-stained",
          "Iodine-stained",
          "Iodine-stained",
          "Iodine-stained",
          "Iodine-stained",
          "Iodine-stained",
          "Iodine-stained"
         ],
         "xaxis": "x3",
         "y": {
          "bdata": "3SQGgZXDU0CLbOf7qXlSQL6fGi/dRFdAXrpJDAJ7WUCgGi/dJGZcQDm0yHa+z1RAXI/C9SisUUCsHFpkO+9WQL6fGi/dfFtApHA9CtfbVUC6SQwCKydSQA4tsp3vn1FAg8DKoUWWVECcxCCwcthYQFg5tMh2BlxAFK5H4Xp8VEC28/3UeMFQQHe+nxovVVVADAIrhxZJV0CJQWDl0EpUQIcW2c73P2NAsHJoke1gYEDpJjEIrPxgQOkmMQisdGFA001iEFg9YUCDwMqhRV5XQJhuEoPAsldAZmZmZmbWYEB7FK5H4bJYQDvfT42XFlpAKVyPwvU4XUAj2/l+ahRZQNnO91Pj5VtA16NwPQpHXUBSuB6F65leQDeJQWDlqFRA+FPjpZsMVEBoke18P51bQH0/NV66YVFA+FPjpZukWUBt5/up8XpdQNnO91PjZVpAL90kBoEtW0CLbOf7qbFdQAisHFpkw11Asp3vp8Z7WUBt5/up8TpXQLpJDAIrT15ATmIQWDk0XEBkO99PjedaQLKd76fGm1dATmIQWDnEWUDRItv5fqJZQNEi2/l+sltA2c73U+P1WkCcxCCwcnhVQJMYBFYOVVdAi2zn+6khV0CcxCCwcshVQJzEILByKFVAnMQgsHJ4XkCcxCCwcshdQB+F61G4Nl1ACKwcWmSjWUBOYhBYObRaQJzEILBy6FZAi2zn+6nBV0DZzvdT4/VfQJMYBFYONVxAdZMYBFbeXED4U+Olm0xXQCcxCKwcWllAdZMYBFYeWEAnMQisHKpZQLKd76fGe1pA0SLb+X5yV0AnMQisHKpaQB+F61G4FlhAi2zn+6nBVkAv3SQGgT1WQA==",
          "dtype": "f8"
         },
         "yaxis": "y3"
        },
        {
         "box": {
          "visible": true
         },
         "line": {
          "color": "#82B366"
         },
         "meanline": {
          "visible": true
         },
         "scalemode": "count",
         "showlegend": false,
         "type": "violin",
         "width": 0.85,
         "x": [
          "PTA-stained",
          "PTA-stained",
          "PTA-stained",
          "PTA-stained",
          "PTA-stained",
          "PTA-stained",
          "PTA-stained",
          "PTA-stained",
          "PTA-stained",
          "PTA-stained",
          "PTA-stained",
          "PTA-stained",
          "PTA-stained",
          "PTA-stained",
          "PTA-stained",
          "PTA-stained",
          "PTA-stained",
          "PTA-stained",
          "PTA-stained",
          "PTA-stained",
          "PTA-stained",
          "PTA-stained",
          "PTA-stained",
          "PTA-stained",
          "PTA-stained",
          "PTA-stained",
          "PTA-stained",
          "PTA-stained",
          "PTA-stained",
          "PTA-stained",
          "PTA-stained",
          "PTA-stained",
          "PTA-stained",
          "PTA-stained",
          "PTA-stained",
          "PTA-stained",
          "PTA-stained",
          "PTA-stained",
          "PTA-stained",
          "PTA-stained",
          "PTA-stained",
          "PTA-stained",
          "PTA-stained",
          "PTA-stained",
          "PTA-stained",
          "PTA-stained",
          "PTA-stained",
          "PTA-stained",
          "PTA-stained",
          "PTA-stained",
          "PTA-stained",
          "PTA-stained",
          "PTA-stained",
          "PTA-stained",
          "PTA-stained",
          "PTA-stained",
          "PTA-stained",
          "PTA-stained",
          "PTA-stained",
          "PTA-stained",
          "PTA-stained",
          "PTA-stained",
          "PTA-stained",
          "PTA-stained",
          "PTA-stained",
          "PTA-stained",
          "PTA-stained",
          "PTA-stained",
          "PTA-stained",
          "PTA-stained",
          "PTA-stained",
          "PTA-stained",
          "PTA-stained",
          "PTA-stained",
          "PTA-stained",
          "PTA-stained",
          "PTA-stained",
          "PTA-stained",
          "PTA-stained",
          "PTA-stained",
          "PTA-stained",
          "PTA-stained",
          "PTA-stained",
          "PTA-stained",
          "PTA-stained",
          "PTA-stained",
          "PTA-stained",
          "PTA-stained",
          "PTA-stained",
          "PTA-stained",
          "PTA-stained",
          "PTA-stained",
          "PTA-stained",
          "PTA-stained",
          "PTA-stained",
          "PTA-stained",
          "PTA-stained",
          "PTA-stained",
          "PTA-stained",
          "PTA-stained",
          "PTA-stained",
          "PTA-stained",
          "PTA-stained",
          "PTA-stained",
          "PTA-stained",
          "PTA-stained",
          "PTA-stained",
          "PTA-stained",
          "PTA-stained",
          "PTA-stained",
          "PTA-stained",
          "PTA-stained",
          "PTA-stained",
          "PTA-stained",
          "PTA-stained",
          "PTA-stained",
          "PTA-stained",
          "PTA-stained",
          "PTA-stained",
          "PTA-stained",
          "PTA-stained",
          "PTA-stained",
          "PTA-stained",
          "PTA-stained",
          "PTA-stained",
          "PTA-stained",
          "PTA-stained",
          "PTA-stained",
          "PTA-stained",
          "PTA-stained",
          "PTA-stained",
          "PTA-stained",
          "PTA-stained",
          "PTA-stained",
          "PTA-stained",
          "PTA-stained",
          "PTA-stained",
          "PTA-stained",
          "PTA-stained",
          "PTA-stained",
          "PTA-stained",
          "PTA-stained",
          "PTA-stained",
          "PTA-stained",
          "PTA-stained",
          "PTA-stained",
          "PTA-stained",
          "PTA-stained",
          "PTA-stained",
          "PTA-stained",
          "PTA-stained",
          "PTA-stained",
          "PTA-stained",
          "PTA-stained",
          "PTA-stained",
          "PTA-stained",
          "PTA-stained",
          "PTA-stained",
          "PTA-stained",
          "PTA-stained",
          "PTA-stained",
          "PTA-stained",
          "PTA-stained",
          "PTA-stained",
          "PTA-stained",
          "PTA-stained",
          "PTA-stained",
          "PTA-stained",
          "PTA-stained",
          "PTA-stained",
          "PTA-stained",
          "PTA-stained",
          "PTA-stained",
          "PTA-stained",
          "PTA-stained",
          "PTA-stained",
          "PTA-stained",
          "PTA-stained",
          "PTA-stained",
          "PTA-stained"
         ],
         "xaxis": "x3",
         "y": {
          "bdata": "ke18PzVeYkCkcD0K1wNpQClcj8L1EGRAf2q8dJOIX0BmZmZmZkZjQIPAyqFFWmBArkfhehQWX0DZzvdT40lgQHNoke18A2NAi2zn+6ltYEBcj8L1KLRWQEw3iUFgbWBAsp3vp8ZrW0D8qfHSTQZgQFTjpZvEJGBA6SYxCKw0W0BvEoPAyrFdQI2XbhKDeFZAtMh2vp+aX0AAAAAAAHhXQFYOLbKd71pAHVpkO9+TYUAhsHJokWFjQGIQWDm0lGBAAAAAAAAAYUAdWmQ73z9bQGZmZmZm5lxA+FPjpZtYYkCgGi/dJOJiQNNNYhBY1WFAppvEILBKVkAdWmQ732dTQBSuR+F6LFhAMzMzMzNjW0AhsHJokR1dQLTIdr6fCldAQmDl0CIrW0CgGi/dJLZaQJMYBFYO7VZAPzVeuknsV0BeukkMAmtkQHnpJjEI0GZAcT0K16NMYEAEVg4tsoFjQNV46SYx7GZA8KfGSzfpWkDjpZvEIOxnQLbz/dR4EVxAWDm0yHbqZkDHSzeJQdRhQIXrUbgeCWBALbKd76dOYUBCYOXQIktcQOXQItv5BmJArkfhehTGYUBxPQrXo2xgQGq8dJMYqGNAWDm0yHbOXkBiEFg5tJRgQIPAyqFF3l1Ake18PzUOZkArhxbZznNpQHWTGARWqmVAke18PzViZkCHFtnO9/dmQKjGSzeJEWNAPzVeukkUZECHFtnO92dgQB1aZDvfx2ZAI9v5fmqQZkDZzvdT44liQGQ730+NJ2VAjZduEoP4Y0DhehSuRyFkQHsUrkfhUmVA001iEFh5YkBoke18P9VjQMHKoUW2m2BAXI/C9SioYEDsUbgehfdiQB+F61G4HmVAiUFg5dCaY0BqvHSTGFRlQClcj8L1LGVAvHSTGAR2Y0BxPQrXo3BZQAaBlUOL+GFAtvP91HipYEAbL90kBgFmQCUGgZVDy2NA+FPjpZsAYUDFILByaH1gQFK4HoXryWBAWmQ7309dXECPwvUoXI9iQO58PzVe4llAtMh2vp9iYEA9CtejcA1gQP7UeOkmoV9AMzMzMzMrX0CuR+F6FIZdQNNNYhBY8V9AeekmMQjQYUAzMzMzM49hQB+F61G47mJA2/l+arw8U0DpJjEIrHRgQIcW2c73q1xAGQRWDi3WZEDP91PjpZdiQJzEILByIFhAMzMzMzOTWkDP91PjpSNeQF66SQwCT2BA+FPjpZuoYECF61G4Hk1VQI2XbhKD+FxAcT0K16PoWkBzaJHtfIdgQH9qvHSTGFpAyXa+nxoPX0B9PzVeuk1jQP7UeOkmiWNATDeJQWCJYEDLoUW287lgQFyPwvUoLFZAFK5H4XocYUDD9Shcj4pZQOkmMQiskGJAXI/C9SjEYUB7FK5H4SpdQAAAAAAAkFtAsp3vp8aDXkCoxks3iUlbQGDl0CLbUWBA8tJNYhAgWUCamZmZmYlbQPyp8dJNKl1AH4XrUbjeWUCPwvUoXK9dQHE9CtejRGZAi2zn+6npZkAnMQisHIZhQDeJQWDlOGRANV66SQwKZEACK4cW2WZeQDeJQWDlgGJAarx0kxiUa0AdWmQ73/tjQD81XrpJAGNAPQrXo3AdYECBlUOLbBdjQCcxCKwcHmFAdZMYBFZyYkCoxks3iQ1hQEJg5dAie1tAaJHtfD/VXkBkO99Pje9aQFK4HoXrUV5ACtejcD0qXkDRItv5fl5iQCUGgZVDY2NAokW28/18Y0DhehSuR6VkQFK4HoXrTWVAcT0K16OIW0CwcmiR7WxgQK5H4XoUVmFAPzVeukkMZUDJdr6fGg9kQBSuR+F6JF9AUrgeheuxXkAGgZVDi4xiQGDl0CLbPWNAH4XrUbjmYkDfT42XbkpeQFK4HoXrGWBAeekmMQgkYEArhxbZzg9gQFTjpZvE6F1A",
          "dtype": "f8"
         },
         "yaxis": "y3"
        }
       ],
       "layout": {
        "annotations": [
         {
          "font": {
           "size": 18
          },
          "showarrow": false,
          "text": "(a) Signal-to-noise ratio - SNR",
          "x": 0.13333333333333333,
          "xanchor": "center",
          "xref": "paper",
          "y": 1.13,
          "yanchor": "bottom",
          "yref": "paper"
         },
         {
          "font": {
           "size": 18
          },
          "showarrow": false,
          "text": "(b) Contrast-to-noise ratio - CNR",
          "x": 0.5,
          "xanchor": "center",
          "xref": "paper",
          "y": 1.13,
          "yanchor": "bottom",
          "yref": "paper"
         },
         {
          "font": {
           "size": 18
          },
          "showarrow": false,
          "text": "(c) Mean intensity",
          "x": 0.8666666666666667,
          "xanchor": "center",
          "xref": "paper",
          "y": 1.13,
          "yanchor": "bottom",
          "yref": "paper"
         }
        ],
        "font": {
         "size": 18
        },
        "height": 300,
        "margin": {
         "b": 60,
         "l": 10,
         "r": 10,
         "t": 60
        },
        "shapes": [
         {
          "line": {
           "color": "dimgrey",
           "width": 2
          },
          "type": "line",
          "x0": 0,
          "x1": 0,
          "xref": "x",
          "y0": 0.98,
          "y1": 1.04,
          "yref": "y domain"
         },
         {
          "line": {
           "color": "dimgrey",
           "width": 2
          },
          "type": "line",
          "x0": 0,
          "x1": 1,
          "xref": "x",
          "y0": 1.04,
          "y1": 1.04,
          "yref": "y domain"
         },
         {
          "line": {
           "color": "dimgrey",
           "width": 2
          },
          "type": "line",
          "x0": 1,
          "x1": 1,
          "xref": "x",
          "y0": 1.04,
          "y1": 0.98,
          "yref": "y domain"
         },
         {
          "line": {
           "color": "dimgrey",
           "width": 2
          },
          "type": "line",
          "x0": 0,
          "x1": 0,
          "xref": "x2",
          "y0": 0.98,
          "y1": 1.04,
          "yref": "y2 domain"
         },
         {
          "line": {
           "color": "dimgrey",
           "width": 2
          },
          "type": "line",
          "x0": 0,
          "x1": 1,
          "xref": "x2",
          "y0": 1.04,
          "y1": 1.04,
          "yref": "y2 domain"
         },
         {
          "line": {
           "color": "dimgrey",
           "width": 2
          },
          "type": "line",
          "x0": 1,
          "x1": 1,
          "xref": "x2",
          "y0": 1.04,
          "y1": 0.98,
          "yref": "y2 domain"
         },
         {
          "line": {
           "color": "dimgrey",
           "width": 2
          },
          "type": "line",
          "x0": 0,
          "x1": 0,
          "xref": "x3",
          "y0": 0.98,
          "y1": 1.04,
          "yref": "y3 domain"
         },
         {
          "line": {
           "color": "dimgrey",
           "width": 2
          },
          "type": "line",
          "x0": 0,
          "x1": 1,
          "xref": "x3",
          "y0": 1.04,
          "y1": 1.04,
          "yref": "y3 domain"
         },
         {
          "line": {
           "color": "dimgrey",
           "width": 2
          },
          "type": "line",
          "x0": 1,
          "x1": 1,
          "xref": "x3",
          "y0": 1.04,
          "y1": 0.98,
          "yref": "y3 domain"
         }
        ],
        "template": {
         "data": {
          "bar": [
           {
            "error_x": {
             "color": "#2a3f5f"
            },
            "error_y": {
             "color": "#2a3f5f"
            },
            "marker": {
             "line": {
              "color": "white",
              "width": 0.5
             },
             "pattern": {
              "fillmode": "overlay",
              "size": 10,
              "solidity": 0.2
             }
            },
            "type": "bar"
           }
          ],
          "barpolar": [
           {
            "marker": {
             "line": {
              "color": "white",
              "width": 0.5
             },
             "pattern": {
              "fillmode": "overlay",
              "size": 10,
              "solidity": 0.2
             }
            },
            "type": "barpolar"
           }
          ],
          "carpet": [
           {
            "aaxis": {
             "endlinecolor": "#2a3f5f",
             "gridcolor": "#C8D4E3",
             "linecolor": "#C8D4E3",
             "minorgridcolor": "#C8D4E3",
             "startlinecolor": "#2a3f5f"
            },
            "baxis": {
             "endlinecolor": "#2a3f5f",
             "gridcolor": "#C8D4E3",
             "linecolor": "#C8D4E3",
             "minorgridcolor": "#C8D4E3",
             "startlinecolor": "#2a3f5f"
            },
            "type": "carpet"
           }
          ],
          "choropleth": [
           {
            "colorbar": {
             "outlinewidth": 0,
             "ticks": ""
            },
            "type": "choropleth"
           }
          ],
          "contour": [
           {
            "colorbar": {
             "outlinewidth": 0,
             "ticks": ""
            },
            "colorscale": [
             [
              0,
              "#0d0887"
             ],
             [
              0.1111111111111111,
              "#46039f"
             ],
             [
              0.2222222222222222,
              "#7201a8"
             ],
             [
              0.3333333333333333,
              "#9c179e"
             ],
             [
              0.4444444444444444,
              "#bd3786"
             ],
             [
              0.5555555555555556,
              "#d8576b"
             ],
             [
              0.6666666666666666,
              "#ed7953"
             ],
             [
              0.7777777777777778,
              "#fb9f3a"
             ],
             [
              0.8888888888888888,
              "#fdca26"
             ],
             [
              1,
              "#f0f921"
             ]
            ],
            "type": "contour"
           }
          ],
          "contourcarpet": [
           {
            "colorbar": {
             "outlinewidth": 0,
             "ticks": ""
            },
            "type": "contourcarpet"
           }
          ],
          "heatmap": [
           {
            "colorbar": {
             "outlinewidth": 0,
             "ticks": ""
            },
            "colorscale": [
             [
              0,
              "#0d0887"
             ],
             [
              0.1111111111111111,
              "#46039f"
             ],
             [
              0.2222222222222222,
              "#7201a8"
             ],
             [
              0.3333333333333333,
              "#9c179e"
             ],
             [
              0.4444444444444444,
              "#bd3786"
             ],
             [
              0.5555555555555556,
              "#d8576b"
             ],
             [
              0.6666666666666666,
              "#ed7953"
             ],
             [
              0.7777777777777778,
              "#fb9f3a"
             ],
             [
              0.8888888888888888,
              "#fdca26"
             ],
             [
              1,
              "#f0f921"
             ]
            ],
            "type": "heatmap"
           }
          ],
          "histogram": [
           {
            "marker": {
             "pattern": {
              "fillmode": "overlay",
              "size": 10,
              "solidity": 0.2
             }
            },
            "type": "histogram"
           }
          ],
          "histogram2d": [
           {
            "colorbar": {
             "outlinewidth": 0,
             "ticks": ""
            },
            "colorscale": [
             [
              0,
              "#0d0887"
             ],
             [
              0.1111111111111111,
              "#46039f"
             ],
             [
              0.2222222222222222,
              "#7201a8"
             ],
             [
              0.3333333333333333,
              "#9c179e"
             ],
             [
              0.4444444444444444,
              "#bd3786"
             ],
             [
              0.5555555555555556,
              "#d8576b"
             ],
             [
              0.6666666666666666,
              "#ed7953"
             ],
             [
              0.7777777777777778,
              "#fb9f3a"
             ],
             [
              0.8888888888888888,
              "#fdca26"
             ],
             [
              1,
              "#f0f921"
             ]
            ],
            "type": "histogram2d"
           }
          ],
          "histogram2dcontour": [
           {
            "colorbar": {
             "outlinewidth": 0,
             "ticks": ""
            },
            "colorscale": [
             [
              0,
              "#0d0887"
             ],
             [
              0.1111111111111111,
              "#46039f"
             ],
             [
              0.2222222222222222,
              "#7201a8"
             ],
             [
              0.3333333333333333,
              "#9c179e"
             ],
             [
              0.4444444444444444,
              "#bd3786"
             ],
             [
              0.5555555555555556,
              "#d8576b"
             ],
             [
              0.6666666666666666,
              "#ed7953"
             ],
             [
              0.7777777777777778,
              "#fb9f3a"
             ],
             [
              0.8888888888888888,
              "#fdca26"
             ],
             [
              1,
              "#f0f921"
             ]
            ],
            "type": "histogram2dcontour"
           }
          ],
          "mesh3d": [
           {
            "colorbar": {
             "outlinewidth": 0,
             "ticks": ""
            },
            "type": "mesh3d"
           }
          ],
          "parcoords": [
           {
            "line": {
             "colorbar": {
              "outlinewidth": 0,
              "ticks": ""
             }
            },
            "type": "parcoords"
           }
          ],
          "pie": [
           {
            "automargin": true,
            "type": "pie"
           }
          ],
          "scatter": [
           {
            "fillpattern": {
             "fillmode": "overlay",
             "size": 10,
             "solidity": 0.2
            },
            "type": "scatter"
           }
          ],
          "scatter3d": [
           {
            "line": {
             "colorbar": {
              "outlinewidth": 0,
              "ticks": ""
             }
            },
            "marker": {
             "colorbar": {
              "outlinewidth": 0,
              "ticks": ""
             }
            },
            "type": "scatter3d"
           }
          ],
          "scattercarpet": [
           {
            "marker": {
             "colorbar": {
              "outlinewidth": 0,
              "ticks": ""
             }
            },
            "type": "scattercarpet"
           }
          ],
          "scattergeo": [
           {
            "marker": {
             "colorbar": {
              "outlinewidth": 0,
              "ticks": ""
             }
            },
            "type": "scattergeo"
           }
          ],
          "scattergl": [
           {
            "marker": {
             "colorbar": {
              "outlinewidth": 0,
              "ticks": ""
             }
            },
            "type": "scattergl"
           }
          ],
          "scattermap": [
           {
            "marker": {
             "colorbar": {
              "outlinewidth": 0,
              "ticks": ""
             }
            },
            "type": "scattermap"
           }
          ],
          "scattermapbox": [
           {
            "marker": {
             "colorbar": {
              "outlinewidth": 0,
              "ticks": ""
             }
            },
            "type": "scattermapbox"
           }
          ],
          "scatterpolar": [
           {
            "marker": {
             "colorbar": {
              "outlinewidth": 0,
              "ticks": ""
             }
            },
            "type": "scatterpolar"
           }
          ],
          "scatterpolargl": [
           {
            "marker": {
             "colorbar": {
              "outlinewidth": 0,
              "ticks": ""
             }
            },
            "type": "scatterpolargl"
           }
          ],
          "scatterternary": [
           {
            "marker": {
             "colorbar": {
              "outlinewidth": 0,
              "ticks": ""
             }
            },
            "type": "scatterternary"
           }
          ],
          "surface": [
           {
            "colorbar": {
             "outlinewidth": 0,
             "ticks": ""
            },
            "colorscale": [
             [
              0,
              "#0d0887"
             ],
             [
              0.1111111111111111,
              "#46039f"
             ],
             [
              0.2222222222222222,
              "#7201a8"
             ],
             [
              0.3333333333333333,
              "#9c179e"
             ],
             [
              0.4444444444444444,
              "#bd3786"
             ],
             [
              0.5555555555555556,
              "#d8576b"
             ],
             [
              0.6666666666666666,
              "#ed7953"
             ],
             [
              0.7777777777777778,
              "#fb9f3a"
             ],
             [
              0.8888888888888888,
              "#fdca26"
             ],
             [
              1,
              "#f0f921"
             ]
            ],
            "type": "surface"
           }
          ],
          "table": [
           {
            "cells": {
             "fill": {
              "color": "#EBF0F8"
             },
             "line": {
              "color": "white"
             }
            },
            "header": {
             "fill": {
              "color": "#C8D4E3"
             },
             "line": {
              "color": "white"
             }
            },
            "type": "table"
           }
          ]
         },
         "layout": {
          "annotationdefaults": {
           "arrowcolor": "#2a3f5f",
           "arrowhead": 0,
           "arrowwidth": 1
          },
          "autotypenumbers": "strict",
          "coloraxis": {
           "colorbar": {
            "outlinewidth": 0,
            "ticks": ""
           }
          },
          "colorscale": {
           "diverging": [
            [
             0,
             "#8e0152"
            ],
            [
             0.1,
             "#c51b7d"
            ],
            [
             0.2,
             "#de77ae"
            ],
            [
             0.3,
             "#f1b6da"
            ],
            [
             0.4,
             "#fde0ef"
            ],
            [
             0.5,
             "#f7f7f7"
            ],
            [
             0.6,
             "#e6f5d0"
            ],
            [
             0.7,
             "#b8e186"
            ],
            [
             0.8,
             "#7fbc41"
            ],
            [
             0.9,
             "#4d9221"
            ],
            [
             1,
             "#276419"
            ]
           ],
           "sequential": [
            [
             0,
             "#0d0887"
            ],
            [
             0.1111111111111111,
             "#46039f"
            ],
            [
             0.2222222222222222,
             "#7201a8"
            ],
            [
             0.3333333333333333,
             "#9c179e"
            ],
            [
             0.4444444444444444,
             "#bd3786"
            ],
            [
             0.5555555555555556,
             "#d8576b"
            ],
            [
             0.6666666666666666,
             "#ed7953"
            ],
            [
             0.7777777777777778,
             "#fb9f3a"
            ],
            [
             0.8888888888888888,
             "#fdca26"
            ],
            [
             1,
             "#f0f921"
            ]
           ],
           "sequentialminus": [
            [
             0,
             "#0d0887"
            ],
            [
             0.1111111111111111,
             "#46039f"
            ],
            [
             0.2222222222222222,
             "#7201a8"
            ],
            [
             0.3333333333333333,
             "#9c179e"
            ],
            [
             0.4444444444444444,
             "#bd3786"
            ],
            [
             0.5555555555555556,
             "#d8576b"
            ],
            [
             0.6666666666666666,
             "#ed7953"
            ],
            [
             0.7777777777777778,
             "#fb9f3a"
            ],
            [
             0.8888888888888888,
             "#fdca26"
            ],
            [
             1,
             "#f0f921"
            ]
           ]
          },
          "colorway": [
           "#636efa",
           "#EF553B",
           "#00cc96",
           "#ab63fa",
           "#FFA15A",
           "#19d3f3",
           "#FF6692",
           "#B6E880",
           "#FF97FF",
           "#FECB52"
          ],
          "font": {
           "color": "#2a3f5f"
          },
          "geo": {
           "bgcolor": "white",
           "lakecolor": "white",
           "landcolor": "white",
           "showlakes": true,
           "showland": true,
           "subunitcolor": "#C8D4E3"
          },
          "hoverlabel": {
           "align": "left"
          },
          "hovermode": "closest",
          "mapbox": {
           "style": "light"
          },
          "paper_bgcolor": "white",
          "plot_bgcolor": "white",
          "polar": {
           "angularaxis": {
            "gridcolor": "#EBF0F8",
            "linecolor": "#EBF0F8",
            "ticks": ""
           },
           "bgcolor": "white",
           "radialaxis": {
            "gridcolor": "#EBF0F8",
            "linecolor": "#EBF0F8",
            "ticks": ""
           }
          },
          "scene": {
           "xaxis": {
            "backgroundcolor": "white",
            "gridcolor": "#DFE8F3",
            "gridwidth": 2,
            "linecolor": "#EBF0F8",
            "showbackground": true,
            "ticks": "",
            "zerolinecolor": "#EBF0F8"
           },
           "yaxis": {
            "backgroundcolor": "white",
            "gridcolor": "#DFE8F3",
            "gridwidth": 2,
            "linecolor": "#EBF0F8",
            "showbackground": true,
            "ticks": "",
            "zerolinecolor": "#EBF0F8"
           },
           "zaxis": {
            "backgroundcolor": "white",
            "gridcolor": "#DFE8F3",
            "gridwidth": 2,
            "linecolor": "#EBF0F8",
            "showbackground": true,
            "ticks": "",
            "zerolinecolor": "#EBF0F8"
           }
          },
          "shapedefaults": {
           "line": {
            "color": "#2a3f5f"
           }
          },
          "ternary": {
           "aaxis": {
            "gridcolor": "#DFE8F3",
            "linecolor": "#A2B1C6",
            "ticks": ""
           },
           "baxis": {
            "gridcolor": "#DFE8F3",
            "linecolor": "#A2B1C6",
            "ticks": ""
           },
           "bgcolor": "white",
           "caxis": {
            "gridcolor": "#DFE8F3",
            "linecolor": "#A2B1C6",
            "ticks": ""
           }
          },
          "title": {
           "x": 0.05
          },
          "xaxis": {
           "automargin": true,
           "gridcolor": "#EBF0F8",
           "linecolor": "#EBF0F8",
           "ticks": "",
           "title": {
            "standoff": 15
           },
           "zerolinecolor": "#EBF0F8",
           "zerolinewidth": 2
          },
          "yaxis": {
           "automargin": true,
           "gridcolor": "#EBF0F8",
           "linecolor": "#EBF0F8",
           "ticks": "",
           "title": {
            "standoff": 15
           },
           "zerolinecolor": "#EBF0F8",
           "zerolinewidth": 2
          }
         }
        },
        "width": 1000,
        "xaxis": {
         "anchor": "y",
         "domain": [
          0,
          0.26666666666666666
         ]
        },
        "xaxis2": {
         "anchor": "y2",
         "domain": [
          0.3666666666666667,
          0.6333333333333333
         ]
        },
        "xaxis3": {
         "anchor": "y3",
         "domain": [
          0.7333333333333334,
          1
         ]
        },
        "yaxis": {
         "anchor": "x",
         "domain": [
          0,
          1
         ],
         "dtick": 5,
         "range": [
          0,
          31
         ],
         "title": {
          "standoff": 10,
          "text": "Ratio"
         }
        },
        "yaxis2": {
         "anchor": "x2",
         "domain": [
          0,
          1
         ],
         "range": [
          0,
          12.1
         ],
         "title": {
          "standoff": 1,
          "text": "Ratio"
         }
        },
        "yaxis3": {
         "anchor": "x3",
         "domain": [
          0,
          1
         ],
         "range": [
          0,
          252
         ],
         "title": {
          "standoff": 7,
          "text": "Intensity"
         }
        }
       }
      }
     },
     "metadata": {},
     "output_type": "display_data"
    }
   ],
   "source": [
    "fig = make_subplots(rows=1, cols=3, shared_yaxes=False, \n",
    "                    subplot_titles=['(a) Signal-to-noise ratio - SNR', '(b) Contrast-to-noise ratio - CNR', '(c) Mean intensity'], \n",
    "                    horizontal_spacing=0.10 )\n",
    "\n",
    "def populate_subplot(fig, df, measure, col_no, offset=0):    \n",
    "    for i, stain in enumerate(df['Stain'].unique()):\n",
    "        fig.add_trace(go.Violin(\n",
    "            x=df['Stain'][df['Stain']==stain],\n",
    "            y=np.array(df[measure][df['Stain']==stain]) + offset if measure == 'CNR' else df[measure][df['Stain']==stain],\n",
    "            line_color=COLOR_SCALE[i],\n",
    "        ), row=1, col=col_no)\n",
    "\n",
    "for col_no, measure in enumerate(['SNR', 'CNR', 'Mean']):\n",
    "    if measure == 'CNR':\n",
    "        populate_subplot(fig, df=df_cnr, measure=measure, col_no=col_no+1, offset=0)\n",
    "    else:\n",
    "        populate_subplot(fig, df=df_measures, measure=measure, col_no=col_no+1)\n",
    "\n",
    "fig.update_annotations(font=dict(size=18), y=1.13)\n",
    "fig.update_traces(box_visible=True, meanline_visible=True, scalemode='count', showlegend=False, width=0.85)\n",
    "fig.update_layout(\n",
    "    width=1000, height=300, margin=dict(t=60, b=60, l=10, r=10),\n",
    "    yaxis=dict(range=[0, 31], dtick=5, title='Ratio', title_standoff = 10),\n",
    "    yaxis2=dict(range=[0, 12.1], title='Ratio', title_standoff = 1),\n",
    "    yaxis3=dict(range=[0, 252], title='Intensity', title_standoff = 7),\n",
    "    font=dict(size=18)\n",
    ")\n",
    "\n",
    "for i, measure in enumerate(['SNR', 'CNR', 'Mean']):\n",
    "    fig = add_pvalue_annotation(\n",
    "        fig, df_measures, \n",
    "        y_field=measure, x_field='Stain', x_field_values=[STAIN_NAMES['I2KI'], STAIN_NAMES['PTA']],\n",
    "        y_range=[1.0, 1.02],\n",
    "        subplot=i+1,\n",
    "        text_offset=0.09, pbar_offset=[0.0, 0.02]\n",
    "    )\n",
    "\n",
    "fig.write_image(\"quality_comparisons_of_stains_nonAnot.pdf\")\n",
    "fig.show()"
   ]
  },
  {
   "cell_type": "code",
   "execution_count": 24,
   "id": "8c47110a",
   "metadata": {},
   "outputs": [
    {
     "data": {
      "text/html": [
       "<div>\n",
       "<style scoped>\n",
       "    .dataframe tbody tr th:only-of-type {\n",
       "        vertical-align: middle;\n",
       "    }\n",
       "\n",
       "    .dataframe tbody tr th {\n",
       "        vertical-align: top;\n",
       "    }\n",
       "\n",
       "    .dataframe thead th {\n",
       "        text-align: right;\n",
       "    }\n",
       "</style>\n",
       "<table border=\"1\" class=\"dataframe\">\n",
       "  <thead>\n",
       "    <tr style=\"text-align: right;\">\n",
       "      <th></th>\n",
       "      <th>Experiment</th>\n",
       "      <th>Tissue</th>\n",
       "      <th>ROI</th>\n",
       "      <th>Area</th>\n",
       "      <th>Mean</th>\n",
       "      <th>StdDev</th>\n",
       "      <th>Min</th>\n",
       "      <th>Max</th>\n",
       "      <th>Median</th>\n",
       "      <th>SNR</th>\n",
       "      <th>Stain</th>\n",
       "    </tr>\n",
       "  </thead>\n",
       "  <tbody>\n",
       "    <tr>\n",
       "      <th>0</th>\n",
       "      <td>RT03</td>\n",
       "      <td>Muscle-serosal</td>\n",
       "      <td>GC_Antrum</td>\n",
       "      <td>0.102</td>\n",
       "      <td>146.944</td>\n",
       "      <td>8.872</td>\n",
       "      <td>117</td>\n",
       "      <td>169</td>\n",
       "      <td>148</td>\n",
       "      <td>16.562669</td>\n",
       "      <td>PTA-stained</td>\n",
       "    </tr>\n",
       "    <tr>\n",
       "      <th>1</th>\n",
       "      <td>RT03</td>\n",
       "      <td>Muscle-serosal</td>\n",
       "      <td>GC_Pylorus</td>\n",
       "      <td>0.101</td>\n",
       "      <td>200.120</td>\n",
       "      <td>11.526</td>\n",
       "      <td>161</td>\n",
       "      <td>223</td>\n",
       "      <td>202</td>\n",
       "      <td>17.362485</td>\n",
       "      <td>PTA-stained</td>\n",
       "    </tr>\n",
       "    <tr>\n",
       "      <th>2</th>\n",
       "      <td>RT03</td>\n",
       "      <td>Muscle-serosal</td>\n",
       "      <td>LC_Pylorus</td>\n",
       "      <td>0.104</td>\n",
       "      <td>160.530</td>\n",
       "      <td>11.530</td>\n",
       "      <td>119</td>\n",
       "      <td>186</td>\n",
       "      <td>161</td>\n",
       "      <td>13.922810</td>\n",
       "      <td>PTA-stained</td>\n",
       "    </tr>\n",
       "    <tr>\n",
       "      <th>3</th>\n",
       "      <td>RT03</td>\n",
       "      <td>Muscle-serosal</td>\n",
       "      <td>LC_LES</td>\n",
       "      <td>0.105</td>\n",
       "      <td>126.134</td>\n",
       "      <td>11.739</td>\n",
       "      <td>95</td>\n",
       "      <td>164</td>\n",
       "      <td>125</td>\n",
       "      <td>10.744868</td>\n",
       "      <td>PTA-stained</td>\n",
       "    </tr>\n",
       "    <tr>\n",
       "      <th>4</th>\n",
       "      <td>RT03</td>\n",
       "      <td>Muscle-serosal</td>\n",
       "      <td>GC_LES</td>\n",
       "      <td>0.101</td>\n",
       "      <td>154.200</td>\n",
       "      <td>10.317</td>\n",
       "      <td>123</td>\n",
       "      <td>179</td>\n",
       "      <td>155</td>\n",
       "      <td>14.946205</td>\n",
       "      <td>PTA-stained</td>\n",
       "    </tr>\n",
       "  </tbody>\n",
       "</table>\n",
       "</div>"
      ],
      "text/plain": [
       "  Experiment          Tissue         ROI   Area     Mean  StdDev  Min  Max  \\\n",
       "0       RT03  Muscle-serosal   GC_Antrum  0.102  146.944   8.872  117  169   \n",
       "1       RT03  Muscle-serosal  GC_Pylorus  0.101  200.120  11.526  161  223   \n",
       "2       RT03  Muscle-serosal  LC_Pylorus  0.104  160.530  11.530  119  186   \n",
       "3       RT03  Muscle-serosal      LC_LES  0.105  126.134  11.739   95  164   \n",
       "4       RT03  Muscle-serosal      GC_LES  0.101  154.200  10.317  123  179   \n",
       "\n",
       "   Median        SNR        Stain  \n",
       "0     148  16.562669  PTA-stained  \n",
       "1     202  17.362485  PTA-stained  \n",
       "2     161  13.922810  PTA-stained  \n",
       "3     125  10.744868  PTA-stained  \n",
       "4     155  14.946205  PTA-stained  "
      ]
     },
     "execution_count": 24,
     "metadata": {},
     "output_type": "execute_result"
    }
   ],
   "source": [
    "ordered_rois = [\"GC_Fundus1\", \"GC_Corpus\", \"GC_Antrum\", \"GC_Pylorus\", \"GC_LES\", \"GC_Fundus2\", \"LC_Corpus\", \"LC_Antrum\", \"LC_Pylorus\", \"LC_LES\"]\n",
    "df_pta = df_measures[df_measures['Stain'] == STAIN_NAMES['PTA']].reset_index(drop=True)\n",
    "# Pick only the 9.08 um experiments\n",
    "# df_pta = df_measures.loc[df_measures['Experiment'].isin(['RT09','RT10', 'RT11', 'RT12', 'RT13'])]\n",
    "df_pta.head()"
   ]
  },
  {
   "cell_type": "code",
   "execution_count": 25,
   "id": "ba5ae9f5",
   "metadata": {},
   "outputs": [
    {
     "data": {
      "application/vnd.plotly.v1+json": {
       "config": {
        "plotlyServerURL": "https://plot.ly"
       },
       "data": [
        {
         "box": {
          "visible": true
         },
         "legendgroup": "Muscle-serosal",
         "line": {
          "color": "#6C8EBF"
         },
         "meanline": {
          "visible": true
         },
         "name": "Muscle-serosal",
         "scalegroup": "Muscle-serosal",
         "scalemode": "count",
         "showlegend": true,
         "side": "negative",
         "type": "violin",
         "x": [
          "GC_Fundus1",
          "GC_Fundus1",
          "GC_Fundus1",
          "GC_Fundus1",
          "GC_Fundus1",
          "GC_Fundus1",
          "GC_Fundus1",
          "GC_Fundus1",
          "GC_Fundus1"
         ],
         "xaxis": "x",
         "y": {
          "bdata": "gMM/bTDXKkBPgzAU4useQLmZYYq/ixlAgXgWWgYiG0ABi0GwC7YlQPg4VbpH+yNAbMEWbMEWIEBYsrLkbZsiQNrUElASKiFA",
          "dtype": "f8"
         },
         "yaxis": "y"
        },
        {
         "box": {
          "visible": true
         },
         "legendgroup": "Mucosal-submucosal",
         "line": {
          "color": "#82B366"
         },
         "meanline": {
          "visible": true
         },
         "name": "Mucosal-submucosal",
         "scalegroup": "Mucosal-submucosal",
         "scalemode": "count",
         "showlegend": true,
         "side": "positive",
         "type": "violin",
         "x": [
          "GC_Fundus1",
          "GC_Fundus1",
          "GC_Fundus1",
          "GC_Fundus1",
          "GC_Fundus1",
          "GC_Fundus1",
          "GC_Fundus1",
          "GC_Fundus1",
          "GC_Fundus1"
         ],
         "xaxis": "x",
         "y": {
          "bdata": "I4vDbGhbJkDq2IWS6hsiQBYxaSiYyiNAlzQAWStbKkDLosLCZigpQHO/vZXpmydAl3VR0ImRK0BHP1w9ayIwQJRR7j5NtSxA",
          "dtype": "f8"
         },
         "yaxis": "y"
        },
        {
         "box": {
          "visible": true
         },
         "legendgroup": "Muscle-serosal",
         "line": {
          "color": "#6C8EBF"
         },
         "meanline": {
          "visible": true
         },
         "name": "Muscle-serosal",
         "scalegroup": "Muscle-serosal",
         "scalemode": "count",
         "showlegend": false,
         "side": "negative",
         "type": "violin",
         "x": [
          "GC_Corpus",
          "GC_Corpus",
          "GC_Corpus",
          "GC_Corpus",
          "GC_Corpus",
          "GC_Corpus",
          "GC_Corpus",
          "GC_Corpus",
          "GC_Corpus"
         ],
         "xaxis": "x",
         "y": {
          "bdata": "Q1k5UI+qLUCNJXIWQM8qQBc6FWZqUCNAPdyvDopeIEDMXAam4kAvQJGMeB4J6ShAqQBoUhXnJUBFuctTX7Q0QKCo2XHFQixA",
          "dtype": "f8"
         },
         "yaxis": "y"
        },
        {
         "box": {
          "visible": true
         },
         "legendgroup": "Mucosal-submucosal",
         "line": {
          "color": "#82B366"
         },
         "meanline": {
          "visible": true
         },
         "name": "Mucosal-submucosal",
         "scalegroup": "Mucosal-submucosal",
         "scalemode": "count",
         "showlegend": false,
         "side": "positive",
         "type": "violin",
         "x": [
          "GC_Corpus",
          "GC_Corpus",
          "GC_Corpus",
          "GC_Corpus",
          "GC_Corpus",
          "GC_Corpus",
          "GC_Corpus",
          "GC_Corpus",
          "GC_Corpus"
         ],
         "xaxis": "x",
         "y": {
          "bdata": "HF35aCaJJ0CqO1EwZnEsQPSKLDCmIS1AW9SNYD0eLUD6OQjiWpA4QDHphjuG0zFA0k41CVZHOUDTL/6v9dgnQN1mmAX+gSxA",
          "dtype": "f8"
         },
         "yaxis": "y"
        },
        {
         "box": {
          "visible": true
         },
         "legendgroup": "Muscle-serosal",
         "line": {
          "color": "#6C8EBF"
         },
         "meanline": {
          "visible": true
         },
         "name": "Muscle-serosal",
         "scalegroup": "Muscle-serosal",
         "scalemode": "count",
         "showlegend": false,
         "side": "negative",
         "type": "violin",
         "x": [
          "GC_Antrum",
          "GC_Antrum",
          "GC_Antrum",
          "GC_Antrum",
          "GC_Antrum",
          "GC_Antrum",
          "GC_Antrum",
          "GC_Antrum",
          "GC_Antrum"
         ],
         "xaxis": "x",
         "y": {
          "bdata": "L22LFAuQMEDtnl7nBHQnQBOIo74m0i1AYOvG10AFK0DDS6ziD+I6QPmYr7G9wipAQOluIEtHJkDkaherwrYrQCvzRLeGjixA",
          "dtype": "f8"
         },
         "yaxis": "y"
        },
        {
         "box": {
          "visible": true
         },
         "legendgroup": "Mucosal-submucosal",
         "line": {
          "color": "#82B366"
         },
         "meanline": {
          "visible": true
         },
         "name": "Mucosal-submucosal",
         "scalegroup": "Mucosal-submucosal",
         "scalemode": "count",
         "showlegend": false,
         "side": "positive",
         "type": "violin",
         "x": [
          "GC_Antrum",
          "GC_Antrum",
          "GC_Antrum",
          "GC_Antrum",
          "GC_Antrum",
          "GC_Antrum",
          "GC_Antrum",
          "GC_Antrum",
          "GC_Antrum"
         ],
         "xaxis": "x",
         "y": {
          "bdata": "qPf/JPUgJ0Ca5WUVdaIlQMM9B4d7ripAv6TYpRyDKkByKH5dxr81QO1kTlttjjBA27Zt27azNUAfv2cK3NIuQEkVvY74oC9A",
          "dtype": "f8"
         },
         "yaxis": "y"
        },
        {
         "box": {
          "visible": true
         },
         "legendgroup": "Muscle-serosal",
         "line": {
          "color": "#6C8EBF"
         },
         "meanline": {
          "visible": true
         },
         "name": "Muscle-serosal",
         "scalegroup": "Muscle-serosal",
         "scalemode": "count",
         "showlegend": false,
         "side": "negative",
         "type": "violin",
         "x": [
          "GC_Pylorus",
          "GC_Pylorus",
          "GC_Pylorus",
          "GC_Pylorus",
          "GC_Pylorus",
          "GC_Pylorus",
          "GC_Pylorus",
          "GC_Pylorus",
          "GC_Pylorus"
         ],
         "xaxis": "x",
         "y": {
          "bdata": "+QgSzstcMUDfRU9+hz4tQPC88WyMADFAtEdgQvW6LkDz5TtXuR8xQPB8gaKuBixA72J8erYrLkBcrVhKMBgvQDyLAYl0UjFA",
          "dtype": "f8"
         },
         "yaxis": "y"
        },
        {
         "box": {
          "visible": true
         },
         "legendgroup": "Mucosal-submucosal",
         "line": {
          "color": "#82B366"
         },
         "meanline": {
          "visible": true
         },
         "name": "Mucosal-submucosal",
         "scalegroup": "Mucosal-submucosal",
         "scalemode": "count",
         "showlegend": false,
         "side": "positive",
         "type": "violin",
         "x": [
          "GC_Pylorus",
          "GC_Pylorus",
          "GC_Pylorus",
          "GC_Pylorus",
          "GC_Pylorus",
          "GC_Pylorus",
          "GC_Pylorus",
          "GC_Pylorus",
          "GC_Pylorus"
         ],
         "xaxis": "x",
         "y": {
          "bdata": "AQAAAACAL0BruSL3hDUkQDv7SzQ2fiVAYd7D4TfcKEAYN4IcLIswQBTObmq7GCtAitL4yAR6K0CY/K+nZL0vQB7r9QNjqyhA",
          "dtype": "f8"
         },
         "yaxis": "y"
        },
        {
         "box": {
          "visible": true
         },
         "legendgroup": "Muscle-serosal",
         "line": {
          "color": "#6C8EBF"
         },
         "meanline": {
          "visible": true
         },
         "name": "Muscle-serosal",
         "scalegroup": "Muscle-serosal",
         "scalemode": "count",
         "showlegend": false,
         "side": "negative",
         "type": "violin",
         "x": [
          "GC_LES",
          "GC_LES",
          "GC_LES",
          "GC_LES",
          "GC_LES",
          "GC_LES",
          "GC_LES",
          "GC_LES",
          "GC_LES"
         ],
         "xaxis": "x",
         "y": {
          "bdata": "lukiBXXkLUDmMepHldgrQGM5iugrpSRAVoECGT96LkANtWd8A5AwQGb3jMcukzJACboyJuwaLUD6FreUZi8wQFh4hVd4NTJA",
          "dtype": "f8"
         },
         "yaxis": "y"
        },
        {
         "box": {
          "visible": true
         },
         "legendgroup": "Mucosal-submucosal",
         "line": {
          "color": "#82B366"
         },
         "meanline": {
          "visible": true
         },
         "name": "Mucosal-submucosal",
         "scalegroup": "Mucosal-submucosal",
         "scalemode": "count",
         "showlegend": false,
         "side": "positive",
         "type": "violin",
         "x": [
          "GC_LES",
          "GC_LES",
          "GC_LES",
          "GC_LES",
          "GC_LES",
          "GC_LES",
          "GC_LES",
          "GC_LES",
          "GC_LES"
         ],
         "xaxis": "x",
         "y": {
          "bdata": "y5h3+yaXMUCASIhqQAooQBnELs8o6SVA2xYXCtU6KEAAneVsA9U1QN1ogd0PxyxA0AfTZi9kKkAaOf8115ItQAcxkFKI9SxA",
          "dtype": "f8"
         },
         "yaxis": "y"
        },
        {
         "box": {
          "visible": true
         },
         "legendgroup": "Muscle-serosal",
         "line": {
          "color": "#6C8EBF"
         },
         "meanline": {
          "visible": true
         },
         "name": "Muscle-serosal",
         "scalegroup": "Muscle-serosal",
         "scalemode": "count",
         "showlegend": false,
         "side": "negative",
         "type": "violin",
         "x": [
          "GC_Fundus2",
          "GC_Fundus2",
          "GC_Fundus2",
          "GC_Fundus2",
          "GC_Fundus2",
          "GC_Fundus2",
          "GC_Fundus2",
          "GC_Fundus2",
          "GC_Fundus2"
         ],
         "xaxis": "x2",
         "y": {
          "bdata": "scE2D92zJUDLae60nOYuQMzRTLY5ODJArcU41hp6IECPF5UfGQQpQBG0muCHPy1Ac185W8suJkCnVqPDHRU0QJFTTlyMYSpA",
          "dtype": "f8"
         },
         "yaxis": "y2"
        },
        {
         "box": {
          "visible": true
         },
         "legendgroup": "Mucosal-submucosal",
         "line": {
          "color": "#82B366"
         },
         "meanline": {
          "visible": true
         },
         "name": "Mucosal-submucosal",
         "scalegroup": "Mucosal-submucosal",
         "scalemode": "count",
         "showlegend": false,
         "side": "positive",
         "type": "violin",
         "x": [
          "GC_Fundus2",
          "GC_Fundus2",
          "GC_Fundus2",
          "GC_Fundus2",
          "GC_Fundus2",
          "GC_Fundus2",
          "GC_Fundus2",
          "GC_Fundus2",
          "GC_Fundus2"
         ],
         "xaxis": "x2",
         "y": {
          "bdata": "hlulMTxQMED8UBtMrwsmQD4UcT4U8TBAUkTz49+XLECVz7DmfiYyQG3pXVAijClAJqwKZZHRLUCKbvcvEZIoQCKf8cBqNSRA",
          "dtype": "f8"
         },
         "yaxis": "y2"
        },
        {
         "box": {
          "visible": true
         },
         "legendgroup": "Muscle-serosal",
         "line": {
          "color": "#6C8EBF"
         },
         "meanline": {
          "visible": true
         },
         "name": "Muscle-serosal",
         "scalegroup": "Muscle-serosal",
         "scalemode": "count",
         "showlegend": false,
         "side": "negative",
         "type": "violin",
         "x": [
          "LC_Corpus",
          "LC_Corpus",
          "LC_Corpus",
          "LC_Corpus",
          "LC_Corpus",
          "LC_Corpus",
          "LC_Corpus",
          "LC_Corpus",
          "LC_Corpus"
         ],
         "xaxis": "x2",
         "y": {
          "bdata": "UGXUqRKxLEDhvZ22DvwnQMub1mNKIyhAELqVBKFbKEAyVCmKtVstQHPUFe834TFAxmgKNkc4LEBR33wy+0ItQCLnO57I+S5A",
          "dtype": "f8"
         },
         "yaxis": "y2"
        },
        {
         "box": {
          "visible": true
         },
         "legendgroup": "Mucosal-submucosal",
         "line": {
          "color": "#82B366"
         },
         "meanline": {
          "visible": true
         },
         "name": "Mucosal-submucosal",
         "scalegroup": "Mucosal-submucosal",
         "scalemode": "count",
         "showlegend": false,
         "side": "positive",
         "type": "violin",
         "x": [
          "LC_Corpus",
          "LC_Corpus",
          "LC_Corpus",
          "LC_Corpus",
          "LC_Corpus",
          "LC_Corpus",
          "LC_Corpus",
          "LC_Corpus",
          "LC_Corpus"
         ],
         "xaxis": "x2",
         "y": {
          "bdata": "xQTdVYqJKECi6rCkBA4lQJjF0+sG3iVA35bXRm2SJEAUkZ8dLvUpQNfWRnmenCpA32Cgwhn+J0Cz7z6Vay0qQLxKFOxcDS9A",
          "dtype": "f8"
         },
         "yaxis": "y2"
        },
        {
         "box": {
          "visible": true
         },
         "legendgroup": "Muscle-serosal",
         "line": {
          "color": "#6C8EBF"
         },
         "meanline": {
          "visible": true
         },
         "name": "Muscle-serosal",
         "scalegroup": "Muscle-serosal",
         "scalemode": "count",
         "showlegend": false,
         "side": "negative",
         "type": "violin",
         "x": [
          "LC_Antrum",
          "LC_Antrum",
          "LC_Antrum",
          "LC_Antrum",
          "LC_Antrum",
          "LC_Antrum",
          "LC_Antrum",
          "LC_Antrum",
          "LC_Antrum"
         ],
         "xaxis": "x2",
         "y": {
          "bdata": "/sTw0BtpJ0BDBAT1YdcmQCV0YJrr2B1AHNwhsC/IJkCFkAfPqMguQK50+iSBjS1A9K+bQG4LLUDdqwDUXnksQIB8YGSHwjJA",
          "dtype": "f8"
         },
         "yaxis": "y2"
        },
        {
         "box": {
          "visible": true
         },
         "legendgroup": "Mucosal-submucosal",
         "line": {
          "color": "#82B366"
         },
         "meanline": {
          "visible": true
         },
         "name": "Mucosal-submucosal",
         "scalegroup": "Mucosal-submucosal",
         "scalemode": "count",
         "showlegend": false,
         "side": "positive",
         "type": "violin",
         "x": [
          "LC_Antrum",
          "LC_Antrum",
          "LC_Antrum",
          "LC_Antrum",
          "LC_Antrum",
          "LC_Antrum",
          "LC_Antrum",
          "LC_Antrum",
          "LC_Antrum"
         ],
         "xaxis": "x2",
         "y": {
          "bdata": "LwSxRYYJIUDdxPTsnDYjQKjWGytTIydA5sj+n1+CJkBx7DvGXpoqQAuK5n9bLCdAuiy4nFOEMEDfmcn2gaMqQE2oAl23kS1A",
          "dtype": "f8"
         },
         "yaxis": "y2"
        },
        {
         "box": {
          "visible": true
         },
         "legendgroup": "Muscle-serosal",
         "line": {
          "color": "#6C8EBF"
         },
         "meanline": {
          "visible": true
         },
         "name": "Muscle-serosal",
         "scalegroup": "Muscle-serosal",
         "scalemode": "count",
         "showlegend": false,
         "side": "negative",
         "type": "violin",
         "x": [
          "LC_Pylorus",
          "LC_Pylorus",
          "LC_Pylorus",
          "LC_Pylorus",
          "LC_Pylorus",
          "LC_Pylorus",
          "LC_Pylorus",
          "LC_Pylorus",
          "LC_Pylorus"
         ],
         "xaxis": "x2",
         "y": {
          "bdata": "QVluj3rYK0BSIJSR8GMtQGNlzUmFwy1AqAzUuLkzKEA1a7mm1TA1QI7IaR8obzBAJ/ZNGlObMEAWxSPhWwEoQOgLN/b0Wi1A",
          "dtype": "f8"
         },
         "yaxis": "y2"
        },
        {
         "box": {
          "visible": true
         },
         "legendgroup": "Mucosal-submucosal",
         "line": {
          "color": "#82B366"
         },
         "meanline": {
          "visible": true
         },
         "name": "Mucosal-submucosal",
         "scalegroup": "Mucosal-submucosal",
         "scalemode": "count",
         "showlegend": false,
         "side": "positive",
         "type": "violin",
         "x": [
          "LC_Pylorus",
          "LC_Pylorus",
          "LC_Pylorus",
          "LC_Pylorus",
          "LC_Pylorus",
          "LC_Pylorus",
          "LC_Pylorus",
          "LC_Pylorus",
          "LC_Pylorus"
         ],
         "xaxis": "x2",
         "y": {
          "bdata": "KuICM2F2JkAU1cr+ckAmQD9wgdh7WSRA/ReXzl3uK0AgjcXBebQxQG8zOdwPfShA+2UvrHLbKUB4OLgNKpcqQD/FbC+DZC5A",
          "dtype": "f8"
         },
         "yaxis": "y2"
        },
        {
         "box": {
          "visible": true
         },
         "legendgroup": "Muscle-serosal",
         "line": {
          "color": "#6C8EBF"
         },
         "meanline": {
          "visible": true
         },
         "name": "Muscle-serosal",
         "scalegroup": "Muscle-serosal",
         "scalemode": "count",
         "showlegend": false,
         "side": "negative",
         "type": "violin",
         "x": [
          "LC_LES",
          "LC_LES",
          "LC_LES",
          "LC_LES",
          "LC_LES",
          "LC_LES",
          "LC_LES",
          "LC_LES",
          "LC_LES"
         ],
         "xaxis": "x2",
         "y": {
          "bdata": "mjUSR199JUB+BW8a+lYqQJ2sFZ+SlClAPjrIYpAxKECVib9M0Xw4QBMq8x26TS9AcpoT4GSWMUBfBeyMslExQOOsI3m33DBA",
          "dtype": "f8"
         },
         "yaxis": "y2"
        },
        {
         "box": {
          "visible": true
         },
         "legendgroup": "Mucosal-submucosal",
         "line": {
          "color": "#82B366"
         },
         "meanline": {
          "visible": true
         },
         "name": "Mucosal-submucosal",
         "scalegroup": "Mucosal-submucosal",
         "scalemode": "count",
         "showlegend": false,
         "side": "positive",
         "type": "violin",
         "x": [
          "LC_LES",
          "LC_LES",
          "LC_LES",
          "LC_LES",
          "LC_LES",
          "LC_LES",
          "LC_LES",
          "LC_LES",
          "LC_LES"
         ],
         "xaxis": "x2",
         "y": {
          "bdata": "AcE5Bz57KUAfG3PiJmEkQNS528EE8CRAGu8Z5KF4JkC7stm6FX8tQEdC8CatYypAfnEAU5cAJUBuqsOC4MouQPyYH7+rqChA",
          "dtype": "f8"
         },
         "yaxis": "y2"
        }
       ],
       "layout": {
        "font": {
         "size": 18
        },
        "height": 550,
        "legend": {
         "bgcolor": "WhiteSmoke",
         "orientation": "h",
         "x": 0.5,
         "xanchor": "center",
         "y": -0.25,
         "yanchor": "bottom"
        },
        "margin": {
         "b": 45,
         "l": 10,
         "r": 10,
         "t": 30
        },
        "shapes": [
         {
          "line": {
           "color": "dimgrey",
           "width": 2
          },
          "type": "line",
          "x0": -0.27,
          "x1": -0.27,
          "xref": "x",
          "y0": 1,
          "y1": 1.05,
          "yref": "y domain"
         },
         {
          "line": {
           "color": "dimgrey",
           "width": 2
          },
          "type": "line",
          "x0": -0.27,
          "x1": 0.27,
          "xref": "x",
          "y0": 1.05,
          "y1": 1.05,
          "yref": "y domain"
         },
         {
          "line": {
           "color": "dimgrey",
           "width": 2
          },
          "type": "line",
          "x0": 0.27,
          "x1": 0.27,
          "xref": "x",
          "y0": 1.05,
          "y1": 1,
          "yref": "y domain"
         },
         {
          "line": {
           "color": "dimgrey",
           "width": 2
          },
          "type": "line",
          "x0": 0.73,
          "x1": 0.73,
          "xref": "x",
          "y0": 1,
          "y1": 1.05,
          "yref": "y domain"
         },
         {
          "line": {
           "color": "dimgrey",
           "width": 2
          },
          "type": "line",
          "x0": 0.73,
          "x1": 1.27,
          "xref": "x",
          "y0": 1.05,
          "y1": 1.05,
          "yref": "y domain"
         },
         {
          "line": {
           "color": "dimgrey",
           "width": 2
          },
          "type": "line",
          "x0": 1.27,
          "x1": 1.27,
          "xref": "x",
          "y0": 1.05,
          "y1": 1,
          "yref": "y domain"
         },
         {
          "line": {
           "color": "dimgrey",
           "width": 2
          },
          "type": "line",
          "x0": 1.73,
          "x1": 1.73,
          "xref": "x",
          "y0": 1,
          "y1": 1.05,
          "yref": "y domain"
         },
         {
          "line": {
           "color": "dimgrey",
           "width": 2
          },
          "type": "line",
          "x0": 1.73,
          "x1": 2.27,
          "xref": "x",
          "y0": 1.05,
          "y1": 1.05,
          "yref": "y domain"
         },
         {
          "line": {
           "color": "dimgrey",
           "width": 2
          },
          "type": "line",
          "x0": 2.27,
          "x1": 2.27,
          "xref": "x",
          "y0": 1.05,
          "y1": 1,
          "yref": "y domain"
         },
         {
          "line": {
           "color": "dimgrey",
           "width": 2
          },
          "type": "line",
          "x0": 2.73,
          "x1": 2.73,
          "xref": "x",
          "y0": 1,
          "y1": 1.05,
          "yref": "y domain"
         },
         {
          "line": {
           "color": "dimgrey",
           "width": 2
          },
          "type": "line",
          "x0": 2.73,
          "x1": 3.27,
          "xref": "x",
          "y0": 1.05,
          "y1": 1.05,
          "yref": "y domain"
         },
         {
          "line": {
           "color": "dimgrey",
           "width": 2
          },
          "type": "line",
          "x0": 3.27,
          "x1": 3.27,
          "xref": "x",
          "y0": 1.05,
          "y1": 1,
          "yref": "y domain"
         },
         {
          "line": {
           "color": "dimgrey",
           "width": 2
          },
          "type": "line",
          "x0": 3.73,
          "x1": 3.73,
          "xref": "x",
          "y0": 1,
          "y1": 1.05,
          "yref": "y domain"
         },
         {
          "line": {
           "color": "dimgrey",
           "width": 2
          },
          "type": "line",
          "x0": 3.73,
          "x1": 4.2700000000000005,
          "xref": "x",
          "y0": 1.05,
          "y1": 1.05,
          "yref": "y domain"
         },
         {
          "line": {
           "color": "dimgrey",
           "width": 2
          },
          "type": "line",
          "x0": 4.2700000000000005,
          "x1": 4.2700000000000005,
          "xref": "x",
          "y0": 1.05,
          "y1": 1,
          "yref": "y domain"
         },
         {
          "line": {
           "color": "dimgrey",
           "width": 2
          },
          "type": "line",
          "x0": -0.27,
          "x1": -0.27,
          "xref": "x2",
          "y0": 1,
          "y1": 1.05,
          "yref": "y2 domain"
         },
         {
          "line": {
           "color": "dimgrey",
           "width": 2
          },
          "type": "line",
          "x0": -0.27,
          "x1": 0.27,
          "xref": "x2",
          "y0": 1.05,
          "y1": 1.05,
          "yref": "y2 domain"
         },
         {
          "line": {
           "color": "dimgrey",
           "width": 2
          },
          "type": "line",
          "x0": 0.27,
          "x1": 0.27,
          "xref": "x2",
          "y0": 1.05,
          "y1": 1,
          "yref": "y2 domain"
         },
         {
          "line": {
           "color": "dimgrey",
           "width": 2
          },
          "type": "line",
          "x0": 0.73,
          "x1": 0.73,
          "xref": "x2",
          "y0": 1,
          "y1": 1.05,
          "yref": "y2 domain"
         },
         {
          "line": {
           "color": "dimgrey",
           "width": 2
          },
          "type": "line",
          "x0": 0.73,
          "x1": 1.27,
          "xref": "x2",
          "y0": 1.05,
          "y1": 1.05,
          "yref": "y2 domain"
         },
         {
          "line": {
           "color": "dimgrey",
           "width": 2
          },
          "type": "line",
          "x0": 1.27,
          "x1": 1.27,
          "xref": "x2",
          "y0": 1.05,
          "y1": 1,
          "yref": "y2 domain"
         },
         {
          "line": {
           "color": "dimgrey",
           "width": 2
          },
          "type": "line",
          "x0": 1.73,
          "x1": 1.73,
          "xref": "x2",
          "y0": 1,
          "y1": 1.05,
          "yref": "y2 domain"
         },
         {
          "line": {
           "color": "dimgrey",
           "width": 2
          },
          "type": "line",
          "x0": 1.73,
          "x1": 2.27,
          "xref": "x2",
          "y0": 1.05,
          "y1": 1.05,
          "yref": "y2 domain"
         },
         {
          "line": {
           "color": "dimgrey",
           "width": 2
          },
          "type": "line",
          "x0": 2.27,
          "x1": 2.27,
          "xref": "x2",
          "y0": 1.05,
          "y1": 1,
          "yref": "y2 domain"
         },
         {
          "line": {
           "color": "dimgrey",
           "width": 2
          },
          "type": "line",
          "x0": 2.73,
          "x1": 2.73,
          "xref": "x2",
          "y0": 1,
          "y1": 1.05,
          "yref": "y2 domain"
         },
         {
          "line": {
           "color": "dimgrey",
           "width": 2
          },
          "type": "line",
          "x0": 2.73,
          "x1": 3.27,
          "xref": "x2",
          "y0": 1.05,
          "y1": 1.05,
          "yref": "y2 domain"
         },
         {
          "line": {
           "color": "dimgrey",
           "width": 2
          },
          "type": "line",
          "x0": 3.27,
          "x1": 3.27,
          "xref": "x2",
          "y0": 1.05,
          "y1": 1,
          "yref": "y2 domain"
         },
         {
          "line": {
           "color": "dimgrey",
           "width": 2
          },
          "type": "line",
          "x0": 3.73,
          "x1": 3.73,
          "xref": "x2",
          "y0": 1,
          "y1": 1.05,
          "yref": "y2 domain"
         },
         {
          "line": {
           "color": "dimgrey",
           "width": 2
          },
          "type": "line",
          "x0": 3.73,
          "x1": 4.2700000000000005,
          "xref": "x2",
          "y0": 1.05,
          "y1": 1.05,
          "yref": "y2 domain"
         },
         {
          "line": {
           "color": "dimgrey",
           "width": 2
          },
          "type": "line",
          "x0": 4.2700000000000005,
          "x1": 4.2700000000000005,
          "xref": "x2",
          "y0": 1.05,
          "y1": 1,
          "yref": "y2 domain"
         }
        ],
        "template": {
         "data": {
          "bar": [
           {
            "error_x": {
             "color": "#2a3f5f"
            },
            "error_y": {
             "color": "#2a3f5f"
            },
            "marker": {
             "line": {
              "color": "white",
              "width": 0.5
             },
             "pattern": {
              "fillmode": "overlay",
              "size": 10,
              "solidity": 0.2
             }
            },
            "type": "bar"
           }
          ],
          "barpolar": [
           {
            "marker": {
             "line": {
              "color": "white",
              "width": 0.5
             },
             "pattern": {
              "fillmode": "overlay",
              "size": 10,
              "solidity": 0.2
             }
            },
            "type": "barpolar"
           }
          ],
          "carpet": [
           {
            "aaxis": {
             "endlinecolor": "#2a3f5f",
             "gridcolor": "#C8D4E3",
             "linecolor": "#C8D4E3",
             "minorgridcolor": "#C8D4E3",
             "startlinecolor": "#2a3f5f"
            },
            "baxis": {
             "endlinecolor": "#2a3f5f",
             "gridcolor": "#C8D4E3",
             "linecolor": "#C8D4E3",
             "minorgridcolor": "#C8D4E3",
             "startlinecolor": "#2a3f5f"
            },
            "type": "carpet"
           }
          ],
          "choropleth": [
           {
            "colorbar": {
             "outlinewidth": 0,
             "ticks": ""
            },
            "type": "choropleth"
           }
          ],
          "contour": [
           {
            "colorbar": {
             "outlinewidth": 0,
             "ticks": ""
            },
            "colorscale": [
             [
              0,
              "#0d0887"
             ],
             [
              0.1111111111111111,
              "#46039f"
             ],
             [
              0.2222222222222222,
              "#7201a8"
             ],
             [
              0.3333333333333333,
              "#9c179e"
             ],
             [
              0.4444444444444444,
              "#bd3786"
             ],
             [
              0.5555555555555556,
              "#d8576b"
             ],
             [
              0.6666666666666666,
              "#ed7953"
             ],
             [
              0.7777777777777778,
              "#fb9f3a"
             ],
             [
              0.8888888888888888,
              "#fdca26"
             ],
             [
              1,
              "#f0f921"
             ]
            ],
            "type": "contour"
           }
          ],
          "contourcarpet": [
           {
            "colorbar": {
             "outlinewidth": 0,
             "ticks": ""
            },
            "type": "contourcarpet"
           }
          ],
          "heatmap": [
           {
            "colorbar": {
             "outlinewidth": 0,
             "ticks": ""
            },
            "colorscale": [
             [
              0,
              "#0d0887"
             ],
             [
              0.1111111111111111,
              "#46039f"
             ],
             [
              0.2222222222222222,
              "#7201a8"
             ],
             [
              0.3333333333333333,
              "#9c179e"
             ],
             [
              0.4444444444444444,
              "#bd3786"
             ],
             [
              0.5555555555555556,
              "#d8576b"
             ],
             [
              0.6666666666666666,
              "#ed7953"
             ],
             [
              0.7777777777777778,
              "#fb9f3a"
             ],
             [
              0.8888888888888888,
              "#fdca26"
             ],
             [
              1,
              "#f0f921"
             ]
            ],
            "type": "heatmap"
           }
          ],
          "histogram": [
           {
            "marker": {
             "pattern": {
              "fillmode": "overlay",
              "size": 10,
              "solidity": 0.2
             }
            },
            "type": "histogram"
           }
          ],
          "histogram2d": [
           {
            "colorbar": {
             "outlinewidth": 0,
             "ticks": ""
            },
            "colorscale": [
             [
              0,
              "#0d0887"
             ],
             [
              0.1111111111111111,
              "#46039f"
             ],
             [
              0.2222222222222222,
              "#7201a8"
             ],
             [
              0.3333333333333333,
              "#9c179e"
             ],
             [
              0.4444444444444444,
              "#bd3786"
             ],
             [
              0.5555555555555556,
              "#d8576b"
             ],
             [
              0.6666666666666666,
              "#ed7953"
             ],
             [
              0.7777777777777778,
              "#fb9f3a"
             ],
             [
              0.8888888888888888,
              "#fdca26"
             ],
             [
              1,
              "#f0f921"
             ]
            ],
            "type": "histogram2d"
           }
          ],
          "histogram2dcontour": [
           {
            "colorbar": {
             "outlinewidth": 0,
             "ticks": ""
            },
            "colorscale": [
             [
              0,
              "#0d0887"
             ],
             [
              0.1111111111111111,
              "#46039f"
             ],
             [
              0.2222222222222222,
              "#7201a8"
             ],
             [
              0.3333333333333333,
              "#9c179e"
             ],
             [
              0.4444444444444444,
              "#bd3786"
             ],
             [
              0.5555555555555556,
              "#d8576b"
             ],
             [
              0.6666666666666666,
              "#ed7953"
             ],
             [
              0.7777777777777778,
              "#fb9f3a"
             ],
             [
              0.8888888888888888,
              "#fdca26"
             ],
             [
              1,
              "#f0f921"
             ]
            ],
            "type": "histogram2dcontour"
           }
          ],
          "mesh3d": [
           {
            "colorbar": {
             "outlinewidth": 0,
             "ticks": ""
            },
            "type": "mesh3d"
           }
          ],
          "parcoords": [
           {
            "line": {
             "colorbar": {
              "outlinewidth": 0,
              "ticks": ""
             }
            },
            "type": "parcoords"
           }
          ],
          "pie": [
           {
            "automargin": true,
            "type": "pie"
           }
          ],
          "scatter": [
           {
            "fillpattern": {
             "fillmode": "overlay",
             "size": 10,
             "solidity": 0.2
            },
            "type": "scatter"
           }
          ],
          "scatter3d": [
           {
            "line": {
             "colorbar": {
              "outlinewidth": 0,
              "ticks": ""
             }
            },
            "marker": {
             "colorbar": {
              "outlinewidth": 0,
              "ticks": ""
             }
            },
            "type": "scatter3d"
           }
          ],
          "scattercarpet": [
           {
            "marker": {
             "colorbar": {
              "outlinewidth": 0,
              "ticks": ""
             }
            },
            "type": "scattercarpet"
           }
          ],
          "scattergeo": [
           {
            "marker": {
             "colorbar": {
              "outlinewidth": 0,
              "ticks": ""
             }
            },
            "type": "scattergeo"
           }
          ],
          "scattergl": [
           {
            "marker": {
             "colorbar": {
              "outlinewidth": 0,
              "ticks": ""
             }
            },
            "type": "scattergl"
           }
          ],
          "scattermap": [
           {
            "marker": {
             "colorbar": {
              "outlinewidth": 0,
              "ticks": ""
             }
            },
            "type": "scattermap"
           }
          ],
          "scattermapbox": [
           {
            "marker": {
             "colorbar": {
              "outlinewidth": 0,
              "ticks": ""
             }
            },
            "type": "scattermapbox"
           }
          ],
          "scatterpolar": [
           {
            "marker": {
             "colorbar": {
              "outlinewidth": 0,
              "ticks": ""
             }
            },
            "type": "scatterpolar"
           }
          ],
          "scatterpolargl": [
           {
            "marker": {
             "colorbar": {
              "outlinewidth": 0,
              "ticks": ""
             }
            },
            "type": "scatterpolargl"
           }
          ],
          "scatterternary": [
           {
            "marker": {
             "colorbar": {
              "outlinewidth": 0,
              "ticks": ""
             }
            },
            "type": "scatterternary"
           }
          ],
          "surface": [
           {
            "colorbar": {
             "outlinewidth": 0,
             "ticks": ""
            },
            "colorscale": [
             [
              0,
              "#0d0887"
             ],
             [
              0.1111111111111111,
              "#46039f"
             ],
             [
              0.2222222222222222,
              "#7201a8"
             ],
             [
              0.3333333333333333,
              "#9c179e"
             ],
             [
              0.4444444444444444,
              "#bd3786"
             ],
             [
              0.5555555555555556,
              "#d8576b"
             ],
             [
              0.6666666666666666,
              "#ed7953"
             ],
             [
              0.7777777777777778,
              "#fb9f3a"
             ],
             [
              0.8888888888888888,
              "#fdca26"
             ],
             [
              1,
              "#f0f921"
             ]
            ],
            "type": "surface"
           }
          ],
          "table": [
           {
            "cells": {
             "fill": {
              "color": "#EBF0F8"
             },
             "line": {
              "color": "white"
             }
            },
            "header": {
             "fill": {
              "color": "#C8D4E3"
             },
             "line": {
              "color": "white"
             }
            },
            "type": "table"
           }
          ]
         },
         "layout": {
          "annotationdefaults": {
           "arrowcolor": "#2a3f5f",
           "arrowhead": 0,
           "arrowwidth": 1
          },
          "autotypenumbers": "strict",
          "coloraxis": {
           "colorbar": {
            "outlinewidth": 0,
            "ticks": ""
           }
          },
          "colorscale": {
           "diverging": [
            [
             0,
             "#8e0152"
            ],
            [
             0.1,
             "#c51b7d"
            ],
            [
             0.2,
             "#de77ae"
            ],
            [
             0.3,
             "#f1b6da"
            ],
            [
             0.4,
             "#fde0ef"
            ],
            [
             0.5,
             "#f7f7f7"
            ],
            [
             0.6,
             "#e6f5d0"
            ],
            [
             0.7,
             "#b8e186"
            ],
            [
             0.8,
             "#7fbc41"
            ],
            [
             0.9,
             "#4d9221"
            ],
            [
             1,
             "#276419"
            ]
           ],
           "sequential": [
            [
             0,
             "#0d0887"
            ],
            [
             0.1111111111111111,
             "#46039f"
            ],
            [
             0.2222222222222222,
             "#7201a8"
            ],
            [
             0.3333333333333333,
             "#9c179e"
            ],
            [
             0.4444444444444444,
             "#bd3786"
            ],
            [
             0.5555555555555556,
             "#d8576b"
            ],
            [
             0.6666666666666666,
             "#ed7953"
            ],
            [
             0.7777777777777778,
             "#fb9f3a"
            ],
            [
             0.8888888888888888,
             "#fdca26"
            ],
            [
             1,
             "#f0f921"
            ]
           ],
           "sequentialminus": [
            [
             0,
             "#0d0887"
            ],
            [
             0.1111111111111111,
             "#46039f"
            ],
            [
             0.2222222222222222,
             "#7201a8"
            ],
            [
             0.3333333333333333,
             "#9c179e"
            ],
            [
             0.4444444444444444,
             "#bd3786"
            ],
            [
             0.5555555555555556,
             "#d8576b"
            ],
            [
             0.6666666666666666,
             "#ed7953"
            ],
            [
             0.7777777777777778,
             "#fb9f3a"
            ],
            [
             0.8888888888888888,
             "#fdca26"
            ],
            [
             1,
             "#f0f921"
            ]
           ]
          },
          "colorway": [
           "#636efa",
           "#EF553B",
           "#00cc96",
           "#ab63fa",
           "#FFA15A",
           "#19d3f3",
           "#FF6692",
           "#B6E880",
           "#FF97FF",
           "#FECB52"
          ],
          "font": {
           "color": "#2a3f5f"
          },
          "geo": {
           "bgcolor": "white",
           "lakecolor": "white",
           "landcolor": "white",
           "showlakes": true,
           "showland": true,
           "subunitcolor": "#C8D4E3"
          },
          "hoverlabel": {
           "align": "left"
          },
          "hovermode": "closest",
          "mapbox": {
           "style": "light"
          },
          "paper_bgcolor": "white",
          "plot_bgcolor": "white",
          "polar": {
           "angularaxis": {
            "gridcolor": "#EBF0F8",
            "linecolor": "#EBF0F8",
            "ticks": ""
           },
           "bgcolor": "white",
           "radialaxis": {
            "gridcolor": "#EBF0F8",
            "linecolor": "#EBF0F8",
            "ticks": ""
           }
          },
          "scene": {
           "xaxis": {
            "backgroundcolor": "white",
            "gridcolor": "#DFE8F3",
            "gridwidth": 2,
            "linecolor": "#EBF0F8",
            "showbackground": true,
            "ticks": "",
            "zerolinecolor": "#EBF0F8"
           },
           "yaxis": {
            "backgroundcolor": "white",
            "gridcolor": "#DFE8F3",
            "gridwidth": 2,
            "linecolor": "#EBF0F8",
            "showbackground": true,
            "ticks": "",
            "zerolinecolor": "#EBF0F8"
           },
           "zaxis": {
            "backgroundcolor": "white",
            "gridcolor": "#DFE8F3",
            "gridwidth": 2,
            "linecolor": "#EBF0F8",
            "showbackground": true,
            "ticks": "",
            "zerolinecolor": "#EBF0F8"
           }
          },
          "shapedefaults": {
           "line": {
            "color": "#2a3f5f"
           }
          },
          "ternary": {
           "aaxis": {
            "gridcolor": "#DFE8F3",
            "linecolor": "#A2B1C6",
            "ticks": ""
           },
           "baxis": {
            "gridcolor": "#DFE8F3",
            "linecolor": "#A2B1C6",
            "ticks": ""
           },
           "bgcolor": "white",
           "caxis": {
            "gridcolor": "#DFE8F3",
            "linecolor": "#A2B1C6",
            "ticks": ""
           }
          },
          "title": {
           "x": 0.05
          },
          "xaxis": {
           "automargin": true,
           "gridcolor": "#EBF0F8",
           "linecolor": "#EBF0F8",
           "ticks": "",
           "title": {
            "standoff": 15
           },
           "zerolinecolor": "#EBF0F8",
           "zerolinewidth": 2
          },
          "yaxis": {
           "automargin": true,
           "gridcolor": "#EBF0F8",
           "linecolor": "#EBF0F8",
           "ticks": "",
           "title": {
            "standoff": 15
           },
           "zerolinecolor": "#EBF0F8",
           "zerolinewidth": 2
          }
         }
        },
        "violingap": 0.001,
        "violingroupgap": 0,
        "violinmode": "overlay",
        "width": 650,
        "xaxis": {
         "anchor": "y",
         "automargin": true,
         "domain": [
          0,
          1
         ],
         "range": [
          -0.5,
          4.5
         ],
         "tickmode": "array",
         "ticktext": [
          "GC Fundus1",
          "GC Corpus",
          "GC Antrum",
          "GC Pylorus",
          "GC LES"
         ],
         "tickvals": [
          "GC_Fundus1",
          "GC_Corpus",
          "GC_Antrum",
          "GC_Pylorus",
          "GC_LES"
         ]
        },
        "xaxis2": {
         "anchor": "y2",
         "automargin": true,
         "domain": [
          0,
          1
         ],
         "range": [
          -0.5,
          4.5
         ],
         "tickmode": "array",
         "ticktext": [
          "GC Fundus2",
          "LC Corpus",
          "LC Antrum",
          "LC Pylorus",
          "LC LES"
         ],
         "tickvals": [
          "GC_Fundus2",
          "LC_Corpus",
          "LC_Antrum",
          "LC_Pylorus",
          "LC_LES"
         ],
         "title": {
          "standoff": 5,
          "text": "ROI"
         }
        },
        "yaxis": {
         "anchor": "x",
         "domain": [
          0.6000000000000001,
          1
         ],
         "dtick": 5,
         "range": [
          -2,
          36
         ],
         "title": {
          "standoff": 5,
          "text": "SNR"
         }
        },
        "yaxis2": {
         "anchor": "x2",
         "domain": [
          0,
          0.4
         ],
         "dtick": 5,
         "range": [
          -2,
          31
         ],
         "title": {
          "standoff": 5,
          "text": "SNR"
         }
        }
       }
      }
     },
     "metadata": {},
     "output_type": "display_data"
    }
   ],
   "source": [
    "fig = make_subplots(rows=2, cols=1, vertical_spacing=0.2)\n",
    "\n",
    "for i, roi in enumerate(ordered_rois):\n",
    "    row = 2 if i>= 5 else 1\n",
    "    fig.add_trace(go.Violin(x=df_pta['ROI'][(df_pta['Tissue'] == TISSUE_NAMES['Muscle']) & (df_pta['ROI'] == roi)],\n",
    "                            y=df_pta['SNR'][(df_pta['Tissue'] == TISSUE_NAMES['Muscle']) & (df_pta['ROI'] == roi)],\n",
    "                            legendgroup=TISSUE_NAMES['Muscle'], scalegroup=TISSUE_NAMES['Muscle'], name=TISSUE_NAMES['Muscle'],\n",
    "                            side='negative',\n",
    "                            line_color=COLOR_SCALE[0],\n",
    "                            showlegend=True if i==0 else False),\n",
    "                row=row, col=1\n",
    "            )\n",
    "    fig.add_trace(go.Violin(x=df_pta['ROI'][(df_pta['Tissue'] == TISSUE_NAMES['Mucosa']) & (df_pta['ROI'] == roi)],\n",
    "                            y=df_pta['SNR'][(df_pta['Tissue'] == TISSUE_NAMES['Mucosa']) & (df_pta['ROI'] == roi)],\n",
    "                            legendgroup=TISSUE_NAMES['Mucosa'], scalegroup=TISSUE_NAMES['Mucosa'], name=TISSUE_NAMES['Mucosa'],\n",
    "                            side='positive',\n",
    "                            line_color=COLOR_SCALE[1],\n",
    "                            showlegend=True if i==0 else False),\n",
    "                row=row, col=1\n",
    "            )\n",
    "    \n",
    "fig = add_pvalue_annotation(\n",
    "    fig, df_pta, \n",
    "    y_field='SNR', x_field='ROI', x_field_values=ordered_rois[:5],\n",
    "    group_field='Tissue', group_values=['Muscle', 'Mucosa'],\n",
    "    text_offset=0.12, subplot=1, text_size=14, pbar_offset=[0.07, 0.01]\n",
    ")\n",
    "\n",
    "fig = add_pvalue_annotation(\n",
    "    fig, df_pta, \n",
    "    y_field='SNR', x_field='ROI', x_field_values=ordered_rois[5:],\n",
    "    group_field='Tissue', group_values=['Muscle', 'Mucosa'],\n",
    "    text_offset=0.12, subplot=2, text_size=14, pbar_offset=[0.07, 0.01]\n",
    ")\n",
    "\n",
    "fig.update_traces(meanline_visible=True, box_visible=True, scalemode='count')\n",
    "fig.update_xaxes(automargin=True, range=[-0.5, 4.5])\n",
    "fig.update_layout(\n",
    "    violingap=0.001, violingroupgap=0, violinmode='overlay', \n",
    "    height=550, width=650, margin=dict(l=10, r=10, t=30, b=45), font=dict(size=18),\n",
    "    yaxis=dict(range=[-2, 36], dtick=5, title='SNR', title_standoff = 5),\n",
    "    yaxis2=dict(range=[-2, 31], dtick=5, title='SNR', title_standoff = 5),\n",
    "    xaxis = dict(tickmode = 'array', tickvals = ordered_rois[:5], ticktext = [' '.join(roi.split('_')) for roi in ordered_rois[:5]]),\n",
    "    xaxis2 = dict(tickmode = 'array', tickvals = ordered_rois[5:], ticktext = [' '.join(roi.split('_')) for roi in ordered_rois[5:]], title='ROI', title_standoff = 5),\n",
    "    legend=dict(orientation=\"h\", yanchor=\"bottom\", y=-0.25, xanchor=\"center\", x=0.5, bgcolor=\"WhiteSmoke\"),\n",
    ")\n",
    "fig.write_image(\"regional_snr.svg\")\n",
    "fig.show()"
   ]
  },
  {
   "cell_type": "code",
   "execution_count": null,
   "id": "48c7b5c6",
   "metadata": {},
   "outputs": [],
   "source": []
  }
 ],
 "metadata": {
  "kernelspec": {
   "display_name": "pymer4_stats",
   "language": "python",
   "name": "python3"
  },
  "language_info": {
   "codemirror_mode": {
    "name": "ipython",
    "version": 3
   },
   "file_extension": ".py",
   "mimetype": "text/x-python",
   "name": "python",
   "nbconvert_exporter": "python",
   "pygments_lexer": "ipython3",
   "version": "3.12.11"
  }
 },
 "nbformat": 4,
 "nbformat_minor": 5
}
